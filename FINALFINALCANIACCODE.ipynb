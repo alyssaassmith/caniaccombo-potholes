{
  "cells": [
    {
      "cell_type": "code",
      "execution_count": 2,
      "metadata": {
        "id": "BqPcKV-ibL2f"
      },
      "outputs": [],
      "source": [
        "import pandas as pd\n",
        "import numpy as np\n",
        "import requests\n",
        "import geopandas as gpd"
      ]
    },
    {
      "cell_type": "code",
      "execution_count": 3,
      "metadata": {
        "id": "OgnLgmT6b1N_"
      },
      "outputs": [],
      "source": [
        "pothole = pd.read_csv(\"https://data.cityofchicago.org/resource/7as2-ds3y.csv?$limit=1000000\")"
      ]
    },
    {
      "cell_type": "code",
      "source": [
        "pothole.head()"
      ],
      "metadata": {
        "colab": {
          "base_uri": "https://localhost:8080/",
          "height": 330
        },
        "id": "Hp2o9q6UF9fj",
        "outputId": "665573d2-1f80-4952-c619-f56b8c561b09"
      },
      "execution_count": 4,
      "outputs": [
        {
          "output_type": "execute_result",
          "data": {
            "text/plain": [
              "             creation_date      status completion_date service_request_number  \\\n",
              "0  2018-12-18T00:00:00.000        Open             NaN            18-03387505   \n",
              "1  2018-12-18T00:00:00.000        Open             NaN            18-03387458   \n",
              "2  2018-12-18T00:00:00.000        Open             NaN            18-03387502   \n",
              "3  2018-12-18T00:00:00.000  Open - Dup             NaN            18-03388379   \n",
              "4  2018-12-18T00:00:00.000        Open             NaN            18-03388180   \n",
              "\n",
              "  type_of_service_request current_activity most_recent_action  \\\n",
              "0       Pothole in Street              NaN                NaN   \n",
              "1       Pothole in Street              NaN                NaN   \n",
              "2       Pothole in Street              NaN                NaN   \n",
              "3       Pothole in Street              NaN                NaN   \n",
              "4       Pothole in Street              NaN                NaN   \n",
              "\n",
              "   number_of_potholes_filled_on_block        street_address      zip  \\\n",
              "0                                 NaN  1145 S FAIRFIELD AVE  60612.0   \n",
              "1                                 NaN    908 S CAMPBELL AVE  60612.0   \n",
              "2                                 NaN        2421 W 21ST PL  60608.0   \n",
              "3                                 NaN        1959 S TROY ST  60623.0   \n",
              "4                                 NaN   4100 S WESTERN BLVD  60609.0   \n",
              "\n",
              "   x_coordinate  y_coordinate  ward  police_district  community_area  ssa  \\\n",
              "0  1.158186e+06  1.894949e+06  28.0             11.0            29.0  NaN   \n",
              "1  1.159861e+06  1.895934e+06  28.0             11.0            28.0  NaN   \n",
              "2  1.160590e+06  1.889668e+06  28.0             10.0            31.0  NaN   \n",
              "3  1.155670e+06  1.890142e+06  24.0             10.0            29.0  NaN   \n",
              "4  1.161202e+06  1.877426e+06  12.0              9.0            58.0  NaN   \n",
              "\n",
              "    latitude  longitude                             location  \n",
              "0  41.866992 -87.694609  (41.866991991336, -87.694608638672)  \n",
              "1  41.869927 -87.688710  (41.869927464401, -87.688710188657)  \n",
              "2  41.852826 -87.686536  (41.852826019085, -87.686535678313)  \n",
              "3  41.853704 -87.703946  (41.853703821634, -87.703946492923)  \n",
              "4  41.819247 -87.684305   (41.819246696086, -87.68430532228)  "
            ],
            "text/html": [
              "\n",
              "  <div id=\"df-a8cc2d11-4326-4c29-9650-61846b53f853\" class=\"colab-df-container\">\n",
              "    <div>\n",
              "<style scoped>\n",
              "    .dataframe tbody tr th:only-of-type {\n",
              "        vertical-align: middle;\n",
              "    }\n",
              "\n",
              "    .dataframe tbody tr th {\n",
              "        vertical-align: top;\n",
              "    }\n",
              "\n",
              "    .dataframe thead th {\n",
              "        text-align: right;\n",
              "    }\n",
              "</style>\n",
              "<table border=\"1\" class=\"dataframe\">\n",
              "  <thead>\n",
              "    <tr style=\"text-align: right;\">\n",
              "      <th></th>\n",
              "      <th>creation_date</th>\n",
              "      <th>status</th>\n",
              "      <th>completion_date</th>\n",
              "      <th>service_request_number</th>\n",
              "      <th>type_of_service_request</th>\n",
              "      <th>current_activity</th>\n",
              "      <th>most_recent_action</th>\n",
              "      <th>number_of_potholes_filled_on_block</th>\n",
              "      <th>street_address</th>\n",
              "      <th>zip</th>\n",
              "      <th>x_coordinate</th>\n",
              "      <th>y_coordinate</th>\n",
              "      <th>ward</th>\n",
              "      <th>police_district</th>\n",
              "      <th>community_area</th>\n",
              "      <th>ssa</th>\n",
              "      <th>latitude</th>\n",
              "      <th>longitude</th>\n",
              "      <th>location</th>\n",
              "    </tr>\n",
              "  </thead>\n",
              "  <tbody>\n",
              "    <tr>\n",
              "      <th>0</th>\n",
              "      <td>2018-12-18T00:00:00.000</td>\n",
              "      <td>Open</td>\n",
              "      <td>NaN</td>\n",
              "      <td>18-03387505</td>\n",
              "      <td>Pothole in Street</td>\n",
              "      <td>NaN</td>\n",
              "      <td>NaN</td>\n",
              "      <td>NaN</td>\n",
              "      <td>1145 S FAIRFIELD AVE</td>\n",
              "      <td>60612.0</td>\n",
              "      <td>1.158186e+06</td>\n",
              "      <td>1.894949e+06</td>\n",
              "      <td>28.0</td>\n",
              "      <td>11.0</td>\n",
              "      <td>29.0</td>\n",
              "      <td>NaN</td>\n",
              "      <td>41.866992</td>\n",
              "      <td>-87.694609</td>\n",
              "      <td>(41.866991991336, -87.694608638672)</td>\n",
              "    </tr>\n",
              "    <tr>\n",
              "      <th>1</th>\n",
              "      <td>2018-12-18T00:00:00.000</td>\n",
              "      <td>Open</td>\n",
              "      <td>NaN</td>\n",
              "      <td>18-03387458</td>\n",
              "      <td>Pothole in Street</td>\n",
              "      <td>NaN</td>\n",
              "      <td>NaN</td>\n",
              "      <td>NaN</td>\n",
              "      <td>908 S CAMPBELL AVE</td>\n",
              "      <td>60612.0</td>\n",
              "      <td>1.159861e+06</td>\n",
              "      <td>1.895934e+06</td>\n",
              "      <td>28.0</td>\n",
              "      <td>11.0</td>\n",
              "      <td>28.0</td>\n",
              "      <td>NaN</td>\n",
              "      <td>41.869927</td>\n",
              "      <td>-87.688710</td>\n",
              "      <td>(41.869927464401, -87.688710188657)</td>\n",
              "    </tr>\n",
              "    <tr>\n",
              "      <th>2</th>\n",
              "      <td>2018-12-18T00:00:00.000</td>\n",
              "      <td>Open</td>\n",
              "      <td>NaN</td>\n",
              "      <td>18-03387502</td>\n",
              "      <td>Pothole in Street</td>\n",
              "      <td>NaN</td>\n",
              "      <td>NaN</td>\n",
              "      <td>NaN</td>\n",
              "      <td>2421 W 21ST PL</td>\n",
              "      <td>60608.0</td>\n",
              "      <td>1.160590e+06</td>\n",
              "      <td>1.889668e+06</td>\n",
              "      <td>28.0</td>\n",
              "      <td>10.0</td>\n",
              "      <td>31.0</td>\n",
              "      <td>NaN</td>\n",
              "      <td>41.852826</td>\n",
              "      <td>-87.686536</td>\n",
              "      <td>(41.852826019085, -87.686535678313)</td>\n",
              "    </tr>\n",
              "    <tr>\n",
              "      <th>3</th>\n",
              "      <td>2018-12-18T00:00:00.000</td>\n",
              "      <td>Open - Dup</td>\n",
              "      <td>NaN</td>\n",
              "      <td>18-03388379</td>\n",
              "      <td>Pothole in Street</td>\n",
              "      <td>NaN</td>\n",
              "      <td>NaN</td>\n",
              "      <td>NaN</td>\n",
              "      <td>1959 S TROY ST</td>\n",
              "      <td>60623.0</td>\n",
              "      <td>1.155670e+06</td>\n",
              "      <td>1.890142e+06</td>\n",
              "      <td>24.0</td>\n",
              "      <td>10.0</td>\n",
              "      <td>29.0</td>\n",
              "      <td>NaN</td>\n",
              "      <td>41.853704</td>\n",
              "      <td>-87.703946</td>\n",
              "      <td>(41.853703821634, -87.703946492923)</td>\n",
              "    </tr>\n",
              "    <tr>\n",
              "      <th>4</th>\n",
              "      <td>2018-12-18T00:00:00.000</td>\n",
              "      <td>Open</td>\n",
              "      <td>NaN</td>\n",
              "      <td>18-03388180</td>\n",
              "      <td>Pothole in Street</td>\n",
              "      <td>NaN</td>\n",
              "      <td>NaN</td>\n",
              "      <td>NaN</td>\n",
              "      <td>4100 S WESTERN BLVD</td>\n",
              "      <td>60609.0</td>\n",
              "      <td>1.161202e+06</td>\n",
              "      <td>1.877426e+06</td>\n",
              "      <td>12.0</td>\n",
              "      <td>9.0</td>\n",
              "      <td>58.0</td>\n",
              "      <td>NaN</td>\n",
              "      <td>41.819247</td>\n",
              "      <td>-87.684305</td>\n",
              "      <td>(41.819246696086, -87.68430532228)</td>\n",
              "    </tr>\n",
              "  </tbody>\n",
              "</table>\n",
              "</div>\n",
              "    <div class=\"colab-df-buttons\">\n",
              "\n",
              "  <div class=\"colab-df-container\">\n",
              "    <button class=\"colab-df-convert\" onclick=\"convertToInteractive('df-a8cc2d11-4326-4c29-9650-61846b53f853')\"\n",
              "            title=\"Convert this dataframe to an interactive table.\"\n",
              "            style=\"display:none;\">\n",
              "\n",
              "  <svg xmlns=\"http://www.w3.org/2000/svg\" height=\"24px\" viewBox=\"0 -960 960 960\">\n",
              "    <path d=\"M120-120v-720h720v720H120Zm60-500h600v-160H180v160Zm220 220h160v-160H400v160Zm0 220h160v-160H400v160ZM180-400h160v-160H180v160Zm440 0h160v-160H620v160ZM180-180h160v-160H180v160Zm440 0h160v-160H620v160Z\"/>\n",
              "  </svg>\n",
              "    </button>\n",
              "\n",
              "  <style>\n",
              "    .colab-df-container {\n",
              "      display:flex;\n",
              "      gap: 12px;\n",
              "    }\n",
              "\n",
              "    .colab-df-convert {\n",
              "      background-color: #E8F0FE;\n",
              "      border: none;\n",
              "      border-radius: 50%;\n",
              "      cursor: pointer;\n",
              "      display: none;\n",
              "      fill: #1967D2;\n",
              "      height: 32px;\n",
              "      padding: 0 0 0 0;\n",
              "      width: 32px;\n",
              "    }\n",
              "\n",
              "    .colab-df-convert:hover {\n",
              "      background-color: #E2EBFA;\n",
              "      box-shadow: 0px 1px 2px rgba(60, 64, 67, 0.3), 0px 1px 3px 1px rgba(60, 64, 67, 0.15);\n",
              "      fill: #174EA6;\n",
              "    }\n",
              "\n",
              "    .colab-df-buttons div {\n",
              "      margin-bottom: 4px;\n",
              "    }\n",
              "\n",
              "    [theme=dark] .colab-df-convert {\n",
              "      background-color: #3B4455;\n",
              "      fill: #D2E3FC;\n",
              "    }\n",
              "\n",
              "    [theme=dark] .colab-df-convert:hover {\n",
              "      background-color: #434B5C;\n",
              "      box-shadow: 0px 1px 3px 1px rgba(0, 0, 0, 0.15);\n",
              "      filter: drop-shadow(0px 1px 2px rgba(0, 0, 0, 0.3));\n",
              "      fill: #FFFFFF;\n",
              "    }\n",
              "  </style>\n",
              "\n",
              "    <script>\n",
              "      const buttonEl =\n",
              "        document.querySelector('#df-a8cc2d11-4326-4c29-9650-61846b53f853 button.colab-df-convert');\n",
              "      buttonEl.style.display =\n",
              "        google.colab.kernel.accessAllowed ? 'block' : 'none';\n",
              "\n",
              "      async function convertToInteractive(key) {\n",
              "        const element = document.querySelector('#df-a8cc2d11-4326-4c29-9650-61846b53f853');\n",
              "        const dataTable =\n",
              "          await google.colab.kernel.invokeFunction('convertToInteractive',\n",
              "                                                    [key], {});\n",
              "        if (!dataTable) return;\n",
              "\n",
              "        const docLinkHtml = 'Like what you see? Visit the ' +\n",
              "          '<a target=\"_blank\" href=https://colab.research.google.com/notebooks/data_table.ipynb>data table notebook</a>'\n",
              "          + ' to learn more about interactive tables.';\n",
              "        element.innerHTML = '';\n",
              "        dataTable['output_type'] = 'display_data';\n",
              "        await google.colab.output.renderOutput(dataTable, element);\n",
              "        const docLink = document.createElement('div');\n",
              "        docLink.innerHTML = docLinkHtml;\n",
              "        element.appendChild(docLink);\n",
              "      }\n",
              "    </script>\n",
              "  </div>\n",
              "\n",
              "\n",
              "<div id=\"df-8ca8dc59-4ec8-451f-a513-55ced1c0e387\">\n",
              "  <button class=\"colab-df-quickchart\" onclick=\"quickchart('df-8ca8dc59-4ec8-451f-a513-55ced1c0e387')\"\n",
              "            title=\"Suggest charts\"\n",
              "            style=\"display:none;\">\n",
              "\n",
              "<svg xmlns=\"http://www.w3.org/2000/svg\" height=\"24px\"viewBox=\"0 0 24 24\"\n",
              "     width=\"24px\">\n",
              "    <g>\n",
              "        <path d=\"M19 3H5c-1.1 0-2 .9-2 2v14c0 1.1.9 2 2 2h14c1.1 0 2-.9 2-2V5c0-1.1-.9-2-2-2zM9 17H7v-7h2v7zm4 0h-2V7h2v10zm4 0h-2v-4h2v4z\"/>\n",
              "    </g>\n",
              "</svg>\n",
              "  </button>\n",
              "\n",
              "<style>\n",
              "  .colab-df-quickchart {\n",
              "      --bg-color: #E8F0FE;\n",
              "      --fill-color: #1967D2;\n",
              "      --hover-bg-color: #E2EBFA;\n",
              "      --hover-fill-color: #174EA6;\n",
              "      --disabled-fill-color: #AAA;\n",
              "      --disabled-bg-color: #DDD;\n",
              "  }\n",
              "\n",
              "  [theme=dark] .colab-df-quickchart {\n",
              "      --bg-color: #3B4455;\n",
              "      --fill-color: #D2E3FC;\n",
              "      --hover-bg-color: #434B5C;\n",
              "      --hover-fill-color: #FFFFFF;\n",
              "      --disabled-bg-color: #3B4455;\n",
              "      --disabled-fill-color: #666;\n",
              "  }\n",
              "\n",
              "  .colab-df-quickchart {\n",
              "    background-color: var(--bg-color);\n",
              "    border: none;\n",
              "    border-radius: 50%;\n",
              "    cursor: pointer;\n",
              "    display: none;\n",
              "    fill: var(--fill-color);\n",
              "    height: 32px;\n",
              "    padding: 0;\n",
              "    width: 32px;\n",
              "  }\n",
              "\n",
              "  .colab-df-quickchart:hover {\n",
              "    background-color: var(--hover-bg-color);\n",
              "    box-shadow: 0 1px 2px rgba(60, 64, 67, 0.3), 0 1px 3px 1px rgba(60, 64, 67, 0.15);\n",
              "    fill: var(--button-hover-fill-color);\n",
              "  }\n",
              "\n",
              "  .colab-df-quickchart-complete:disabled,\n",
              "  .colab-df-quickchart-complete:disabled:hover {\n",
              "    background-color: var(--disabled-bg-color);\n",
              "    fill: var(--disabled-fill-color);\n",
              "    box-shadow: none;\n",
              "  }\n",
              "\n",
              "  .colab-df-spinner {\n",
              "    border: 2px solid var(--fill-color);\n",
              "    border-color: transparent;\n",
              "    border-bottom-color: var(--fill-color);\n",
              "    animation:\n",
              "      spin 1s steps(1) infinite;\n",
              "  }\n",
              "\n",
              "  @keyframes spin {\n",
              "    0% {\n",
              "      border-color: transparent;\n",
              "      border-bottom-color: var(--fill-color);\n",
              "      border-left-color: var(--fill-color);\n",
              "    }\n",
              "    20% {\n",
              "      border-color: transparent;\n",
              "      border-left-color: var(--fill-color);\n",
              "      border-top-color: var(--fill-color);\n",
              "    }\n",
              "    30% {\n",
              "      border-color: transparent;\n",
              "      border-left-color: var(--fill-color);\n",
              "      border-top-color: var(--fill-color);\n",
              "      border-right-color: var(--fill-color);\n",
              "    }\n",
              "    40% {\n",
              "      border-color: transparent;\n",
              "      border-right-color: var(--fill-color);\n",
              "      border-top-color: var(--fill-color);\n",
              "    }\n",
              "    60% {\n",
              "      border-color: transparent;\n",
              "      border-right-color: var(--fill-color);\n",
              "    }\n",
              "    80% {\n",
              "      border-color: transparent;\n",
              "      border-right-color: var(--fill-color);\n",
              "      border-bottom-color: var(--fill-color);\n",
              "    }\n",
              "    90% {\n",
              "      border-color: transparent;\n",
              "      border-bottom-color: var(--fill-color);\n",
              "    }\n",
              "  }\n",
              "</style>\n",
              "\n",
              "  <script>\n",
              "    async function quickchart(key) {\n",
              "      const quickchartButtonEl =\n",
              "        document.querySelector('#' + key + ' button');\n",
              "      quickchartButtonEl.disabled = true;  // To prevent multiple clicks.\n",
              "      quickchartButtonEl.classList.add('colab-df-spinner');\n",
              "      try {\n",
              "        const charts = await google.colab.kernel.invokeFunction(\n",
              "            'suggestCharts', [key], {});\n",
              "      } catch (error) {\n",
              "        console.error('Error during call to suggestCharts:', error);\n",
              "      }\n",
              "      quickchartButtonEl.classList.remove('colab-df-spinner');\n",
              "      quickchartButtonEl.classList.add('colab-df-quickchart-complete');\n",
              "    }\n",
              "    (() => {\n",
              "      let quickchartButtonEl =\n",
              "        document.querySelector('#df-8ca8dc59-4ec8-451f-a513-55ced1c0e387 button');\n",
              "      quickchartButtonEl.style.display =\n",
              "        google.colab.kernel.accessAllowed ? 'block' : 'none';\n",
              "    })();\n",
              "  </script>\n",
              "</div>\n",
              "\n",
              "    </div>\n",
              "  </div>\n"
            ],
            "application/vnd.google.colaboratory.intrinsic+json": {
              "type": "dataframe",
              "variable_name": "pothole"
            }
          },
          "metadata": {},
          "execution_count": 4
        }
      ]
    },
    {
      "cell_type": "code",
      "source": [
        "pothole.tail()"
      ],
      "metadata": {
        "colab": {
          "base_uri": "https://localhost:8080/",
          "height": 313
        },
        "id": "7Hzs8l81F_jf",
        "outputId": "6fb2c8d6-5414-42ef-d244-25fa077a2c42"
      },
      "execution_count": 5,
      "outputs": [
        {
          "output_type": "execute_result",
          "data": {
            "text/plain": [
              "                  creation_date     status          completion_date  \\\n",
              "560473  2010-03-11T00:00:00.000  Completed  2011-03-28T00:00:00.000   \n",
              "560474  2010-02-26T00:00:00.000  Completed  2011-10-04T00:00:00.000   \n",
              "560475  2009-08-27T00:00:00.000  Completed  2011-01-25T00:00:00.000   \n",
              "560476  2009-06-17T00:00:00.000  Completed  2011-06-07T00:00:00.000   \n",
              "560477  2009-01-12T00:00:00.000  Completed  2011-10-06T00:00:00.000   \n",
              "\n",
              "       service_request_number type_of_service_request current_activity  \\\n",
              "560473            10-00317212      Pot Hole in Street    Dispatch Crew   \n",
              "560474            10-00254019      Pot Hole in Street              NaN   \n",
              "560475            09-01501980      Pot Hole in Street      Site Survey   \n",
              "560476            09-01026546      Pot Hole in Street    Dispatch Crew   \n",
              "560477            09-00061329      Pot Hole in Street    Dispatch Crew   \n",
              "\n",
              "       most_recent_action  number_of_potholes_filled_on_block  \\\n",
              "560473    Pothole Patched                                 5.0   \n",
              "560474                NaN                                 NaN   \n",
              "560475   No Problem Found                                80.0   \n",
              "560476    Pothole Patched                                 NaN   \n",
              "560477    Pothole Patched                                33.0   \n",
              "\n",
              "            street_address      zip  x_coordinate  y_coordinate  ward  \\\n",
              "560473  7201 W BELMONT AVE  60634.0           NaN           NaN  36.0   \n",
              "560474  1440 S ROCKWELL ST  60608.0  1.159269e+06  1.892879e+06  28.0   \n",
              "560475    5518 N WAYNE AVE  60640.0           NaN           NaN  48.0   \n",
              "560476   3845 W ADDISON ST  60618.0  1.150061e+06  1.923655e+06  30.0   \n",
              "560477   2519 S HALSTED ST  60608.0  1.171397e+06  1.887376e+06  11.0   \n",
              "\n",
              "        police_district  community_area  ssa   latitude  longitude  \\\n",
              "560473             25.0            17.0  NaN  41.937886 -87.806806   \n",
              "560474             10.0            29.0  NaN  41.861757 -87.690973   \n",
              "560475             20.0            77.0  NaN  41.982340 -87.663869   \n",
              "560476             17.0            21.0  NaN  41.946303 -87.724348   \n",
              "560477              9.0            60.0  NaN  41.846460 -87.646321   \n",
              "\n",
              "                                   location  \n",
              "560473    (41.937885966284, -87.8068055064)  \n",
              "560474  (41.861756644625, -87.690972506101)  \n",
              "560475   (41.98234020574, -87.663868977471)  \n",
              "560476  (41.946303283819, -87.724347984027)  \n",
              "560477  (41.846459969324, -87.646320667697)  "
            ],
            "text/html": [
              "\n",
              "  <div id=\"df-090691bf-4f71-411b-aac8-3ade2819200b\" class=\"colab-df-container\">\n",
              "    <div>\n",
              "<style scoped>\n",
              "    .dataframe tbody tr th:only-of-type {\n",
              "        vertical-align: middle;\n",
              "    }\n",
              "\n",
              "    .dataframe tbody tr th {\n",
              "        vertical-align: top;\n",
              "    }\n",
              "\n",
              "    .dataframe thead th {\n",
              "        text-align: right;\n",
              "    }\n",
              "</style>\n",
              "<table border=\"1\" class=\"dataframe\">\n",
              "  <thead>\n",
              "    <tr style=\"text-align: right;\">\n",
              "      <th></th>\n",
              "      <th>creation_date</th>\n",
              "      <th>status</th>\n",
              "      <th>completion_date</th>\n",
              "      <th>service_request_number</th>\n",
              "      <th>type_of_service_request</th>\n",
              "      <th>current_activity</th>\n",
              "      <th>most_recent_action</th>\n",
              "      <th>number_of_potholes_filled_on_block</th>\n",
              "      <th>street_address</th>\n",
              "      <th>zip</th>\n",
              "      <th>x_coordinate</th>\n",
              "      <th>y_coordinate</th>\n",
              "      <th>ward</th>\n",
              "      <th>police_district</th>\n",
              "      <th>community_area</th>\n",
              "      <th>ssa</th>\n",
              "      <th>latitude</th>\n",
              "      <th>longitude</th>\n",
              "      <th>location</th>\n",
              "    </tr>\n",
              "  </thead>\n",
              "  <tbody>\n",
              "    <tr>\n",
              "      <th>560473</th>\n",
              "      <td>2010-03-11T00:00:00.000</td>\n",
              "      <td>Completed</td>\n",
              "      <td>2011-03-28T00:00:00.000</td>\n",
              "      <td>10-00317212</td>\n",
              "      <td>Pot Hole in Street</td>\n",
              "      <td>Dispatch Crew</td>\n",
              "      <td>Pothole Patched</td>\n",
              "      <td>5.0</td>\n",
              "      <td>7201 W BELMONT AVE</td>\n",
              "      <td>60634.0</td>\n",
              "      <td>NaN</td>\n",
              "      <td>NaN</td>\n",
              "      <td>36.0</td>\n",
              "      <td>25.0</td>\n",
              "      <td>17.0</td>\n",
              "      <td>NaN</td>\n",
              "      <td>41.937886</td>\n",
              "      <td>-87.806806</td>\n",
              "      <td>(41.937885966284, -87.8068055064)</td>\n",
              "    </tr>\n",
              "    <tr>\n",
              "      <th>560474</th>\n",
              "      <td>2010-02-26T00:00:00.000</td>\n",
              "      <td>Completed</td>\n",
              "      <td>2011-10-04T00:00:00.000</td>\n",
              "      <td>10-00254019</td>\n",
              "      <td>Pot Hole in Street</td>\n",
              "      <td>NaN</td>\n",
              "      <td>NaN</td>\n",
              "      <td>NaN</td>\n",
              "      <td>1440 S ROCKWELL ST</td>\n",
              "      <td>60608.0</td>\n",
              "      <td>1.159269e+06</td>\n",
              "      <td>1.892879e+06</td>\n",
              "      <td>28.0</td>\n",
              "      <td>10.0</td>\n",
              "      <td>29.0</td>\n",
              "      <td>NaN</td>\n",
              "      <td>41.861757</td>\n",
              "      <td>-87.690973</td>\n",
              "      <td>(41.861756644625, -87.690972506101)</td>\n",
              "    </tr>\n",
              "    <tr>\n",
              "      <th>560475</th>\n",
              "      <td>2009-08-27T00:00:00.000</td>\n",
              "      <td>Completed</td>\n",
              "      <td>2011-01-25T00:00:00.000</td>\n",
              "      <td>09-01501980</td>\n",
              "      <td>Pot Hole in Street</td>\n",
              "      <td>Site Survey</td>\n",
              "      <td>No Problem Found</td>\n",
              "      <td>80.0</td>\n",
              "      <td>5518 N WAYNE AVE</td>\n",
              "      <td>60640.0</td>\n",
              "      <td>NaN</td>\n",
              "      <td>NaN</td>\n",
              "      <td>48.0</td>\n",
              "      <td>20.0</td>\n",
              "      <td>77.0</td>\n",
              "      <td>NaN</td>\n",
              "      <td>41.982340</td>\n",
              "      <td>-87.663869</td>\n",
              "      <td>(41.98234020574, -87.663868977471)</td>\n",
              "    </tr>\n",
              "    <tr>\n",
              "      <th>560476</th>\n",
              "      <td>2009-06-17T00:00:00.000</td>\n",
              "      <td>Completed</td>\n",
              "      <td>2011-06-07T00:00:00.000</td>\n",
              "      <td>09-01026546</td>\n",
              "      <td>Pot Hole in Street</td>\n",
              "      <td>Dispatch Crew</td>\n",
              "      <td>Pothole Patched</td>\n",
              "      <td>NaN</td>\n",
              "      <td>3845 W ADDISON ST</td>\n",
              "      <td>60618.0</td>\n",
              "      <td>1.150061e+06</td>\n",
              "      <td>1.923655e+06</td>\n",
              "      <td>30.0</td>\n",
              "      <td>17.0</td>\n",
              "      <td>21.0</td>\n",
              "      <td>NaN</td>\n",
              "      <td>41.946303</td>\n",
              "      <td>-87.724348</td>\n",
              "      <td>(41.946303283819, -87.724347984027)</td>\n",
              "    </tr>\n",
              "    <tr>\n",
              "      <th>560477</th>\n",
              "      <td>2009-01-12T00:00:00.000</td>\n",
              "      <td>Completed</td>\n",
              "      <td>2011-10-06T00:00:00.000</td>\n",
              "      <td>09-00061329</td>\n",
              "      <td>Pot Hole in Street</td>\n",
              "      <td>Dispatch Crew</td>\n",
              "      <td>Pothole Patched</td>\n",
              "      <td>33.0</td>\n",
              "      <td>2519 S HALSTED ST</td>\n",
              "      <td>60608.0</td>\n",
              "      <td>1.171397e+06</td>\n",
              "      <td>1.887376e+06</td>\n",
              "      <td>11.0</td>\n",
              "      <td>9.0</td>\n",
              "      <td>60.0</td>\n",
              "      <td>NaN</td>\n",
              "      <td>41.846460</td>\n",
              "      <td>-87.646321</td>\n",
              "      <td>(41.846459969324, -87.646320667697)</td>\n",
              "    </tr>\n",
              "  </tbody>\n",
              "</table>\n",
              "</div>\n",
              "    <div class=\"colab-df-buttons\">\n",
              "\n",
              "  <div class=\"colab-df-container\">\n",
              "    <button class=\"colab-df-convert\" onclick=\"convertToInteractive('df-090691bf-4f71-411b-aac8-3ade2819200b')\"\n",
              "            title=\"Convert this dataframe to an interactive table.\"\n",
              "            style=\"display:none;\">\n",
              "\n",
              "  <svg xmlns=\"http://www.w3.org/2000/svg\" height=\"24px\" viewBox=\"0 -960 960 960\">\n",
              "    <path d=\"M120-120v-720h720v720H120Zm60-500h600v-160H180v160Zm220 220h160v-160H400v160Zm0 220h160v-160H400v160ZM180-400h160v-160H180v160Zm440 0h160v-160H620v160ZM180-180h160v-160H180v160Zm440 0h160v-160H620v160Z\"/>\n",
              "  </svg>\n",
              "    </button>\n",
              "\n",
              "  <style>\n",
              "    .colab-df-container {\n",
              "      display:flex;\n",
              "      gap: 12px;\n",
              "    }\n",
              "\n",
              "    .colab-df-convert {\n",
              "      background-color: #E8F0FE;\n",
              "      border: none;\n",
              "      border-radius: 50%;\n",
              "      cursor: pointer;\n",
              "      display: none;\n",
              "      fill: #1967D2;\n",
              "      height: 32px;\n",
              "      padding: 0 0 0 0;\n",
              "      width: 32px;\n",
              "    }\n",
              "\n",
              "    .colab-df-convert:hover {\n",
              "      background-color: #E2EBFA;\n",
              "      box-shadow: 0px 1px 2px rgba(60, 64, 67, 0.3), 0px 1px 3px 1px rgba(60, 64, 67, 0.15);\n",
              "      fill: #174EA6;\n",
              "    }\n",
              "\n",
              "    .colab-df-buttons div {\n",
              "      margin-bottom: 4px;\n",
              "    }\n",
              "\n",
              "    [theme=dark] .colab-df-convert {\n",
              "      background-color: #3B4455;\n",
              "      fill: #D2E3FC;\n",
              "    }\n",
              "\n",
              "    [theme=dark] .colab-df-convert:hover {\n",
              "      background-color: #434B5C;\n",
              "      box-shadow: 0px 1px 3px 1px rgba(0, 0, 0, 0.15);\n",
              "      filter: drop-shadow(0px 1px 2px rgba(0, 0, 0, 0.3));\n",
              "      fill: #FFFFFF;\n",
              "    }\n",
              "  </style>\n",
              "\n",
              "    <script>\n",
              "      const buttonEl =\n",
              "        document.querySelector('#df-090691bf-4f71-411b-aac8-3ade2819200b button.colab-df-convert');\n",
              "      buttonEl.style.display =\n",
              "        google.colab.kernel.accessAllowed ? 'block' : 'none';\n",
              "\n",
              "      async function convertToInteractive(key) {\n",
              "        const element = document.querySelector('#df-090691bf-4f71-411b-aac8-3ade2819200b');\n",
              "        const dataTable =\n",
              "          await google.colab.kernel.invokeFunction('convertToInteractive',\n",
              "                                                    [key], {});\n",
              "        if (!dataTable) return;\n",
              "\n",
              "        const docLinkHtml = 'Like what you see? Visit the ' +\n",
              "          '<a target=\"_blank\" href=https://colab.research.google.com/notebooks/data_table.ipynb>data table notebook</a>'\n",
              "          + ' to learn more about interactive tables.';\n",
              "        element.innerHTML = '';\n",
              "        dataTable['output_type'] = 'display_data';\n",
              "        await google.colab.output.renderOutput(dataTable, element);\n",
              "        const docLink = document.createElement('div');\n",
              "        docLink.innerHTML = docLinkHtml;\n",
              "        element.appendChild(docLink);\n",
              "      }\n",
              "    </script>\n",
              "  </div>\n",
              "\n",
              "\n",
              "<div id=\"df-60c8e3f6-d32a-4d77-b693-6bcdb3e9be2f\">\n",
              "  <button class=\"colab-df-quickchart\" onclick=\"quickchart('df-60c8e3f6-d32a-4d77-b693-6bcdb3e9be2f')\"\n",
              "            title=\"Suggest charts\"\n",
              "            style=\"display:none;\">\n",
              "\n",
              "<svg xmlns=\"http://www.w3.org/2000/svg\" height=\"24px\"viewBox=\"0 0 24 24\"\n",
              "     width=\"24px\">\n",
              "    <g>\n",
              "        <path d=\"M19 3H5c-1.1 0-2 .9-2 2v14c0 1.1.9 2 2 2h14c1.1 0 2-.9 2-2V5c0-1.1-.9-2-2-2zM9 17H7v-7h2v7zm4 0h-2V7h2v10zm4 0h-2v-4h2v4z\"/>\n",
              "    </g>\n",
              "</svg>\n",
              "  </button>\n",
              "\n",
              "<style>\n",
              "  .colab-df-quickchart {\n",
              "      --bg-color: #E8F0FE;\n",
              "      --fill-color: #1967D2;\n",
              "      --hover-bg-color: #E2EBFA;\n",
              "      --hover-fill-color: #174EA6;\n",
              "      --disabled-fill-color: #AAA;\n",
              "      --disabled-bg-color: #DDD;\n",
              "  }\n",
              "\n",
              "  [theme=dark] .colab-df-quickchart {\n",
              "      --bg-color: #3B4455;\n",
              "      --fill-color: #D2E3FC;\n",
              "      --hover-bg-color: #434B5C;\n",
              "      --hover-fill-color: #FFFFFF;\n",
              "      --disabled-bg-color: #3B4455;\n",
              "      --disabled-fill-color: #666;\n",
              "  }\n",
              "\n",
              "  .colab-df-quickchart {\n",
              "    background-color: var(--bg-color);\n",
              "    border: none;\n",
              "    border-radius: 50%;\n",
              "    cursor: pointer;\n",
              "    display: none;\n",
              "    fill: var(--fill-color);\n",
              "    height: 32px;\n",
              "    padding: 0;\n",
              "    width: 32px;\n",
              "  }\n",
              "\n",
              "  .colab-df-quickchart:hover {\n",
              "    background-color: var(--hover-bg-color);\n",
              "    box-shadow: 0 1px 2px rgba(60, 64, 67, 0.3), 0 1px 3px 1px rgba(60, 64, 67, 0.15);\n",
              "    fill: var(--button-hover-fill-color);\n",
              "  }\n",
              "\n",
              "  .colab-df-quickchart-complete:disabled,\n",
              "  .colab-df-quickchart-complete:disabled:hover {\n",
              "    background-color: var(--disabled-bg-color);\n",
              "    fill: var(--disabled-fill-color);\n",
              "    box-shadow: none;\n",
              "  }\n",
              "\n",
              "  .colab-df-spinner {\n",
              "    border: 2px solid var(--fill-color);\n",
              "    border-color: transparent;\n",
              "    border-bottom-color: var(--fill-color);\n",
              "    animation:\n",
              "      spin 1s steps(1) infinite;\n",
              "  }\n",
              "\n",
              "  @keyframes spin {\n",
              "    0% {\n",
              "      border-color: transparent;\n",
              "      border-bottom-color: var(--fill-color);\n",
              "      border-left-color: var(--fill-color);\n",
              "    }\n",
              "    20% {\n",
              "      border-color: transparent;\n",
              "      border-left-color: var(--fill-color);\n",
              "      border-top-color: var(--fill-color);\n",
              "    }\n",
              "    30% {\n",
              "      border-color: transparent;\n",
              "      border-left-color: var(--fill-color);\n",
              "      border-top-color: var(--fill-color);\n",
              "      border-right-color: var(--fill-color);\n",
              "    }\n",
              "    40% {\n",
              "      border-color: transparent;\n",
              "      border-right-color: var(--fill-color);\n",
              "      border-top-color: var(--fill-color);\n",
              "    }\n",
              "    60% {\n",
              "      border-color: transparent;\n",
              "      border-right-color: var(--fill-color);\n",
              "    }\n",
              "    80% {\n",
              "      border-color: transparent;\n",
              "      border-right-color: var(--fill-color);\n",
              "      border-bottom-color: var(--fill-color);\n",
              "    }\n",
              "    90% {\n",
              "      border-color: transparent;\n",
              "      border-bottom-color: var(--fill-color);\n",
              "    }\n",
              "  }\n",
              "</style>\n",
              "\n",
              "  <script>\n",
              "    async function quickchart(key) {\n",
              "      const quickchartButtonEl =\n",
              "        document.querySelector('#' + key + ' button');\n",
              "      quickchartButtonEl.disabled = true;  // To prevent multiple clicks.\n",
              "      quickchartButtonEl.classList.add('colab-df-spinner');\n",
              "      try {\n",
              "        const charts = await google.colab.kernel.invokeFunction(\n",
              "            'suggestCharts', [key], {});\n",
              "      } catch (error) {\n",
              "        console.error('Error during call to suggestCharts:', error);\n",
              "      }\n",
              "      quickchartButtonEl.classList.remove('colab-df-spinner');\n",
              "      quickchartButtonEl.classList.add('colab-df-quickchart-complete');\n",
              "    }\n",
              "    (() => {\n",
              "      let quickchartButtonEl =\n",
              "        document.querySelector('#df-60c8e3f6-d32a-4d77-b693-6bcdb3e9be2f button');\n",
              "      quickchartButtonEl.style.display =\n",
              "        google.colab.kernel.accessAllowed ? 'block' : 'none';\n",
              "    })();\n",
              "  </script>\n",
              "</div>\n",
              "\n",
              "    </div>\n",
              "  </div>\n"
            ],
            "application/vnd.google.colaboratory.intrinsic+json": {
              "type": "dataframe",
              "repr_error": "0"
            }
          },
          "metadata": {},
          "execution_count": 5
        }
      ]
    },
    {
      "cell_type": "code",
      "source": [
        "pothole.shape"
      ],
      "metadata": {
        "colab": {
          "base_uri": "https://localhost:8080/"
        },
        "id": "DMKARO63GBmC",
        "outputId": "fae4f4f7-7471-49c7-8c09-f755a8d95e05"
      },
      "execution_count": 6,
      "outputs": [
        {
          "output_type": "execute_result",
          "data": {
            "text/plain": [
              "(560478, 19)"
            ]
          },
          "metadata": {},
          "execution_count": 6
        }
      ]
    },
    {
      "cell_type": "code",
      "source": [
        "pothole.columns"
      ],
      "metadata": {
        "colab": {
          "base_uri": "https://localhost:8080/"
        },
        "id": "FWKF32WbGED0",
        "outputId": "bbd6d364-ca7e-439f-c4f3-11dca3b333bf"
      },
      "execution_count": 7,
      "outputs": [
        {
          "output_type": "execute_result",
          "data": {
            "text/plain": [
              "Index(['creation_date', 'status', 'completion_date', 'service_request_number',\n",
              "       'type_of_service_request', 'current_activity', 'most_recent_action',\n",
              "       'number_of_potholes_filled_on_block', 'street_address', 'zip',\n",
              "       'x_coordinate', 'y_coordinate', 'ward', 'police_district',\n",
              "       'community_area', 'ssa', 'latitude', 'longitude', 'location'],\n",
              "      dtype='object')"
            ]
          },
          "metadata": {},
          "execution_count": 7
        }
      ]
    },
    {
      "cell_type": "code",
      "source": [
        "pothole.info()"
      ],
      "metadata": {
        "colab": {
          "base_uri": "https://localhost:8080/"
        },
        "id": "mmJcWbeRGFcL",
        "outputId": "c153c851-8939-4e42-f995-24a41fb88920"
      },
      "execution_count": 8,
      "outputs": [
        {
          "output_type": "stream",
          "name": "stdout",
          "text": [
            "<class 'pandas.core.frame.DataFrame'>\n",
            "RangeIndex: 560478 entries, 0 to 560477\n",
            "Data columns (total 19 columns):\n",
            " #   Column                              Non-Null Count   Dtype  \n",
            "---  ------                              --------------   -----  \n",
            " 0   creation_date                       560478 non-null  object \n",
            " 1   status                              560478 non-null  object \n",
            " 2   completion_date                     553130 non-null  object \n",
            " 3   service_request_number              560478 non-null  object \n",
            " 4   type_of_service_request             560478 non-null  object \n",
            " 5   current_activity                    393609 non-null  object \n",
            " 6   most_recent_action                  391992 non-null  object \n",
            " 7   number_of_potholes_filled_on_block  399143 non-null  float64\n",
            " 8   street_address                      560476 non-null  object \n",
            " 9   zip                                 558160 non-null  float64\n",
            " 10  x_coordinate                        560004 non-null  float64\n",
            " 11  y_coordinate                        560004 non-null  float64\n",
            " 12  ward                                560145 non-null  float64\n",
            " 13  police_district                     560144 non-null  float64\n",
            " 14  community_area                      560145 non-null  float64\n",
            " 15  ssa                                 87611 non-null   float64\n",
            " 16  latitude                            559602 non-null  float64\n",
            " 17  longitude                           559602 non-null  float64\n",
            " 18  location                            559602 non-null  object \n",
            "dtypes: float64(10), object(9)\n",
            "memory usage: 81.2+ MB\n"
          ]
        }
      ]
    },
    {
      "cell_type": "code",
      "execution_count": 9,
      "metadata": {
        "id": "KR5sKSexcD6x",
        "colab": {
          "base_uri": "https://localhost:8080/"
        },
        "outputId": "20e858f0-332e-4418-f223-b879da70ba24"
      },
      "outputs": [
        {
          "output_type": "stream",
          "name": "stdout",
          "text": [
            "                  creation_date      status          completion_date  \\\n",
            "0       2018-12-18T00:00:00.000        Open                      NaN   \n",
            "1       2018-12-18T00:00:00.000        Open                      NaN   \n",
            "2       2018-12-18T00:00:00.000        Open                      NaN   \n",
            "3       2018-12-18T00:00:00.000  Open - Dup                      NaN   \n",
            "4       2018-12-18T00:00:00.000        Open                      NaN   \n",
            "...                         ...         ...                      ...   \n",
            "560473  2010-03-11T00:00:00.000   Completed  2011-03-28T00:00:00.000   \n",
            "560474  2010-02-26T00:00:00.000   Completed  2011-10-04T00:00:00.000   \n",
            "560475  2009-08-27T00:00:00.000   Completed  2011-01-25T00:00:00.000   \n",
            "560476  2009-06-17T00:00:00.000   Completed  2011-06-07T00:00:00.000   \n",
            "560477  2009-01-12T00:00:00.000   Completed  2011-10-06T00:00:00.000   \n",
            "\n",
            "       service_request_number type_of_service_request current_activity  \\\n",
            "0                 18-03387505       Pothole in Street              NaN   \n",
            "1                 18-03387458       Pothole in Street              NaN   \n",
            "2                 18-03387502       Pothole in Street              NaN   \n",
            "3                 18-03388379       Pothole in Street              NaN   \n",
            "4                 18-03388180       Pothole in Street              NaN   \n",
            "...                       ...                     ...              ...   \n",
            "560473            10-00317212      Pot Hole in Street    Dispatch Crew   \n",
            "560474            10-00254019      Pot Hole in Street              NaN   \n",
            "560475            09-01501980      Pot Hole in Street      Site Survey   \n",
            "560476            09-01026546      Pot Hole in Street    Dispatch Crew   \n",
            "560477            09-00061329      Pot Hole in Street    Dispatch Crew   \n",
            "\n",
            "       most_recent_action  number_of_potholes_filled_on_block  \\\n",
            "0                     NaN                                 NaN   \n",
            "1                     NaN                                 NaN   \n",
            "2                     NaN                                 NaN   \n",
            "3                     NaN                                 NaN   \n",
            "4                     NaN                                 NaN   \n",
            "...                   ...                                 ...   \n",
            "560473    Pothole Patched                                 5.0   \n",
            "560474                NaN                                 NaN   \n",
            "560475   No Problem Found                                80.0   \n",
            "560476    Pothole Patched                                 NaN   \n",
            "560477    Pothole Patched                                33.0   \n",
            "\n",
            "              street_address      zip  x_coordinate  y_coordinate  ward  \\\n",
            "0       1145 S FAIRFIELD AVE  60612.0  1.158186e+06  1.894949e+06  28.0   \n",
            "1         908 S CAMPBELL AVE  60612.0  1.159861e+06  1.895934e+06  28.0   \n",
            "2             2421 W 21ST PL  60608.0  1.160590e+06  1.889668e+06  28.0   \n",
            "3             1959 S TROY ST  60623.0  1.155670e+06  1.890142e+06  24.0   \n",
            "4        4100 S WESTERN BLVD  60609.0  1.161202e+06  1.877426e+06  12.0   \n",
            "...                      ...      ...           ...           ...   ...   \n",
            "560473    7201 W BELMONT AVE  60634.0           NaN           NaN  36.0   \n",
            "560474    1440 S ROCKWELL ST  60608.0  1.159269e+06  1.892879e+06  28.0   \n",
            "560475      5518 N WAYNE AVE  60640.0           NaN           NaN  48.0   \n",
            "560476     3845 W ADDISON ST  60618.0  1.150061e+06  1.923655e+06  30.0   \n",
            "560477     2519 S HALSTED ST  60608.0  1.171397e+06  1.887376e+06  11.0   \n",
            "\n",
            "        police_district  community_area  ssa   latitude  longitude  \\\n",
            "0                  11.0            29.0  NaN  41.866992 -87.694609   \n",
            "1                  11.0            28.0  NaN  41.869927 -87.688710   \n",
            "2                  10.0            31.0  NaN  41.852826 -87.686536   \n",
            "3                  10.0            29.0  NaN  41.853704 -87.703946   \n",
            "4                   9.0            58.0  NaN  41.819247 -87.684305   \n",
            "...                 ...             ...  ...        ...        ...   \n",
            "560473             25.0            17.0  NaN  41.937886 -87.806806   \n",
            "560474             10.0            29.0  NaN  41.861757 -87.690973   \n",
            "560475             20.0            77.0  NaN  41.982340 -87.663869   \n",
            "560476             17.0            21.0  NaN  41.946303 -87.724348   \n",
            "560477              9.0            60.0  NaN  41.846460 -87.646321   \n",
            "\n",
            "                                   location  \n",
            "0       (41.866991991336, -87.694608638672)  \n",
            "1       (41.869927464401, -87.688710188657)  \n",
            "2       (41.852826019085, -87.686535678313)  \n",
            "3       (41.853703821634, -87.703946492923)  \n",
            "4        (41.819246696086, -87.68430532228)  \n",
            "...                                     ...  \n",
            "560473    (41.937885966284, -87.8068055064)  \n",
            "560474  (41.861756644625, -87.690972506101)  \n",
            "560475   (41.98234020574, -87.663868977471)  \n",
            "560476  (41.946303283819, -87.724347984027)  \n",
            "560477  (41.846459969324, -87.646320667697)  \n",
            "\n",
            "[560478 rows x 19 columns]\n"
          ]
        }
      ],
      "source": [
        "print (pothole)"
      ]
    },
    {
      "cell_type": "code",
      "execution_count": 10,
      "metadata": {
        "id": "AskBM_X6cNyR"
      },
      "outputs": [],
      "source": [
        "# What season gets the most potholes filled?"
      ]
    },
    {
      "cell_type": "code",
      "execution_count": 11,
      "metadata": {
        "id": "gFy2O_vcceOU"
      },
      "outputs": [],
      "source": [
        "patched = pd.read_csv(\"https://data.cityofchicago.org/resource/wqdh-9gek.csv?$limit=1000000\")"
      ]
    },
    {
      "cell_type": "code",
      "execution_count": 12,
      "metadata": {
        "id": "o9oxjUG1cXHL"
      },
      "outputs": [],
      "source": [
        "patched['request_date'] = pd.to_datetime(patched['request_date'])"
      ]
    },
    {
      "cell_type": "code",
      "execution_count": 13,
      "metadata": {
        "id": "sIHx4CqacjeB"
      },
      "outputs": [],
      "source": [
        "def month_to_season(month):\n",
        "    if month in [12, 1, 2]:\n",
        "        return 'Winter'\n",
        "    elif month in [3, 4, 5]:\n",
        "        return 'Spring'\n",
        "    elif month in [6, 7, 8]:\n",
        "        return 'Summer'\n",
        "    else:\n",
        "        return 'Autumn'"
      ]
    },
    {
      "cell_type": "code",
      "execution_count": 14,
      "metadata": {
        "id": "6ZPnxBwhcpLq"
      },
      "outputs": [],
      "source": [
        "patched['season'] = patched['request_date'].dt.month.apply(month_to_season)"
      ]
    },
    {
      "cell_type": "code",
      "execution_count": 15,
      "metadata": {
        "id": "HOoQvl1Zcr7X"
      },
      "outputs": [],
      "source": [
        "season_potholes_filled = patched.groupby('season')['number_of_potholes_filled_on_block'].sum()"
      ]
    },
    {
      "cell_type": "code",
      "execution_count": 16,
      "metadata": {
        "colab": {
          "base_uri": "https://localhost:8080/"
        },
        "id": "uZqyvvtQHce2",
        "outputId": "07ec1f6c-f38b-43a9-fb43-1cc7cd3d59fc"
      },
      "outputs": [
        {
          "output_type": "stream",
          "name": "stdout",
          "text": [
            "                 address        request_date          completion_date  \\\n",
            "0     3948 N WOLCOTT AVE 2024-04-19 09:09:58  2024-04-19T14:24:37.000   \n",
            "1     4107 N ASHLAND AVE 2024-04-19 09:29:50  2024-04-19T14:23:10.000   \n",
            "2      1556 W LELAND AVE 2024-04-19 09:49:08  2024-04-19T14:22:19.000   \n",
            "3   6719 N HERMITAGE AVE 2024-04-19 11:42:09  2024-04-19T14:21:27.000   \n",
            "4  6800 N RAVENSWOOD AVE 2024-04-19 10:59:35  2024-04-19T14:20:09.000   \n",
            "\n",
            "   number_of_potholes_filled_on_block   latitude  longitude  \\\n",
            "0                                  20  41.953822 -87.676384   \n",
            "1                                   3  41.956398 -87.668590   \n",
            "2                                   2  41.967140 -87.668609   \n",
            "3                                  32  42.004134 -87.673563   \n",
            "4                                  32  42.005360 -87.675759   \n",
            "\n",
            "                                   location  season  \n",
            "0  POINT (-87.676383878216 41.953822261036)  Spring  \n",
            "1  POINT (-87.668590500002 41.956398000941)  Spring  \n",
            "2   POINT (-87.66860942898 41.967140060035)  Spring  \n",
            "3  POINT (-87.673563000002 42.004134000941)  Spring  \n",
            "4  POINT (-87.675758982353 42.005360096258)  Spring  \n"
          ]
        }
      ],
      "source": [
        "print(patched.head())"
      ]
    },
    {
      "cell_type": "code",
      "execution_count": 17,
      "metadata": {
        "colab": {
          "base_uri": "https://localhost:8080/"
        },
        "id": "wugSQ3bHcu_2",
        "outputId": "4bd16eeb-2eb6-4e54-831e-491f944099df"
      },
      "outputs": [
        {
          "output_type": "stream",
          "name": "stdout",
          "text": [
            "season\n",
            "Autumn    208122\n",
            "Spring    993908\n",
            "Summer    313235\n",
            "Winter    625338\n",
            "Name: number_of_potholes_filled_on_block, dtype: int64\n"
          ]
        }
      ],
      "source": [
        "print(season_potholes_filled)"
      ]
    },
    {
      "cell_type": "code",
      "execution_count": 18,
      "metadata": {
        "colab": {
          "base_uri": "https://localhost:8080/"
        },
        "id": "BCBE8vP9dhuC",
        "outputId": "712d56a9-a57f-4d0c-b44f-28482dee9465"
      },
      "outputs": [
        {
          "output_type": "stream",
          "name": "stdout",
          "text": [
            "13.419583063296608\n"
          ]
        }
      ],
      "source": [
        "average_duration_by_season = patched.groupby('season')['number_of_potholes_filled_on_block'].mean()\n",
        "print(average_duration_by_season.max())"
      ]
    },
    {
      "cell_type": "code",
      "execution_count": 19,
      "metadata": {
        "id": "PSH-tANi7ath"
      },
      "outputs": [],
      "source": [
        "# Which wards have the most pothole requests?"
      ]
    },
    {
      "cell_type": "code",
      "execution_count": 20,
      "metadata": {
        "colab": {
          "base_uri": "https://localhost:8080/"
        },
        "id": "6lMk3tzB7aXH",
        "outputId": "3f360e66-c55e-4803-9293-7f895e3371c3"
      },
      "outputs": [
        {
          "output_type": "execute_result",
          "data": {
            "text/plain": [
              "ward\n",
              "41.0    21637\n",
              "45.0    16788\n",
              "19.0    16534\n",
              "23.0    16398\n",
              "32.0    16173\n",
              "13.0    15765\n",
              "39.0    15699\n",
              "8.0     15336\n",
              "42.0    14730\n",
              "34.0    14528\n",
              "21.0    14126\n",
              "2.0     13790\n",
              "18.0    13761\n",
              "36.0    13687\n",
              "27.0    13221\n",
              "38.0    12878\n",
              "50.0    12760\n",
              "14.0    12244\n",
              "10.0    12146\n",
              "40.0    11965\n",
              "29.0    11730\n",
              "6.0     11460\n",
              "35.0    10732\n",
              "28.0    10693\n",
              "25.0    10621\n",
              "1.0     10545\n",
              "5.0     10438\n",
              "9.0     10380\n",
              "11.0     9743\n",
              "12.0     9620\n",
              "49.0     9551\n",
              "47.0     9458\n",
              "31.0     9351\n",
              "17.0     9055\n",
              "24.0     9044\n",
              "37.0     8942\n",
              "30.0     8436\n",
              "26.0     8358\n",
              "43.0     8231\n",
              "7.0      7997\n",
              "33.0     7922\n",
              "16.0     7825\n",
              "3.0      7611\n",
              "20.0     7541\n",
              "15.0     7334\n",
              "48.0     7076\n",
              "4.0      7042\n",
              "22.0     6966\n",
              "44.0     6373\n",
              "46.0     4340\n",
              "0.0      1564\n",
              "Name: type_of_service_request, dtype: int64"
            ]
          },
          "metadata": {},
          "execution_count": 20
        }
      ],
      "source": [
        "pothole.groupby('ward')['type_of_service_request'].count().sort_values(ascending = False)"
      ]
    },
    {
      "cell_type": "code",
      "execution_count": 21,
      "metadata": {
        "id": "GSSKOtLl4O65"
      },
      "outputs": [],
      "source": [
        "# How many potholes are filled in each ward? (with patched data)"
      ]
    },
    {
      "cell_type": "code",
      "execution_count": 22,
      "metadata": {
        "colab": {
          "base_uri": "https://localhost:8080/"
        },
        "id": "rQUFXi7j4MK8",
        "outputId": "6fff407f-b9d4-476c-e93c-6002d12ead1d"
      },
      "outputs": [
        {
          "output_type": "execute_result",
          "data": {
            "text/plain": [
              "number_of_potholes_filled_on_block\n",
              "1      20589\n",
              "2      18099\n",
              "3      14280\n",
              "5      12556\n",
              "4      12028\n",
              "       ...  \n",
              "212        1\n",
              "214        1\n",
              "215        1\n",
              "218        1\n",
              "467        1\n",
              "Length: 230, dtype: int64"
            ]
          },
          "metadata": {},
          "execution_count": 22
        }
      ],
      "source": [
        "patched.groupby('number_of_potholes_filled_on_block').size().sort_values(ascending = False)"
      ]
    },
    {
      "cell_type": "code",
      "execution_count": 23,
      "metadata": {
        "id": "DPZ_fiDtc9h9"
      },
      "outputs": [],
      "source": [
        "# According to the patched data, how long does it take for a pothole to get patched?"
      ]
    },
    {
      "cell_type": "code",
      "execution_count": 24,
      "metadata": {
        "id": "CxW29tjHdL5o"
      },
      "outputs": [],
      "source": [
        "patched['request_date'] = pd.to_datetime(patched['request_date'])\n",
        "patched['completion_date'] = pd.to_datetime(patched['completion_date'])"
      ]
    },
    {
      "cell_type": "code",
      "execution_count": 25,
      "metadata": {
        "id": "xUltNQcddPC0"
      },
      "outputs": [],
      "source": [
        "patched['duration'] = (patched['completion_date'] - patched['request_date']).dt.days"
      ]
    },
    {
      "cell_type": "code",
      "execution_count": 26,
      "metadata": {
        "colab": {
          "base_uri": "https://localhost:8080/"
        },
        "id": "lfFjwTqbdRlI",
        "outputId": "a3e61fa6-34d7-42ca-ee16-58848def2bad"
      },
      "outputs": [
        {
          "output_type": "stream",
          "name": "stdout",
          "text": [
            "         request_date     completion_date  duration\n",
            "0 2024-04-19 09:09:58 2024-04-19 14:24:37         0\n",
            "1 2024-04-19 09:29:50 2024-04-19 14:23:10         0\n",
            "2 2024-04-19 09:49:08 2024-04-19 14:22:19         0\n",
            "3 2024-04-19 11:42:09 2024-04-19 14:21:27         0\n",
            "4 2024-04-19 10:59:35 2024-04-19 14:20:09         0\n"
          ]
        }
      ],
      "source": [
        "print(patched[['request_date', 'completion_date', 'duration']].head())"
      ]
    },
    {
      "cell_type": "code",
      "execution_count": 27,
      "metadata": {
        "colab": {
          "base_uri": "https://localhost:8080/"
        },
        "id": "B_efOYdUdUOU",
        "outputId": "a4f87c1b-dc8e-4cff-8175-2e080a364d13"
      },
      "outputs": [
        {
          "output_type": "stream",
          "name": "stdout",
          "text": [
            "The average duration it takes to patch a pothole is 20.197752871331076 days.\n"
          ]
        }
      ],
      "source": [
        "average_duration = patched['duration'].mean()\n",
        "print(f\"The average duration it takes to patch a pothole is {average_duration} days.\")"
      ]
    },
    {
      "cell_type": "code",
      "execution_count": 28,
      "metadata": {
        "colab": {
          "base_uri": "https://localhost:8080/"
        },
        "id": "NK7dYrSadXXu",
        "outputId": "94c597e6-2c04-425f-8aec-05fb6cb885f2"
      },
      "outputs": [
        {
          "output_type": "stream",
          "name": "stdout",
          "text": [
            "The median duration it takes to patch a pothole is 4.0 days.\n"
          ]
        }
      ],
      "source": [
        "median_duration = patched['duration'].median()\n",
        "print(f\"The median duration it takes to patch a pothole is {median_duration} days.\")"
      ]
    },
    {
      "cell_type": "code",
      "execution_count": 29,
      "metadata": {
        "colab": {
          "base_uri": "https://localhost:8080/"
        },
        "id": "Yq7C89J-daWp",
        "outputId": "a6de32c9-40b2-40ff-ce45-7b2bbc6ce5e2"
      },
      "outputs": [
        {
          "output_type": "stream",
          "name": "stdout",
          "text": [
            "count    180230.000000\n",
            "mean         20.197753\n",
            "std          40.150847\n",
            "min           0.000000\n",
            "25%           0.000000\n",
            "50%           4.000000\n",
            "75%          18.000000\n",
            "max         553.000000\n",
            "Name: duration, dtype: float64\n"
          ]
        }
      ],
      "source": [
        "print(patched['duration'].describe())"
      ]
    },
    {
      "cell_type": "code",
      "execution_count": 30,
      "metadata": {
        "id": "TahrolpSd4p1"
      },
      "outputs": [],
      "source": [
        "# Show the melted date (PATCHED)"
      ]
    },
    {
      "cell_type": "code",
      "execution_count": 31,
      "metadata": {
        "id": "CuaRtiIUeD2Q"
      },
      "outputs": [],
      "source": [
        "id_vars = ['address', 'location']\n",
        "value_vars = ['request_date', 'number_of_potholes_filled_on_block']"
      ]
    },
    {
      "cell_type": "code",
      "execution_count": 32,
      "metadata": {
        "id": "PdaMwv-TeEvH"
      },
      "outputs": [],
      "source": [
        "melted_data = patched.melt(id_vars=id_vars, value_vars=value_vars, var_name='variable', value_name='value')"
      ]
    },
    {
      "cell_type": "code",
      "execution_count": 33,
      "metadata": {
        "colab": {
          "base_uri": "https://localhost:8080/"
        },
        "id": "effbwTlpeH6R",
        "outputId": "6455f976-305d-4739-fb67-7ff94435da76"
      },
      "outputs": [
        {
          "output_type": "stream",
          "name": "stdout",
          "text": [
            "                      address                                  location  \\\n",
            "0          3948 N WOLCOTT AVE  POINT (-87.676383878216 41.953822261036)   \n",
            "1          4107 N ASHLAND AVE  POINT (-87.668590500002 41.956398000941)   \n",
            "2           1556 W LELAND AVE   POINT (-87.66860942898 41.967140060035)   \n",
            "3        6719 N HERMITAGE AVE  POINT (-87.673563000002 42.004134000941)   \n",
            "4       6800 N RAVENSWOOD AVE  POINT (-87.675758982353 42.005360096258)   \n",
            "...                       ...                                       ...   \n",
            "360455         3911 W 61ST ST              POINT (-87.720834 41.782065)   \n",
            "360456         3908 W 61ST ST              POINT (-87.720808 41.782588)   \n",
            "360457         3900 W 62ND PL              POINT (-87.720513 41.779863)   \n",
            "360458         3847 W 61ST PL              POINT (-87.719803 41.781169)   \n",
            "360459    6400 S MAJOR Avenue  POINT (-87.764136509305 41.776112376302)   \n",
            "\n",
            "                                  variable                value  \n",
            "0                             request_date  2024-04-19 09:09:58  \n",
            "1                             request_date  2024-04-19 09:29:50  \n",
            "2                             request_date  2024-04-19 09:49:08  \n",
            "3                             request_date  2024-04-19 11:42:09  \n",
            "4                             request_date  2024-04-19 10:59:35  \n",
            "...                                    ...                  ...  \n",
            "360455  number_of_potholes_filled_on_block                    4  \n",
            "360456  number_of_potholes_filled_on_block                    3  \n",
            "360457  number_of_potholes_filled_on_block                   10  \n",
            "360458  number_of_potholes_filled_on_block                   15  \n",
            "360459  number_of_potholes_filled_on_block                   16  \n",
            "\n",
            "[360460 rows x 4 columns]\n"
          ]
        }
      ],
      "source": [
        "print(melted_data)"
      ]
    },
    {
      "cell_type": "code",
      "execution_count": 34,
      "metadata": {
        "id": "4e_VhCbaeKw3"
      },
      "outputs": [],
      "source": [
        "# LOOP (Patched)"
      ]
    },
    {
      "cell_type": "code",
      "execution_count": 35,
      "metadata": {
        "id": "Acpg2qi4eUx3"
      },
      "outputs": [],
      "source": [
        "total_potholes_per_address = {}"
      ]
    },
    {
      "cell_type": "code",
      "execution_count": 36,
      "metadata": {
        "id": "eHt--9-DekLf"
      },
      "outputs": [],
      "source": [
        "for index, row in patched.iterrows():\n",
        "    address = row['address']\n",
        "    potholes_filled = row['number_of_potholes_filled_on_block']\n",
        "if address not in total_potholes_per_address:\n",
        "        total_potholes_per_address[address] = potholes_filled\n",
        "else:total_potholes_per_address[address] += potholes_filled"
      ]
    },
    {
      "cell_type": "code",
      "execution_count": 37,
      "metadata": {
        "id": "EcUy69IoenoL",
        "colab": {
          "base_uri": "https://localhost:8080/"
        },
        "outputId": "e0618701-df8c-4c2e-d4f6-210d6d4f581c"
      },
      "outputs": [
        {
          "output_type": "stream",
          "name": "stdout",
          "text": [
            "Address: 6400 S MAJOR Avenue, Total Potholes Filled: 16\n"
          ]
        }
      ],
      "source": [
        "for address, total_potholes in total_potholes_per_address.items():\n",
        "    print(f\"Address: {address}, Total Potholes Filled: {total_potholes}\")"
      ]
    },
    {
      "cell_type": "code",
      "execution_count": 38,
      "metadata": {
        "id": "Y2mT9Dxrewn3"
      },
      "outputs": [],
      "source": [
        "# Demonstrate an F String (Patched)"
      ]
    },
    {
      "cell_type": "code",
      "execution_count": 39,
      "metadata": {
        "id": "qabEIbdIezsd",
        "colab": {
          "base_uri": "https://localhost:8080/"
        },
        "outputId": "e78093d1-21a4-4714-9338-ae055d6e4c36"
      },
      "outputs": [
        {
          "output_type": "stream",
          "name": "stdout",
          "text": [
            "Address: 3948 N WOLCOTT AVE, Request Date: 2024-04-19 09:09:58, Potholes Filled: 20, Location: POINT (-87.676383878216 41.953822261036)\n",
            "Address: 4107 N ASHLAND AVE, Request Date: 2024-04-19 09:29:50, Potholes Filled: 3, Location: POINT (-87.668590500002 41.956398000941)\n",
            "Address: 1556 W LELAND AVE, Request Date: 2024-04-19 09:49:08, Potholes Filled: 2, Location: POINT (-87.66860942898 41.967140060035)\n",
            "Address: 6719 N HERMITAGE AVE, Request Date: 2024-04-19 11:42:09, Potholes Filled: 32, Location: POINT (-87.673563000002 42.004134000941)\n",
            "Address: 6800 N RAVENSWOOD AVE, Request Date: 2024-04-19 10:59:35, Potholes Filled: 32, Location: POINT (-87.675758982353 42.005360096258)\n",
            "Address: 1453 W WINONA ST, Request Date: 2024-04-18 14:41:42, Potholes Filled: 3, Location: POINT (-87.666817500002 41.975145000941)\n",
            "Address: 6744 S SOUTH SHORE DR, Request Date: 2024-04-14 18:00:51, Potholes Filled: 10, Location: POINT (-87.566603752874 41.771742434499)\n",
            "Address: 6700 S SOUTH SHORE DR, Request Date: 2024-04-16 06:14:20, Potholes Filled: 10, Location: POINT (-87.566816547785 41.773566802884)\n",
            "Address: 1932 W LARCHMONT AVE, Request Date: 2024-04-18 20:52:25, Potholes Filled: 32, Location: POINT (-87.677581500002 41.953455000941)\n",
            "Address: 2035 E 72ND PL, Request Date: 2024-04-09 07:54:45, Potholes Filled: 25, Location: POINT (-87.574882500002 41.76323100094)\n",
            "Address: 7215 S JEFFERY BLVD, Request Date: 2024-04-11 12:26:25, Potholes Filled: 18, Location: POINT (-87.576198708534 41.763859163203)\n",
            "Address: 2000 E 72ND PL, Request Date: 2024-04-10 12:51:02, Potholes Filled: 18, Location: POINT (-87.576169185941 41.763514815001)\n",
            "Address: 7130 S JEFFERY BLVD, Request Date: 2024-04-11 18:47:58, Potholes Filled: 43, Location: POINT (-87.576341512314 41.765186004534)\n",
            "Address: 7200 S JEFFERY AVE, Request Date: 2024-04-17 16:10:02, Potholes Filled: 15, Location: POINT (-87.576552000002 41.76420300094)\n",
            "Address: 3704 N WESTERN AVE, Request Date: 2024-04-18 20:53:56, Potholes Filled: 8, Location: POINT (-87.688813500002 41.948991000941)\n",
            "Address: 1715 W LELAND AVE, Request Date: 2024-04-17 14:43:25, Potholes Filled: 1, Location: POINT (-87.671650500002 41.966811000941)\n",
            "Address: 5442 N WOLCOTT AVE, Request Date: 2024-04-19 14:03:19, Potholes Filled: 6, Location: POINT (-87.676942500002 41.980671000941)\n",
            "Address: 5300 S KIMBARK AVE, Request Date: 2024-04-17 14:47:35, Potholes Filled: 15, Location: POINT (-87.595089130079 41.799424066106)\n",
            "Address: 5488 S GREENWOOD AVE, Request Date: 2024-04-14 15:46:18, Potholes Filled: 31, Location: POINT (-87.600046500002 41.79625200094)\n",
            "Address: 5602 N MAPLEWOOD AVE, Request Date: 2024-04-19 14:01:47, Potholes Filled: 10, Location: POINT (-87.693313500002 41.983371000941)\n",
            "Address: 5243 N CALIFORNIA AVE, Request Date: 2024-04-19 14:00:13, Potholes Filled: 5, Location: POINT (-87.698700000002 41.977116000941)\n",
            "Address: 2122 W PRATT AVE, Request Date: 2024-04-18 07:30:33, Potholes Filled: 5, Location: POINT (-87.684844500002 42.005394000941)\n",
            "Address: 4912 N WASHTENAW AVE, Request Date: 2024-04-15 14:06:05, Potholes Filled: 9, Location: POINT (-87.696657000002 41.971203000941)\n",
            "Address: 4845 N WASHTENAW AVE, Request Date: 2024-04-15 14:18:34, Potholes Filled: 6, Location: POINT (-87.695977500002 41.969871000941)\n",
            "Address: 4858 N TALMAN AVE, Request Date: 2024-04-15 14:54:58, Potholes Filled: 10, Location: POINT (-87.695383500002 41.970285000941)\n",
            "Address: 4826 N TALMAN AVE, Request Date: 2024-04-15 14:55:20, Potholes Filled: 15, Location: POINT (-87.695554500002 41.969322000941)\n",
            "Address: 5113 N OAKLEY AVE, Request Date: 2024-04-17 17:24:12, Potholes Filled: 9, Location: POINT (-87.686625981191 41.974416012063)\n",
            "Address: 2055 W BALMORAL AVE, Request Date: 2024-04-16 23:05:48, Potholes Filled: 1, Location: POINT (-87.681622500002 41.979429000941)\n",
            "Address: 5420 N ROCKWELL ST, Request Date: 2024-04-15 14:14:04, Potholes Filled: 17, Location: POINT (-87.694452000002 41.980194000941)\n",
            "Address: 5255 N CALIFORNIA AVE, Request Date: 2024-04-17 16:36:00, Potholes Filled: 11, Location: POINT (-87.698923563748 41.977486354587)\n",
            "Address: 2835 N MARMORA AVE, Request Date: 2024-04-05 19:04:22, Potholes Filled: 2, Location: POINT (-87.773521191209 41.932242989138)\n",
            "Address: 3010 N MARMORA AVE, Request Date: 2024-04-02 14:04:01, Potholes Filled: 7, Location: POINT (-87.773940000002 41.935212000941)\n",
            "Address: 2736 N CENTRAL AVE, Request Date: 2024-04-11 09:47:04, Potholes Filled: 10, Location: POINT (-87.766282451455 41.93059769036)\n",
            "Address: 6058 W FULLERTON AVE, Request Date: 2024-04-10 14:19:08, Potholes Filled: 5, Location: POINT (-87.777999000002 41.924025000941)\n",
            "Address: 2900 N MERRIMAC AVE, Request Date: 2024-04-16 22:20:53, Potholes Filled: 1, Location: POINT (-87.782368500002 41.933016000941)\n",
            "Address: 6946 S JEFFERY BLVD, Request Date: 2024-04-12 10:57:13, Potholes Filled: 55, Location: POINT (-87.576422958695 41.768399924573)\n",
            "Address: 1425 E 67TH PL, Request Date: 2024-04-14 16:28:25, Potholes Filled: 3, Location: POINT (-87.590106000002 41.77223100094)\n",
            "Address: 5158 W BARRY AVE, Request Date: 2024-03-10 18:35:51, Potholes Filled: 1, Location: POINT (-87.756457500002 41.937102000941)\n",
            "Address: 1926 E 67TH ST, Request Date: 2024-04-12 12:59:09, Potholes Filled: 10, Location: POINT (-87.577811486659 41.773518822202)\n",
            "Address: 7100 S COTTAGE GROVE AVE, Request Date: 2024-04-18 13:20:47, Potholes Filled: 6, Location: POINT (-87.605775000002 41.76570600094)\n",
            "Address: 2512 N MENARD AVE, Request Date: 2024-03-18 15:13:22, Potholes Filled: 8, Location: POINT (-87.771226500002 41.926158000941)\n",
            "Address: 5925 W FULLERTON AVE, Request Date: 2024-04-08 16:11:56, Potholes Filled: 3, Location: POINT (-87.774506903679 41.92385425919)\n",
            "Address: 2427 N MANGO AVE, Request Date: 2024-03-19 18:43:45, Potholes Filled: 32, Location: POINT (-87.769386000002 41.924826000941)\n",
            "Address: 2555 N MANGO AVE, Request Date: 2024-04-07 10:40:44, Potholes Filled: 20, Location: POINT (-87.769462500002 41.927373000941)\n",
            "Address: 2319 W WAVELAND AVE, Request Date: 2024-04-18 08:51:37, Potholes Filled: 8, Location: POINT (-87.686775000002 41.948460000941)\n",
            "Address: 2850 W DEVON AVE, Request Date: 2024-04-15 15:21:28, Potholes Filled: 6, Location: POINT (-87.701643000002 41.997735000941)\n",
            "Address: 7055 N WASHTENAW AVE, Request Date: 2024-04-12 07:54:33, Potholes Filled: 18, Location: POINT (-87.697365557879 42.010325114447)\n",
            "Address: 7055 N WASHTENAW AVE, Request Date: 2024-04-12 14:11:09, Potholes Filled: 1, Location: POINT (-87.697170000002 42.010146000941)\n",
            "Address: 7101 N ROCKWELL ST, Request Date: 2024-04-12 14:20:53, Potholes Filled: 4, Location: POINT (-87.694925704303 42.010428296639)\n",
            "Address: 2627 W ESTES AVE, Request Date: 2024-04-12 14:10:34, Potholes Filled: 3, Location: POINT (-87.696072000002 42.010092000941)\n",
            "Address: 2615 W ESTES AVE, Request Date: 2024-04-12 14:11:26, Potholes Filled: 1, Location: POINT (-87.695676000002 42.010101000941)\n",
            "Address: 2645 W TOUHY AVE, Request Date: 2024-04-16 11:28:05, Potholes Filled: 4, Location: POINT (-87.696805716433 42.012066915471)\n",
            "Address: 2548 W TOUHY AVE, Request Date: 2024-04-16 11:28:33, Potholes Filled: 2, Location: POINT (-87.694645500002 42.012486000941)\n",
            "Address: 2705 W TOUHY AVE, Request Date: 2024-04-16 11:26:14, Potholes Filled: 2, Location: POINT (-87.697696500002 42.011937000941)\n",
            "Address: 2731 W TOUHY AVE, Request Date: 2024-04-16 11:29:15, Potholes Filled: 6, Location: POINT (-87.698619474594 42.012029543519)\n",
            "Address: 2649 W TOUHY AVE, Request Date: 2024-04-16 11:27:05, Potholes Filled: 2, Location: POINT (-87.696756000002 42.011883000941)\n",
            "Address: 2711 W TOUHY AVE, Request Date: 2024-04-16 11:25:50, Potholes Filled: 8, Location: POINT (-87.697863000002 42.011937000941)\n",
            "Address: 2729 W TOUHY AVE, Request Date: 2024-04-16 11:25:15, Potholes Filled: 3, Location: POINT (-87.698709000002 42.011928000941)\n",
            "Address: 2430 W TOUHY AVE, Request Date: 2024-04-16 11:32:05, Potholes Filled: 12, Location: POINT (-87.691648500002 42.012558000941)\n",
            "Address: 5811 N VIRGINIA AVE, Request Date: 2024-04-16 14:28:45, Potholes Filled: 2, Location: POINT (-87.706048500002 41.987115000941)\n",
            "Address: 800 W WRIGHTWOOD AVE, Request Date: 2024-04-16 14:16:48, Potholes Filled: 4, Location: POINT (-87.648971013211 41.92916901415)\n",
            "Address: 2708 N MILDRED AVE, Request Date: 2024-04-17 12:32:25, Potholes Filled: 9, Location: POINT (-87.651446909845 41.931162697537)\n",
            "Address: 690 W WRIGHTWOOD AVE, Request Date: 2024-04-17 12:40:13, Potholes Filled: 10, Location: POINT (-87.646311336536 41.929196014182)\n",
            "Address: 2638 N LINCOLN AVE, Request Date: 2024-04-15 15:43:32, Potholes Filled: 7, Location: POINT (-87.655243500002 41.929713000941)\n",
            "Address: 304 W WILLOW ST, Request Date: 2024-04-15 13:44:29, Potholes Filled: 10, Location: POINT (-87.637059000002 41.914323000941)\n",
            "Address: 1863 N SHEFFIELD AVE, Request Date: 2024-04-17 00:41:54, Potholes Filled: 4, Location: POINT (-87.652917000002 41.915376000941)\n",
            "Address: 1863 N SHEFFIELD AVE, Request Date: 2024-04-17 00:41:52, Potholes Filled: 4, Location: POINT (-87.652917000002 41.915376000941)\n",
            "Address: 446 W WISCONSIN ST, Request Date: 2024-04-15 13:43:56, Potholes Filled: 7, Location: POINT (-87.640627823881 41.916568998943)\n",
            "Address: 1711 N DAYTON ST, Request Date: 2024-04-16 13:30:43, Potholes Filled: 9, Location: POINT (-87.649222500002 41.913126000941)\n",
            "Address: 1934 N CLEVELAND AVE, Request Date: 2024-04-17 12:31:32, Potholes Filled: 5, Location: POINT (-87.641527500002 41.917527000941)\n",
            "Address: 1955 N CLYBOURN AVE, Request Date: 2024-04-15 18:57:04, Potholes Filled: 5, Location: POINT (-87.657363000002 41.917014000941)\n",
            "Address: 4326 N KILDARE AVE, Request Date: 2024-04-16 07:44:11, Potholes Filled: 30, Location: POINT (-87.735924000002 41.959890000941)\n",
            "Address: 4251 N KEYSTONE AVE, Request Date: 2024-04-12 13:35:25, Potholes Filled: 11, Location: POINT (-87.729003000002 41.958792000941)\n",
            "Address: 3853 W AINSLIE ST, Request Date: 2024-04-15 14:12:49, Potholes Filled: 2, Location: POINT (-87.725313000002 41.969925000941)\n",
            "Address: 5158 N AVERS AVE, Request Date: 2024-04-15 07:50:49, Potholes Filled: 22, Location: POINT (-87.724962000002 41.975307000941)\n",
            "Address: 4900 N AVERS AVE, Request Date: 2024-04-16 09:29:18, Potholes Filled: 6, Location: POINT (-87.724764000002 41.970240000941)\n",
            "Address: 6253 N KARLOV AVE, Request Date: 2024-04-11 15:10:37, Potholes Filled: 7, Location: POINT (-87.731332531275 41.995345831727)\n",
            "Address: 6300 N KNOX AVE, Request Date: 2024-04-10 08:50:16, Potholes Filled: 12, Location: POINT (-87.7411382957 41.995695296639)\n",
            "Address: 7400 S ABERDEEN ST, Request Date: 2024-04-06 13:57:00, Potholes Filled: 19, Location: POINT (-87.651841500002 41.75951400094)\n",
            "Address: 7400 S ABERDEEN ST, Request Date: 2024-04-05 00:14:17, Potholes Filled: 19, Location: POINT (-87.651841500002 41.75951400094)\n",
            "Address: 5558 N FOREST GLEN AVE, Request Date: 2024-04-10 15:59:00, Potholes Filled: 4, Location: POINT (-87.752533835499 41.983230809246)\n",
            "Address: 5000 W BERWYN AVE, Request Date: 2024-04-15 16:54:00, Potholes Filled: 8, Location: POINT (-87.752115000002 41.978151000941)\n",
            "Address: 4908 W FOSTER AVE, Request Date: 2024-04-10 10:48:09, Potholes Filled: 3, Location: POINT (-87.751080000002 41.975505000941)\n",
            "Address: 6014 W MIAMI AVE, Request Date: 2024-04-11 14:13:07, Potholes Filled: 36, Location: POINT (-87.778602000002 41.991741000941)\n",
            "Address: 2329 N MANGO AVE, Request Date: 2024-03-15 15:29:07, Potholes Filled: 21, Location: POINT (-87.769345500002 41.923008000941)\n",
            "Address: 5300 W BELDEN AVE, Request Date: 2024-03-28 13:44:35, Potholes Filled: 23, Location: POINT (-87.758633692327 41.922335700084)\n",
            "Address: 2140 N MENARD AVE, Request Date: 2024-03-28 16:48:09, Potholes Filled: 19, Location: POINT (-87.770938500002 41.919228000941)\n",
            "Address: 5258 W GRAND AVE, Request Date: 2024-03-15 06:41:45, Potholes Filled: 5, Location: POINT (-87.758001000002 41.917608000941)\n",
            "Address: 5319 W FULLERTON AVE, Request Date: 2024-03-22 15:33:43, Potholes Filled: 11, Location: POINT (-87.759450000002 41.923854000941)\n",
            "Address: 6200 W DICKENS AVE, Request Date: 2024-04-10 15:05:20, Potholes Filled: 8, Location: POINT (-87.780485502803 41.9183758997)\n",
            "Address: 370 N LOWER MICHIGAN AVE, Request Date: 2024-04-10 15:23:44, Potholes Filled: 6, Location: POINT (-87.624557665666 41.888530130102)\n",
            "Address: 125 S FRANKLIN ST, Request Date: 2024-04-18 11:44:32, Potholes Filled: 20, Location: POINT (-87.635205799275 41.880034975691)\n",
            "Address: 34 W CHICAGO AVE, Request Date: 2024-04-10 09:55:39, Potholes Filled: 4, Location: POINT (-87.62962321882 41.896745101091)\n",
            "Address: 650 N FRANKLIN ST, Request Date: 2024-04-17 07:29:26, Potholes Filled: 1, Location: POINT (-87.635699873743 41.893913392981)\n",
            "Address: 640 N LA SALLE ST, Request Date: 2024-04-18 11:31:43, Potholes Filled: 2, Location: POINT (-87.633423000002 41.893614000941)\n",
            "Address: 204 N WELLS ST, Request Date: 2024-04-18 09:57:10, Potholes Filled: 2, Location: POINT (-87.633998001495 41.885891567219)\n",
            "Address: 221 N STETSON AVE, Request Date: 2024-04-16 07:41:18, Potholes Filled: 12, Location: POINT (-87.62226714232 41.886223383648)\n",
            "Address: 183 N MICHIGAN AVE, Request Date: 2024-04-16 11:41:30, Potholes Filled: 1, Location: POINT (-87.624515675751 41.885761488391)\n",
            "Address: 10O E LAKE ST, Request Date: 2024-04-17 23:08:21, Potholes Filled: 1, Location: POINT (-87.627581621075 41.88583396189)\n",
            "Address: 1800 S RUBLE ST, Request Date: 2024-04-19 06:52:58, Potholes Filled: 6, Location: POINT (-87.643840156616 41.857535190112)\n"
          ]
        }
      ],
      "source": [
        "for index, row in patched.iterrows():\n",
        "  if index < 100:\n",
        "    summary_string = f\"Address: {row['address']}, Request Date: {row['request_date']}, Potholes Filled: {row['number_of_potholes_filled_on_block']}, Location: {row['location']}\"\n",
        "    print(summary_string)\n",
        "  else:\n",
        "    break"
      ]
    },
    {
      "cell_type": "markdown",
      "metadata": {
        "id": "fvmHpAAdfda1"
      },
      "source": [
        "How many potholes have been patched, how many requests are still open, random sample maker of open cases, how many requests had no problem found"
      ]
    },
    {
      "cell_type": "code",
      "execution_count": 40,
      "metadata": {
        "id": "MSEoLyDIfmjK"
      },
      "outputs": [],
      "source": [
        "sample_pothole = pothole.sample(5)"
      ]
    },
    {
      "cell_type": "code",
      "execution_count": 41,
      "metadata": {
        "id": "wqcPPRF3foMm",
        "colab": {
          "base_uri": "https://localhost:8080/"
        },
        "outputId": "8c17a1a6-178b-402b-979d-c9f278786c12"
      },
      "outputs": [
        {
          "output_type": "stream",
          "name": "stdout",
          "text": [
            "its completed!\n",
            "its completed!\n",
            "its completed!\n",
            "its completed!\n",
            "its completed!\n"
          ]
        }
      ],
      "source": [
        "for column in sample_pothole.iterrows():\n",
        "  if column[1]['status'] == 'Completed':\n",
        "    print('its completed!')\n",
        "  elif column[1]['status'] == 'Completed - Dup':\n",
        "    print('its completed!')\n",
        "  else:\n",
        "    print('it hasnt been completed')"
      ]
    },
    {
      "cell_type": "code",
      "execution_count": 42,
      "metadata": {
        "id": "Tsj3X5TCf6im"
      },
      "outputs": [],
      "source": [
        "open_requests = pothole['status'].isin(['Open', 'Open - Dup'])"
      ]
    },
    {
      "cell_type": "code",
      "execution_count": 43,
      "metadata": {
        "id": "UidxYPOtf9X3",
        "colab": {
          "base_uri": "https://localhost:8080/"
        },
        "outputId": "c4cb4353-164b-4f92-dd9b-0099a713a5f7"
      },
      "outputs": [
        {
          "output_type": "execute_result",
          "data": {
            "text/plain": [
              "status\n",
              "False    553130\n",
              "True       7348\n",
              "Name: count, dtype: int64"
            ]
          },
          "metadata": {},
          "execution_count": 43
        }
      ],
      "source": [
        "open_requests.value_counts()"
      ]
    },
    {
      "cell_type": "code",
      "execution_count": 44,
      "metadata": {
        "id": "UcfChv49gCHz"
      },
      "outputs": [],
      "source": [
        "potholes_patched = pothole['most_recent_action'] == 'Pothole Patched'"
      ]
    },
    {
      "cell_type": "code",
      "execution_count": 45,
      "metadata": {
        "id": "YZxnEH_8gEfY",
        "colab": {
          "base_uri": "https://localhost:8080/"
        },
        "outputId": "4df66a80-3077-4403-b958-87902657e28a"
      },
      "outputs": [
        {
          "output_type": "execute_result",
          "data": {
            "text/plain": [
              "most_recent_action\n",
              "True     317646\n",
              "False    242832\n",
              "Name: count, dtype: int64"
            ]
          },
          "metadata": {},
          "execution_count": 45
        }
      ],
      "source": [
        "potholes_patched.value_counts()"
      ]
    },
    {
      "cell_type": "code",
      "execution_count": 46,
      "metadata": {
        "id": "W21k8PVTgHJr"
      },
      "outputs": [],
      "source": [
        "potholes_no_problem = pothole['most_recent_action'] == 'No Problem Found'"
      ]
    },
    {
      "cell_type": "code",
      "execution_count": 47,
      "metadata": {
        "id": "8LyOql-QgNeF",
        "colab": {
          "base_uri": "https://localhost:8080/"
        },
        "outputId": "035aa791-ef0f-4c62-e1d6-b703617b29c5"
      },
      "outputs": [
        {
          "output_type": "execute_result",
          "data": {
            "text/plain": [
              "most_recent_action\n",
              "False    560178\n",
              "True        300\n",
              "Name: count, dtype: int64"
            ]
          },
          "metadata": {},
          "execution_count": 47
        }
      ],
      "source": [
        "potholes_no_problem.value_counts()"
      ]
    },
    {
      "cell_type": "code",
      "execution_count": 48,
      "metadata": {
        "id": "dtpkDJOk8zNz"
      },
      "outputs": [],
      "source": [
        "# How many duplicate requests are in the pothole request data?"
      ]
    },
    {
      "cell_type": "code",
      "execution_count": 49,
      "metadata": {
        "id": "ZaFDKniC855M"
      },
      "outputs": [],
      "source": [
        "duplicates = pothole.duplicated()"
      ]
    },
    {
      "cell_type": "code",
      "execution_count": 50,
      "metadata": {
        "id": "lqgcsQIR88FF"
      },
      "outputs": [],
      "source": [
        "num_duplicates = duplicates.sum()"
      ]
    },
    {
      "cell_type": "code",
      "execution_count": 51,
      "metadata": {
        "id": "1AfYNCiv8-A8",
        "colab": {
          "base_uri": "https://localhost:8080/"
        },
        "outputId": "461e2de3-f82e-4f26-c49f-79c411c196b3"
      },
      "outputs": [
        {
          "output_type": "stream",
          "name": "stdout",
          "text": [
            "there are 2 duplicate rows in the dataset.\n"
          ]
        }
      ],
      "source": [
        "if num_duplicates > 0:\n",
        "  print(f'there are {num_duplicates} duplicate rows in the dataset.')\n",
        "else:\n",
        "  print('there are no duplicate rows in the dataet.')"
      ]
    },
    {
      "cell_type": "code",
      "execution_count": 52,
      "metadata": {
        "id": "3MSWjkR4-Hrd"
      },
      "outputs": [],
      "source": [
        "# New column showing the duplicates"
      ]
    },
    {
      "cell_type": "code",
      "execution_count": 53,
      "metadata": {
        "id": "J3nYsyFM-lkL"
      },
      "outputs": [],
      "source": [
        "duplicates_col = pothole.duplicated(subset = 'service_request_number', keep=False)"
      ]
    },
    {
      "cell_type": "code",
      "execution_count": 54,
      "metadata": {
        "id": "aLothnxi-nKD"
      },
      "outputs": [],
      "source": [
        "pothole['is_duplicated'] = duplicates_col"
      ]
    },
    {
      "cell_type": "code",
      "execution_count": 55,
      "metadata": {
        "id": "fJWi1nCH-qHD",
        "colab": {
          "base_uri": "https://localhost:8080/",
          "height": 330
        },
        "outputId": "cd9ef7a4-f5d1-419e-996e-65b3578e6cbf"
      },
      "outputs": [
        {
          "output_type": "execute_result",
          "data": {
            "text/plain": [
              "             creation_date      status completion_date service_request_number  \\\n",
              "0  2018-12-18T00:00:00.000        Open             NaN            18-03387505   \n",
              "1  2018-12-18T00:00:00.000        Open             NaN            18-03387458   \n",
              "2  2018-12-18T00:00:00.000        Open             NaN            18-03387502   \n",
              "3  2018-12-18T00:00:00.000  Open - Dup             NaN            18-03388379   \n",
              "4  2018-12-18T00:00:00.000        Open             NaN            18-03388180   \n",
              "\n",
              "  type_of_service_request current_activity most_recent_action  \\\n",
              "0       Pothole in Street              NaN                NaN   \n",
              "1       Pothole in Street              NaN                NaN   \n",
              "2       Pothole in Street              NaN                NaN   \n",
              "3       Pothole in Street              NaN                NaN   \n",
              "4       Pothole in Street              NaN                NaN   \n",
              "\n",
              "   number_of_potholes_filled_on_block        street_address      zip  \\\n",
              "0                                 NaN  1145 S FAIRFIELD AVE  60612.0   \n",
              "1                                 NaN    908 S CAMPBELL AVE  60612.0   \n",
              "2                                 NaN        2421 W 21ST PL  60608.0   \n",
              "3                                 NaN        1959 S TROY ST  60623.0   \n",
              "4                                 NaN   4100 S WESTERN BLVD  60609.0   \n",
              "\n",
              "   x_coordinate  y_coordinate  ward  police_district  community_area  ssa  \\\n",
              "0  1.158186e+06  1.894949e+06  28.0             11.0            29.0  NaN   \n",
              "1  1.159861e+06  1.895934e+06  28.0             11.0            28.0  NaN   \n",
              "2  1.160590e+06  1.889668e+06  28.0             10.0            31.0  NaN   \n",
              "3  1.155670e+06  1.890142e+06  24.0             10.0            29.0  NaN   \n",
              "4  1.161202e+06  1.877426e+06  12.0              9.0            58.0  NaN   \n",
              "\n",
              "    latitude  longitude                             location  is_duplicated  \n",
              "0  41.866992 -87.694609  (41.866991991336, -87.694608638672)          False  \n",
              "1  41.869927 -87.688710  (41.869927464401, -87.688710188657)          False  \n",
              "2  41.852826 -87.686536  (41.852826019085, -87.686535678313)          False  \n",
              "3  41.853704 -87.703946  (41.853703821634, -87.703946492923)          False  \n",
              "4  41.819247 -87.684305   (41.819246696086, -87.68430532228)          False  "
            ],
            "text/html": [
              "\n",
              "  <div id=\"df-d9668570-7017-495e-be17-e1fa211493e8\" class=\"colab-df-container\">\n",
              "    <div>\n",
              "<style scoped>\n",
              "    .dataframe tbody tr th:only-of-type {\n",
              "        vertical-align: middle;\n",
              "    }\n",
              "\n",
              "    .dataframe tbody tr th {\n",
              "        vertical-align: top;\n",
              "    }\n",
              "\n",
              "    .dataframe thead th {\n",
              "        text-align: right;\n",
              "    }\n",
              "</style>\n",
              "<table border=\"1\" class=\"dataframe\">\n",
              "  <thead>\n",
              "    <tr style=\"text-align: right;\">\n",
              "      <th></th>\n",
              "      <th>creation_date</th>\n",
              "      <th>status</th>\n",
              "      <th>completion_date</th>\n",
              "      <th>service_request_number</th>\n",
              "      <th>type_of_service_request</th>\n",
              "      <th>current_activity</th>\n",
              "      <th>most_recent_action</th>\n",
              "      <th>number_of_potholes_filled_on_block</th>\n",
              "      <th>street_address</th>\n",
              "      <th>zip</th>\n",
              "      <th>x_coordinate</th>\n",
              "      <th>y_coordinate</th>\n",
              "      <th>ward</th>\n",
              "      <th>police_district</th>\n",
              "      <th>community_area</th>\n",
              "      <th>ssa</th>\n",
              "      <th>latitude</th>\n",
              "      <th>longitude</th>\n",
              "      <th>location</th>\n",
              "      <th>is_duplicated</th>\n",
              "    </tr>\n",
              "  </thead>\n",
              "  <tbody>\n",
              "    <tr>\n",
              "      <th>0</th>\n",
              "      <td>2018-12-18T00:00:00.000</td>\n",
              "      <td>Open</td>\n",
              "      <td>NaN</td>\n",
              "      <td>18-03387505</td>\n",
              "      <td>Pothole in Street</td>\n",
              "      <td>NaN</td>\n",
              "      <td>NaN</td>\n",
              "      <td>NaN</td>\n",
              "      <td>1145 S FAIRFIELD AVE</td>\n",
              "      <td>60612.0</td>\n",
              "      <td>1.158186e+06</td>\n",
              "      <td>1.894949e+06</td>\n",
              "      <td>28.0</td>\n",
              "      <td>11.0</td>\n",
              "      <td>29.0</td>\n",
              "      <td>NaN</td>\n",
              "      <td>41.866992</td>\n",
              "      <td>-87.694609</td>\n",
              "      <td>(41.866991991336, -87.694608638672)</td>\n",
              "      <td>False</td>\n",
              "    </tr>\n",
              "    <tr>\n",
              "      <th>1</th>\n",
              "      <td>2018-12-18T00:00:00.000</td>\n",
              "      <td>Open</td>\n",
              "      <td>NaN</td>\n",
              "      <td>18-03387458</td>\n",
              "      <td>Pothole in Street</td>\n",
              "      <td>NaN</td>\n",
              "      <td>NaN</td>\n",
              "      <td>NaN</td>\n",
              "      <td>908 S CAMPBELL AVE</td>\n",
              "      <td>60612.0</td>\n",
              "      <td>1.159861e+06</td>\n",
              "      <td>1.895934e+06</td>\n",
              "      <td>28.0</td>\n",
              "      <td>11.0</td>\n",
              "      <td>28.0</td>\n",
              "      <td>NaN</td>\n",
              "      <td>41.869927</td>\n",
              "      <td>-87.688710</td>\n",
              "      <td>(41.869927464401, -87.688710188657)</td>\n",
              "      <td>False</td>\n",
              "    </tr>\n",
              "    <tr>\n",
              "      <th>2</th>\n",
              "      <td>2018-12-18T00:00:00.000</td>\n",
              "      <td>Open</td>\n",
              "      <td>NaN</td>\n",
              "      <td>18-03387502</td>\n",
              "      <td>Pothole in Street</td>\n",
              "      <td>NaN</td>\n",
              "      <td>NaN</td>\n",
              "      <td>NaN</td>\n",
              "      <td>2421 W 21ST PL</td>\n",
              "      <td>60608.0</td>\n",
              "      <td>1.160590e+06</td>\n",
              "      <td>1.889668e+06</td>\n",
              "      <td>28.0</td>\n",
              "      <td>10.0</td>\n",
              "      <td>31.0</td>\n",
              "      <td>NaN</td>\n",
              "      <td>41.852826</td>\n",
              "      <td>-87.686536</td>\n",
              "      <td>(41.852826019085, -87.686535678313)</td>\n",
              "      <td>False</td>\n",
              "    </tr>\n",
              "    <tr>\n",
              "      <th>3</th>\n",
              "      <td>2018-12-18T00:00:00.000</td>\n",
              "      <td>Open - Dup</td>\n",
              "      <td>NaN</td>\n",
              "      <td>18-03388379</td>\n",
              "      <td>Pothole in Street</td>\n",
              "      <td>NaN</td>\n",
              "      <td>NaN</td>\n",
              "      <td>NaN</td>\n",
              "      <td>1959 S TROY ST</td>\n",
              "      <td>60623.0</td>\n",
              "      <td>1.155670e+06</td>\n",
              "      <td>1.890142e+06</td>\n",
              "      <td>24.0</td>\n",
              "      <td>10.0</td>\n",
              "      <td>29.0</td>\n",
              "      <td>NaN</td>\n",
              "      <td>41.853704</td>\n",
              "      <td>-87.703946</td>\n",
              "      <td>(41.853703821634, -87.703946492923)</td>\n",
              "      <td>False</td>\n",
              "    </tr>\n",
              "    <tr>\n",
              "      <th>4</th>\n",
              "      <td>2018-12-18T00:00:00.000</td>\n",
              "      <td>Open</td>\n",
              "      <td>NaN</td>\n",
              "      <td>18-03388180</td>\n",
              "      <td>Pothole in Street</td>\n",
              "      <td>NaN</td>\n",
              "      <td>NaN</td>\n",
              "      <td>NaN</td>\n",
              "      <td>4100 S WESTERN BLVD</td>\n",
              "      <td>60609.0</td>\n",
              "      <td>1.161202e+06</td>\n",
              "      <td>1.877426e+06</td>\n",
              "      <td>12.0</td>\n",
              "      <td>9.0</td>\n",
              "      <td>58.0</td>\n",
              "      <td>NaN</td>\n",
              "      <td>41.819247</td>\n",
              "      <td>-87.684305</td>\n",
              "      <td>(41.819246696086, -87.68430532228)</td>\n",
              "      <td>False</td>\n",
              "    </tr>\n",
              "  </tbody>\n",
              "</table>\n",
              "</div>\n",
              "    <div class=\"colab-df-buttons\">\n",
              "\n",
              "  <div class=\"colab-df-container\">\n",
              "    <button class=\"colab-df-convert\" onclick=\"convertToInteractive('df-d9668570-7017-495e-be17-e1fa211493e8')\"\n",
              "            title=\"Convert this dataframe to an interactive table.\"\n",
              "            style=\"display:none;\">\n",
              "\n",
              "  <svg xmlns=\"http://www.w3.org/2000/svg\" height=\"24px\" viewBox=\"0 -960 960 960\">\n",
              "    <path d=\"M120-120v-720h720v720H120Zm60-500h600v-160H180v160Zm220 220h160v-160H400v160Zm0 220h160v-160H400v160ZM180-400h160v-160H180v160Zm440 0h160v-160H620v160ZM180-180h160v-160H180v160Zm440 0h160v-160H620v160Z\"/>\n",
              "  </svg>\n",
              "    </button>\n",
              "\n",
              "  <style>\n",
              "    .colab-df-container {\n",
              "      display:flex;\n",
              "      gap: 12px;\n",
              "    }\n",
              "\n",
              "    .colab-df-convert {\n",
              "      background-color: #E8F0FE;\n",
              "      border: none;\n",
              "      border-radius: 50%;\n",
              "      cursor: pointer;\n",
              "      display: none;\n",
              "      fill: #1967D2;\n",
              "      height: 32px;\n",
              "      padding: 0 0 0 0;\n",
              "      width: 32px;\n",
              "    }\n",
              "\n",
              "    .colab-df-convert:hover {\n",
              "      background-color: #E2EBFA;\n",
              "      box-shadow: 0px 1px 2px rgba(60, 64, 67, 0.3), 0px 1px 3px 1px rgba(60, 64, 67, 0.15);\n",
              "      fill: #174EA6;\n",
              "    }\n",
              "\n",
              "    .colab-df-buttons div {\n",
              "      margin-bottom: 4px;\n",
              "    }\n",
              "\n",
              "    [theme=dark] .colab-df-convert {\n",
              "      background-color: #3B4455;\n",
              "      fill: #D2E3FC;\n",
              "    }\n",
              "\n",
              "    [theme=dark] .colab-df-convert:hover {\n",
              "      background-color: #434B5C;\n",
              "      box-shadow: 0px 1px 3px 1px rgba(0, 0, 0, 0.15);\n",
              "      filter: drop-shadow(0px 1px 2px rgba(0, 0, 0, 0.3));\n",
              "      fill: #FFFFFF;\n",
              "    }\n",
              "  </style>\n",
              "\n",
              "    <script>\n",
              "      const buttonEl =\n",
              "        document.querySelector('#df-d9668570-7017-495e-be17-e1fa211493e8 button.colab-df-convert');\n",
              "      buttonEl.style.display =\n",
              "        google.colab.kernel.accessAllowed ? 'block' : 'none';\n",
              "\n",
              "      async function convertToInteractive(key) {\n",
              "        const element = document.querySelector('#df-d9668570-7017-495e-be17-e1fa211493e8');\n",
              "        const dataTable =\n",
              "          await google.colab.kernel.invokeFunction('convertToInteractive',\n",
              "                                                    [key], {});\n",
              "        if (!dataTable) return;\n",
              "\n",
              "        const docLinkHtml = 'Like what you see? Visit the ' +\n",
              "          '<a target=\"_blank\" href=https://colab.research.google.com/notebooks/data_table.ipynb>data table notebook</a>'\n",
              "          + ' to learn more about interactive tables.';\n",
              "        element.innerHTML = '';\n",
              "        dataTable['output_type'] = 'display_data';\n",
              "        await google.colab.output.renderOutput(dataTable, element);\n",
              "        const docLink = document.createElement('div');\n",
              "        docLink.innerHTML = docLinkHtml;\n",
              "        element.appendChild(docLink);\n",
              "      }\n",
              "    </script>\n",
              "  </div>\n",
              "\n",
              "\n",
              "<div id=\"df-04bb8f80-fc2f-42f1-875f-713cfc965083\">\n",
              "  <button class=\"colab-df-quickchart\" onclick=\"quickchart('df-04bb8f80-fc2f-42f1-875f-713cfc965083')\"\n",
              "            title=\"Suggest charts\"\n",
              "            style=\"display:none;\">\n",
              "\n",
              "<svg xmlns=\"http://www.w3.org/2000/svg\" height=\"24px\"viewBox=\"0 0 24 24\"\n",
              "     width=\"24px\">\n",
              "    <g>\n",
              "        <path d=\"M19 3H5c-1.1 0-2 .9-2 2v14c0 1.1.9 2 2 2h14c1.1 0 2-.9 2-2V5c0-1.1-.9-2-2-2zM9 17H7v-7h2v7zm4 0h-2V7h2v10zm4 0h-2v-4h2v4z\"/>\n",
              "    </g>\n",
              "</svg>\n",
              "  </button>\n",
              "\n",
              "<style>\n",
              "  .colab-df-quickchart {\n",
              "      --bg-color: #E8F0FE;\n",
              "      --fill-color: #1967D2;\n",
              "      --hover-bg-color: #E2EBFA;\n",
              "      --hover-fill-color: #174EA6;\n",
              "      --disabled-fill-color: #AAA;\n",
              "      --disabled-bg-color: #DDD;\n",
              "  }\n",
              "\n",
              "  [theme=dark] .colab-df-quickchart {\n",
              "      --bg-color: #3B4455;\n",
              "      --fill-color: #D2E3FC;\n",
              "      --hover-bg-color: #434B5C;\n",
              "      --hover-fill-color: #FFFFFF;\n",
              "      --disabled-bg-color: #3B4455;\n",
              "      --disabled-fill-color: #666;\n",
              "  }\n",
              "\n",
              "  .colab-df-quickchart {\n",
              "    background-color: var(--bg-color);\n",
              "    border: none;\n",
              "    border-radius: 50%;\n",
              "    cursor: pointer;\n",
              "    display: none;\n",
              "    fill: var(--fill-color);\n",
              "    height: 32px;\n",
              "    padding: 0;\n",
              "    width: 32px;\n",
              "  }\n",
              "\n",
              "  .colab-df-quickchart:hover {\n",
              "    background-color: var(--hover-bg-color);\n",
              "    box-shadow: 0 1px 2px rgba(60, 64, 67, 0.3), 0 1px 3px 1px rgba(60, 64, 67, 0.15);\n",
              "    fill: var(--button-hover-fill-color);\n",
              "  }\n",
              "\n",
              "  .colab-df-quickchart-complete:disabled,\n",
              "  .colab-df-quickchart-complete:disabled:hover {\n",
              "    background-color: var(--disabled-bg-color);\n",
              "    fill: var(--disabled-fill-color);\n",
              "    box-shadow: none;\n",
              "  }\n",
              "\n",
              "  .colab-df-spinner {\n",
              "    border: 2px solid var(--fill-color);\n",
              "    border-color: transparent;\n",
              "    border-bottom-color: var(--fill-color);\n",
              "    animation:\n",
              "      spin 1s steps(1) infinite;\n",
              "  }\n",
              "\n",
              "  @keyframes spin {\n",
              "    0% {\n",
              "      border-color: transparent;\n",
              "      border-bottom-color: var(--fill-color);\n",
              "      border-left-color: var(--fill-color);\n",
              "    }\n",
              "    20% {\n",
              "      border-color: transparent;\n",
              "      border-left-color: var(--fill-color);\n",
              "      border-top-color: var(--fill-color);\n",
              "    }\n",
              "    30% {\n",
              "      border-color: transparent;\n",
              "      border-left-color: var(--fill-color);\n",
              "      border-top-color: var(--fill-color);\n",
              "      border-right-color: var(--fill-color);\n",
              "    }\n",
              "    40% {\n",
              "      border-color: transparent;\n",
              "      border-right-color: var(--fill-color);\n",
              "      border-top-color: var(--fill-color);\n",
              "    }\n",
              "    60% {\n",
              "      border-color: transparent;\n",
              "      border-right-color: var(--fill-color);\n",
              "    }\n",
              "    80% {\n",
              "      border-color: transparent;\n",
              "      border-right-color: var(--fill-color);\n",
              "      border-bottom-color: var(--fill-color);\n",
              "    }\n",
              "    90% {\n",
              "      border-color: transparent;\n",
              "      border-bottom-color: var(--fill-color);\n",
              "    }\n",
              "  }\n",
              "</style>\n",
              "\n",
              "  <script>\n",
              "    async function quickchart(key) {\n",
              "      const quickchartButtonEl =\n",
              "        document.querySelector('#' + key + ' button');\n",
              "      quickchartButtonEl.disabled = true;  // To prevent multiple clicks.\n",
              "      quickchartButtonEl.classList.add('colab-df-spinner');\n",
              "      try {\n",
              "        const charts = await google.colab.kernel.invokeFunction(\n",
              "            'suggestCharts', [key], {});\n",
              "      } catch (error) {\n",
              "        console.error('Error during call to suggestCharts:', error);\n",
              "      }\n",
              "      quickchartButtonEl.classList.remove('colab-df-spinner');\n",
              "      quickchartButtonEl.classList.add('colab-df-quickchart-complete');\n",
              "    }\n",
              "    (() => {\n",
              "      let quickchartButtonEl =\n",
              "        document.querySelector('#df-04bb8f80-fc2f-42f1-875f-713cfc965083 button');\n",
              "      quickchartButtonEl.style.display =\n",
              "        google.colab.kernel.accessAllowed ? 'block' : 'none';\n",
              "    })();\n",
              "  </script>\n",
              "</div>\n",
              "\n",
              "    </div>\n",
              "  </div>\n"
            ],
            "application/vnd.google.colaboratory.intrinsic+json": {
              "type": "dataframe",
              "variable_name": "pothole"
            }
          },
          "metadata": {},
          "execution_count": 55
        }
      ],
      "source": [
        "pothole.head()"
      ]
    },
    {
      "cell_type": "code",
      "execution_count": 56,
      "metadata": {
        "id": "t2g6Y7zA--ym"
      },
      "outputs": [],
      "source": [
        "# Amount of pothole requests per address?"
      ]
    },
    {
      "cell_type": "code",
      "execution_count": 57,
      "metadata": {
        "id": "drWDRUn5_Ayn",
        "colab": {
          "base_uri": "https://localhost:8080/",
          "height": 423
        },
        "outputId": "1fb0088c-bf98-415a-845d-4759def95e86"
      },
      "outputs": [
        {
          "output_type": "execute_result",
          "data": {
            "text/plain": [
              "                 street_address  count\n",
              "0             55 W JACKSON BLVD    386\n",
              "1            1800 S WESTERN AVE    316\n",
              "2          8300 S VINCENNES AVE    313\n",
              "3       7500 S STONY ISLAND AVE    274\n",
              "4       9500 S STONY ISLAND AVE    268\n",
              "...                         ...    ...\n",
              "250602         3420 W NORTH AVE      1\n",
              "250603      2754 W ROOSEVELT RD      1\n",
              "250604      3932 W LAWRENCE AVE      1\n",
              "250605           138 E 123RD ST      1\n",
              "250606       1440 S ROCKWELL ST      1\n",
              "\n",
              "[250607 rows x 2 columns]"
            ],
            "text/html": [
              "\n",
              "  <div id=\"df-653552c8-16f0-4be3-9538-9819df248024\" class=\"colab-df-container\">\n",
              "    <div>\n",
              "<style scoped>\n",
              "    .dataframe tbody tr th:only-of-type {\n",
              "        vertical-align: middle;\n",
              "    }\n",
              "\n",
              "    .dataframe tbody tr th {\n",
              "        vertical-align: top;\n",
              "    }\n",
              "\n",
              "    .dataframe thead th {\n",
              "        text-align: right;\n",
              "    }\n",
              "</style>\n",
              "<table border=\"1\" class=\"dataframe\">\n",
              "  <thead>\n",
              "    <tr style=\"text-align: right;\">\n",
              "      <th></th>\n",
              "      <th>street_address</th>\n",
              "      <th>count</th>\n",
              "    </tr>\n",
              "  </thead>\n",
              "  <tbody>\n",
              "    <tr>\n",
              "      <th>0</th>\n",
              "      <td>55 W JACKSON BLVD</td>\n",
              "      <td>386</td>\n",
              "    </tr>\n",
              "    <tr>\n",
              "      <th>1</th>\n",
              "      <td>1800 S WESTERN AVE</td>\n",
              "      <td>316</td>\n",
              "    </tr>\n",
              "    <tr>\n",
              "      <th>2</th>\n",
              "      <td>8300 S VINCENNES AVE</td>\n",
              "      <td>313</td>\n",
              "    </tr>\n",
              "    <tr>\n",
              "      <th>3</th>\n",
              "      <td>7500 S STONY ISLAND AVE</td>\n",
              "      <td>274</td>\n",
              "    </tr>\n",
              "    <tr>\n",
              "      <th>4</th>\n",
              "      <td>9500 S STONY ISLAND AVE</td>\n",
              "      <td>268</td>\n",
              "    </tr>\n",
              "    <tr>\n",
              "      <th>...</th>\n",
              "      <td>...</td>\n",
              "      <td>...</td>\n",
              "    </tr>\n",
              "    <tr>\n",
              "      <th>250602</th>\n",
              "      <td>3420 W NORTH AVE</td>\n",
              "      <td>1</td>\n",
              "    </tr>\n",
              "    <tr>\n",
              "      <th>250603</th>\n",
              "      <td>2754 W ROOSEVELT RD</td>\n",
              "      <td>1</td>\n",
              "    </tr>\n",
              "    <tr>\n",
              "      <th>250604</th>\n",
              "      <td>3932 W LAWRENCE AVE</td>\n",
              "      <td>1</td>\n",
              "    </tr>\n",
              "    <tr>\n",
              "      <th>250605</th>\n",
              "      <td>138 E 123RD ST</td>\n",
              "      <td>1</td>\n",
              "    </tr>\n",
              "    <tr>\n",
              "      <th>250606</th>\n",
              "      <td>1440 S ROCKWELL ST</td>\n",
              "      <td>1</td>\n",
              "    </tr>\n",
              "  </tbody>\n",
              "</table>\n",
              "<p>250607 rows × 2 columns</p>\n",
              "</div>\n",
              "    <div class=\"colab-df-buttons\">\n",
              "\n",
              "  <div class=\"colab-df-container\">\n",
              "    <button class=\"colab-df-convert\" onclick=\"convertToInteractive('df-653552c8-16f0-4be3-9538-9819df248024')\"\n",
              "            title=\"Convert this dataframe to an interactive table.\"\n",
              "            style=\"display:none;\">\n",
              "\n",
              "  <svg xmlns=\"http://www.w3.org/2000/svg\" height=\"24px\" viewBox=\"0 -960 960 960\">\n",
              "    <path d=\"M120-120v-720h720v720H120Zm60-500h600v-160H180v160Zm220 220h160v-160H400v160Zm0 220h160v-160H400v160ZM180-400h160v-160H180v160Zm440 0h160v-160H620v160ZM180-180h160v-160H180v160Zm440 0h160v-160H620v160Z\"/>\n",
              "  </svg>\n",
              "    </button>\n",
              "\n",
              "  <style>\n",
              "    .colab-df-container {\n",
              "      display:flex;\n",
              "      gap: 12px;\n",
              "    }\n",
              "\n",
              "    .colab-df-convert {\n",
              "      background-color: #E8F0FE;\n",
              "      border: none;\n",
              "      border-radius: 50%;\n",
              "      cursor: pointer;\n",
              "      display: none;\n",
              "      fill: #1967D2;\n",
              "      height: 32px;\n",
              "      padding: 0 0 0 0;\n",
              "      width: 32px;\n",
              "    }\n",
              "\n",
              "    .colab-df-convert:hover {\n",
              "      background-color: #E2EBFA;\n",
              "      box-shadow: 0px 1px 2px rgba(60, 64, 67, 0.3), 0px 1px 3px 1px rgba(60, 64, 67, 0.15);\n",
              "      fill: #174EA6;\n",
              "    }\n",
              "\n",
              "    .colab-df-buttons div {\n",
              "      margin-bottom: 4px;\n",
              "    }\n",
              "\n",
              "    [theme=dark] .colab-df-convert {\n",
              "      background-color: #3B4455;\n",
              "      fill: #D2E3FC;\n",
              "    }\n",
              "\n",
              "    [theme=dark] .colab-df-convert:hover {\n",
              "      background-color: #434B5C;\n",
              "      box-shadow: 0px 1px 3px 1px rgba(0, 0, 0, 0.15);\n",
              "      filter: drop-shadow(0px 1px 2px rgba(0, 0, 0, 0.3));\n",
              "      fill: #FFFFFF;\n",
              "    }\n",
              "  </style>\n",
              "\n",
              "    <script>\n",
              "      const buttonEl =\n",
              "        document.querySelector('#df-653552c8-16f0-4be3-9538-9819df248024 button.colab-df-convert');\n",
              "      buttonEl.style.display =\n",
              "        google.colab.kernel.accessAllowed ? 'block' : 'none';\n",
              "\n",
              "      async function convertToInteractive(key) {\n",
              "        const element = document.querySelector('#df-653552c8-16f0-4be3-9538-9819df248024');\n",
              "        const dataTable =\n",
              "          await google.colab.kernel.invokeFunction('convertToInteractive',\n",
              "                                                    [key], {});\n",
              "        if (!dataTable) return;\n",
              "\n",
              "        const docLinkHtml = 'Like what you see? Visit the ' +\n",
              "          '<a target=\"_blank\" href=https://colab.research.google.com/notebooks/data_table.ipynb>data table notebook</a>'\n",
              "          + ' to learn more about interactive tables.';\n",
              "        element.innerHTML = '';\n",
              "        dataTable['output_type'] = 'display_data';\n",
              "        await google.colab.output.renderOutput(dataTable, element);\n",
              "        const docLink = document.createElement('div');\n",
              "        docLink.innerHTML = docLinkHtml;\n",
              "        element.appendChild(docLink);\n",
              "      }\n",
              "    </script>\n",
              "  </div>\n",
              "\n",
              "\n",
              "<div id=\"df-9a2505a6-85cb-43e2-87b1-c0d7cdb6d1d5\">\n",
              "  <button class=\"colab-df-quickchart\" onclick=\"quickchart('df-9a2505a6-85cb-43e2-87b1-c0d7cdb6d1d5')\"\n",
              "            title=\"Suggest charts\"\n",
              "            style=\"display:none;\">\n",
              "\n",
              "<svg xmlns=\"http://www.w3.org/2000/svg\" height=\"24px\"viewBox=\"0 0 24 24\"\n",
              "     width=\"24px\">\n",
              "    <g>\n",
              "        <path d=\"M19 3H5c-1.1 0-2 .9-2 2v14c0 1.1.9 2 2 2h14c1.1 0 2-.9 2-2V5c0-1.1-.9-2-2-2zM9 17H7v-7h2v7zm4 0h-2V7h2v10zm4 0h-2v-4h2v4z\"/>\n",
              "    </g>\n",
              "</svg>\n",
              "  </button>\n",
              "\n",
              "<style>\n",
              "  .colab-df-quickchart {\n",
              "      --bg-color: #E8F0FE;\n",
              "      --fill-color: #1967D2;\n",
              "      --hover-bg-color: #E2EBFA;\n",
              "      --hover-fill-color: #174EA6;\n",
              "      --disabled-fill-color: #AAA;\n",
              "      --disabled-bg-color: #DDD;\n",
              "  }\n",
              "\n",
              "  [theme=dark] .colab-df-quickchart {\n",
              "      --bg-color: #3B4455;\n",
              "      --fill-color: #D2E3FC;\n",
              "      --hover-bg-color: #434B5C;\n",
              "      --hover-fill-color: #FFFFFF;\n",
              "      --disabled-bg-color: #3B4455;\n",
              "      --disabled-fill-color: #666;\n",
              "  }\n",
              "\n",
              "  .colab-df-quickchart {\n",
              "    background-color: var(--bg-color);\n",
              "    border: none;\n",
              "    border-radius: 50%;\n",
              "    cursor: pointer;\n",
              "    display: none;\n",
              "    fill: var(--fill-color);\n",
              "    height: 32px;\n",
              "    padding: 0;\n",
              "    width: 32px;\n",
              "  }\n",
              "\n",
              "  .colab-df-quickchart:hover {\n",
              "    background-color: var(--hover-bg-color);\n",
              "    box-shadow: 0 1px 2px rgba(60, 64, 67, 0.3), 0 1px 3px 1px rgba(60, 64, 67, 0.15);\n",
              "    fill: var(--button-hover-fill-color);\n",
              "  }\n",
              "\n",
              "  .colab-df-quickchart-complete:disabled,\n",
              "  .colab-df-quickchart-complete:disabled:hover {\n",
              "    background-color: var(--disabled-bg-color);\n",
              "    fill: var(--disabled-fill-color);\n",
              "    box-shadow: none;\n",
              "  }\n",
              "\n",
              "  .colab-df-spinner {\n",
              "    border: 2px solid var(--fill-color);\n",
              "    border-color: transparent;\n",
              "    border-bottom-color: var(--fill-color);\n",
              "    animation:\n",
              "      spin 1s steps(1) infinite;\n",
              "  }\n",
              "\n",
              "  @keyframes spin {\n",
              "    0% {\n",
              "      border-color: transparent;\n",
              "      border-bottom-color: var(--fill-color);\n",
              "      border-left-color: var(--fill-color);\n",
              "    }\n",
              "    20% {\n",
              "      border-color: transparent;\n",
              "      border-left-color: var(--fill-color);\n",
              "      border-top-color: var(--fill-color);\n",
              "    }\n",
              "    30% {\n",
              "      border-color: transparent;\n",
              "      border-left-color: var(--fill-color);\n",
              "      border-top-color: var(--fill-color);\n",
              "      border-right-color: var(--fill-color);\n",
              "    }\n",
              "    40% {\n",
              "      border-color: transparent;\n",
              "      border-right-color: var(--fill-color);\n",
              "      border-top-color: var(--fill-color);\n",
              "    }\n",
              "    60% {\n",
              "      border-color: transparent;\n",
              "      border-right-color: var(--fill-color);\n",
              "    }\n",
              "    80% {\n",
              "      border-color: transparent;\n",
              "      border-right-color: var(--fill-color);\n",
              "      border-bottom-color: var(--fill-color);\n",
              "    }\n",
              "    90% {\n",
              "      border-color: transparent;\n",
              "      border-bottom-color: var(--fill-color);\n",
              "    }\n",
              "  }\n",
              "</style>\n",
              "\n",
              "  <script>\n",
              "    async function quickchart(key) {\n",
              "      const quickchartButtonEl =\n",
              "        document.querySelector('#' + key + ' button');\n",
              "      quickchartButtonEl.disabled = true;  // To prevent multiple clicks.\n",
              "      quickchartButtonEl.classList.add('colab-df-spinner');\n",
              "      try {\n",
              "        const charts = await google.colab.kernel.invokeFunction(\n",
              "            'suggestCharts', [key], {});\n",
              "      } catch (error) {\n",
              "        console.error('Error during call to suggestCharts:', error);\n",
              "      }\n",
              "      quickchartButtonEl.classList.remove('colab-df-spinner');\n",
              "      quickchartButtonEl.classList.add('colab-df-quickchart-complete');\n",
              "    }\n",
              "    (() => {\n",
              "      let quickchartButtonEl =\n",
              "        document.querySelector('#df-9a2505a6-85cb-43e2-87b1-c0d7cdb6d1d5 button');\n",
              "      quickchartButtonEl.style.display =\n",
              "        google.colab.kernel.accessAllowed ? 'block' : 'none';\n",
              "    })();\n",
              "  </script>\n",
              "</div>\n",
              "\n",
              "    </div>\n",
              "  </div>\n"
            ],
            "application/vnd.google.colaboratory.intrinsic+json": {
              "type": "dataframe"
            }
          },
          "metadata": {},
          "execution_count": 57
        }
      ],
      "source": [
        "pothole['street_address'].value_counts().reset_index()"
      ]
    },
    {
      "cell_type": "code",
      "execution_count": 58,
      "metadata": {
        "id": "MOQy-LHvBCNY"
      },
      "outputs": [],
      "source": [
        "#\n",
        "#Are there certain neighborhoods or points in time that occur more often?"
      ]
    },
    {
      "cell_type": "code",
      "execution_count": 59,
      "metadata": {
        "id": "vOXM88xqBCIX",
        "colab": {
          "base_uri": "https://localhost:8080/"
        },
        "outputId": "7fc5df7e-8391-4699-cac6-5417248c67b2"
      },
      "outputs": [
        {
          "output_type": "execute_result",
          "data": {
            "text/plain": [
              "Index(['creation_date', 'status', 'completion_date', 'service_request_number',\n",
              "       'type_of_service_request', 'current_activity', 'most_recent_action',\n",
              "       'number_of_potholes_filled_on_block', 'street_address', 'zip',\n",
              "       'x_coordinate', 'y_coordinate', 'ward', 'police_district',\n",
              "       'community_area', 'ssa', 'latitude', 'longitude', 'location',\n",
              "       'is_duplicated'],\n",
              "      dtype='object')"
            ]
          },
          "metadata": {},
          "execution_count": 59
        }
      ],
      "source": [
        "pothole.columns"
      ]
    },
    {
      "cell_type": "code",
      "execution_count": 60,
      "metadata": {
        "id": "Csz_CL0dBCDb",
        "colab": {
          "base_uri": "https://localhost:8080/"
        },
        "outputId": "bc7906b0-f106-4e3b-c110-f4c82f9d876e"
      },
      "outputs": [
        {
          "output_type": "execute_result",
          "data": {
            "text/plain": [
              "Index(['address', 'request_date', 'completion_date',\n",
              "       'number_of_potholes_filled_on_block', 'latitude', 'longitude',\n",
              "       'location', 'season', 'duration'],\n",
              "      dtype='object')"
            ]
          },
          "metadata": {},
          "execution_count": 60
        }
      ],
      "source": [
        "patched.columns"
      ]
    },
    {
      "cell_type": "code",
      "execution_count": 61,
      "metadata": {
        "id": "_PH6QT9mBB86",
        "colab": {
          "base_uri": "https://localhost:8080/"
        },
        "outputId": "bc30be1f-ad71-4655-8ce6-2d0897888688"
      },
      "outputs": [
        {
          "output_type": "stream",
          "name": "stdout",
          "text": [
            "0        2024-04-19 14:24:37\n",
            "1        2024-04-19 14:23:10\n",
            "2        2024-04-19 14:22:19\n",
            "3        2024-04-19 14:21:27\n",
            "4        2024-04-19 14:20:09\n",
            "                 ...        \n",
            "180225   2019-02-28 07:14:27\n",
            "180226   2019-02-28 07:13:30\n",
            "180227   2019-02-28 07:12:22\n",
            "180228   2019-02-28 07:11:16\n",
            "180229   2019-01-09 11:36:02\n",
            "Name: completion_date, Length: 180230, dtype: datetime64[ns]\n"
          ]
        }
      ],
      "source": [
        "print(patched.completion_date)"
      ]
    },
    {
      "cell_type": "code",
      "execution_count": 62,
      "metadata": {
        "id": "4p8bK9k-BBtI"
      },
      "outputs": [],
      "source": [
        "pothole['creation_date'] = pd.to_datetime(pothole['creation_date'])"
      ]
    },
    {
      "cell_type": "code",
      "execution_count": 63,
      "metadata": {
        "id": "E7h28a4VBlEt"
      },
      "outputs": [],
      "source": [
        "pothole['completion_date'] = pd.to_datetime(pothole['completion_date'])"
      ]
    },
    {
      "cell_type": "code",
      "execution_count": 64,
      "metadata": {
        "id": "_PJOML4IBlBV"
      },
      "outputs": [],
      "source": [
        "pothole['ph_month'] = pothole['creation_date'].dt.month\n",
        "pothole['ph_weekday'] = pothole['creation_date'].dt.weekday\n",
        "pothole['ph_day'] = pothole['creation_date'].dt.day\n",
        "pothole['ph_year'] = pothole['creation_date'].dt.year"
      ]
    },
    {
      "cell_type": "code",
      "execution_count": 65,
      "metadata": {
        "id": "LsMkfUebBk0b",
        "colab": {
          "base_uri": "https://localhost:8080/",
          "height": 196
        },
        "outputId": "afc079be-e734-4c2f-95f8-4275556135b4"
      },
      "outputs": [
        {
          "output_type": "execute_result",
          "data": {
            "text/plain": [
              "   creation_date           status completion_date service_request_number  \\\n",
              "28    2018-12-17  Completed - Dup      2018-12-31            18-03378790   \n",
              "42    2018-12-17        Completed      2018-12-18            18-03378095   \n",
              "\n",
              "   type_of_service_request current_activity most_recent_action  \\\n",
              "28       Pothole in Street              NaN                NaN   \n",
              "42       Pothole in Street    Final Outcome    Pothole Patched   \n",
              "\n",
              "    number_of_potholes_filled_on_block      street_address      zip  ...  \\\n",
              "28                                 NaN  415 S FINANCIAL PL  60605.0  ...   \n",
              "42                                 7.0       600 W LAKE ST  60661.0  ...   \n",
              "\n",
              "    community_area  ssa   latitude  longitude  \\\n",
              "28            32.0  NaN  41.876480 -87.632956   \n",
              "42            28.0  NaN  41.885815 -87.642847   \n",
              "\n",
              "                              location  is_duplicated  ph_month  ph_weekday  \\\n",
              "28  (41.876479996476, -87.63295634334)          False        12           0   \n",
              "42   (41.885814724037, -87.6428471339)          False        12           0   \n",
              "\n",
              "   ph_day  ph_year  \n",
              "28     17     2018  \n",
              "42     17     2018  \n",
              "\n",
              "[2 rows x 24 columns]"
            ],
            "text/html": [
              "\n",
              "  <div id=\"df-9511471c-9f25-4f19-9a50-69d7e598075e\" class=\"colab-df-container\">\n",
              "    <div>\n",
              "<style scoped>\n",
              "    .dataframe tbody tr th:only-of-type {\n",
              "        vertical-align: middle;\n",
              "    }\n",
              "\n",
              "    .dataframe tbody tr th {\n",
              "        vertical-align: top;\n",
              "    }\n",
              "\n",
              "    .dataframe thead th {\n",
              "        text-align: right;\n",
              "    }\n",
              "</style>\n",
              "<table border=\"1\" class=\"dataframe\">\n",
              "  <thead>\n",
              "    <tr style=\"text-align: right;\">\n",
              "      <th></th>\n",
              "      <th>creation_date</th>\n",
              "      <th>status</th>\n",
              "      <th>completion_date</th>\n",
              "      <th>service_request_number</th>\n",
              "      <th>type_of_service_request</th>\n",
              "      <th>current_activity</th>\n",
              "      <th>most_recent_action</th>\n",
              "      <th>number_of_potholes_filled_on_block</th>\n",
              "      <th>street_address</th>\n",
              "      <th>zip</th>\n",
              "      <th>...</th>\n",
              "      <th>community_area</th>\n",
              "      <th>ssa</th>\n",
              "      <th>latitude</th>\n",
              "      <th>longitude</th>\n",
              "      <th>location</th>\n",
              "      <th>is_duplicated</th>\n",
              "      <th>ph_month</th>\n",
              "      <th>ph_weekday</th>\n",
              "      <th>ph_day</th>\n",
              "      <th>ph_year</th>\n",
              "    </tr>\n",
              "  </thead>\n",
              "  <tbody>\n",
              "    <tr>\n",
              "      <th>28</th>\n",
              "      <td>2018-12-17</td>\n",
              "      <td>Completed - Dup</td>\n",
              "      <td>2018-12-31</td>\n",
              "      <td>18-03378790</td>\n",
              "      <td>Pothole in Street</td>\n",
              "      <td>NaN</td>\n",
              "      <td>NaN</td>\n",
              "      <td>NaN</td>\n",
              "      <td>415 S FINANCIAL PL</td>\n",
              "      <td>60605.0</td>\n",
              "      <td>...</td>\n",
              "      <td>32.0</td>\n",
              "      <td>NaN</td>\n",
              "      <td>41.876480</td>\n",
              "      <td>-87.632956</td>\n",
              "      <td>(41.876479996476, -87.63295634334)</td>\n",
              "      <td>False</td>\n",
              "      <td>12</td>\n",
              "      <td>0</td>\n",
              "      <td>17</td>\n",
              "      <td>2018</td>\n",
              "    </tr>\n",
              "    <tr>\n",
              "      <th>42</th>\n",
              "      <td>2018-12-17</td>\n",
              "      <td>Completed</td>\n",
              "      <td>2018-12-18</td>\n",
              "      <td>18-03378095</td>\n",
              "      <td>Pothole in Street</td>\n",
              "      <td>Final Outcome</td>\n",
              "      <td>Pothole Patched</td>\n",
              "      <td>7.0</td>\n",
              "      <td>600 W LAKE ST</td>\n",
              "      <td>60661.0</td>\n",
              "      <td>...</td>\n",
              "      <td>28.0</td>\n",
              "      <td>NaN</td>\n",
              "      <td>41.885815</td>\n",
              "      <td>-87.642847</td>\n",
              "      <td>(41.885814724037, -87.6428471339)</td>\n",
              "      <td>False</td>\n",
              "      <td>12</td>\n",
              "      <td>0</td>\n",
              "      <td>17</td>\n",
              "      <td>2018</td>\n",
              "    </tr>\n",
              "  </tbody>\n",
              "</table>\n",
              "<p>2 rows × 24 columns</p>\n",
              "</div>\n",
              "    <div class=\"colab-df-buttons\">\n",
              "\n",
              "  <div class=\"colab-df-container\">\n",
              "    <button class=\"colab-df-convert\" onclick=\"convertToInteractive('df-9511471c-9f25-4f19-9a50-69d7e598075e')\"\n",
              "            title=\"Convert this dataframe to an interactive table.\"\n",
              "            style=\"display:none;\">\n",
              "\n",
              "  <svg xmlns=\"http://www.w3.org/2000/svg\" height=\"24px\" viewBox=\"0 -960 960 960\">\n",
              "    <path d=\"M120-120v-720h720v720H120Zm60-500h600v-160H180v160Zm220 220h160v-160H400v160Zm0 220h160v-160H400v160ZM180-400h160v-160H180v160Zm440 0h160v-160H620v160ZM180-180h160v-160H180v160Zm440 0h160v-160H620v160Z\"/>\n",
              "  </svg>\n",
              "    </button>\n",
              "\n",
              "  <style>\n",
              "    .colab-df-container {\n",
              "      display:flex;\n",
              "      gap: 12px;\n",
              "    }\n",
              "\n",
              "    .colab-df-convert {\n",
              "      background-color: #E8F0FE;\n",
              "      border: none;\n",
              "      border-radius: 50%;\n",
              "      cursor: pointer;\n",
              "      display: none;\n",
              "      fill: #1967D2;\n",
              "      height: 32px;\n",
              "      padding: 0 0 0 0;\n",
              "      width: 32px;\n",
              "    }\n",
              "\n",
              "    .colab-df-convert:hover {\n",
              "      background-color: #E2EBFA;\n",
              "      box-shadow: 0px 1px 2px rgba(60, 64, 67, 0.3), 0px 1px 3px 1px rgba(60, 64, 67, 0.15);\n",
              "      fill: #174EA6;\n",
              "    }\n",
              "\n",
              "    .colab-df-buttons div {\n",
              "      margin-bottom: 4px;\n",
              "    }\n",
              "\n",
              "    [theme=dark] .colab-df-convert {\n",
              "      background-color: #3B4455;\n",
              "      fill: #D2E3FC;\n",
              "    }\n",
              "\n",
              "    [theme=dark] .colab-df-convert:hover {\n",
              "      background-color: #434B5C;\n",
              "      box-shadow: 0px 1px 3px 1px rgba(0, 0, 0, 0.15);\n",
              "      filter: drop-shadow(0px 1px 2px rgba(0, 0, 0, 0.3));\n",
              "      fill: #FFFFFF;\n",
              "    }\n",
              "  </style>\n",
              "\n",
              "    <script>\n",
              "      const buttonEl =\n",
              "        document.querySelector('#df-9511471c-9f25-4f19-9a50-69d7e598075e button.colab-df-convert');\n",
              "      buttonEl.style.display =\n",
              "        google.colab.kernel.accessAllowed ? 'block' : 'none';\n",
              "\n",
              "      async function convertToInteractive(key) {\n",
              "        const element = document.querySelector('#df-9511471c-9f25-4f19-9a50-69d7e598075e');\n",
              "        const dataTable =\n",
              "          await google.colab.kernel.invokeFunction('convertToInteractive',\n",
              "                                                    [key], {});\n",
              "        if (!dataTable) return;\n",
              "\n",
              "        const docLinkHtml = 'Like what you see? Visit the ' +\n",
              "          '<a target=\"_blank\" href=https://colab.research.google.com/notebooks/data_table.ipynb>data table notebook</a>'\n",
              "          + ' to learn more about interactive tables.';\n",
              "        element.innerHTML = '';\n",
              "        dataTable['output_type'] = 'display_data';\n",
              "        await google.colab.output.renderOutput(dataTable, element);\n",
              "        const docLink = document.createElement('div');\n",
              "        docLink.innerHTML = docLinkHtml;\n",
              "        element.appendChild(docLink);\n",
              "      }\n",
              "    </script>\n",
              "  </div>\n",
              "\n",
              "\n",
              "<div id=\"df-db2561b9-00d1-4ee8-b6b6-bb08d21df442\">\n",
              "  <button class=\"colab-df-quickchart\" onclick=\"quickchart('df-db2561b9-00d1-4ee8-b6b6-bb08d21df442')\"\n",
              "            title=\"Suggest charts\"\n",
              "            style=\"display:none;\">\n",
              "\n",
              "<svg xmlns=\"http://www.w3.org/2000/svg\" height=\"24px\"viewBox=\"0 0 24 24\"\n",
              "     width=\"24px\">\n",
              "    <g>\n",
              "        <path d=\"M19 3H5c-1.1 0-2 .9-2 2v14c0 1.1.9 2 2 2h14c1.1 0 2-.9 2-2V5c0-1.1-.9-2-2-2zM9 17H7v-7h2v7zm4 0h-2V7h2v10zm4 0h-2v-4h2v4z\"/>\n",
              "    </g>\n",
              "</svg>\n",
              "  </button>\n",
              "\n",
              "<style>\n",
              "  .colab-df-quickchart {\n",
              "      --bg-color: #E8F0FE;\n",
              "      --fill-color: #1967D2;\n",
              "      --hover-bg-color: #E2EBFA;\n",
              "      --hover-fill-color: #174EA6;\n",
              "      --disabled-fill-color: #AAA;\n",
              "      --disabled-bg-color: #DDD;\n",
              "  }\n",
              "\n",
              "  [theme=dark] .colab-df-quickchart {\n",
              "      --bg-color: #3B4455;\n",
              "      --fill-color: #D2E3FC;\n",
              "      --hover-bg-color: #434B5C;\n",
              "      --hover-fill-color: #FFFFFF;\n",
              "      --disabled-bg-color: #3B4455;\n",
              "      --disabled-fill-color: #666;\n",
              "  }\n",
              "\n",
              "  .colab-df-quickchart {\n",
              "    background-color: var(--bg-color);\n",
              "    border: none;\n",
              "    border-radius: 50%;\n",
              "    cursor: pointer;\n",
              "    display: none;\n",
              "    fill: var(--fill-color);\n",
              "    height: 32px;\n",
              "    padding: 0;\n",
              "    width: 32px;\n",
              "  }\n",
              "\n",
              "  .colab-df-quickchart:hover {\n",
              "    background-color: var(--hover-bg-color);\n",
              "    box-shadow: 0 1px 2px rgba(60, 64, 67, 0.3), 0 1px 3px 1px rgba(60, 64, 67, 0.15);\n",
              "    fill: var(--button-hover-fill-color);\n",
              "  }\n",
              "\n",
              "  .colab-df-quickchart-complete:disabled,\n",
              "  .colab-df-quickchart-complete:disabled:hover {\n",
              "    background-color: var(--disabled-bg-color);\n",
              "    fill: var(--disabled-fill-color);\n",
              "    box-shadow: none;\n",
              "  }\n",
              "\n",
              "  .colab-df-spinner {\n",
              "    border: 2px solid var(--fill-color);\n",
              "    border-color: transparent;\n",
              "    border-bottom-color: var(--fill-color);\n",
              "    animation:\n",
              "      spin 1s steps(1) infinite;\n",
              "  }\n",
              "\n",
              "  @keyframes spin {\n",
              "    0% {\n",
              "      border-color: transparent;\n",
              "      border-bottom-color: var(--fill-color);\n",
              "      border-left-color: var(--fill-color);\n",
              "    }\n",
              "    20% {\n",
              "      border-color: transparent;\n",
              "      border-left-color: var(--fill-color);\n",
              "      border-top-color: var(--fill-color);\n",
              "    }\n",
              "    30% {\n",
              "      border-color: transparent;\n",
              "      border-left-color: var(--fill-color);\n",
              "      border-top-color: var(--fill-color);\n",
              "      border-right-color: var(--fill-color);\n",
              "    }\n",
              "    40% {\n",
              "      border-color: transparent;\n",
              "      border-right-color: var(--fill-color);\n",
              "      border-top-color: var(--fill-color);\n",
              "    }\n",
              "    60% {\n",
              "      border-color: transparent;\n",
              "      border-right-color: var(--fill-color);\n",
              "    }\n",
              "    80% {\n",
              "      border-color: transparent;\n",
              "      border-right-color: var(--fill-color);\n",
              "      border-bottom-color: var(--fill-color);\n",
              "    }\n",
              "    90% {\n",
              "      border-color: transparent;\n",
              "      border-bottom-color: var(--fill-color);\n",
              "    }\n",
              "  }\n",
              "</style>\n",
              "\n",
              "  <script>\n",
              "    async function quickchart(key) {\n",
              "      const quickchartButtonEl =\n",
              "        document.querySelector('#' + key + ' button');\n",
              "      quickchartButtonEl.disabled = true;  // To prevent multiple clicks.\n",
              "      quickchartButtonEl.classList.add('colab-df-spinner');\n",
              "      try {\n",
              "        const charts = await google.colab.kernel.invokeFunction(\n",
              "            'suggestCharts', [key], {});\n",
              "      } catch (error) {\n",
              "        console.error('Error during call to suggestCharts:', error);\n",
              "      }\n",
              "      quickchartButtonEl.classList.remove('colab-df-spinner');\n",
              "      quickchartButtonEl.classList.add('colab-df-quickchart-complete');\n",
              "    }\n",
              "    (() => {\n",
              "      let quickchartButtonEl =\n",
              "        document.querySelector('#df-db2561b9-00d1-4ee8-b6b6-bb08d21df442 button');\n",
              "      quickchartButtonEl.style.display =\n",
              "        google.colab.kernel.accessAllowed ? 'block' : 'none';\n",
              "    })();\n",
              "  </script>\n",
              "</div>\n",
              "\n",
              "    </div>\n",
              "  </div>\n"
            ],
            "application/vnd.google.colaboratory.intrinsic+json": {
              "type": "dataframe"
            }
          },
          "metadata": {},
          "execution_count": 65
        }
      ],
      "source": [
        "pothole[pothole['completion_date'] < '2019-12-31'].head(2)"
      ]
    },
    {
      "cell_type": "code",
      "execution_count": 66,
      "metadata": {
        "id": "JUOo-HyRBkxW"
      },
      "outputs": [],
      "source": [
        "pothole['count'] = 1"
      ]
    },
    {
      "cell_type": "code",
      "execution_count": 67,
      "metadata": {
        "id": "7UGcJtACBkuU",
        "colab": {
          "base_uri": "https://localhost:8080/"
        },
        "outputId": "82be0703-e60d-4e60-b96d-2bb850ea3d2d"
      },
      "outputs": [
        {
          "output_type": "execute_result",
          "data": {
            "text/plain": [
              "ph_year  ph_month\n",
              "2009     1              1\n",
              "         6              1\n",
              "         8              1\n",
              "2010     2              1\n",
              "         3              7\n",
              "                     ... \n",
              "2018     8           3719\n",
              "         9           3123\n",
              "         10          3156\n",
              "         11          2358\n",
              "         12          1802\n",
              "Name: count, Length: 110, dtype: int64"
            ]
          },
          "metadata": {},
          "execution_count": 67
        }
      ],
      "source": [
        "pothole.groupby(['ph_year', 'ph_month'])['count'].sum()"
      ]
    },
    {
      "cell_type": "code",
      "execution_count": 68,
      "metadata": {
        "id": "NOJt--TdBkrN",
        "colab": {
          "base_uri": "https://localhost:8080/",
          "height": 423
        },
        "outputId": "fde4c4ad-1ed2-43ac-afcc-d6689bd7680f"
      },
      "outputs": [
        {
          "output_type": "execute_result",
          "data": {
            "text/plain": [
              "     ph_year  ph_month  count\n",
              "0       2009         1      1\n",
              "1       2009         6      1\n",
              "2       2009         8      1\n",
              "3       2010         2      1\n",
              "4       2010         3      7\n",
              "..       ...       ...    ...\n",
              "105     2018         8   3719\n",
              "106     2018         9   3123\n",
              "107     2018        10   3156\n",
              "108     2018        11   2358\n",
              "109     2018        12   1802\n",
              "\n",
              "[110 rows x 3 columns]"
            ],
            "text/html": [
              "\n",
              "  <div id=\"df-ab0c7fdd-b6fb-47f1-b802-b21d07063c16\" class=\"colab-df-container\">\n",
              "    <div>\n",
              "<style scoped>\n",
              "    .dataframe tbody tr th:only-of-type {\n",
              "        vertical-align: middle;\n",
              "    }\n",
              "\n",
              "    .dataframe tbody tr th {\n",
              "        vertical-align: top;\n",
              "    }\n",
              "\n",
              "    .dataframe thead th {\n",
              "        text-align: right;\n",
              "    }\n",
              "</style>\n",
              "<table border=\"1\" class=\"dataframe\">\n",
              "  <thead>\n",
              "    <tr style=\"text-align: right;\">\n",
              "      <th></th>\n",
              "      <th>ph_year</th>\n",
              "      <th>ph_month</th>\n",
              "      <th>count</th>\n",
              "    </tr>\n",
              "  </thead>\n",
              "  <tbody>\n",
              "    <tr>\n",
              "      <th>0</th>\n",
              "      <td>2009</td>\n",
              "      <td>1</td>\n",
              "      <td>1</td>\n",
              "    </tr>\n",
              "    <tr>\n",
              "      <th>1</th>\n",
              "      <td>2009</td>\n",
              "      <td>6</td>\n",
              "      <td>1</td>\n",
              "    </tr>\n",
              "    <tr>\n",
              "      <th>2</th>\n",
              "      <td>2009</td>\n",
              "      <td>8</td>\n",
              "      <td>1</td>\n",
              "    </tr>\n",
              "    <tr>\n",
              "      <th>3</th>\n",
              "      <td>2010</td>\n",
              "      <td>2</td>\n",
              "      <td>1</td>\n",
              "    </tr>\n",
              "    <tr>\n",
              "      <th>4</th>\n",
              "      <td>2010</td>\n",
              "      <td>3</td>\n",
              "      <td>7</td>\n",
              "    </tr>\n",
              "    <tr>\n",
              "      <th>...</th>\n",
              "      <td>...</td>\n",
              "      <td>...</td>\n",
              "      <td>...</td>\n",
              "    </tr>\n",
              "    <tr>\n",
              "      <th>105</th>\n",
              "      <td>2018</td>\n",
              "      <td>8</td>\n",
              "      <td>3719</td>\n",
              "    </tr>\n",
              "    <tr>\n",
              "      <th>106</th>\n",
              "      <td>2018</td>\n",
              "      <td>9</td>\n",
              "      <td>3123</td>\n",
              "    </tr>\n",
              "    <tr>\n",
              "      <th>107</th>\n",
              "      <td>2018</td>\n",
              "      <td>10</td>\n",
              "      <td>3156</td>\n",
              "    </tr>\n",
              "    <tr>\n",
              "      <th>108</th>\n",
              "      <td>2018</td>\n",
              "      <td>11</td>\n",
              "      <td>2358</td>\n",
              "    </tr>\n",
              "    <tr>\n",
              "      <th>109</th>\n",
              "      <td>2018</td>\n",
              "      <td>12</td>\n",
              "      <td>1802</td>\n",
              "    </tr>\n",
              "  </tbody>\n",
              "</table>\n",
              "<p>110 rows × 3 columns</p>\n",
              "</div>\n",
              "    <div class=\"colab-df-buttons\">\n",
              "\n",
              "  <div class=\"colab-df-container\">\n",
              "    <button class=\"colab-df-convert\" onclick=\"convertToInteractive('df-ab0c7fdd-b6fb-47f1-b802-b21d07063c16')\"\n",
              "            title=\"Convert this dataframe to an interactive table.\"\n",
              "            style=\"display:none;\">\n",
              "\n",
              "  <svg xmlns=\"http://www.w3.org/2000/svg\" height=\"24px\" viewBox=\"0 -960 960 960\">\n",
              "    <path d=\"M120-120v-720h720v720H120Zm60-500h600v-160H180v160Zm220 220h160v-160H400v160Zm0 220h160v-160H400v160ZM180-400h160v-160H180v160Zm440 0h160v-160H620v160ZM180-180h160v-160H180v160Zm440 0h160v-160H620v160Z\"/>\n",
              "  </svg>\n",
              "    </button>\n",
              "\n",
              "  <style>\n",
              "    .colab-df-container {\n",
              "      display:flex;\n",
              "      gap: 12px;\n",
              "    }\n",
              "\n",
              "    .colab-df-convert {\n",
              "      background-color: #E8F0FE;\n",
              "      border: none;\n",
              "      border-radius: 50%;\n",
              "      cursor: pointer;\n",
              "      display: none;\n",
              "      fill: #1967D2;\n",
              "      height: 32px;\n",
              "      padding: 0 0 0 0;\n",
              "      width: 32px;\n",
              "    }\n",
              "\n",
              "    .colab-df-convert:hover {\n",
              "      background-color: #E2EBFA;\n",
              "      box-shadow: 0px 1px 2px rgba(60, 64, 67, 0.3), 0px 1px 3px 1px rgba(60, 64, 67, 0.15);\n",
              "      fill: #174EA6;\n",
              "    }\n",
              "\n",
              "    .colab-df-buttons div {\n",
              "      margin-bottom: 4px;\n",
              "    }\n",
              "\n",
              "    [theme=dark] .colab-df-convert {\n",
              "      background-color: #3B4455;\n",
              "      fill: #D2E3FC;\n",
              "    }\n",
              "\n",
              "    [theme=dark] .colab-df-convert:hover {\n",
              "      background-color: #434B5C;\n",
              "      box-shadow: 0px 1px 3px 1px rgba(0, 0, 0, 0.15);\n",
              "      filter: drop-shadow(0px 1px 2px rgba(0, 0, 0, 0.3));\n",
              "      fill: #FFFFFF;\n",
              "    }\n",
              "  </style>\n",
              "\n",
              "    <script>\n",
              "      const buttonEl =\n",
              "        document.querySelector('#df-ab0c7fdd-b6fb-47f1-b802-b21d07063c16 button.colab-df-convert');\n",
              "      buttonEl.style.display =\n",
              "        google.colab.kernel.accessAllowed ? 'block' : 'none';\n",
              "\n",
              "      async function convertToInteractive(key) {\n",
              "        const element = document.querySelector('#df-ab0c7fdd-b6fb-47f1-b802-b21d07063c16');\n",
              "        const dataTable =\n",
              "          await google.colab.kernel.invokeFunction('convertToInteractive',\n",
              "                                                    [key], {});\n",
              "        if (!dataTable) return;\n",
              "\n",
              "        const docLinkHtml = 'Like what you see? Visit the ' +\n",
              "          '<a target=\"_blank\" href=https://colab.research.google.com/notebooks/data_table.ipynb>data table notebook</a>'\n",
              "          + ' to learn more about interactive tables.';\n",
              "        element.innerHTML = '';\n",
              "        dataTable['output_type'] = 'display_data';\n",
              "        await google.colab.output.renderOutput(dataTable, element);\n",
              "        const docLink = document.createElement('div');\n",
              "        docLink.innerHTML = docLinkHtml;\n",
              "        element.appendChild(docLink);\n",
              "      }\n",
              "    </script>\n",
              "  </div>\n",
              "\n",
              "\n",
              "<div id=\"df-ff7786ab-f66c-418d-b4d3-366b09eee5a4\">\n",
              "  <button class=\"colab-df-quickchart\" onclick=\"quickchart('df-ff7786ab-f66c-418d-b4d3-366b09eee5a4')\"\n",
              "            title=\"Suggest charts\"\n",
              "            style=\"display:none;\">\n",
              "\n",
              "<svg xmlns=\"http://www.w3.org/2000/svg\" height=\"24px\"viewBox=\"0 0 24 24\"\n",
              "     width=\"24px\">\n",
              "    <g>\n",
              "        <path d=\"M19 3H5c-1.1 0-2 .9-2 2v14c0 1.1.9 2 2 2h14c1.1 0 2-.9 2-2V5c0-1.1-.9-2-2-2zM9 17H7v-7h2v7zm4 0h-2V7h2v10zm4 0h-2v-4h2v4z\"/>\n",
              "    </g>\n",
              "</svg>\n",
              "  </button>\n",
              "\n",
              "<style>\n",
              "  .colab-df-quickchart {\n",
              "      --bg-color: #E8F0FE;\n",
              "      --fill-color: #1967D2;\n",
              "      --hover-bg-color: #E2EBFA;\n",
              "      --hover-fill-color: #174EA6;\n",
              "      --disabled-fill-color: #AAA;\n",
              "      --disabled-bg-color: #DDD;\n",
              "  }\n",
              "\n",
              "  [theme=dark] .colab-df-quickchart {\n",
              "      --bg-color: #3B4455;\n",
              "      --fill-color: #D2E3FC;\n",
              "      --hover-bg-color: #434B5C;\n",
              "      --hover-fill-color: #FFFFFF;\n",
              "      --disabled-bg-color: #3B4455;\n",
              "      --disabled-fill-color: #666;\n",
              "  }\n",
              "\n",
              "  .colab-df-quickchart {\n",
              "    background-color: var(--bg-color);\n",
              "    border: none;\n",
              "    border-radius: 50%;\n",
              "    cursor: pointer;\n",
              "    display: none;\n",
              "    fill: var(--fill-color);\n",
              "    height: 32px;\n",
              "    padding: 0;\n",
              "    width: 32px;\n",
              "  }\n",
              "\n",
              "  .colab-df-quickchart:hover {\n",
              "    background-color: var(--hover-bg-color);\n",
              "    box-shadow: 0 1px 2px rgba(60, 64, 67, 0.3), 0 1px 3px 1px rgba(60, 64, 67, 0.15);\n",
              "    fill: var(--button-hover-fill-color);\n",
              "  }\n",
              "\n",
              "  .colab-df-quickchart-complete:disabled,\n",
              "  .colab-df-quickchart-complete:disabled:hover {\n",
              "    background-color: var(--disabled-bg-color);\n",
              "    fill: var(--disabled-fill-color);\n",
              "    box-shadow: none;\n",
              "  }\n",
              "\n",
              "  .colab-df-spinner {\n",
              "    border: 2px solid var(--fill-color);\n",
              "    border-color: transparent;\n",
              "    border-bottom-color: var(--fill-color);\n",
              "    animation:\n",
              "      spin 1s steps(1) infinite;\n",
              "  }\n",
              "\n",
              "  @keyframes spin {\n",
              "    0% {\n",
              "      border-color: transparent;\n",
              "      border-bottom-color: var(--fill-color);\n",
              "      border-left-color: var(--fill-color);\n",
              "    }\n",
              "    20% {\n",
              "      border-color: transparent;\n",
              "      border-left-color: var(--fill-color);\n",
              "      border-top-color: var(--fill-color);\n",
              "    }\n",
              "    30% {\n",
              "      border-color: transparent;\n",
              "      border-left-color: var(--fill-color);\n",
              "      border-top-color: var(--fill-color);\n",
              "      border-right-color: var(--fill-color);\n",
              "    }\n",
              "    40% {\n",
              "      border-color: transparent;\n",
              "      border-right-color: var(--fill-color);\n",
              "      border-top-color: var(--fill-color);\n",
              "    }\n",
              "    60% {\n",
              "      border-color: transparent;\n",
              "      border-right-color: var(--fill-color);\n",
              "    }\n",
              "    80% {\n",
              "      border-color: transparent;\n",
              "      border-right-color: var(--fill-color);\n",
              "      border-bottom-color: var(--fill-color);\n",
              "    }\n",
              "    90% {\n",
              "      border-color: transparent;\n",
              "      border-bottom-color: var(--fill-color);\n",
              "    }\n",
              "  }\n",
              "</style>\n",
              "\n",
              "  <script>\n",
              "    async function quickchart(key) {\n",
              "      const quickchartButtonEl =\n",
              "        document.querySelector('#' + key + ' button');\n",
              "      quickchartButtonEl.disabled = true;  // To prevent multiple clicks.\n",
              "      quickchartButtonEl.classList.add('colab-df-spinner');\n",
              "      try {\n",
              "        const charts = await google.colab.kernel.invokeFunction(\n",
              "            'suggestCharts', [key], {});\n",
              "      } catch (error) {\n",
              "        console.error('Error during call to suggestCharts:', error);\n",
              "      }\n",
              "      quickchartButtonEl.classList.remove('colab-df-spinner');\n",
              "      quickchartButtonEl.classList.add('colab-df-quickchart-complete');\n",
              "    }\n",
              "    (() => {\n",
              "      let quickchartButtonEl =\n",
              "        document.querySelector('#df-ff7786ab-f66c-418d-b4d3-366b09eee5a4 button');\n",
              "      quickchartButtonEl.style.display =\n",
              "        google.colab.kernel.accessAllowed ? 'block' : 'none';\n",
              "    })();\n",
              "  </script>\n",
              "</div>\n",
              "\n",
              "    </div>\n",
              "  </div>\n"
            ],
            "application/vnd.google.colaboratory.intrinsic+json": {
              "type": "dataframe",
              "summary": "{\n  \"name\": \"pothole\",\n  \"rows\": 110,\n  \"fields\": [\n    {\n      \"column\": \"ph_year\",\n      \"properties\": {\n        \"dtype\": \"int32\",\n        \"num_unique_values\": 10,\n        \"samples\": [\n          2017,\n          2010,\n          2014\n        ],\n        \"semantic_type\": \"\",\n        \"description\": \"\"\n      }\n    },\n    {\n      \"column\": \"ph_month\",\n      \"properties\": {\n        \"dtype\": \"int32\",\n        \"num_unique_values\": 12,\n        \"samples\": [\n          11,\n          10,\n          1\n        ],\n        \"semantic_type\": \"\",\n        \"description\": \"\"\n      }\n    },\n    {\n      \"column\": \"count\",\n      \"properties\": {\n        \"dtype\": \"number\",\n        \"std\": 4471,\n        \"min\": 1,\n        \"max\": 25419,\n        \"num_unique_values\": 105,\n        \"samples\": [\n          2045,\n          3611,\n          5130\n        ],\n        \"semantic_type\": \"\",\n        \"description\": \"\"\n      }\n    }\n  ]\n}"
            }
          },
          "metadata": {},
          "execution_count": 68
        }
      ],
      "source": [
        "pothole.groupby(['ph_year', 'ph_month'])['count'].sum().reset_index()"
      ]
    },
    {
      "cell_type": "code",
      "execution_count": 69,
      "metadata": {
        "id": "pUGKEhWKBkoI",
        "colab": {
          "base_uri": "https://localhost:8080/"
        },
        "outputId": "64bec303-d784-4eb5-cfd8-b42925ed62e9"
      },
      "outputs": [
        {
          "output_type": "execute_result",
          "data": {
            "text/plain": [
              "Index(['creation_date', 'status', 'completion_date', 'service_request_number',\n",
              "       'type_of_service_request', 'current_activity', 'most_recent_action',\n",
              "       'number_of_potholes_filled_on_block', 'street_address', 'zip',\n",
              "       'x_coordinate', 'y_coordinate', 'ward', 'police_district',\n",
              "       'community_area', 'ssa', 'latitude', 'longitude', 'location',\n",
              "       'is_duplicated', 'ph_month', 'ph_weekday', 'ph_day', 'ph_year',\n",
              "       'count'],\n",
              "      dtype='object')"
            ]
          },
          "metadata": {},
          "execution_count": 69
        }
      ],
      "source": [
        "pothole.columns"
      ]
    },
    {
      "cell_type": "code",
      "execution_count": 70,
      "metadata": {
        "id": "7GdO97HSBklE"
      },
      "outputs": [],
      "source": [
        "frequencymaybe = pothole.groupby(['ph_year', 'ph_month', 'ph_day'])['count'].sum()"
      ]
    },
    {
      "cell_type": "code",
      "execution_count": 71,
      "metadata": {
        "id": "GxMRtA1GBkhU"
      },
      "outputs": [],
      "source": [
        "freq = (frequencymaybe.sort_values(ascending=False))"
      ]
    },
    {
      "cell_type": "code",
      "execution_count": 72,
      "metadata": {
        "id": "BpNZvH2HBkdx",
        "colab": {
          "base_uri": "https://localhost:8080/"
        },
        "outputId": "0c6f575b-ad29-4c54-e613-5b10cb84bdcd"
      },
      "outputs": [
        {
          "output_type": "stream",
          "name": "stdout",
          "text": [
            "ph_year  ph_month  ph_day\n",
            "2014     3         10        1997\n",
            "         1         13        1873\n",
            "         2         24        1680\n",
            "                   26        1636\n",
            "         3         11        1581\n",
            "                             ... \n",
            "2010     8         18           1\n",
            "                   17           1\n",
            "                   14           1\n",
            "                   10           1\n",
            "2009     1         12           1\n",
            "Name: count, Length: 3032, dtype: int64\n"
          ]
        }
      ],
      "source": [
        "print(freq)"
      ]
    },
    {
      "cell_type": "code",
      "execution_count": 73,
      "metadata": {
        "id": "ldajKlFLBkaa"
      },
      "outputs": [],
      "source": [
        "# - above answers -\n",
        "#THE MONTH WITH THE MOST REPORTS IS MARCH - only 3 years from 2011-2018 had March not being the most reported\n",
        "  #FURTHERMORE, THE MONTHS WITH THE HIGHEST REPORTS PER DAY ARE IN THE WINTER\n",
        "  # all according to dataset POTHOLE"
      ]
    },
    {
      "cell_type": "code",
      "execution_count": 74,
      "metadata": {
        "id": "_xg3b0v2BkXF"
      },
      "outputs": [],
      "source": [
        "#\n",
        "# How long does it take for a pothole to get patched?\n",
        "  #31.4 days - According to dataset POTHOLE\n",
        "    # median number of days is 8 - according to dataset POTHOLE"
      ]
    },
    {
      "cell_type": "code",
      "execution_count": 75,
      "metadata": {
        "id": "shE1nYhJBkMe"
      },
      "outputs": [],
      "source": [
        "pothole['request_complete'] = pothole['completion_date'] - pothole['creation_date']"
      ]
    },
    {
      "cell_type": "code",
      "execution_count": 76,
      "metadata": {
        "id": "Hwv3oFNCCSAH"
      },
      "outputs": [],
      "source": [
        "pothole['request_complete'] = pothole['request_complete'].dt.days"
      ]
    },
    {
      "cell_type": "code",
      "execution_count": 77,
      "metadata": {
        "id": "wQ2A9roeCR8U",
        "colab": {
          "base_uri": "https://localhost:8080/"
        },
        "outputId": "c05c16e4-4483-4e8b-a41f-22983ddddeb1"
      },
      "outputs": [
        {
          "output_type": "execute_result",
          "data": {
            "text/plain": [
              "Index(['creation_date', 'status', 'completion_date', 'service_request_number',\n",
              "       'type_of_service_request', 'current_activity', 'most_recent_action',\n",
              "       'number_of_potholes_filled_on_block', 'street_address', 'zip',\n",
              "       'x_coordinate', 'y_coordinate', 'ward', 'police_district',\n",
              "       'community_area', 'ssa', 'latitude', 'longitude', 'location',\n",
              "       'is_duplicated', 'ph_month', 'ph_weekday', 'ph_day', 'ph_year', 'count',\n",
              "       'request_complete'],\n",
              "      dtype='object')"
            ]
          },
          "metadata": {},
          "execution_count": 77
        }
      ],
      "source": [
        "pothole.columns"
      ]
    },
    {
      "cell_type": "code",
      "execution_count": 78,
      "metadata": {
        "id": "EimRT2XMCR4t",
        "colab": {
          "base_uri": "https://localhost:8080/"
        },
        "outputId": "2e27d8c5-9177-46ea-d39b-2e26564e7c81"
      },
      "outputs": [
        {
          "output_type": "stream",
          "name": "stdout",
          "text": [
            "0           NaN\n",
            "1           NaN\n",
            "2           NaN\n",
            "3           NaN\n",
            "4           NaN\n",
            "          ...  \n",
            "560473    382.0\n",
            "560474    585.0\n",
            "560475    516.0\n",
            "560476    720.0\n",
            "560477    997.0\n",
            "Name: request_complete, Length: 560478, dtype: float64\n"
          ]
        }
      ],
      "source": [
        "print(pothole.request_complete)"
      ]
    },
    {
      "cell_type": "code",
      "execution_count": 79,
      "metadata": {
        "id": "cPOQB8hWCR1L"
      },
      "outputs": [],
      "source": [
        "lencompreq = pothole['request_complete'].mean()"
      ]
    },
    {
      "cell_type": "code",
      "execution_count": 80,
      "metadata": {
        "id": "gpQgfnEaCZD0",
        "colab": {
          "base_uri": "https://localhost:8080/"
        },
        "outputId": "cc476e5a-af91-44f6-93bf-6ba5aa3cceb1"
      },
      "outputs": [
        {
          "output_type": "stream",
          "name": "stdout",
          "text": [
            "31.39170900150055\n"
          ]
        }
      ],
      "source": [
        "print(lencompreq)"
      ]
    },
    {
      "cell_type": "code",
      "execution_count": 81,
      "metadata": {
        "id": "8JeEYC-bCY-Z"
      },
      "outputs": [],
      "source": [
        "medcomreq = pothole['request_complete'].median()"
      ]
    },
    {
      "cell_type": "code",
      "execution_count": 82,
      "metadata": {
        "id": "Qag69p6ECY6Z",
        "colab": {
          "base_uri": "https://localhost:8080/"
        },
        "outputId": "0b6c68b1-e0c5-45f9-82ed-5def61ad5f4e"
      },
      "outputs": [
        {
          "output_type": "stream",
          "name": "stdout",
          "text": [
            "8.0\n"
          ]
        }
      ],
      "source": [
        "print(medcomreq)"
      ]
    },
    {
      "cell_type": "code",
      "source": [
        "#how frequently pothole requests are made, median and groupbys"
      ],
      "metadata": {
        "id": "hBkQzd978F3N"
      },
      "execution_count": 83,
      "outputs": []
    },
    {
      "cell_type": "code",
      "source": [
        "pothole_data = pd.read_csv('https://data.cityofchicago.org/resource/7as2-ds3y.csv?$limit=1000000')"
      ],
      "metadata": {
        "id": "Sg8qy6hXC9hT"
      },
      "execution_count": 84,
      "outputs": []
    },
    {
      "cell_type": "code",
      "source": [
        "pothole_data['creation_date'] = pd.to_datetime(pothole_data['creation_date'])"
      ],
      "metadata": {
        "id": "qpAuIwgO8eFX"
      },
      "execution_count": 85,
      "outputs": []
    },
    {
      "cell_type": "code",
      "source": [
        "median_requests = pothole_data['creation_date'].median()"
      ],
      "metadata": {
        "id": "nKUNbeGC81oE"
      },
      "execution_count": 86,
      "outputs": []
    },
    {
      "cell_type": "code",
      "source": [
        "print(median_requests)"
      ],
      "metadata": {
        "id": "m4kI7i7184KA",
        "colab": {
          "base_uri": "https://localhost:8080/"
        },
        "outputId": "f64eb15e-6917-47d9-959b-0cb0c4b5654f"
      },
      "execution_count": 87,
      "outputs": [
        {
          "output_type": "stream",
          "name": "stdout",
          "text": [
            "2014-05-13 00:00:00\n"
          ]
        }
      ]
    },
    {
      "cell_type": "code",
      "source": [
        "grouped_data = pothole_data.groupby('location')['number_of_potholes_filled_on_block'].mean()"
      ],
      "metadata": {
        "id": "wwfXrIHN85Iq"
      },
      "execution_count": 88,
      "outputs": []
    },
    {
      "cell_type": "code",
      "source": [
        "requests_per_location = pothole_data['location'].value_counts()"
      ],
      "metadata": {
        "id": "9gzIg2Bc88O1"
      },
      "execution_count": 89,
      "outputs": []
    },
    {
      "cell_type": "code",
      "source": [
        "requests_per_location = pothole_data.groupby('location').size()"
      ],
      "metadata": {
        "id": "XZv31Qja8-ya"
      },
      "execution_count": 90,
      "outputs": []
    },
    {
      "cell_type": "code",
      "source": [
        "avg_potholes_per_request = pothole_data.groupby('location')['number_of_potholes_filled_on_block'].mean()"
      ],
      "metadata": {
        "id": "FVtVLdSt9AyE"
      },
      "execution_count": 91,
      "outputs": []
    },
    {
      "cell_type": "code",
      "source": [
        "print(median_requests)"
      ],
      "metadata": {
        "id": "ay9jEe8a9Cyk",
        "colab": {
          "base_uri": "https://localhost:8080/"
        },
        "outputId": "8c2b7843-884a-4893-b5fc-611f9c324de4"
      },
      "execution_count": 92,
      "outputs": [
        {
          "output_type": "stream",
          "name": "stdout",
          "text": [
            "2014-05-13 00:00:00\n"
          ]
        }
      ]
    },
    {
      "cell_type": "code",
      "source": [
        "med_potholes_patched = pothole_data['number_of_potholes_filled_on_block'].median()"
      ],
      "metadata": {
        "id": "qiNYfHe99GI5"
      },
      "execution_count": 93,
      "outputs": []
    },
    {
      "cell_type": "code",
      "source": [
        "print(\"Median number of potholes patched:\", med_potholes_patched)"
      ],
      "metadata": {
        "id": "s8Vi96bd9IaL",
        "colab": {
          "base_uri": "https://localhost:8080/"
        },
        "outputId": "c4f26ed3-76e9-403c-b576-4045a1183051"
      },
      "execution_count": 94,
      "outputs": [
        {
          "output_type": "stream",
          "name": "stdout",
          "text": [
            "Median number of potholes patched: 5.0\n"
          ]
        }
      ]
    },
    {
      "cell_type": "code",
      "source": [
        "#.csv creation"
      ],
      "metadata": {
        "id": "fZeeCmMnOllX"
      },
      "execution_count": null,
      "outputs": []
    },
    {
      "cell_type": "code",
      "source": [
        "from google.colab import files"
      ],
      "metadata": {
        "id": "3KerggCCOoE_"
      },
      "execution_count": 97,
      "outputs": []
    },
    {
      "cell_type": "code",
      "source": [
        "ward_patched = pothole.groupby('ward')['type_of_service_request'].count().sort_values(ascending = False)"
      ],
      "metadata": {
        "id": "hgcrCAyUQq-g"
      },
      "execution_count": 113,
      "outputs": []
    },
    {
      "cell_type": "code",
      "source": [
        "ward_patched.to_csv('data/requests_by_ward.csv')"
      ],
      "metadata": {
        "id": "uPk7T0cZRAij"
      },
      "execution_count": 117,
      "outputs": []
    },
    {
      "cell_type": "code",
      "source": [
        "season_potholes_filled = patched.groupby('season')['number_of_potholes_filled_on_block'].sum()"
      ],
      "metadata": {
        "id": "b_wClBNvPIbQ"
      },
      "execution_count": 115,
      "outputs": []
    },
    {
      "cell_type": "code",
      "source": [
        "season_potholes_filled.to_csv('data/patched_by_season.csv')"
      ],
      "metadata": {
        "id": "6LHoOyt9RWCO"
      },
      "execution_count": 118,
      "outputs": []
    }
  ],
  "metadata": {
    "colab": {
      "provenance": []
    },
    "kernelspec": {
      "display_name": "Python 3",
      "name": "python3"
    },
    "language_info": {
      "name": "python"
    }
  },
  "nbformat": 4,
  "nbformat_minor": 0
}