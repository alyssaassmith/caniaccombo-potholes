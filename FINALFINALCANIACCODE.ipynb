{
  "cells": [
    {
      "cell_type": "code",
      "execution_count": 17,
      "metadata": {
        "id": "BqPcKV-ibL2f"
      },
      "outputs": [],
      "source": [
        "import pandas as pd\n",
        "import numpy as np\n",
        "import requests\n",
        "import geopandas as gpd"
      ]
    },
    {
      "cell_type": "code",
      "execution_count": 15,
      "metadata": {
        "id": "OgnLgmT6b1N_"
      },
      "outputs": [],
      "source": [
        "pothole = pd.read_csv(\"https://data.cityofchicago.org/resource/7as2-ds3y.csv?$limit=1000000\")"
      ]
    },
    {
      "cell_type": "code",
      "source": [
        "pothole.head()"
      ],
      "metadata": {
        "colab": {
          "base_uri": "https://localhost:8080/",
          "height": 313
        },
        "id": "Hp2o9q6UF9fj",
        "outputId": "f1ba3b46-ecff-4efe-fb3a-8d16b26fc015"
      },
      "execution_count": 18,
      "outputs": [
        {
          "output_type": "execute_result",
          "data": {
            "text/plain": [
              "             creation_date      status completion_date service_request_number  \\\n",
              "0  2018-12-18T00:00:00.000        Open             NaN            18-03387505   \n",
              "1  2018-12-18T00:00:00.000        Open             NaN            18-03387458   \n",
              "2  2018-12-18T00:00:00.000        Open             NaN            18-03387502   \n",
              "3  2018-12-18T00:00:00.000  Open - Dup             NaN            18-03388379   \n",
              "4  2018-12-18T00:00:00.000        Open             NaN            18-03388180   \n",
              "\n",
              "  type_of_service_request current_activity most_recent_action  \\\n",
              "0       Pothole in Street              NaN                NaN   \n",
              "1       Pothole in Street              NaN                NaN   \n",
              "2       Pothole in Street              NaN                NaN   \n",
              "3       Pothole in Street              NaN                NaN   \n",
              "4       Pothole in Street              NaN                NaN   \n",
              "\n",
              "   number_of_potholes_filled_on_block        street_address      zip  \\\n",
              "0                                 NaN  1145 S FAIRFIELD AVE  60612.0   \n",
              "1                                 NaN    908 S CAMPBELL AVE  60612.0   \n",
              "2                                 NaN        2421 W 21ST PL  60608.0   \n",
              "3                                 NaN        1959 S TROY ST  60623.0   \n",
              "4                                 NaN   4100 S WESTERN BLVD  60609.0   \n",
              "\n",
              "   x_coordinate  y_coordinate  ward  police_district  community_area  ssa  \\\n",
              "0  1.158186e+06  1.894949e+06  28.0             11.0            29.0  NaN   \n",
              "1  1.159861e+06  1.895934e+06  28.0             11.0            28.0  NaN   \n",
              "2  1.160590e+06  1.889668e+06  28.0             10.0            31.0  NaN   \n",
              "3  1.155670e+06  1.890142e+06  24.0             10.0            29.0  NaN   \n",
              "4  1.161202e+06  1.877426e+06  12.0              9.0            58.0  NaN   \n",
              "\n",
              "    latitude  longitude                             location  \n",
              "0  41.866992 -87.694609  (41.866991991336, -87.694608638672)  \n",
              "1  41.869927 -87.688710  (41.869927464401, -87.688710188657)  \n",
              "2  41.852826 -87.686536  (41.852826019085, -87.686535678313)  \n",
              "3  41.853704 -87.703946  (41.853703821634, -87.703946492923)  \n",
              "4  41.819247 -87.684305   (41.819246696086, -87.68430532228)  "
            ],
            "text/html": [
              "\n",
              "  <div id=\"df-05f8ec9f-8b43-4304-9f7c-e6981ba00a71\" class=\"colab-df-container\">\n",
              "    <div>\n",
              "<style scoped>\n",
              "    .dataframe tbody tr th:only-of-type {\n",
              "        vertical-align: middle;\n",
              "    }\n",
              "\n",
              "    .dataframe tbody tr th {\n",
              "        vertical-align: top;\n",
              "    }\n",
              "\n",
              "    .dataframe thead th {\n",
              "        text-align: right;\n",
              "    }\n",
              "</style>\n",
              "<table border=\"1\" class=\"dataframe\">\n",
              "  <thead>\n",
              "    <tr style=\"text-align: right;\">\n",
              "      <th></th>\n",
              "      <th>creation_date</th>\n",
              "      <th>status</th>\n",
              "      <th>completion_date</th>\n",
              "      <th>service_request_number</th>\n",
              "      <th>type_of_service_request</th>\n",
              "      <th>current_activity</th>\n",
              "      <th>most_recent_action</th>\n",
              "      <th>number_of_potholes_filled_on_block</th>\n",
              "      <th>street_address</th>\n",
              "      <th>zip</th>\n",
              "      <th>x_coordinate</th>\n",
              "      <th>y_coordinate</th>\n",
              "      <th>ward</th>\n",
              "      <th>police_district</th>\n",
              "      <th>community_area</th>\n",
              "      <th>ssa</th>\n",
              "      <th>latitude</th>\n",
              "      <th>longitude</th>\n",
              "      <th>location</th>\n",
              "    </tr>\n",
              "  </thead>\n",
              "  <tbody>\n",
              "    <tr>\n",
              "      <th>0</th>\n",
              "      <td>2018-12-18T00:00:00.000</td>\n",
              "      <td>Open</td>\n",
              "      <td>NaN</td>\n",
              "      <td>18-03387505</td>\n",
              "      <td>Pothole in Street</td>\n",
              "      <td>NaN</td>\n",
              "      <td>NaN</td>\n",
              "      <td>NaN</td>\n",
              "      <td>1145 S FAIRFIELD AVE</td>\n",
              "      <td>60612.0</td>\n",
              "      <td>1.158186e+06</td>\n",
              "      <td>1.894949e+06</td>\n",
              "      <td>28.0</td>\n",
              "      <td>11.0</td>\n",
              "      <td>29.0</td>\n",
              "      <td>NaN</td>\n",
              "      <td>41.866992</td>\n",
              "      <td>-87.694609</td>\n",
              "      <td>(41.866991991336, -87.694608638672)</td>\n",
              "    </tr>\n",
              "    <tr>\n",
              "      <th>1</th>\n",
              "      <td>2018-12-18T00:00:00.000</td>\n",
              "      <td>Open</td>\n",
              "      <td>NaN</td>\n",
              "      <td>18-03387458</td>\n",
              "      <td>Pothole in Street</td>\n",
              "      <td>NaN</td>\n",
              "      <td>NaN</td>\n",
              "      <td>NaN</td>\n",
              "      <td>908 S CAMPBELL AVE</td>\n",
              "      <td>60612.0</td>\n",
              "      <td>1.159861e+06</td>\n",
              "      <td>1.895934e+06</td>\n",
              "      <td>28.0</td>\n",
              "      <td>11.0</td>\n",
              "      <td>28.0</td>\n",
              "      <td>NaN</td>\n",
              "      <td>41.869927</td>\n",
              "      <td>-87.688710</td>\n",
              "      <td>(41.869927464401, -87.688710188657)</td>\n",
              "    </tr>\n",
              "    <tr>\n",
              "      <th>2</th>\n",
              "      <td>2018-12-18T00:00:00.000</td>\n",
              "      <td>Open</td>\n",
              "      <td>NaN</td>\n",
              "      <td>18-03387502</td>\n",
              "      <td>Pothole in Street</td>\n",
              "      <td>NaN</td>\n",
              "      <td>NaN</td>\n",
              "      <td>NaN</td>\n",
              "      <td>2421 W 21ST PL</td>\n",
              "      <td>60608.0</td>\n",
              "      <td>1.160590e+06</td>\n",
              "      <td>1.889668e+06</td>\n",
              "      <td>28.0</td>\n",
              "      <td>10.0</td>\n",
              "      <td>31.0</td>\n",
              "      <td>NaN</td>\n",
              "      <td>41.852826</td>\n",
              "      <td>-87.686536</td>\n",
              "      <td>(41.852826019085, -87.686535678313)</td>\n",
              "    </tr>\n",
              "    <tr>\n",
              "      <th>3</th>\n",
              "      <td>2018-12-18T00:00:00.000</td>\n",
              "      <td>Open - Dup</td>\n",
              "      <td>NaN</td>\n",
              "      <td>18-03388379</td>\n",
              "      <td>Pothole in Street</td>\n",
              "      <td>NaN</td>\n",
              "      <td>NaN</td>\n",
              "      <td>NaN</td>\n",
              "      <td>1959 S TROY ST</td>\n",
              "      <td>60623.0</td>\n",
              "      <td>1.155670e+06</td>\n",
              "      <td>1.890142e+06</td>\n",
              "      <td>24.0</td>\n",
              "      <td>10.0</td>\n",
              "      <td>29.0</td>\n",
              "      <td>NaN</td>\n",
              "      <td>41.853704</td>\n",
              "      <td>-87.703946</td>\n",
              "      <td>(41.853703821634, -87.703946492923)</td>\n",
              "    </tr>\n",
              "    <tr>\n",
              "      <th>4</th>\n",
              "      <td>2018-12-18T00:00:00.000</td>\n",
              "      <td>Open</td>\n",
              "      <td>NaN</td>\n",
              "      <td>18-03388180</td>\n",
              "      <td>Pothole in Street</td>\n",
              "      <td>NaN</td>\n",
              "      <td>NaN</td>\n",
              "      <td>NaN</td>\n",
              "      <td>4100 S WESTERN BLVD</td>\n",
              "      <td>60609.0</td>\n",
              "      <td>1.161202e+06</td>\n",
              "      <td>1.877426e+06</td>\n",
              "      <td>12.0</td>\n",
              "      <td>9.0</td>\n",
              "      <td>58.0</td>\n",
              "      <td>NaN</td>\n",
              "      <td>41.819247</td>\n",
              "      <td>-87.684305</td>\n",
              "      <td>(41.819246696086, -87.68430532228)</td>\n",
              "    </tr>\n",
              "  </tbody>\n",
              "</table>\n",
              "</div>\n",
              "    <div class=\"colab-df-buttons\">\n",
              "\n",
              "  <div class=\"colab-df-container\">\n",
              "    <button class=\"colab-df-convert\" onclick=\"convertToInteractive('df-05f8ec9f-8b43-4304-9f7c-e6981ba00a71')\"\n",
              "            title=\"Convert this dataframe to an interactive table.\"\n",
              "            style=\"display:none;\">\n",
              "\n",
              "  <svg xmlns=\"http://www.w3.org/2000/svg\" height=\"24px\" viewBox=\"0 -960 960 960\">\n",
              "    <path d=\"M120-120v-720h720v720H120Zm60-500h600v-160H180v160Zm220 220h160v-160H400v160Zm0 220h160v-160H400v160ZM180-400h160v-160H180v160Zm440 0h160v-160H620v160ZM180-180h160v-160H180v160Zm440 0h160v-160H620v160Z\"/>\n",
              "  </svg>\n",
              "    </button>\n",
              "\n",
              "  <style>\n",
              "    .colab-df-container {\n",
              "      display:flex;\n",
              "      gap: 12px;\n",
              "    }\n",
              "\n",
              "    .colab-df-convert {\n",
              "      background-color: #E8F0FE;\n",
              "      border: none;\n",
              "      border-radius: 50%;\n",
              "      cursor: pointer;\n",
              "      display: none;\n",
              "      fill: #1967D2;\n",
              "      height: 32px;\n",
              "      padding: 0 0 0 0;\n",
              "      width: 32px;\n",
              "    }\n",
              "\n",
              "    .colab-df-convert:hover {\n",
              "      background-color: #E2EBFA;\n",
              "      box-shadow: 0px 1px 2px rgba(60, 64, 67, 0.3), 0px 1px 3px 1px rgba(60, 64, 67, 0.15);\n",
              "      fill: #174EA6;\n",
              "    }\n",
              "\n",
              "    .colab-df-buttons div {\n",
              "      margin-bottom: 4px;\n",
              "    }\n",
              "\n",
              "    [theme=dark] .colab-df-convert {\n",
              "      background-color: #3B4455;\n",
              "      fill: #D2E3FC;\n",
              "    }\n",
              "\n",
              "    [theme=dark] .colab-df-convert:hover {\n",
              "      background-color: #434B5C;\n",
              "      box-shadow: 0px 1px 3px 1px rgba(0, 0, 0, 0.15);\n",
              "      filter: drop-shadow(0px 1px 2px rgba(0, 0, 0, 0.3));\n",
              "      fill: #FFFFFF;\n",
              "    }\n",
              "  </style>\n",
              "\n",
              "    <script>\n",
              "      const buttonEl =\n",
              "        document.querySelector('#df-05f8ec9f-8b43-4304-9f7c-e6981ba00a71 button.colab-df-convert');\n",
              "      buttonEl.style.display =\n",
              "        google.colab.kernel.accessAllowed ? 'block' : 'none';\n",
              "\n",
              "      async function convertToInteractive(key) {\n",
              "        const element = document.querySelector('#df-05f8ec9f-8b43-4304-9f7c-e6981ba00a71');\n",
              "        const dataTable =\n",
              "          await google.colab.kernel.invokeFunction('convertToInteractive',\n",
              "                                                    [key], {});\n",
              "        if (!dataTable) return;\n",
              "\n",
              "        const docLinkHtml = 'Like what you see? Visit the ' +\n",
              "          '<a target=\"_blank\" href=https://colab.research.google.com/notebooks/data_table.ipynb>data table notebook</a>'\n",
              "          + ' to learn more about interactive tables.';\n",
              "        element.innerHTML = '';\n",
              "        dataTable['output_type'] = 'display_data';\n",
              "        await google.colab.output.renderOutput(dataTable, element);\n",
              "        const docLink = document.createElement('div');\n",
              "        docLink.innerHTML = docLinkHtml;\n",
              "        element.appendChild(docLink);\n",
              "      }\n",
              "    </script>\n",
              "  </div>\n",
              "\n",
              "\n",
              "<div id=\"df-ba8d6651-49a5-4be5-94b7-20d91ced9ad9\">\n",
              "  <button class=\"colab-df-quickchart\" onclick=\"quickchart('df-ba8d6651-49a5-4be5-94b7-20d91ced9ad9')\"\n",
              "            title=\"Suggest charts\"\n",
              "            style=\"display:none;\">\n",
              "\n",
              "<svg xmlns=\"http://www.w3.org/2000/svg\" height=\"24px\"viewBox=\"0 0 24 24\"\n",
              "     width=\"24px\">\n",
              "    <g>\n",
              "        <path d=\"M19 3H5c-1.1 0-2 .9-2 2v14c0 1.1.9 2 2 2h14c1.1 0 2-.9 2-2V5c0-1.1-.9-2-2-2zM9 17H7v-7h2v7zm4 0h-2V7h2v10zm4 0h-2v-4h2v4z\"/>\n",
              "    </g>\n",
              "</svg>\n",
              "  </button>\n",
              "\n",
              "<style>\n",
              "  .colab-df-quickchart {\n",
              "      --bg-color: #E8F0FE;\n",
              "      --fill-color: #1967D2;\n",
              "      --hover-bg-color: #E2EBFA;\n",
              "      --hover-fill-color: #174EA6;\n",
              "      --disabled-fill-color: #AAA;\n",
              "      --disabled-bg-color: #DDD;\n",
              "  }\n",
              "\n",
              "  [theme=dark] .colab-df-quickchart {\n",
              "      --bg-color: #3B4455;\n",
              "      --fill-color: #D2E3FC;\n",
              "      --hover-bg-color: #434B5C;\n",
              "      --hover-fill-color: #FFFFFF;\n",
              "      --disabled-bg-color: #3B4455;\n",
              "      --disabled-fill-color: #666;\n",
              "  }\n",
              "\n",
              "  .colab-df-quickchart {\n",
              "    background-color: var(--bg-color);\n",
              "    border: none;\n",
              "    border-radius: 50%;\n",
              "    cursor: pointer;\n",
              "    display: none;\n",
              "    fill: var(--fill-color);\n",
              "    height: 32px;\n",
              "    padding: 0;\n",
              "    width: 32px;\n",
              "  }\n",
              "\n",
              "  .colab-df-quickchart:hover {\n",
              "    background-color: var(--hover-bg-color);\n",
              "    box-shadow: 0 1px 2px rgba(60, 64, 67, 0.3), 0 1px 3px 1px rgba(60, 64, 67, 0.15);\n",
              "    fill: var(--button-hover-fill-color);\n",
              "  }\n",
              "\n",
              "  .colab-df-quickchart-complete:disabled,\n",
              "  .colab-df-quickchart-complete:disabled:hover {\n",
              "    background-color: var(--disabled-bg-color);\n",
              "    fill: var(--disabled-fill-color);\n",
              "    box-shadow: none;\n",
              "  }\n",
              "\n",
              "  .colab-df-spinner {\n",
              "    border: 2px solid var(--fill-color);\n",
              "    border-color: transparent;\n",
              "    border-bottom-color: var(--fill-color);\n",
              "    animation:\n",
              "      spin 1s steps(1) infinite;\n",
              "  }\n",
              "\n",
              "  @keyframes spin {\n",
              "    0% {\n",
              "      border-color: transparent;\n",
              "      border-bottom-color: var(--fill-color);\n",
              "      border-left-color: var(--fill-color);\n",
              "    }\n",
              "    20% {\n",
              "      border-color: transparent;\n",
              "      border-left-color: var(--fill-color);\n",
              "      border-top-color: var(--fill-color);\n",
              "    }\n",
              "    30% {\n",
              "      border-color: transparent;\n",
              "      border-left-color: var(--fill-color);\n",
              "      border-top-color: var(--fill-color);\n",
              "      border-right-color: var(--fill-color);\n",
              "    }\n",
              "    40% {\n",
              "      border-color: transparent;\n",
              "      border-right-color: var(--fill-color);\n",
              "      border-top-color: var(--fill-color);\n",
              "    }\n",
              "    60% {\n",
              "      border-color: transparent;\n",
              "      border-right-color: var(--fill-color);\n",
              "    }\n",
              "    80% {\n",
              "      border-color: transparent;\n",
              "      border-right-color: var(--fill-color);\n",
              "      border-bottom-color: var(--fill-color);\n",
              "    }\n",
              "    90% {\n",
              "      border-color: transparent;\n",
              "      border-bottom-color: var(--fill-color);\n",
              "    }\n",
              "  }\n",
              "</style>\n",
              "\n",
              "  <script>\n",
              "    async function quickchart(key) {\n",
              "      const quickchartButtonEl =\n",
              "        document.querySelector('#' + key + ' button');\n",
              "      quickchartButtonEl.disabled = true;  // To prevent multiple clicks.\n",
              "      quickchartButtonEl.classList.add('colab-df-spinner');\n",
              "      try {\n",
              "        const charts = await google.colab.kernel.invokeFunction(\n",
              "            'suggestCharts', [key], {});\n",
              "      } catch (error) {\n",
              "        console.error('Error during call to suggestCharts:', error);\n",
              "      }\n",
              "      quickchartButtonEl.classList.remove('colab-df-spinner');\n",
              "      quickchartButtonEl.classList.add('colab-df-quickchart-complete');\n",
              "    }\n",
              "    (() => {\n",
              "      let quickchartButtonEl =\n",
              "        document.querySelector('#df-ba8d6651-49a5-4be5-94b7-20d91ced9ad9 button');\n",
              "      quickchartButtonEl.style.display =\n",
              "        google.colab.kernel.accessAllowed ? 'block' : 'none';\n",
              "    })();\n",
              "  </script>\n",
              "</div>\n",
              "\n",
              "    </div>\n",
              "  </div>\n"
            ],
            "application/vnd.google.colaboratory.intrinsic+json": {
              "type": "dataframe",
              "variable_name": "pothole"
            }
          },
          "metadata": {},
          "execution_count": 18
        }
      ]
    },
    {
      "cell_type": "code",
      "source": [
        "pothole.tail()"
      ],
      "metadata": {
        "colab": {
          "base_uri": "https://localhost:8080/",
          "height": 313
        },
        "id": "7Hzs8l81F_jf",
        "outputId": "0adbcfd7-d711-43f3-b97b-d4d10c1382ef"
      },
      "execution_count": 19,
      "outputs": [
        {
          "output_type": "execute_result",
          "data": {
            "text/plain": [
              "                  creation_date     status          completion_date  \\\n",
              "560473  2010-03-11T00:00:00.000  Completed  2011-03-28T00:00:00.000   \n",
              "560474  2010-02-26T00:00:00.000  Completed  2011-10-04T00:00:00.000   \n",
              "560475  2009-08-27T00:00:00.000  Completed  2011-01-25T00:00:00.000   \n",
              "560476  2009-06-17T00:00:00.000  Completed  2011-06-07T00:00:00.000   \n",
              "560477  2009-01-12T00:00:00.000  Completed  2011-10-06T00:00:00.000   \n",
              "\n",
              "       service_request_number type_of_service_request current_activity  \\\n",
              "560473            10-00317212      Pot Hole in Street    Dispatch Crew   \n",
              "560474            10-00254019      Pot Hole in Street              NaN   \n",
              "560475            09-01501980      Pot Hole in Street      Site Survey   \n",
              "560476            09-01026546      Pot Hole in Street    Dispatch Crew   \n",
              "560477            09-00061329      Pot Hole in Street    Dispatch Crew   \n",
              "\n",
              "       most_recent_action  number_of_potholes_filled_on_block  \\\n",
              "560473    Pothole Patched                                 5.0   \n",
              "560474                NaN                                 NaN   \n",
              "560475   No Problem Found                                80.0   \n",
              "560476    Pothole Patched                                 NaN   \n",
              "560477    Pothole Patched                                33.0   \n",
              "\n",
              "            street_address      zip  x_coordinate  y_coordinate  ward  \\\n",
              "560473  7201 W BELMONT AVE  60634.0           NaN           NaN  36.0   \n",
              "560474  1440 S ROCKWELL ST  60608.0  1.159269e+06  1.892879e+06  28.0   \n",
              "560475    5518 N WAYNE AVE  60640.0           NaN           NaN  48.0   \n",
              "560476   3845 W ADDISON ST  60618.0  1.150061e+06  1.923655e+06  30.0   \n",
              "560477   2519 S HALSTED ST  60608.0  1.171397e+06  1.887376e+06  11.0   \n",
              "\n",
              "        police_district  community_area  ssa   latitude  longitude  \\\n",
              "560473             25.0            17.0  NaN  41.937886 -87.806806   \n",
              "560474             10.0            29.0  NaN  41.861757 -87.690973   \n",
              "560475             20.0            77.0  NaN  41.982340 -87.663869   \n",
              "560476             17.0            21.0  NaN  41.946303 -87.724348   \n",
              "560477              9.0            60.0  NaN  41.846460 -87.646321   \n",
              "\n",
              "                                   location  \n",
              "560473    (41.937885966284, -87.8068055064)  \n",
              "560474  (41.861756644625, -87.690972506101)  \n",
              "560475   (41.98234020574, -87.663868977471)  \n",
              "560476  (41.946303283819, -87.724347984027)  \n",
              "560477  (41.846459969324, -87.646320667697)  "
            ],
            "text/html": [
              "\n",
              "  <div id=\"df-8652e29a-b8a2-4a3d-9cac-b37675025f79\" class=\"colab-df-container\">\n",
              "    <div>\n",
              "<style scoped>\n",
              "    .dataframe tbody tr th:only-of-type {\n",
              "        vertical-align: middle;\n",
              "    }\n",
              "\n",
              "    .dataframe tbody tr th {\n",
              "        vertical-align: top;\n",
              "    }\n",
              "\n",
              "    .dataframe thead th {\n",
              "        text-align: right;\n",
              "    }\n",
              "</style>\n",
              "<table border=\"1\" class=\"dataframe\">\n",
              "  <thead>\n",
              "    <tr style=\"text-align: right;\">\n",
              "      <th></th>\n",
              "      <th>creation_date</th>\n",
              "      <th>status</th>\n",
              "      <th>completion_date</th>\n",
              "      <th>service_request_number</th>\n",
              "      <th>type_of_service_request</th>\n",
              "      <th>current_activity</th>\n",
              "      <th>most_recent_action</th>\n",
              "      <th>number_of_potholes_filled_on_block</th>\n",
              "      <th>street_address</th>\n",
              "      <th>zip</th>\n",
              "      <th>x_coordinate</th>\n",
              "      <th>y_coordinate</th>\n",
              "      <th>ward</th>\n",
              "      <th>police_district</th>\n",
              "      <th>community_area</th>\n",
              "      <th>ssa</th>\n",
              "      <th>latitude</th>\n",
              "      <th>longitude</th>\n",
              "      <th>location</th>\n",
              "    </tr>\n",
              "  </thead>\n",
              "  <tbody>\n",
              "    <tr>\n",
              "      <th>560473</th>\n",
              "      <td>2010-03-11T00:00:00.000</td>\n",
              "      <td>Completed</td>\n",
              "      <td>2011-03-28T00:00:00.000</td>\n",
              "      <td>10-00317212</td>\n",
              "      <td>Pot Hole in Street</td>\n",
              "      <td>Dispatch Crew</td>\n",
              "      <td>Pothole Patched</td>\n",
              "      <td>5.0</td>\n",
              "      <td>7201 W BELMONT AVE</td>\n",
              "      <td>60634.0</td>\n",
              "      <td>NaN</td>\n",
              "      <td>NaN</td>\n",
              "      <td>36.0</td>\n",
              "      <td>25.0</td>\n",
              "      <td>17.0</td>\n",
              "      <td>NaN</td>\n",
              "      <td>41.937886</td>\n",
              "      <td>-87.806806</td>\n",
              "      <td>(41.937885966284, -87.8068055064)</td>\n",
              "    </tr>\n",
              "    <tr>\n",
              "      <th>560474</th>\n",
              "      <td>2010-02-26T00:00:00.000</td>\n",
              "      <td>Completed</td>\n",
              "      <td>2011-10-04T00:00:00.000</td>\n",
              "      <td>10-00254019</td>\n",
              "      <td>Pot Hole in Street</td>\n",
              "      <td>NaN</td>\n",
              "      <td>NaN</td>\n",
              "      <td>NaN</td>\n",
              "      <td>1440 S ROCKWELL ST</td>\n",
              "      <td>60608.0</td>\n",
              "      <td>1.159269e+06</td>\n",
              "      <td>1.892879e+06</td>\n",
              "      <td>28.0</td>\n",
              "      <td>10.0</td>\n",
              "      <td>29.0</td>\n",
              "      <td>NaN</td>\n",
              "      <td>41.861757</td>\n",
              "      <td>-87.690973</td>\n",
              "      <td>(41.861756644625, -87.690972506101)</td>\n",
              "    </tr>\n",
              "    <tr>\n",
              "      <th>560475</th>\n",
              "      <td>2009-08-27T00:00:00.000</td>\n",
              "      <td>Completed</td>\n",
              "      <td>2011-01-25T00:00:00.000</td>\n",
              "      <td>09-01501980</td>\n",
              "      <td>Pot Hole in Street</td>\n",
              "      <td>Site Survey</td>\n",
              "      <td>No Problem Found</td>\n",
              "      <td>80.0</td>\n",
              "      <td>5518 N WAYNE AVE</td>\n",
              "      <td>60640.0</td>\n",
              "      <td>NaN</td>\n",
              "      <td>NaN</td>\n",
              "      <td>48.0</td>\n",
              "      <td>20.0</td>\n",
              "      <td>77.0</td>\n",
              "      <td>NaN</td>\n",
              "      <td>41.982340</td>\n",
              "      <td>-87.663869</td>\n",
              "      <td>(41.98234020574, -87.663868977471)</td>\n",
              "    </tr>\n",
              "    <tr>\n",
              "      <th>560476</th>\n",
              "      <td>2009-06-17T00:00:00.000</td>\n",
              "      <td>Completed</td>\n",
              "      <td>2011-06-07T00:00:00.000</td>\n",
              "      <td>09-01026546</td>\n",
              "      <td>Pot Hole in Street</td>\n",
              "      <td>Dispatch Crew</td>\n",
              "      <td>Pothole Patched</td>\n",
              "      <td>NaN</td>\n",
              "      <td>3845 W ADDISON ST</td>\n",
              "      <td>60618.0</td>\n",
              "      <td>1.150061e+06</td>\n",
              "      <td>1.923655e+06</td>\n",
              "      <td>30.0</td>\n",
              "      <td>17.0</td>\n",
              "      <td>21.0</td>\n",
              "      <td>NaN</td>\n",
              "      <td>41.946303</td>\n",
              "      <td>-87.724348</td>\n",
              "      <td>(41.946303283819, -87.724347984027)</td>\n",
              "    </tr>\n",
              "    <tr>\n",
              "      <th>560477</th>\n",
              "      <td>2009-01-12T00:00:00.000</td>\n",
              "      <td>Completed</td>\n",
              "      <td>2011-10-06T00:00:00.000</td>\n",
              "      <td>09-00061329</td>\n",
              "      <td>Pot Hole in Street</td>\n",
              "      <td>Dispatch Crew</td>\n",
              "      <td>Pothole Patched</td>\n",
              "      <td>33.0</td>\n",
              "      <td>2519 S HALSTED ST</td>\n",
              "      <td>60608.0</td>\n",
              "      <td>1.171397e+06</td>\n",
              "      <td>1.887376e+06</td>\n",
              "      <td>11.0</td>\n",
              "      <td>9.0</td>\n",
              "      <td>60.0</td>\n",
              "      <td>NaN</td>\n",
              "      <td>41.846460</td>\n",
              "      <td>-87.646321</td>\n",
              "      <td>(41.846459969324, -87.646320667697)</td>\n",
              "    </tr>\n",
              "  </tbody>\n",
              "</table>\n",
              "</div>\n",
              "    <div class=\"colab-df-buttons\">\n",
              "\n",
              "  <div class=\"colab-df-container\">\n",
              "    <button class=\"colab-df-convert\" onclick=\"convertToInteractive('df-8652e29a-b8a2-4a3d-9cac-b37675025f79')\"\n",
              "            title=\"Convert this dataframe to an interactive table.\"\n",
              "            style=\"display:none;\">\n",
              "\n",
              "  <svg xmlns=\"http://www.w3.org/2000/svg\" height=\"24px\" viewBox=\"0 -960 960 960\">\n",
              "    <path d=\"M120-120v-720h720v720H120Zm60-500h600v-160H180v160Zm220 220h160v-160H400v160Zm0 220h160v-160H400v160ZM180-400h160v-160H180v160Zm440 0h160v-160H620v160ZM180-180h160v-160H180v160Zm440 0h160v-160H620v160Z\"/>\n",
              "  </svg>\n",
              "    </button>\n",
              "\n",
              "  <style>\n",
              "    .colab-df-container {\n",
              "      display:flex;\n",
              "      gap: 12px;\n",
              "    }\n",
              "\n",
              "    .colab-df-convert {\n",
              "      background-color: #E8F0FE;\n",
              "      border: none;\n",
              "      border-radius: 50%;\n",
              "      cursor: pointer;\n",
              "      display: none;\n",
              "      fill: #1967D2;\n",
              "      height: 32px;\n",
              "      padding: 0 0 0 0;\n",
              "      width: 32px;\n",
              "    }\n",
              "\n",
              "    .colab-df-convert:hover {\n",
              "      background-color: #E2EBFA;\n",
              "      box-shadow: 0px 1px 2px rgba(60, 64, 67, 0.3), 0px 1px 3px 1px rgba(60, 64, 67, 0.15);\n",
              "      fill: #174EA6;\n",
              "    }\n",
              "\n",
              "    .colab-df-buttons div {\n",
              "      margin-bottom: 4px;\n",
              "    }\n",
              "\n",
              "    [theme=dark] .colab-df-convert {\n",
              "      background-color: #3B4455;\n",
              "      fill: #D2E3FC;\n",
              "    }\n",
              "\n",
              "    [theme=dark] .colab-df-convert:hover {\n",
              "      background-color: #434B5C;\n",
              "      box-shadow: 0px 1px 3px 1px rgba(0, 0, 0, 0.15);\n",
              "      filter: drop-shadow(0px 1px 2px rgba(0, 0, 0, 0.3));\n",
              "      fill: #FFFFFF;\n",
              "    }\n",
              "  </style>\n",
              "\n",
              "    <script>\n",
              "      const buttonEl =\n",
              "        document.querySelector('#df-8652e29a-b8a2-4a3d-9cac-b37675025f79 button.colab-df-convert');\n",
              "      buttonEl.style.display =\n",
              "        google.colab.kernel.accessAllowed ? 'block' : 'none';\n",
              "\n",
              "      async function convertToInteractive(key) {\n",
              "        const element = document.querySelector('#df-8652e29a-b8a2-4a3d-9cac-b37675025f79');\n",
              "        const dataTable =\n",
              "          await google.colab.kernel.invokeFunction('convertToInteractive',\n",
              "                                                    [key], {});\n",
              "        if (!dataTable) return;\n",
              "\n",
              "        const docLinkHtml = 'Like what you see? Visit the ' +\n",
              "          '<a target=\"_blank\" href=https://colab.research.google.com/notebooks/data_table.ipynb>data table notebook</a>'\n",
              "          + ' to learn more about interactive tables.';\n",
              "        element.innerHTML = '';\n",
              "        dataTable['output_type'] = 'display_data';\n",
              "        await google.colab.output.renderOutput(dataTable, element);\n",
              "        const docLink = document.createElement('div');\n",
              "        docLink.innerHTML = docLinkHtml;\n",
              "        element.appendChild(docLink);\n",
              "      }\n",
              "    </script>\n",
              "  </div>\n",
              "\n",
              "\n",
              "<div id=\"df-eca0abb6-2447-475a-a083-c61b1e1d5a54\">\n",
              "  <button class=\"colab-df-quickchart\" onclick=\"quickchart('df-eca0abb6-2447-475a-a083-c61b1e1d5a54')\"\n",
              "            title=\"Suggest charts\"\n",
              "            style=\"display:none;\">\n",
              "\n",
              "<svg xmlns=\"http://www.w3.org/2000/svg\" height=\"24px\"viewBox=\"0 0 24 24\"\n",
              "     width=\"24px\">\n",
              "    <g>\n",
              "        <path d=\"M19 3H5c-1.1 0-2 .9-2 2v14c0 1.1.9 2 2 2h14c1.1 0 2-.9 2-2V5c0-1.1-.9-2-2-2zM9 17H7v-7h2v7zm4 0h-2V7h2v10zm4 0h-2v-4h2v4z\"/>\n",
              "    </g>\n",
              "</svg>\n",
              "  </button>\n",
              "\n",
              "<style>\n",
              "  .colab-df-quickchart {\n",
              "      --bg-color: #E8F0FE;\n",
              "      --fill-color: #1967D2;\n",
              "      --hover-bg-color: #E2EBFA;\n",
              "      --hover-fill-color: #174EA6;\n",
              "      --disabled-fill-color: #AAA;\n",
              "      --disabled-bg-color: #DDD;\n",
              "  }\n",
              "\n",
              "  [theme=dark] .colab-df-quickchart {\n",
              "      --bg-color: #3B4455;\n",
              "      --fill-color: #D2E3FC;\n",
              "      --hover-bg-color: #434B5C;\n",
              "      --hover-fill-color: #FFFFFF;\n",
              "      --disabled-bg-color: #3B4455;\n",
              "      --disabled-fill-color: #666;\n",
              "  }\n",
              "\n",
              "  .colab-df-quickchart {\n",
              "    background-color: var(--bg-color);\n",
              "    border: none;\n",
              "    border-radius: 50%;\n",
              "    cursor: pointer;\n",
              "    display: none;\n",
              "    fill: var(--fill-color);\n",
              "    height: 32px;\n",
              "    padding: 0;\n",
              "    width: 32px;\n",
              "  }\n",
              "\n",
              "  .colab-df-quickchart:hover {\n",
              "    background-color: var(--hover-bg-color);\n",
              "    box-shadow: 0 1px 2px rgba(60, 64, 67, 0.3), 0 1px 3px 1px rgba(60, 64, 67, 0.15);\n",
              "    fill: var(--button-hover-fill-color);\n",
              "  }\n",
              "\n",
              "  .colab-df-quickchart-complete:disabled,\n",
              "  .colab-df-quickchart-complete:disabled:hover {\n",
              "    background-color: var(--disabled-bg-color);\n",
              "    fill: var(--disabled-fill-color);\n",
              "    box-shadow: none;\n",
              "  }\n",
              "\n",
              "  .colab-df-spinner {\n",
              "    border: 2px solid var(--fill-color);\n",
              "    border-color: transparent;\n",
              "    border-bottom-color: var(--fill-color);\n",
              "    animation:\n",
              "      spin 1s steps(1) infinite;\n",
              "  }\n",
              "\n",
              "  @keyframes spin {\n",
              "    0% {\n",
              "      border-color: transparent;\n",
              "      border-bottom-color: var(--fill-color);\n",
              "      border-left-color: var(--fill-color);\n",
              "    }\n",
              "    20% {\n",
              "      border-color: transparent;\n",
              "      border-left-color: var(--fill-color);\n",
              "      border-top-color: var(--fill-color);\n",
              "    }\n",
              "    30% {\n",
              "      border-color: transparent;\n",
              "      border-left-color: var(--fill-color);\n",
              "      border-top-color: var(--fill-color);\n",
              "      border-right-color: var(--fill-color);\n",
              "    }\n",
              "    40% {\n",
              "      border-color: transparent;\n",
              "      border-right-color: var(--fill-color);\n",
              "      border-top-color: var(--fill-color);\n",
              "    }\n",
              "    60% {\n",
              "      border-color: transparent;\n",
              "      border-right-color: var(--fill-color);\n",
              "    }\n",
              "    80% {\n",
              "      border-color: transparent;\n",
              "      border-right-color: var(--fill-color);\n",
              "      border-bottom-color: var(--fill-color);\n",
              "    }\n",
              "    90% {\n",
              "      border-color: transparent;\n",
              "      border-bottom-color: var(--fill-color);\n",
              "    }\n",
              "  }\n",
              "</style>\n",
              "\n",
              "  <script>\n",
              "    async function quickchart(key) {\n",
              "      const quickchartButtonEl =\n",
              "        document.querySelector('#' + key + ' button');\n",
              "      quickchartButtonEl.disabled = true;  // To prevent multiple clicks.\n",
              "      quickchartButtonEl.classList.add('colab-df-spinner');\n",
              "      try {\n",
              "        const charts = await google.colab.kernel.invokeFunction(\n",
              "            'suggestCharts', [key], {});\n",
              "      } catch (error) {\n",
              "        console.error('Error during call to suggestCharts:', error);\n",
              "      }\n",
              "      quickchartButtonEl.classList.remove('colab-df-spinner');\n",
              "      quickchartButtonEl.classList.add('colab-df-quickchart-complete');\n",
              "    }\n",
              "    (() => {\n",
              "      let quickchartButtonEl =\n",
              "        document.querySelector('#df-eca0abb6-2447-475a-a083-c61b1e1d5a54 button');\n",
              "      quickchartButtonEl.style.display =\n",
              "        google.colab.kernel.accessAllowed ? 'block' : 'none';\n",
              "    })();\n",
              "  </script>\n",
              "</div>\n",
              "\n",
              "    </div>\n",
              "  </div>\n"
            ],
            "application/vnd.google.colaboratory.intrinsic+json": {
              "type": "dataframe",
              "repr_error": "0"
            }
          },
          "metadata": {},
          "execution_count": 19
        }
      ]
    },
    {
      "cell_type": "code",
      "source": [
        "pothole.shape"
      ],
      "metadata": {
        "colab": {
          "base_uri": "https://localhost:8080/"
        },
        "id": "DMKARO63GBmC",
        "outputId": "5ccf4041-0328-48ff-8b75-189291d989e6"
      },
      "execution_count": 21,
      "outputs": [
        {
          "output_type": "execute_result",
          "data": {
            "text/plain": [
              "(560478, 19)"
            ]
          },
          "metadata": {},
          "execution_count": 21
        }
      ]
    },
    {
      "cell_type": "code",
      "source": [
        "pothole.columns"
      ],
      "metadata": {
        "colab": {
          "base_uri": "https://localhost:8080/"
        },
        "id": "FWKF32WbGED0",
        "outputId": "91971cb3-cca4-4398-fe3e-83d790e877d1"
      },
      "execution_count": 22,
      "outputs": [
        {
          "output_type": "execute_result",
          "data": {
            "text/plain": [
              "Index(['creation_date', 'status', 'completion_date', 'service_request_number',\n",
              "       'type_of_service_request', 'current_activity', 'most_recent_action',\n",
              "       'number_of_potholes_filled_on_block', 'street_address', 'zip',\n",
              "       'x_coordinate', 'y_coordinate', 'ward', 'police_district',\n",
              "       'community_area', 'ssa', 'latitude', 'longitude', 'location'],\n",
              "      dtype='object')"
            ]
          },
          "metadata": {},
          "execution_count": 22
        }
      ]
    },
    {
      "cell_type": "code",
      "source": [
        "pothole.info()"
      ],
      "metadata": {
        "colab": {
          "base_uri": "https://localhost:8080/"
        },
        "id": "mmJcWbeRGFcL",
        "outputId": "af16e704-f28b-412e-92d7-1fcce506c158"
      },
      "execution_count": 24,
      "outputs": [
        {
          "output_type": "stream",
          "name": "stdout",
          "text": [
            "<class 'pandas.core.frame.DataFrame'>\n",
            "RangeIndex: 560478 entries, 0 to 560477\n",
            "Data columns (total 19 columns):\n",
            " #   Column                              Non-Null Count   Dtype  \n",
            "---  ------                              --------------   -----  \n",
            " 0   creation_date                       560478 non-null  object \n",
            " 1   status                              560478 non-null  object \n",
            " 2   completion_date                     553130 non-null  object \n",
            " 3   service_request_number              560478 non-null  object \n",
            " 4   type_of_service_request             560478 non-null  object \n",
            " 5   current_activity                    393609 non-null  object \n",
            " 6   most_recent_action                  391992 non-null  object \n",
            " 7   number_of_potholes_filled_on_block  399143 non-null  float64\n",
            " 8   street_address                      560476 non-null  object \n",
            " 9   zip                                 558160 non-null  float64\n",
            " 10  x_coordinate                        560004 non-null  float64\n",
            " 11  y_coordinate                        560004 non-null  float64\n",
            " 12  ward                                560145 non-null  float64\n",
            " 13  police_district                     560144 non-null  float64\n",
            " 14  community_area                      560145 non-null  float64\n",
            " 15  ssa                                 87611 non-null   float64\n",
            " 16  latitude                            559602 non-null  float64\n",
            " 17  longitude                           559602 non-null  float64\n",
            " 18  location                            559602 non-null  object \n",
            "dtypes: float64(10), object(9)\n",
            "memory usage: 81.2+ MB\n"
          ]
        }
      ]
    },
    {
      "cell_type": "code",
      "execution_count": 16,
      "metadata": {
        "id": "KR5sKSexcD6x",
        "colab": {
          "base_uri": "https://localhost:8080/"
        },
        "outputId": "53ea4744-3cb9-46f8-fb2a-5bc2d6aafde9"
      },
      "outputs": [
        {
          "output_type": "stream",
          "name": "stdout",
          "text": [
            "                  creation_date      status          completion_date  \\\n",
            "0       2018-12-18T00:00:00.000        Open                      NaN   \n",
            "1       2018-12-18T00:00:00.000        Open                      NaN   \n",
            "2       2018-12-18T00:00:00.000        Open                      NaN   \n",
            "3       2018-12-18T00:00:00.000  Open - Dup                      NaN   \n",
            "4       2018-12-18T00:00:00.000        Open                      NaN   \n",
            "...                         ...         ...                      ...   \n",
            "560473  2010-03-11T00:00:00.000   Completed  2011-03-28T00:00:00.000   \n",
            "560474  2010-02-26T00:00:00.000   Completed  2011-10-04T00:00:00.000   \n",
            "560475  2009-08-27T00:00:00.000   Completed  2011-01-25T00:00:00.000   \n",
            "560476  2009-06-17T00:00:00.000   Completed  2011-06-07T00:00:00.000   \n",
            "560477  2009-01-12T00:00:00.000   Completed  2011-10-06T00:00:00.000   \n",
            "\n",
            "       service_request_number type_of_service_request current_activity  \\\n",
            "0                 18-03387505       Pothole in Street              NaN   \n",
            "1                 18-03387458       Pothole in Street              NaN   \n",
            "2                 18-03387502       Pothole in Street              NaN   \n",
            "3                 18-03388379       Pothole in Street              NaN   \n",
            "4                 18-03388180       Pothole in Street              NaN   \n",
            "...                       ...                     ...              ...   \n",
            "560473            10-00317212      Pot Hole in Street    Dispatch Crew   \n",
            "560474            10-00254019      Pot Hole in Street              NaN   \n",
            "560475            09-01501980      Pot Hole in Street      Site Survey   \n",
            "560476            09-01026546      Pot Hole in Street    Dispatch Crew   \n",
            "560477            09-00061329      Pot Hole in Street    Dispatch Crew   \n",
            "\n",
            "       most_recent_action  number_of_potholes_filled_on_block  \\\n",
            "0                     NaN                                 NaN   \n",
            "1                     NaN                                 NaN   \n",
            "2                     NaN                                 NaN   \n",
            "3                     NaN                                 NaN   \n",
            "4                     NaN                                 NaN   \n",
            "...                   ...                                 ...   \n",
            "560473    Pothole Patched                                 5.0   \n",
            "560474                NaN                                 NaN   \n",
            "560475   No Problem Found                                80.0   \n",
            "560476    Pothole Patched                                 NaN   \n",
            "560477    Pothole Patched                                33.0   \n",
            "\n",
            "              street_address      zip  x_coordinate  y_coordinate  ward  \\\n",
            "0       1145 S FAIRFIELD AVE  60612.0  1.158186e+06  1.894949e+06  28.0   \n",
            "1         908 S CAMPBELL AVE  60612.0  1.159861e+06  1.895934e+06  28.0   \n",
            "2             2421 W 21ST PL  60608.0  1.160590e+06  1.889668e+06  28.0   \n",
            "3             1959 S TROY ST  60623.0  1.155670e+06  1.890142e+06  24.0   \n",
            "4        4100 S WESTERN BLVD  60609.0  1.161202e+06  1.877426e+06  12.0   \n",
            "...                      ...      ...           ...           ...   ...   \n",
            "560473    7201 W BELMONT AVE  60634.0           NaN           NaN  36.0   \n",
            "560474    1440 S ROCKWELL ST  60608.0  1.159269e+06  1.892879e+06  28.0   \n",
            "560475      5518 N WAYNE AVE  60640.0           NaN           NaN  48.0   \n",
            "560476     3845 W ADDISON ST  60618.0  1.150061e+06  1.923655e+06  30.0   \n",
            "560477     2519 S HALSTED ST  60608.0  1.171397e+06  1.887376e+06  11.0   \n",
            "\n",
            "        police_district  community_area  ssa   latitude  longitude  \\\n",
            "0                  11.0            29.0  NaN  41.866992 -87.694609   \n",
            "1                  11.0            28.0  NaN  41.869927 -87.688710   \n",
            "2                  10.0            31.0  NaN  41.852826 -87.686536   \n",
            "3                  10.0            29.0  NaN  41.853704 -87.703946   \n",
            "4                   9.0            58.0  NaN  41.819247 -87.684305   \n",
            "...                 ...             ...  ...        ...        ...   \n",
            "560473             25.0            17.0  NaN  41.937886 -87.806806   \n",
            "560474             10.0            29.0  NaN  41.861757 -87.690973   \n",
            "560475             20.0            77.0  NaN  41.982340 -87.663869   \n",
            "560476             17.0            21.0  NaN  41.946303 -87.724348   \n",
            "560477              9.0            60.0  NaN  41.846460 -87.646321   \n",
            "\n",
            "                                   location  \n",
            "0       (41.866991991336, -87.694608638672)  \n",
            "1       (41.869927464401, -87.688710188657)  \n",
            "2       (41.852826019085, -87.686535678313)  \n",
            "3       (41.853703821634, -87.703946492923)  \n",
            "4        (41.819246696086, -87.68430532228)  \n",
            "...                                     ...  \n",
            "560473    (41.937885966284, -87.8068055064)  \n",
            "560474  (41.861756644625, -87.690972506101)  \n",
            "560475   (41.98234020574, -87.663868977471)  \n",
            "560476  (41.946303283819, -87.724347984027)  \n",
            "560477  (41.846459969324, -87.646320667697)  \n",
            "\n",
            "[560478 rows x 19 columns]\n"
          ]
        }
      ],
      "source": [
        "print (pothole)"
      ]
    },
    {
      "cell_type": "code",
      "execution_count": null,
      "metadata": {
        "colab": {
          "background_save": true
        },
        "id": "AskBM_X6cNyR"
      },
      "outputs": [],
      "source": [
        "# What season gets the most potholes filled?"
      ]
    },
    {
      "cell_type": "code",
      "execution_count": null,
      "metadata": {
        "id": "gFy2O_vcceOU"
      },
      "outputs": [],
      "source": [
        "patched = pd.read_csv(\"https://data.cityofchicago.org/resource/wqdh-9gek.csv?$limit=1000000\")"
      ]
    },
    {
      "cell_type": "code",
      "execution_count": null,
      "metadata": {
        "colab": {
          "background_save": true
        },
        "id": "o9oxjUG1cXHL"
      },
      "outputs": [],
      "source": [
        "patched['request_date'] = pd.to_datetime(patched['request_date'])"
      ]
    },
    {
      "cell_type": "code",
      "execution_count": null,
      "metadata": {
        "colab": {
          "background_save": true
        },
        "id": "sIHx4CqacjeB"
      },
      "outputs": [],
      "source": [
        "def month_to_season(month):\n",
        "    if month in [12, 1, 2]:\n",
        "        return 'Winter'\n",
        "    elif month in [3, 4, 5]:\n",
        "        return 'Spring'\n",
        "    elif month in [6, 7, 8]:\n",
        "        return 'Summer'\n",
        "    else:\n",
        "        return 'Autumn'"
      ]
    },
    {
      "cell_type": "code",
      "execution_count": null,
      "metadata": {
        "colab": {
          "background_save": true
        },
        "id": "6ZPnxBwhcpLq"
      },
      "outputs": [],
      "source": [
        "patched['season'] = patched['request_date'].dt.month.apply(month_to_season)"
      ]
    },
    {
      "cell_type": "code",
      "execution_count": null,
      "metadata": {
        "colab": {
          "background_save": true
        },
        "id": "HOoQvl1Zcr7X"
      },
      "outputs": [],
      "source": [
        "season_potholes_filled = patched.groupby('season')['number_of_potholes_filled_on_block'].sum()"
      ]
    },
    {
      "cell_type": "code",
      "execution_count": null,
      "metadata": {
        "colab": {
          "background_save": true
        },
        "id": "uZqyvvtQHce2",
        "outputId": "19839fef-d137-4a1a-c358-c1a79d3841df"
      },
      "outputs": [
        {
          "name": "stdout",
          "output_type": "stream",
          "text": [
            "                 address        request_date          completion_date  \\\n",
            "0     3948 N WOLCOTT AVE 2024-04-19 09:09:58  2024-04-19T14:24:37.000   \n",
            "1     4107 N ASHLAND AVE 2024-04-19 09:29:50  2024-04-19T14:23:10.000   \n",
            "2      1556 W LELAND AVE 2024-04-19 09:49:08  2024-04-19T14:22:19.000   \n",
            "3   6719 N HERMITAGE AVE 2024-04-19 11:42:09  2024-04-19T14:21:27.000   \n",
            "4  6800 N RAVENSWOOD AVE 2024-04-19 10:59:35  2024-04-19T14:20:09.000   \n",
            "\n",
            "   number_of_potholes_filled_on_block   latitude  longitude  \\\n",
            "0                                  20  41.953822 -87.676384   \n",
            "1                                   3  41.956398 -87.668590   \n",
            "2                                   2  41.967140 -87.668609   \n",
            "3                                  32  42.004134 -87.673563   \n",
            "4                                  32  42.005360 -87.675759   \n",
            "\n",
            "                                   location  season  \n",
            "0  POINT (-87.676383878216 41.953822261036)  Spring  \n",
            "1  POINT (-87.668590500002 41.956398000941)  Spring  \n",
            "2   POINT (-87.66860942898 41.967140060035)  Spring  \n",
            "3  POINT (-87.673563000002 42.004134000941)  Spring  \n",
            "4  POINT (-87.675758982353 42.005360096258)  Spring  \n"
          ]
        }
      ],
      "source": [
        "print(patched.head())"
      ]
    },
    {
      "cell_type": "code",
      "execution_count": null,
      "metadata": {
        "colab": {
          "background_save": true
        },
        "id": "wugSQ3bHcu_2",
        "outputId": "78246571-5f50-4623-ae1e-1d5a2258251a"
      },
      "outputs": [
        {
          "name": "stdout",
          "output_type": "stream",
          "text": [
            "season\n",
            "Autumn    208122\n",
            "Spring    993908\n",
            "Summer    313235\n",
            "Winter    625338\n",
            "Name: number_of_potholes_filled_on_block, dtype: int64\n"
          ]
        }
      ],
      "source": [
        "print(season_potholes_filled)"
      ]
    },
    {
      "cell_type": "code",
      "execution_count": null,
      "metadata": {
        "colab": {
          "background_save": true
        },
        "id": "BCBE8vP9dhuC",
        "outputId": "3b2da301-93f6-4858-9002-78c786e03851"
      },
      "outputs": [
        {
          "name": "stdout",
          "output_type": "stream",
          "text": [
            "13.419583063296608\n"
          ]
        }
      ],
      "source": [
        "average_duration_by_season = patched.groupby('season')['number_of_potholes_filled_on_block'].mean()\n",
        "print(average_duration_by_season.max())"
      ]
    },
    {
      "cell_type": "code",
      "execution_count": null,
      "metadata": {
        "colab": {
          "background_save": true
        },
        "id": "PSH-tANi7ath"
      },
      "outputs": [],
      "source": [
        "# Which wards have the most pothole requests?"
      ]
    },
    {
      "cell_type": "code",
      "execution_count": null,
      "metadata": {
        "colab": {
          "background_save": true
        },
        "id": "6lMk3tzB7aXH",
        "outputId": "12f0dd01-88c6-4356-d573-338c671ab73c"
      },
      "outputs": [
        {
          "data": {
            "text/plain": [
              "ward\n",
              "41.0    21637\n",
              "45.0    16788\n",
              "19.0    16534\n",
              "23.0    16398\n",
              "32.0    16173\n",
              "13.0    15765\n",
              "39.0    15699\n",
              "8.0     15336\n",
              "42.0    14730\n",
              "34.0    14528\n",
              "21.0    14126\n",
              "2.0     13790\n",
              "18.0    13761\n",
              "36.0    13687\n",
              "27.0    13221\n",
              "38.0    12878\n",
              "50.0    12760\n",
              "14.0    12244\n",
              "10.0    12146\n",
              "40.0    11965\n",
              "29.0    11730\n",
              "6.0     11460\n",
              "35.0    10732\n",
              "28.0    10693\n",
              "25.0    10621\n",
              "1.0     10545\n",
              "5.0     10438\n",
              "9.0     10380\n",
              "11.0     9743\n",
              "12.0     9620\n",
              "49.0     9551\n",
              "47.0     9458\n",
              "31.0     9351\n",
              "17.0     9055\n",
              "24.0     9044\n",
              "37.0     8942\n",
              "30.0     8436\n",
              "26.0     8358\n",
              "43.0     8231\n",
              "7.0      7997\n",
              "33.0     7922\n",
              "16.0     7825\n",
              "3.0      7611\n",
              "20.0     7541\n",
              "15.0     7334\n",
              "48.0     7076\n",
              "4.0      7042\n",
              "22.0     6966\n",
              "44.0     6373\n",
              "46.0     4340\n",
              "0.0      1564\n",
              "Name: type_of_service_request, dtype: int64"
            ]
          },
          "execution_count": 16,
          "metadata": {},
          "output_type": "execute_result"
        }
      ],
      "source": [
        "pothole.groupby('ward')['type_of_service_request'].count().sort_values(ascending = False)"
      ]
    },
    {
      "cell_type": "code",
      "execution_count": null,
      "metadata": {
        "colab": {
          "background_save": true
        },
        "id": "GSSKOtLl4O65"
      },
      "outputs": [],
      "source": [
        "# How many potholes are filled in each ward? (with patched data)"
      ]
    },
    {
      "cell_type": "code",
      "execution_count": null,
      "metadata": {
        "colab": {
          "background_save": true
        },
        "id": "rQUFXi7j4MK8",
        "outputId": "8458634f-5a62-4512-d9c6-0c6b2a497bea"
      },
      "outputs": [
        {
          "data": {
            "text/plain": [
              "number_of_potholes_filled_on_block\n",
              "1      20589\n",
              "2      18099\n",
              "3      14280\n",
              "5      12556\n",
              "4      12028\n",
              "       ...  \n",
              "212        1\n",
              "214        1\n",
              "215        1\n",
              "218        1\n",
              "467        1\n",
              "Length: 230, dtype: int64"
            ]
          },
          "execution_count": 18,
          "metadata": {},
          "output_type": "execute_result"
        }
      ],
      "source": [
        "patched.groupby('number_of_potholes_filled_on_block').size().sort_values(ascending = False)"
      ]
    },
    {
      "cell_type": "code",
      "execution_count": null,
      "metadata": {
        "colab": {
          "background_save": true
        },
        "id": "DPZ_fiDtc9h9"
      },
      "outputs": [],
      "source": [
        "# According to the patched data, how long does it take for a pothole to get patched?"
      ]
    },
    {
      "cell_type": "code",
      "execution_count": null,
      "metadata": {
        "colab": {
          "background_save": true
        },
        "id": "CxW29tjHdL5o"
      },
      "outputs": [],
      "source": [
        "patched['request_date'] = pd.to_datetime(patched['request_date'])\n",
        "patched['completion_date'] = pd.to_datetime(patched['completion_date'])"
      ]
    },
    {
      "cell_type": "code",
      "execution_count": null,
      "metadata": {
        "colab": {
          "background_save": true
        },
        "id": "xUltNQcddPC0"
      },
      "outputs": [],
      "source": [
        "patched['duration'] = (patched['completion_date'] - patched['request_date']).dt.days"
      ]
    },
    {
      "cell_type": "code",
      "execution_count": null,
      "metadata": {
        "colab": {
          "background_save": true
        },
        "id": "lfFjwTqbdRlI",
        "outputId": "30b39f37-1f62-42b1-de92-db877733bffb"
      },
      "outputs": [
        {
          "name": "stdout",
          "output_type": "stream",
          "text": [
            "         request_date     completion_date  duration\n",
            "0 2024-04-19 09:09:58 2024-04-19 14:24:37         0\n",
            "1 2024-04-19 09:29:50 2024-04-19 14:23:10         0\n",
            "2 2024-04-19 09:49:08 2024-04-19 14:22:19         0\n",
            "3 2024-04-19 11:42:09 2024-04-19 14:21:27         0\n",
            "4 2024-04-19 10:59:35 2024-04-19 14:20:09         0\n"
          ]
        }
      ],
      "source": [
        "print(patched[['request_date', 'completion_date', 'duration']].head())"
      ]
    },
    {
      "cell_type": "code",
      "execution_count": null,
      "metadata": {
        "colab": {
          "background_save": true
        },
        "id": "B_efOYdUdUOU",
        "outputId": "47ab35d7-cbd6-4e27-8a25-873f37b4fe12"
      },
      "outputs": [
        {
          "name": "stdout",
          "output_type": "stream",
          "text": [
            "The average duration it takes to patch a pothole is 20.197752871331076 days.\n"
          ]
        }
      ],
      "source": [
        "average_duration = patched['duration'].mean()\n",
        "print(f\"The average duration it takes to patch a pothole is {average_duration} days.\")"
      ]
    },
    {
      "cell_type": "code",
      "execution_count": null,
      "metadata": {
        "colab": {
          "background_save": true
        },
        "id": "NK7dYrSadXXu",
        "outputId": "45e06701-a70c-4c33-c4ad-c643d8e9b3ab"
      },
      "outputs": [
        {
          "name": "stdout",
          "output_type": "stream",
          "text": [
            "The median duration it takes to patch a pothole is 4.0 days.\n"
          ]
        }
      ],
      "source": [
        "median_duration = patched['duration'].median()\n",
        "print(f\"The median duration it takes to patch a pothole is {median_duration} days.\")"
      ]
    },
    {
      "cell_type": "code",
      "execution_count": null,
      "metadata": {
        "colab": {
          "background_save": true
        },
        "id": "Yq7C89J-daWp",
        "outputId": "3b27dc91-92d9-4fff-82c7-2269c973d14e"
      },
      "outputs": [
        {
          "name": "stdout",
          "output_type": "stream",
          "text": [
            "count    180230.000000\n",
            "mean         20.197753\n",
            "std          40.150847\n",
            "min           0.000000\n",
            "25%           0.000000\n",
            "50%           4.000000\n",
            "75%          18.000000\n",
            "max         553.000000\n",
            "Name: duration, dtype: float64\n"
          ]
        }
      ],
      "source": [
        "print(patched['duration'].describe())"
      ]
    },
    {
      "cell_type": "code",
      "execution_count": null,
      "metadata": {
        "colab": {
          "background_save": true
        },
        "id": "TahrolpSd4p1"
      },
      "outputs": [],
      "source": [
        "# Show the melted date (PATCHED)"
      ]
    },
    {
      "cell_type": "code",
      "execution_count": null,
      "metadata": {
        "colab": {
          "background_save": true
        },
        "id": "CuaRtiIUeD2Q"
      },
      "outputs": [],
      "source": [
        "id_vars = ['address', 'location']\n",
        "value_vars = ['request_date', 'number_of_potholes_filled_on_block']"
      ]
    },
    {
      "cell_type": "code",
      "execution_count": null,
      "metadata": {
        "colab": {
          "background_save": true
        },
        "id": "PdaMwv-TeEvH"
      },
      "outputs": [],
      "source": [
        "melted_data = patched.melt(id_vars=id_vars, value_vars=value_vars, var_name='variable', value_name='value')"
      ]
    },
    {
      "cell_type": "code",
      "execution_count": null,
      "metadata": {
        "colab": {
          "background_save": true
        },
        "id": "effbwTlpeH6R",
        "outputId": "a5c52b95-b0d4-4cde-eaa6-e0c8a47e0759"
      },
      "outputs": [
        {
          "name": "stdout",
          "output_type": "stream",
          "text": [
            "                      address                                  location  \\\n",
            "0          3948 N WOLCOTT AVE  POINT (-87.676383878216 41.953822261036)   \n",
            "1          4107 N ASHLAND AVE  POINT (-87.668590500002 41.956398000941)   \n",
            "2           1556 W LELAND AVE   POINT (-87.66860942898 41.967140060035)   \n",
            "3        6719 N HERMITAGE AVE  POINT (-87.673563000002 42.004134000941)   \n",
            "4       6800 N RAVENSWOOD AVE  POINT (-87.675758982353 42.005360096258)   \n",
            "...                       ...                                       ...   \n",
            "360455         3911 W 61ST ST              POINT (-87.720834 41.782065)   \n",
            "360456         3908 W 61ST ST              POINT (-87.720808 41.782588)   \n",
            "360457         3900 W 62ND PL              POINT (-87.720513 41.779863)   \n",
            "360458         3847 W 61ST PL              POINT (-87.719803 41.781169)   \n",
            "360459    6400 S MAJOR Avenue  POINT (-87.764136509305 41.776112376302)   \n",
            "\n",
            "                                  variable                value  \n",
            "0                             request_date  2024-04-19 09:09:58  \n",
            "1                             request_date  2024-04-19 09:29:50  \n",
            "2                             request_date  2024-04-19 09:49:08  \n",
            "3                             request_date  2024-04-19 11:42:09  \n",
            "4                             request_date  2024-04-19 10:59:35  \n",
            "...                                    ...                  ...  \n",
            "360455  number_of_potholes_filled_on_block                    4  \n",
            "360456  number_of_potholes_filled_on_block                    3  \n",
            "360457  number_of_potholes_filled_on_block                   10  \n",
            "360458  number_of_potholes_filled_on_block                   15  \n",
            "360459  number_of_potholes_filled_on_block                   16  \n",
            "\n",
            "[360460 rows x 4 columns]\n"
          ]
        }
      ],
      "source": [
        "print(melted_data)"
      ]
    },
    {
      "cell_type": "code",
      "execution_count": null,
      "metadata": {
        "colab": {
          "background_save": true
        },
        "id": "4e_VhCbaeKw3"
      },
      "outputs": [],
      "source": [
        "# LOOP (Patched)"
      ]
    },
    {
      "cell_type": "code",
      "execution_count": null,
      "metadata": {
        "colab": {
          "background_save": true
        },
        "id": "Acpg2qi4eUx3"
      },
      "outputs": [],
      "source": [
        "total_potholes_per_address = {}"
      ]
    },
    {
      "cell_type": "code",
      "execution_count": null,
      "metadata": {
        "id": "eHt--9-DekLf"
      },
      "outputs": [],
      "source": [
        "for index, row in patched.iterrows():\n",
        "    address = row['address']\n",
        "    potholes_filled = row['number_of_potholes_filled_on_block']\n",
        "if address not in total_potholes_per_address:\n",
        "        total_potholes_per_address[address] = potholes_filled\n",
        "else:total_potholes_per_address[address] += potholes_filled"
      ]
    },
    {
      "cell_type": "code",
      "execution_count": null,
      "metadata": {
        "id": "EcUy69IoenoL"
      },
      "outputs": [],
      "source": [
        "for address, total_potholes in total_potholes_per_address.items():\n",
        "    print(f\"Address: {address}, Total Potholes Filled: {total_potholes}\")"
      ]
    },
    {
      "cell_type": "code",
      "execution_count": null,
      "metadata": {
        "id": "Y2mT9Dxrewn3"
      },
      "outputs": [],
      "source": [
        "# Demonstrate an F String (Patched)"
      ]
    },
    {
      "cell_type": "code",
      "execution_count": null,
      "metadata": {
        "id": "qabEIbdIezsd"
      },
      "outputs": [],
      "source": [
        "for index, row in patched.iterrows():\n",
        "  if index < 100:\n",
        "    summary_string = f\"Address: {row['address']}, Request Date: {row['request_date']}, Potholes Filled: {row['number_of_potholes_filled_on_block']}, Location: {row['location']}\"\n",
        "    print(summary_string)\n",
        "  else:\n",
        "    break"
      ]
    },
    {
      "cell_type": "markdown",
      "metadata": {
        "id": "fvmHpAAdfda1"
      },
      "source": [
        "How many potholes have been patched, how many requests are still open, random sample maker of open cases, how many requests had no problem found"
      ]
    },
    {
      "cell_type": "code",
      "execution_count": null,
      "metadata": {
        "id": "MSEoLyDIfmjK"
      },
      "outputs": [],
      "source": [
        "sample_pothole = pothole.sample(5)"
      ]
    },
    {
      "cell_type": "code",
      "execution_count": null,
      "metadata": {
        "id": "wqcPPRF3foMm"
      },
      "outputs": [],
      "source": [
        "for column in sample_pothole.iterrows():\n",
        "  if column[1]['status'] == 'Completed':\n",
        "    print('its completed!')\n",
        "  elif column[1]['status'] == 'Completed - Dup':\n",
        "    print('its completed!')\n",
        "  else:\n",
        "    print('it hasnt been completed')"
      ]
    },
    {
      "cell_type": "code",
      "execution_count": null,
      "metadata": {
        "id": "Tsj3X5TCf6im"
      },
      "outputs": [],
      "source": [
        "open_requests = pothole['status'].isin(['Open', 'Open - Dup'])"
      ]
    },
    {
      "cell_type": "code",
      "execution_count": null,
      "metadata": {
        "id": "UidxYPOtf9X3"
      },
      "outputs": [],
      "source": [
        "open_requests.value_counts()"
      ]
    },
    {
      "cell_type": "code",
      "execution_count": null,
      "metadata": {
        "id": "UcfChv49gCHz"
      },
      "outputs": [],
      "source": [
        "potholes_patched = pothole['most_recent_action'] == 'Pothole Patched'"
      ]
    },
    {
      "cell_type": "code",
      "execution_count": null,
      "metadata": {
        "id": "YZxnEH_8gEfY"
      },
      "outputs": [],
      "source": [
        "potholes_patched.value_counts()"
      ]
    },
    {
      "cell_type": "code",
      "execution_count": null,
      "metadata": {
        "id": "W21k8PVTgHJr"
      },
      "outputs": [],
      "source": [
        "potholes_no_problem = pothole['most_recent_action'] == 'No Problem Found'"
      ]
    },
    {
      "cell_type": "code",
      "execution_count": null,
      "metadata": {
        "id": "8LyOql-QgNeF"
      },
      "outputs": [],
      "source": [
        "potholes_no_problem.value_counts()"
      ]
    },
    {
      "cell_type": "code",
      "execution_count": null,
      "metadata": {
        "id": "dtpkDJOk8zNz"
      },
      "outputs": [],
      "source": [
        "# How many duplicate requests are in the pothole request data?"
      ]
    },
    {
      "cell_type": "code",
      "execution_count": null,
      "metadata": {
        "id": "ZaFDKniC855M"
      },
      "outputs": [],
      "source": [
        "duplicates = pothole.duplicated()"
      ]
    },
    {
      "cell_type": "code",
      "execution_count": null,
      "metadata": {
        "id": "lqgcsQIR88FF"
      },
      "outputs": [],
      "source": [
        "num_duplicates = duplicates.sum()"
      ]
    },
    {
      "cell_type": "code",
      "execution_count": null,
      "metadata": {
        "id": "1AfYNCiv8-A8"
      },
      "outputs": [],
      "source": [
        "if num_duplicates > 0:\n",
        "  print(f'there are {num_duplicates} duplicate rows in the dataset.')\n",
        "else:\n",
        "  print('there are no duplicate rows in the dataet.')"
      ]
    },
    {
      "cell_type": "code",
      "execution_count": null,
      "metadata": {
        "id": "3MSWjkR4-Hrd"
      },
      "outputs": [],
      "source": [
        "# New column showing the duplicates"
      ]
    },
    {
      "cell_type": "code",
      "execution_count": null,
      "metadata": {
        "id": "J3nYsyFM-lkL"
      },
      "outputs": [],
      "source": [
        "duplicates_col = pothole.duplicated(subset = 'service_request_number', keep=False)"
      ]
    },
    {
      "cell_type": "code",
      "execution_count": null,
      "metadata": {
        "colab": {
          "background_save": true
        },
        "id": "aLothnxi-nKD"
      },
      "outputs": [],
      "source": [
        "pothole['is_duplicated'] = duplicates_col"
      ]
    },
    {
      "cell_type": "code",
      "execution_count": null,
      "metadata": {
        "id": "fJWi1nCH-qHD"
      },
      "outputs": [],
      "source": [
        "pothole.head()"
      ]
    },
    {
      "cell_type": "code",
      "execution_count": null,
      "metadata": {
        "id": "t2g6Y7zA--ym"
      },
      "outputs": [],
      "source": [
        "# Amount of pothole requests per address?"
      ]
    },
    {
      "cell_type": "code",
      "execution_count": null,
      "metadata": {
        "id": "drWDRUn5_Ayn"
      },
      "outputs": [],
      "source": [
        "pothole['street_address'].value_counts().reset_index()"
      ]
    },
    {
      "cell_type": "code",
      "execution_count": null,
      "metadata": {
        "id": "MOQy-LHvBCNY"
      },
      "outputs": [],
      "source": [
        "#\n",
        "#Are there certain neighborhoods or points in time that occur more often?"
      ]
    },
    {
      "cell_type": "code",
      "execution_count": null,
      "metadata": {
        "id": "vOXM88xqBCIX"
      },
      "outputs": [],
      "source": [
        "pothole.columns"
      ]
    },
    {
      "cell_type": "code",
      "execution_count": null,
      "metadata": {
        "id": "Csz_CL0dBCDb"
      },
      "outputs": [],
      "source": [
        "patched.columns"
      ]
    },
    {
      "cell_type": "code",
      "execution_count": null,
      "metadata": {
        "id": "_PH6QT9mBB86"
      },
      "outputs": [],
      "source": [
        "print(patched.completion_date)"
      ]
    },
    {
      "cell_type": "code",
      "execution_count": null,
      "metadata": {
        "id": "4p8bK9k-BBtI"
      },
      "outputs": [],
      "source": [
        "pothole['creation_date'] = pd.to_datetime(pothole['creation_date'])"
      ]
    },
    {
      "cell_type": "code",
      "execution_count": null,
      "metadata": {
        "id": "E7h28a4VBlEt"
      },
      "outputs": [],
      "source": [
        "pothole['completion_date'] = pd.to_datetime(pothole['completion_date'])"
      ]
    },
    {
      "cell_type": "code",
      "execution_count": null,
      "metadata": {
        "id": "_PJOML4IBlBV"
      },
      "outputs": [],
      "source": [
        "pothole['ph_month'] = pothole['creation_date'].dt.month\n",
        "pothole['ph_weekday'] = pothole['creation_date'].dt.weekday\n",
        "pothole['ph_day'] = pothole['creation_date'].dt.day\n",
        "pothole['ph_year'] = pothole['creation_date'].dt.year"
      ]
    },
    {
      "cell_type": "code",
      "execution_count": null,
      "metadata": {
        "id": "LsMkfUebBk0b"
      },
      "outputs": [],
      "source": [
        "pothole[pothole['completion_date'] < '2019-12-31'].head(2)"
      ]
    },
    {
      "cell_type": "code",
      "execution_count": null,
      "metadata": {
        "id": "JUOo-HyRBkxW"
      },
      "outputs": [],
      "source": [
        "pothole['count'] = 1"
      ]
    },
    {
      "cell_type": "code",
      "execution_count": null,
      "metadata": {
        "id": "7UGcJtACBkuU"
      },
      "outputs": [],
      "source": [
        "pothole.groupby(['ph_year', 'ph_month'])['count'].sum()"
      ]
    },
    {
      "cell_type": "code",
      "execution_count": null,
      "metadata": {
        "id": "NOJt--TdBkrN"
      },
      "outputs": [],
      "source": [
        "pothole.groupby(['ph_year', 'ph_month'])['count'].sum().reset_index()"
      ]
    },
    {
      "cell_type": "code",
      "execution_count": null,
      "metadata": {
        "id": "pUGKEhWKBkoI"
      },
      "outputs": [],
      "source": [
        "pothole.columns"
      ]
    },
    {
      "cell_type": "code",
      "execution_count": null,
      "metadata": {
        "id": "7GdO97HSBklE"
      },
      "outputs": [],
      "source": [
        "frequencymaybe = pothole.groupby(['ph_year', 'ph_month', 'ph_day'])['count'].sum()"
      ]
    },
    {
      "cell_type": "code",
      "execution_count": null,
      "metadata": {
        "id": "GxMRtA1GBkhU"
      },
      "outputs": [],
      "source": [
        "freq = (frequencymaybe.sort_values(ascending=False))"
      ]
    },
    {
      "cell_type": "code",
      "execution_count": null,
      "metadata": {
        "id": "BpNZvH2HBkdx"
      },
      "outputs": [],
      "source": [
        "print(freq)"
      ]
    },
    {
      "cell_type": "code",
      "execution_count": null,
      "metadata": {
        "id": "ldajKlFLBkaa"
      },
      "outputs": [],
      "source": [
        "# - above answers -\n",
        "#THE MONTH WITH THE MOST REPORTS IS MARCH - only 3 years from 2011-2018 had March not being the most reported\n",
        "  #FURTHERMORE, THE MONTHS WITH THE HIGHEST REPORTS PER DAY ARE IN THE WINTER\n",
        "  # all according to dataset POTHOLE"
      ]
    },
    {
      "cell_type": "code",
      "execution_count": null,
      "metadata": {
        "id": "_xg3b0v2BkXF"
      },
      "outputs": [],
      "source": [
        "#\n",
        "# How long does it take for a pothole to get patched?\n",
        "  #31.4 days - According to dataset POTHOLE\n",
        "    # median number of days is 8 - according to dataset POTHOLE"
      ]
    },
    {
      "cell_type": "code",
      "execution_count": null,
      "metadata": {
        "id": "shE1nYhJBkMe"
      },
      "outputs": [],
      "source": [
        "pothole['request_complete'] = pothole['completion_date'] - pothole['creation_date']"
      ]
    },
    {
      "cell_type": "code",
      "execution_count": null,
      "metadata": {
        "id": "Hwv3oFNCCSAH"
      },
      "outputs": [],
      "source": [
        "pothole['request_complete'] = pothole['request_complete'].dt.days"
      ]
    },
    {
      "cell_type": "code",
      "execution_count": null,
      "metadata": {
        "id": "wQ2A9roeCR8U"
      },
      "outputs": [],
      "source": [
        "pothole.columns"
      ]
    },
    {
      "cell_type": "code",
      "execution_count": null,
      "metadata": {
        "id": "EimRT2XMCR4t"
      },
      "outputs": [],
      "source": [
        "print(pothole.request_complete)"
      ]
    },
    {
      "cell_type": "code",
      "execution_count": null,
      "metadata": {
        "id": "cPOQB8hWCR1L"
      },
      "outputs": [],
      "source": [
        "lencompreq = pothole['request_complete'].mean()"
      ]
    },
    {
      "cell_type": "code",
      "execution_count": null,
      "metadata": {
        "id": "gpQgfnEaCZD0"
      },
      "outputs": [],
      "source": [
        "print(lencompreq)"
      ]
    },
    {
      "cell_type": "code",
      "execution_count": null,
      "metadata": {
        "id": "8JeEYC-bCY-Z"
      },
      "outputs": [],
      "source": [
        "medcomreq = pothole['request_complete'].median()"
      ]
    },
    {
      "cell_type": "code",
      "execution_count": null,
      "metadata": {
        "id": "Qag69p6ECY6Z"
      },
      "outputs": [],
      "source": [
        "print(medcomreq)"
      ]
    },
    {
      "cell_type": "code",
      "source": [
        "#how frequently pothole requests are made, median and groupbys"
      ],
      "metadata": {
        "id": "hBkQzd978F3N"
      },
      "execution_count": null,
      "outputs": []
    },
    {
      "cell_type": "code",
      "source": [
        "pothole_data = pd.read_csv('https://data.cityofchicago.org/resource/7as2-ds3y.csv?$limit=1000000')"
      ],
      "metadata": {
        "id": "Sg8qy6hXC9hT"
      },
      "execution_count": null,
      "outputs": []
    },
    {
      "cell_type": "code",
      "source": [
        "pothole_data['creation_date'] = pd.to_datetime(pothole_data['creation_date'])"
      ],
      "metadata": {
        "id": "qpAuIwgO8eFX"
      },
      "execution_count": null,
      "outputs": []
    },
    {
      "cell_type": "code",
      "source": [
        "median_requests = pothole_data['creation_date'].median()"
      ],
      "metadata": {
        "id": "nKUNbeGC81oE"
      },
      "execution_count": null,
      "outputs": []
    },
    {
      "cell_type": "code",
      "source": [
        "print(median_requests)"
      ],
      "metadata": {
        "id": "m4kI7i7184KA",
        "colab": {
          "base_uri": "https://localhost:8080/"
        },
        "outputId": "3678b5b6-4106-4c57-94e7-31204d3ceae7"
      },
      "execution_count": null,
      "outputs": [
        {
          "output_type": "stream",
          "name": "stdout",
          "text": [
            "2014-05-13 00:00:00\n"
          ]
        }
      ]
    },
    {
      "cell_type": "code",
      "source": [
        "grouped_data = pothole_data.groupby('location')['number_of_potholes_filled_on_block'].mean()"
      ],
      "metadata": {
        "id": "wwfXrIHN85Iq"
      },
      "execution_count": null,
      "outputs": []
    },
    {
      "cell_type": "code",
      "source": [
        "requests_per_location = pothole_data['location'].value_counts()"
      ],
      "metadata": {
        "id": "9gzIg2Bc88O1"
      },
      "execution_count": null,
      "outputs": []
    },
    {
      "cell_type": "code",
      "source": [
        "requests_per_location = pothole_data.groupby('location').size()"
      ],
      "metadata": {
        "id": "XZv31Qja8-ya"
      },
      "execution_count": null,
      "outputs": []
    },
    {
      "cell_type": "code",
      "source": [
        "avg_potholes_per_request = pothole_data.groupby('location')['number_of_potholes_filled_on_block'].mean()"
      ],
      "metadata": {
        "id": "FVtVLdSt9AyE"
      },
      "execution_count": null,
      "outputs": []
    },
    {
      "cell_type": "code",
      "source": [
        "print(median_requests)"
      ],
      "metadata": {
        "id": "ay9jEe8a9Cyk",
        "colab": {
          "base_uri": "https://localhost:8080/"
        },
        "outputId": "a34a64c8-34fa-45eb-bd98-0ada3ff85b02"
      },
      "execution_count": null,
      "outputs": [
        {
          "output_type": "stream",
          "name": "stdout",
          "text": [
            "2014-05-13 00:00:00\n"
          ]
        }
      ]
    },
    {
      "cell_type": "code",
      "source": [
        "med_potholes_patched = pothole_data['number_of_potholes_filled_on_block'].median()"
      ],
      "metadata": {
        "id": "qiNYfHe99GI5"
      },
      "execution_count": null,
      "outputs": []
    },
    {
      "cell_type": "code",
      "source": [
        "print(\"Median number of potholes patched:\", med_potholes_patched)"
      ],
      "metadata": {
        "id": "s8Vi96bd9IaL",
        "colab": {
          "base_uri": "https://localhost:8080/"
        },
        "outputId": "7fa7ee94-6cfa-44db-e705-710e655f4dbd"
      },
      "execution_count": null,
      "outputs": [
        {
          "output_type": "stream",
          "name": "stdout",
          "text": [
            "Median number of potholes patched: 5.0\n"
          ]
        }
      ]
    }
  ],
  "metadata": {
    "colab": {
      "provenance": []
    },
    "kernelspec": {
      "display_name": "Python 3",
      "name": "python3"
    },
    "language_info": {
      "name": "python"
    }
  },
  "nbformat": 4,
  "nbformat_minor": 0
}