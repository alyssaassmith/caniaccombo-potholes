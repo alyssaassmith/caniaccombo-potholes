{
  "cells": [
    {
      "cell_type": "code",
      "execution_count": 1,
      "metadata": {
        "id": "BqPcKV-ibL2f"
      },
      "outputs": [],
      "source": [
        "import pandas as pd\n",
        "import numpy as np\n",
        "import requests\n",
        "import geopandas as gpd"
      ]
    },
    {
      "cell_type": "code",
      "execution_count": 2,
      "metadata": {
        "id": "OgnLgmT6b1N_"
      },
      "outputs": [],
      "source": [
        "pothole = pd.read_csv(\"https://data.cityofchicago.org/resource/7as2-ds3y.csv?$limit=1000000\")"
      ]
    },
    {
      "cell_type": "code",
      "execution_count": 3,
      "metadata": {
        "colab": {
          "base_uri": "https://localhost:8080/",
          "height": 330
        },
        "id": "Hp2o9q6UF9fj",
        "outputId": "b05a52a5-8eec-4fcc-999a-e5bf37d6d73e"
      },
      "outputs": [
        {
          "output_type": "execute_result",
          "data": {
            "text/plain": [
              "             creation_date      status completion_date service_request_number  \\\n",
              "0  2018-12-18T00:00:00.000        Open             NaN            18-03387505   \n",
              "1  2018-12-18T00:00:00.000        Open             NaN            18-03387458   \n",
              "2  2018-12-18T00:00:00.000        Open             NaN            18-03387502   \n",
              "3  2018-12-18T00:00:00.000  Open - Dup             NaN            18-03388379   \n",
              "4  2018-12-18T00:00:00.000        Open             NaN            18-03388180   \n",
              "\n",
              "  type_of_service_request current_activity most_recent_action  \\\n",
              "0       Pothole in Street              NaN                NaN   \n",
              "1       Pothole in Street              NaN                NaN   \n",
              "2       Pothole in Street              NaN                NaN   \n",
              "3       Pothole in Street              NaN                NaN   \n",
              "4       Pothole in Street              NaN                NaN   \n",
              "\n",
              "   number_of_potholes_filled_on_block        street_address      zip  \\\n",
              "0                                 NaN  1145 S FAIRFIELD AVE  60612.0   \n",
              "1                                 NaN    908 S CAMPBELL AVE  60612.0   \n",
              "2                                 NaN        2421 W 21ST PL  60608.0   \n",
              "3                                 NaN        1959 S TROY ST  60623.0   \n",
              "4                                 NaN   4100 S WESTERN BLVD  60609.0   \n",
              "\n",
              "   x_coordinate  y_coordinate  ward  police_district  community_area  ssa  \\\n",
              "0  1.158186e+06  1.894949e+06  28.0             11.0            29.0  NaN   \n",
              "1  1.159861e+06  1.895934e+06  28.0             11.0            28.0  NaN   \n",
              "2  1.160590e+06  1.889668e+06  28.0             10.0            31.0  NaN   \n",
              "3  1.155670e+06  1.890142e+06  24.0             10.0            29.0  NaN   \n",
              "4  1.161202e+06  1.877426e+06  12.0              9.0            58.0  NaN   \n",
              "\n",
              "    latitude  longitude                             location  \n",
              "0  41.866992 -87.694609  (41.866991991336, -87.694608638672)  \n",
              "1  41.869927 -87.688710  (41.869927464401, -87.688710188657)  \n",
              "2  41.852826 -87.686536  (41.852826019085, -87.686535678313)  \n",
              "3  41.853704 -87.703946  (41.853703821634, -87.703946492923)  \n",
              "4  41.819247 -87.684305   (41.819246696086, -87.68430532228)  "
            ],
            "text/html": [
              "\n",
              "  <div id=\"df-8e03d7a3-606d-4dd7-8d86-3f5a5593c6c2\" class=\"colab-df-container\">\n",
              "    <div>\n",
              "<style scoped>\n",
              "    .dataframe tbody tr th:only-of-type {\n",
              "        vertical-align: middle;\n",
              "    }\n",
              "\n",
              "    .dataframe tbody tr th {\n",
              "        vertical-align: top;\n",
              "    }\n",
              "\n",
              "    .dataframe thead th {\n",
              "        text-align: right;\n",
              "    }\n",
              "</style>\n",
              "<table border=\"1\" class=\"dataframe\">\n",
              "  <thead>\n",
              "    <tr style=\"text-align: right;\">\n",
              "      <th></th>\n",
              "      <th>creation_date</th>\n",
              "      <th>status</th>\n",
              "      <th>completion_date</th>\n",
              "      <th>service_request_number</th>\n",
              "      <th>type_of_service_request</th>\n",
              "      <th>current_activity</th>\n",
              "      <th>most_recent_action</th>\n",
              "      <th>number_of_potholes_filled_on_block</th>\n",
              "      <th>street_address</th>\n",
              "      <th>zip</th>\n",
              "      <th>x_coordinate</th>\n",
              "      <th>y_coordinate</th>\n",
              "      <th>ward</th>\n",
              "      <th>police_district</th>\n",
              "      <th>community_area</th>\n",
              "      <th>ssa</th>\n",
              "      <th>latitude</th>\n",
              "      <th>longitude</th>\n",
              "      <th>location</th>\n",
              "    </tr>\n",
              "  </thead>\n",
              "  <tbody>\n",
              "    <tr>\n",
              "      <th>0</th>\n",
              "      <td>2018-12-18T00:00:00.000</td>\n",
              "      <td>Open</td>\n",
              "      <td>NaN</td>\n",
              "      <td>18-03387505</td>\n",
              "      <td>Pothole in Street</td>\n",
              "      <td>NaN</td>\n",
              "      <td>NaN</td>\n",
              "      <td>NaN</td>\n",
              "      <td>1145 S FAIRFIELD AVE</td>\n",
              "      <td>60612.0</td>\n",
              "      <td>1.158186e+06</td>\n",
              "      <td>1.894949e+06</td>\n",
              "      <td>28.0</td>\n",
              "      <td>11.0</td>\n",
              "      <td>29.0</td>\n",
              "      <td>NaN</td>\n",
              "      <td>41.866992</td>\n",
              "      <td>-87.694609</td>\n",
              "      <td>(41.866991991336, -87.694608638672)</td>\n",
              "    </tr>\n",
              "    <tr>\n",
              "      <th>1</th>\n",
              "      <td>2018-12-18T00:00:00.000</td>\n",
              "      <td>Open</td>\n",
              "      <td>NaN</td>\n",
              "      <td>18-03387458</td>\n",
              "      <td>Pothole in Street</td>\n",
              "      <td>NaN</td>\n",
              "      <td>NaN</td>\n",
              "      <td>NaN</td>\n",
              "      <td>908 S CAMPBELL AVE</td>\n",
              "      <td>60612.0</td>\n",
              "      <td>1.159861e+06</td>\n",
              "      <td>1.895934e+06</td>\n",
              "      <td>28.0</td>\n",
              "      <td>11.0</td>\n",
              "      <td>28.0</td>\n",
              "      <td>NaN</td>\n",
              "      <td>41.869927</td>\n",
              "      <td>-87.688710</td>\n",
              "      <td>(41.869927464401, -87.688710188657)</td>\n",
              "    </tr>\n",
              "    <tr>\n",
              "      <th>2</th>\n",
              "      <td>2018-12-18T00:00:00.000</td>\n",
              "      <td>Open</td>\n",
              "      <td>NaN</td>\n",
              "      <td>18-03387502</td>\n",
              "      <td>Pothole in Street</td>\n",
              "      <td>NaN</td>\n",
              "      <td>NaN</td>\n",
              "      <td>NaN</td>\n",
              "      <td>2421 W 21ST PL</td>\n",
              "      <td>60608.0</td>\n",
              "      <td>1.160590e+06</td>\n",
              "      <td>1.889668e+06</td>\n",
              "      <td>28.0</td>\n",
              "      <td>10.0</td>\n",
              "      <td>31.0</td>\n",
              "      <td>NaN</td>\n",
              "      <td>41.852826</td>\n",
              "      <td>-87.686536</td>\n",
              "      <td>(41.852826019085, -87.686535678313)</td>\n",
              "    </tr>\n",
              "    <tr>\n",
              "      <th>3</th>\n",
              "      <td>2018-12-18T00:00:00.000</td>\n",
              "      <td>Open - Dup</td>\n",
              "      <td>NaN</td>\n",
              "      <td>18-03388379</td>\n",
              "      <td>Pothole in Street</td>\n",
              "      <td>NaN</td>\n",
              "      <td>NaN</td>\n",
              "      <td>NaN</td>\n",
              "      <td>1959 S TROY ST</td>\n",
              "      <td>60623.0</td>\n",
              "      <td>1.155670e+06</td>\n",
              "      <td>1.890142e+06</td>\n",
              "      <td>24.0</td>\n",
              "      <td>10.0</td>\n",
              "      <td>29.0</td>\n",
              "      <td>NaN</td>\n",
              "      <td>41.853704</td>\n",
              "      <td>-87.703946</td>\n",
              "      <td>(41.853703821634, -87.703946492923)</td>\n",
              "    </tr>\n",
              "    <tr>\n",
              "      <th>4</th>\n",
              "      <td>2018-12-18T00:00:00.000</td>\n",
              "      <td>Open</td>\n",
              "      <td>NaN</td>\n",
              "      <td>18-03388180</td>\n",
              "      <td>Pothole in Street</td>\n",
              "      <td>NaN</td>\n",
              "      <td>NaN</td>\n",
              "      <td>NaN</td>\n",
              "      <td>4100 S WESTERN BLVD</td>\n",
              "      <td>60609.0</td>\n",
              "      <td>1.161202e+06</td>\n",
              "      <td>1.877426e+06</td>\n",
              "      <td>12.0</td>\n",
              "      <td>9.0</td>\n",
              "      <td>58.0</td>\n",
              "      <td>NaN</td>\n",
              "      <td>41.819247</td>\n",
              "      <td>-87.684305</td>\n",
              "      <td>(41.819246696086, -87.68430532228)</td>\n",
              "    </tr>\n",
              "  </tbody>\n",
              "</table>\n",
              "</div>\n",
              "    <div class=\"colab-df-buttons\">\n",
              "\n",
              "  <div class=\"colab-df-container\">\n",
              "    <button class=\"colab-df-convert\" onclick=\"convertToInteractive('df-8e03d7a3-606d-4dd7-8d86-3f5a5593c6c2')\"\n",
              "            title=\"Convert this dataframe to an interactive table.\"\n",
              "            style=\"display:none;\">\n",
              "\n",
              "  <svg xmlns=\"http://www.w3.org/2000/svg\" height=\"24px\" viewBox=\"0 -960 960 960\">\n",
              "    <path d=\"M120-120v-720h720v720H120Zm60-500h600v-160H180v160Zm220 220h160v-160H400v160Zm0 220h160v-160H400v160ZM180-400h160v-160H180v160Zm440 0h160v-160H620v160ZM180-180h160v-160H180v160Zm440 0h160v-160H620v160Z\"/>\n",
              "  </svg>\n",
              "    </button>\n",
              "\n",
              "  <style>\n",
              "    .colab-df-container {\n",
              "      display:flex;\n",
              "      gap: 12px;\n",
              "    }\n",
              "\n",
              "    .colab-df-convert {\n",
              "      background-color: #E8F0FE;\n",
              "      border: none;\n",
              "      border-radius: 50%;\n",
              "      cursor: pointer;\n",
              "      display: none;\n",
              "      fill: #1967D2;\n",
              "      height: 32px;\n",
              "      padding: 0 0 0 0;\n",
              "      width: 32px;\n",
              "    }\n",
              "\n",
              "    .colab-df-convert:hover {\n",
              "      background-color: #E2EBFA;\n",
              "      box-shadow: 0px 1px 2px rgba(60, 64, 67, 0.3), 0px 1px 3px 1px rgba(60, 64, 67, 0.15);\n",
              "      fill: #174EA6;\n",
              "    }\n",
              "\n",
              "    .colab-df-buttons div {\n",
              "      margin-bottom: 4px;\n",
              "    }\n",
              "\n",
              "    [theme=dark] .colab-df-convert {\n",
              "      background-color: #3B4455;\n",
              "      fill: #D2E3FC;\n",
              "    }\n",
              "\n",
              "    [theme=dark] .colab-df-convert:hover {\n",
              "      background-color: #434B5C;\n",
              "      box-shadow: 0px 1px 3px 1px rgba(0, 0, 0, 0.15);\n",
              "      filter: drop-shadow(0px 1px 2px rgba(0, 0, 0, 0.3));\n",
              "      fill: #FFFFFF;\n",
              "    }\n",
              "  </style>\n",
              "\n",
              "    <script>\n",
              "      const buttonEl =\n",
              "        document.querySelector('#df-8e03d7a3-606d-4dd7-8d86-3f5a5593c6c2 button.colab-df-convert');\n",
              "      buttonEl.style.display =\n",
              "        google.colab.kernel.accessAllowed ? 'block' : 'none';\n",
              "\n",
              "      async function convertToInteractive(key) {\n",
              "        const element = document.querySelector('#df-8e03d7a3-606d-4dd7-8d86-3f5a5593c6c2');\n",
              "        const dataTable =\n",
              "          await google.colab.kernel.invokeFunction('convertToInteractive',\n",
              "                                                    [key], {});\n",
              "        if (!dataTable) return;\n",
              "\n",
              "        const docLinkHtml = 'Like what you see? Visit the ' +\n",
              "          '<a target=\"_blank\" href=https://colab.research.google.com/notebooks/data_table.ipynb>data table notebook</a>'\n",
              "          + ' to learn more about interactive tables.';\n",
              "        element.innerHTML = '';\n",
              "        dataTable['output_type'] = 'display_data';\n",
              "        await google.colab.output.renderOutput(dataTable, element);\n",
              "        const docLink = document.createElement('div');\n",
              "        docLink.innerHTML = docLinkHtml;\n",
              "        element.appendChild(docLink);\n",
              "      }\n",
              "    </script>\n",
              "  </div>\n",
              "\n",
              "\n",
              "<div id=\"df-af576853-8b35-4710-91af-dad63b91952d\">\n",
              "  <button class=\"colab-df-quickchart\" onclick=\"quickchart('df-af576853-8b35-4710-91af-dad63b91952d')\"\n",
              "            title=\"Suggest charts\"\n",
              "            style=\"display:none;\">\n",
              "\n",
              "<svg xmlns=\"http://www.w3.org/2000/svg\" height=\"24px\"viewBox=\"0 0 24 24\"\n",
              "     width=\"24px\">\n",
              "    <g>\n",
              "        <path d=\"M19 3H5c-1.1 0-2 .9-2 2v14c0 1.1.9 2 2 2h14c1.1 0 2-.9 2-2V5c0-1.1-.9-2-2-2zM9 17H7v-7h2v7zm4 0h-2V7h2v10zm4 0h-2v-4h2v4z\"/>\n",
              "    </g>\n",
              "</svg>\n",
              "  </button>\n",
              "\n",
              "<style>\n",
              "  .colab-df-quickchart {\n",
              "      --bg-color: #E8F0FE;\n",
              "      --fill-color: #1967D2;\n",
              "      --hover-bg-color: #E2EBFA;\n",
              "      --hover-fill-color: #174EA6;\n",
              "      --disabled-fill-color: #AAA;\n",
              "      --disabled-bg-color: #DDD;\n",
              "  }\n",
              "\n",
              "  [theme=dark] .colab-df-quickchart {\n",
              "      --bg-color: #3B4455;\n",
              "      --fill-color: #D2E3FC;\n",
              "      --hover-bg-color: #434B5C;\n",
              "      --hover-fill-color: #FFFFFF;\n",
              "      --disabled-bg-color: #3B4455;\n",
              "      --disabled-fill-color: #666;\n",
              "  }\n",
              "\n",
              "  .colab-df-quickchart {\n",
              "    background-color: var(--bg-color);\n",
              "    border: none;\n",
              "    border-radius: 50%;\n",
              "    cursor: pointer;\n",
              "    display: none;\n",
              "    fill: var(--fill-color);\n",
              "    height: 32px;\n",
              "    padding: 0;\n",
              "    width: 32px;\n",
              "  }\n",
              "\n",
              "  .colab-df-quickchart:hover {\n",
              "    background-color: var(--hover-bg-color);\n",
              "    box-shadow: 0 1px 2px rgba(60, 64, 67, 0.3), 0 1px 3px 1px rgba(60, 64, 67, 0.15);\n",
              "    fill: var(--button-hover-fill-color);\n",
              "  }\n",
              "\n",
              "  .colab-df-quickchart-complete:disabled,\n",
              "  .colab-df-quickchart-complete:disabled:hover {\n",
              "    background-color: var(--disabled-bg-color);\n",
              "    fill: var(--disabled-fill-color);\n",
              "    box-shadow: none;\n",
              "  }\n",
              "\n",
              "  .colab-df-spinner {\n",
              "    border: 2px solid var(--fill-color);\n",
              "    border-color: transparent;\n",
              "    border-bottom-color: var(--fill-color);\n",
              "    animation:\n",
              "      spin 1s steps(1) infinite;\n",
              "  }\n",
              "\n",
              "  @keyframes spin {\n",
              "    0% {\n",
              "      border-color: transparent;\n",
              "      border-bottom-color: var(--fill-color);\n",
              "      border-left-color: var(--fill-color);\n",
              "    }\n",
              "    20% {\n",
              "      border-color: transparent;\n",
              "      border-left-color: var(--fill-color);\n",
              "      border-top-color: var(--fill-color);\n",
              "    }\n",
              "    30% {\n",
              "      border-color: transparent;\n",
              "      border-left-color: var(--fill-color);\n",
              "      border-top-color: var(--fill-color);\n",
              "      border-right-color: var(--fill-color);\n",
              "    }\n",
              "    40% {\n",
              "      border-color: transparent;\n",
              "      border-right-color: var(--fill-color);\n",
              "      border-top-color: var(--fill-color);\n",
              "    }\n",
              "    60% {\n",
              "      border-color: transparent;\n",
              "      border-right-color: var(--fill-color);\n",
              "    }\n",
              "    80% {\n",
              "      border-color: transparent;\n",
              "      border-right-color: var(--fill-color);\n",
              "      border-bottom-color: var(--fill-color);\n",
              "    }\n",
              "    90% {\n",
              "      border-color: transparent;\n",
              "      border-bottom-color: var(--fill-color);\n",
              "    }\n",
              "  }\n",
              "</style>\n",
              "\n",
              "  <script>\n",
              "    async function quickchart(key) {\n",
              "      const quickchartButtonEl =\n",
              "        document.querySelector('#' + key + ' button');\n",
              "      quickchartButtonEl.disabled = true;  // To prevent multiple clicks.\n",
              "      quickchartButtonEl.classList.add('colab-df-spinner');\n",
              "      try {\n",
              "        const charts = await google.colab.kernel.invokeFunction(\n",
              "            'suggestCharts', [key], {});\n",
              "      } catch (error) {\n",
              "        console.error('Error during call to suggestCharts:', error);\n",
              "      }\n",
              "      quickchartButtonEl.classList.remove('colab-df-spinner');\n",
              "      quickchartButtonEl.classList.add('colab-df-quickchart-complete');\n",
              "    }\n",
              "    (() => {\n",
              "      let quickchartButtonEl =\n",
              "        document.querySelector('#df-af576853-8b35-4710-91af-dad63b91952d button');\n",
              "      quickchartButtonEl.style.display =\n",
              "        google.colab.kernel.accessAllowed ? 'block' : 'none';\n",
              "    })();\n",
              "  </script>\n",
              "</div>\n",
              "\n",
              "    </div>\n",
              "  </div>\n"
            ],
            "application/vnd.google.colaboratory.intrinsic+json": {
              "type": "dataframe",
              "variable_name": "pothole"
            }
          },
          "metadata": {},
          "execution_count": 3
        }
      ],
      "source": [
        "pothole.head()"
      ]
    },
    {
      "cell_type": "code",
      "execution_count": 4,
      "metadata": {
        "colab": {
          "base_uri": "https://localhost:8080/",
          "height": 313
        },
        "id": "7Hzs8l81F_jf",
        "outputId": "09369231-9838-4b6a-ef03-120da2c448e7"
      },
      "outputs": [
        {
          "output_type": "execute_result",
          "data": {
            "text/plain": [
              "                  creation_date     status          completion_date  \\\n",
              "560473  2010-03-11T00:00:00.000  Completed  2011-03-28T00:00:00.000   \n",
              "560474  2010-02-26T00:00:00.000  Completed  2011-10-04T00:00:00.000   \n",
              "560475  2009-08-27T00:00:00.000  Completed  2011-01-25T00:00:00.000   \n",
              "560476  2009-06-17T00:00:00.000  Completed  2011-06-07T00:00:00.000   \n",
              "560477  2009-01-12T00:00:00.000  Completed  2011-10-06T00:00:00.000   \n",
              "\n",
              "       service_request_number type_of_service_request current_activity  \\\n",
              "560473            10-00317212      Pot Hole in Street    Dispatch Crew   \n",
              "560474            10-00254019      Pot Hole in Street              NaN   \n",
              "560475            09-01501980      Pot Hole in Street      Site Survey   \n",
              "560476            09-01026546      Pot Hole in Street    Dispatch Crew   \n",
              "560477            09-00061329      Pot Hole in Street    Dispatch Crew   \n",
              "\n",
              "       most_recent_action  number_of_potholes_filled_on_block  \\\n",
              "560473    Pothole Patched                                 5.0   \n",
              "560474                NaN                                 NaN   \n",
              "560475   No Problem Found                                80.0   \n",
              "560476    Pothole Patched                                 NaN   \n",
              "560477    Pothole Patched                                33.0   \n",
              "\n",
              "            street_address      zip  x_coordinate  y_coordinate  ward  \\\n",
              "560473  7201 W BELMONT AVE  60634.0           NaN           NaN  36.0   \n",
              "560474  1440 S ROCKWELL ST  60608.0  1.159269e+06  1.892879e+06  28.0   \n",
              "560475    5518 N WAYNE AVE  60640.0           NaN           NaN  48.0   \n",
              "560476   3845 W ADDISON ST  60618.0  1.150061e+06  1.923655e+06  30.0   \n",
              "560477   2519 S HALSTED ST  60608.0  1.171397e+06  1.887376e+06  11.0   \n",
              "\n",
              "        police_district  community_area  ssa   latitude  longitude  \\\n",
              "560473             25.0            17.0  NaN  41.937886 -87.806806   \n",
              "560474             10.0            29.0  NaN  41.861757 -87.690973   \n",
              "560475             20.0            77.0  NaN  41.982340 -87.663869   \n",
              "560476             17.0            21.0  NaN  41.946303 -87.724348   \n",
              "560477              9.0            60.0  NaN  41.846460 -87.646321   \n",
              "\n",
              "                                   location  \n",
              "560473    (41.937885966284, -87.8068055064)  \n",
              "560474  (41.861756644625, -87.690972506101)  \n",
              "560475   (41.98234020574, -87.663868977471)  \n",
              "560476  (41.946303283819, -87.724347984027)  \n",
              "560477  (41.846459969324, -87.646320667697)  "
            ],
            "text/html": [
              "\n",
              "  <div id=\"df-3b580cab-fd4e-4540-9062-7887b4a088bc\" class=\"colab-df-container\">\n",
              "    <div>\n",
              "<style scoped>\n",
              "    .dataframe tbody tr th:only-of-type {\n",
              "        vertical-align: middle;\n",
              "    }\n",
              "\n",
              "    .dataframe tbody tr th {\n",
              "        vertical-align: top;\n",
              "    }\n",
              "\n",
              "    .dataframe thead th {\n",
              "        text-align: right;\n",
              "    }\n",
              "</style>\n",
              "<table border=\"1\" class=\"dataframe\">\n",
              "  <thead>\n",
              "    <tr style=\"text-align: right;\">\n",
              "      <th></th>\n",
              "      <th>creation_date</th>\n",
              "      <th>status</th>\n",
              "      <th>completion_date</th>\n",
              "      <th>service_request_number</th>\n",
              "      <th>type_of_service_request</th>\n",
              "      <th>current_activity</th>\n",
              "      <th>most_recent_action</th>\n",
              "      <th>number_of_potholes_filled_on_block</th>\n",
              "      <th>street_address</th>\n",
              "      <th>zip</th>\n",
              "      <th>x_coordinate</th>\n",
              "      <th>y_coordinate</th>\n",
              "      <th>ward</th>\n",
              "      <th>police_district</th>\n",
              "      <th>community_area</th>\n",
              "      <th>ssa</th>\n",
              "      <th>latitude</th>\n",
              "      <th>longitude</th>\n",
              "      <th>location</th>\n",
              "    </tr>\n",
              "  </thead>\n",
              "  <tbody>\n",
              "    <tr>\n",
              "      <th>560473</th>\n",
              "      <td>2010-03-11T00:00:00.000</td>\n",
              "      <td>Completed</td>\n",
              "      <td>2011-03-28T00:00:00.000</td>\n",
              "      <td>10-00317212</td>\n",
              "      <td>Pot Hole in Street</td>\n",
              "      <td>Dispatch Crew</td>\n",
              "      <td>Pothole Patched</td>\n",
              "      <td>5.0</td>\n",
              "      <td>7201 W BELMONT AVE</td>\n",
              "      <td>60634.0</td>\n",
              "      <td>NaN</td>\n",
              "      <td>NaN</td>\n",
              "      <td>36.0</td>\n",
              "      <td>25.0</td>\n",
              "      <td>17.0</td>\n",
              "      <td>NaN</td>\n",
              "      <td>41.937886</td>\n",
              "      <td>-87.806806</td>\n",
              "      <td>(41.937885966284, -87.8068055064)</td>\n",
              "    </tr>\n",
              "    <tr>\n",
              "      <th>560474</th>\n",
              "      <td>2010-02-26T00:00:00.000</td>\n",
              "      <td>Completed</td>\n",
              "      <td>2011-10-04T00:00:00.000</td>\n",
              "      <td>10-00254019</td>\n",
              "      <td>Pot Hole in Street</td>\n",
              "      <td>NaN</td>\n",
              "      <td>NaN</td>\n",
              "      <td>NaN</td>\n",
              "      <td>1440 S ROCKWELL ST</td>\n",
              "      <td>60608.0</td>\n",
              "      <td>1.159269e+06</td>\n",
              "      <td>1.892879e+06</td>\n",
              "      <td>28.0</td>\n",
              "      <td>10.0</td>\n",
              "      <td>29.0</td>\n",
              "      <td>NaN</td>\n",
              "      <td>41.861757</td>\n",
              "      <td>-87.690973</td>\n",
              "      <td>(41.861756644625, -87.690972506101)</td>\n",
              "    </tr>\n",
              "    <tr>\n",
              "      <th>560475</th>\n",
              "      <td>2009-08-27T00:00:00.000</td>\n",
              "      <td>Completed</td>\n",
              "      <td>2011-01-25T00:00:00.000</td>\n",
              "      <td>09-01501980</td>\n",
              "      <td>Pot Hole in Street</td>\n",
              "      <td>Site Survey</td>\n",
              "      <td>No Problem Found</td>\n",
              "      <td>80.0</td>\n",
              "      <td>5518 N WAYNE AVE</td>\n",
              "      <td>60640.0</td>\n",
              "      <td>NaN</td>\n",
              "      <td>NaN</td>\n",
              "      <td>48.0</td>\n",
              "      <td>20.0</td>\n",
              "      <td>77.0</td>\n",
              "      <td>NaN</td>\n",
              "      <td>41.982340</td>\n",
              "      <td>-87.663869</td>\n",
              "      <td>(41.98234020574, -87.663868977471)</td>\n",
              "    </tr>\n",
              "    <tr>\n",
              "      <th>560476</th>\n",
              "      <td>2009-06-17T00:00:00.000</td>\n",
              "      <td>Completed</td>\n",
              "      <td>2011-06-07T00:00:00.000</td>\n",
              "      <td>09-01026546</td>\n",
              "      <td>Pot Hole in Street</td>\n",
              "      <td>Dispatch Crew</td>\n",
              "      <td>Pothole Patched</td>\n",
              "      <td>NaN</td>\n",
              "      <td>3845 W ADDISON ST</td>\n",
              "      <td>60618.0</td>\n",
              "      <td>1.150061e+06</td>\n",
              "      <td>1.923655e+06</td>\n",
              "      <td>30.0</td>\n",
              "      <td>17.0</td>\n",
              "      <td>21.0</td>\n",
              "      <td>NaN</td>\n",
              "      <td>41.946303</td>\n",
              "      <td>-87.724348</td>\n",
              "      <td>(41.946303283819, -87.724347984027)</td>\n",
              "    </tr>\n",
              "    <tr>\n",
              "      <th>560477</th>\n",
              "      <td>2009-01-12T00:00:00.000</td>\n",
              "      <td>Completed</td>\n",
              "      <td>2011-10-06T00:00:00.000</td>\n",
              "      <td>09-00061329</td>\n",
              "      <td>Pot Hole in Street</td>\n",
              "      <td>Dispatch Crew</td>\n",
              "      <td>Pothole Patched</td>\n",
              "      <td>33.0</td>\n",
              "      <td>2519 S HALSTED ST</td>\n",
              "      <td>60608.0</td>\n",
              "      <td>1.171397e+06</td>\n",
              "      <td>1.887376e+06</td>\n",
              "      <td>11.0</td>\n",
              "      <td>9.0</td>\n",
              "      <td>60.0</td>\n",
              "      <td>NaN</td>\n",
              "      <td>41.846460</td>\n",
              "      <td>-87.646321</td>\n",
              "      <td>(41.846459969324, -87.646320667697)</td>\n",
              "    </tr>\n",
              "  </tbody>\n",
              "</table>\n",
              "</div>\n",
              "    <div class=\"colab-df-buttons\">\n",
              "\n",
              "  <div class=\"colab-df-container\">\n",
              "    <button class=\"colab-df-convert\" onclick=\"convertToInteractive('df-3b580cab-fd4e-4540-9062-7887b4a088bc')\"\n",
              "            title=\"Convert this dataframe to an interactive table.\"\n",
              "            style=\"display:none;\">\n",
              "\n",
              "  <svg xmlns=\"http://www.w3.org/2000/svg\" height=\"24px\" viewBox=\"0 -960 960 960\">\n",
              "    <path d=\"M120-120v-720h720v720H120Zm60-500h600v-160H180v160Zm220 220h160v-160H400v160Zm0 220h160v-160H400v160ZM180-400h160v-160H180v160Zm440 0h160v-160H620v160ZM180-180h160v-160H180v160Zm440 0h160v-160H620v160Z\"/>\n",
              "  </svg>\n",
              "    </button>\n",
              "\n",
              "  <style>\n",
              "    .colab-df-container {\n",
              "      display:flex;\n",
              "      gap: 12px;\n",
              "    }\n",
              "\n",
              "    .colab-df-convert {\n",
              "      background-color: #E8F0FE;\n",
              "      border: none;\n",
              "      border-radius: 50%;\n",
              "      cursor: pointer;\n",
              "      display: none;\n",
              "      fill: #1967D2;\n",
              "      height: 32px;\n",
              "      padding: 0 0 0 0;\n",
              "      width: 32px;\n",
              "    }\n",
              "\n",
              "    .colab-df-convert:hover {\n",
              "      background-color: #E2EBFA;\n",
              "      box-shadow: 0px 1px 2px rgba(60, 64, 67, 0.3), 0px 1px 3px 1px rgba(60, 64, 67, 0.15);\n",
              "      fill: #174EA6;\n",
              "    }\n",
              "\n",
              "    .colab-df-buttons div {\n",
              "      margin-bottom: 4px;\n",
              "    }\n",
              "\n",
              "    [theme=dark] .colab-df-convert {\n",
              "      background-color: #3B4455;\n",
              "      fill: #D2E3FC;\n",
              "    }\n",
              "\n",
              "    [theme=dark] .colab-df-convert:hover {\n",
              "      background-color: #434B5C;\n",
              "      box-shadow: 0px 1px 3px 1px rgba(0, 0, 0, 0.15);\n",
              "      filter: drop-shadow(0px 1px 2px rgba(0, 0, 0, 0.3));\n",
              "      fill: #FFFFFF;\n",
              "    }\n",
              "  </style>\n",
              "\n",
              "    <script>\n",
              "      const buttonEl =\n",
              "        document.querySelector('#df-3b580cab-fd4e-4540-9062-7887b4a088bc button.colab-df-convert');\n",
              "      buttonEl.style.display =\n",
              "        google.colab.kernel.accessAllowed ? 'block' : 'none';\n",
              "\n",
              "      async function convertToInteractive(key) {\n",
              "        const element = document.querySelector('#df-3b580cab-fd4e-4540-9062-7887b4a088bc');\n",
              "        const dataTable =\n",
              "          await google.colab.kernel.invokeFunction('convertToInteractive',\n",
              "                                                    [key], {});\n",
              "        if (!dataTable) return;\n",
              "\n",
              "        const docLinkHtml = 'Like what you see? Visit the ' +\n",
              "          '<a target=\"_blank\" href=https://colab.research.google.com/notebooks/data_table.ipynb>data table notebook</a>'\n",
              "          + ' to learn more about interactive tables.';\n",
              "        element.innerHTML = '';\n",
              "        dataTable['output_type'] = 'display_data';\n",
              "        await google.colab.output.renderOutput(dataTable, element);\n",
              "        const docLink = document.createElement('div');\n",
              "        docLink.innerHTML = docLinkHtml;\n",
              "        element.appendChild(docLink);\n",
              "      }\n",
              "    </script>\n",
              "  </div>\n",
              "\n",
              "\n",
              "<div id=\"df-aaa81d93-b01b-42d2-92b3-294d4818dec3\">\n",
              "  <button class=\"colab-df-quickchart\" onclick=\"quickchart('df-aaa81d93-b01b-42d2-92b3-294d4818dec3')\"\n",
              "            title=\"Suggest charts\"\n",
              "            style=\"display:none;\">\n",
              "\n",
              "<svg xmlns=\"http://www.w3.org/2000/svg\" height=\"24px\"viewBox=\"0 0 24 24\"\n",
              "     width=\"24px\">\n",
              "    <g>\n",
              "        <path d=\"M19 3H5c-1.1 0-2 .9-2 2v14c0 1.1.9 2 2 2h14c1.1 0 2-.9 2-2V5c0-1.1-.9-2-2-2zM9 17H7v-7h2v7zm4 0h-2V7h2v10zm4 0h-2v-4h2v4z\"/>\n",
              "    </g>\n",
              "</svg>\n",
              "  </button>\n",
              "\n",
              "<style>\n",
              "  .colab-df-quickchart {\n",
              "      --bg-color: #E8F0FE;\n",
              "      --fill-color: #1967D2;\n",
              "      --hover-bg-color: #E2EBFA;\n",
              "      --hover-fill-color: #174EA6;\n",
              "      --disabled-fill-color: #AAA;\n",
              "      --disabled-bg-color: #DDD;\n",
              "  }\n",
              "\n",
              "  [theme=dark] .colab-df-quickchart {\n",
              "      --bg-color: #3B4455;\n",
              "      --fill-color: #D2E3FC;\n",
              "      --hover-bg-color: #434B5C;\n",
              "      --hover-fill-color: #FFFFFF;\n",
              "      --disabled-bg-color: #3B4455;\n",
              "      --disabled-fill-color: #666;\n",
              "  }\n",
              "\n",
              "  .colab-df-quickchart {\n",
              "    background-color: var(--bg-color);\n",
              "    border: none;\n",
              "    border-radius: 50%;\n",
              "    cursor: pointer;\n",
              "    display: none;\n",
              "    fill: var(--fill-color);\n",
              "    height: 32px;\n",
              "    padding: 0;\n",
              "    width: 32px;\n",
              "  }\n",
              "\n",
              "  .colab-df-quickchart:hover {\n",
              "    background-color: var(--hover-bg-color);\n",
              "    box-shadow: 0 1px 2px rgba(60, 64, 67, 0.3), 0 1px 3px 1px rgba(60, 64, 67, 0.15);\n",
              "    fill: var(--button-hover-fill-color);\n",
              "  }\n",
              "\n",
              "  .colab-df-quickchart-complete:disabled,\n",
              "  .colab-df-quickchart-complete:disabled:hover {\n",
              "    background-color: var(--disabled-bg-color);\n",
              "    fill: var(--disabled-fill-color);\n",
              "    box-shadow: none;\n",
              "  }\n",
              "\n",
              "  .colab-df-spinner {\n",
              "    border: 2px solid var(--fill-color);\n",
              "    border-color: transparent;\n",
              "    border-bottom-color: var(--fill-color);\n",
              "    animation:\n",
              "      spin 1s steps(1) infinite;\n",
              "  }\n",
              "\n",
              "  @keyframes spin {\n",
              "    0% {\n",
              "      border-color: transparent;\n",
              "      border-bottom-color: var(--fill-color);\n",
              "      border-left-color: var(--fill-color);\n",
              "    }\n",
              "    20% {\n",
              "      border-color: transparent;\n",
              "      border-left-color: var(--fill-color);\n",
              "      border-top-color: var(--fill-color);\n",
              "    }\n",
              "    30% {\n",
              "      border-color: transparent;\n",
              "      border-left-color: var(--fill-color);\n",
              "      border-top-color: var(--fill-color);\n",
              "      border-right-color: var(--fill-color);\n",
              "    }\n",
              "    40% {\n",
              "      border-color: transparent;\n",
              "      border-right-color: var(--fill-color);\n",
              "      border-top-color: var(--fill-color);\n",
              "    }\n",
              "    60% {\n",
              "      border-color: transparent;\n",
              "      border-right-color: var(--fill-color);\n",
              "    }\n",
              "    80% {\n",
              "      border-color: transparent;\n",
              "      border-right-color: var(--fill-color);\n",
              "      border-bottom-color: var(--fill-color);\n",
              "    }\n",
              "    90% {\n",
              "      border-color: transparent;\n",
              "      border-bottom-color: var(--fill-color);\n",
              "    }\n",
              "  }\n",
              "</style>\n",
              "\n",
              "  <script>\n",
              "    async function quickchart(key) {\n",
              "      const quickchartButtonEl =\n",
              "        document.querySelector('#' + key + ' button');\n",
              "      quickchartButtonEl.disabled = true;  // To prevent multiple clicks.\n",
              "      quickchartButtonEl.classList.add('colab-df-spinner');\n",
              "      try {\n",
              "        const charts = await google.colab.kernel.invokeFunction(\n",
              "            'suggestCharts', [key], {});\n",
              "      } catch (error) {\n",
              "        console.error('Error during call to suggestCharts:', error);\n",
              "      }\n",
              "      quickchartButtonEl.classList.remove('colab-df-spinner');\n",
              "      quickchartButtonEl.classList.add('colab-df-quickchart-complete');\n",
              "    }\n",
              "    (() => {\n",
              "      let quickchartButtonEl =\n",
              "        document.querySelector('#df-aaa81d93-b01b-42d2-92b3-294d4818dec3 button');\n",
              "      quickchartButtonEl.style.display =\n",
              "        google.colab.kernel.accessAllowed ? 'block' : 'none';\n",
              "    })();\n",
              "  </script>\n",
              "</div>\n",
              "\n",
              "    </div>\n",
              "  </div>\n"
            ],
            "application/vnd.google.colaboratory.intrinsic+json": {
              "type": "dataframe",
              "repr_error": "0"
            }
          },
          "metadata": {},
          "execution_count": 4
        }
      ],
      "source": [
        "pothole.tail()"
      ]
    },
    {
      "cell_type": "code",
      "execution_count": 5,
      "metadata": {
        "colab": {
          "base_uri": "https://localhost:8080/"
        },
        "id": "DMKARO63GBmC",
        "outputId": "281d01c8-0504-4440-f21b-d84181b3e8dc"
      },
      "outputs": [
        {
          "output_type": "execute_result",
          "data": {
            "text/plain": [
              "(560478, 19)"
            ]
          },
          "metadata": {},
          "execution_count": 5
        }
      ],
      "source": [
        "pothole.shape"
      ]
    },
    {
      "cell_type": "code",
      "execution_count": 6,
      "metadata": {
        "colab": {
          "base_uri": "https://localhost:8080/"
        },
        "id": "FWKF32WbGED0",
        "outputId": "9c659e89-b7f7-4e0a-eb5e-ccdc7687e051"
      },
      "outputs": [
        {
          "output_type": "execute_result",
          "data": {
            "text/plain": [
              "Index(['creation_date', 'status', 'completion_date', 'service_request_number',\n",
              "       'type_of_service_request', 'current_activity', 'most_recent_action',\n",
              "       'number_of_potholes_filled_on_block', 'street_address', 'zip',\n",
              "       'x_coordinate', 'y_coordinate', 'ward', 'police_district',\n",
              "       'community_area', 'ssa', 'latitude', 'longitude', 'location'],\n",
              "      dtype='object')"
            ]
          },
          "metadata": {},
          "execution_count": 6
        }
      ],
      "source": [
        "pothole.columns"
      ]
    },
    {
      "cell_type": "code",
      "execution_count": 7,
      "metadata": {
        "colab": {
          "base_uri": "https://localhost:8080/"
        },
        "id": "mmJcWbeRGFcL",
        "outputId": "1e934c9b-1588-412e-af56-9fba2af37f01"
      },
      "outputs": [
        {
          "output_type": "stream",
          "name": "stdout",
          "text": [
            "<class 'pandas.core.frame.DataFrame'>\n",
            "RangeIndex: 560478 entries, 0 to 560477\n",
            "Data columns (total 19 columns):\n",
            " #   Column                              Non-Null Count   Dtype  \n",
            "---  ------                              --------------   -----  \n",
            " 0   creation_date                       560478 non-null  object \n",
            " 1   status                              560478 non-null  object \n",
            " 2   completion_date                     553130 non-null  object \n",
            " 3   service_request_number              560478 non-null  object \n",
            " 4   type_of_service_request             560478 non-null  object \n",
            " 5   current_activity                    393609 non-null  object \n",
            " 6   most_recent_action                  391992 non-null  object \n",
            " 7   number_of_potholes_filled_on_block  399143 non-null  float64\n",
            " 8   street_address                      560476 non-null  object \n",
            " 9   zip                                 558160 non-null  float64\n",
            " 10  x_coordinate                        560004 non-null  float64\n",
            " 11  y_coordinate                        560004 non-null  float64\n",
            " 12  ward                                560145 non-null  float64\n",
            " 13  police_district                     560144 non-null  float64\n",
            " 14  community_area                      560145 non-null  float64\n",
            " 15  ssa                                 87611 non-null   float64\n",
            " 16  latitude                            559602 non-null  float64\n",
            " 17  longitude                           559602 non-null  float64\n",
            " 18  location                            559602 non-null  object \n",
            "dtypes: float64(10), object(9)\n",
            "memory usage: 81.2+ MB\n"
          ]
        }
      ],
      "source": [
        "pothole.info()"
      ]
    },
    {
      "cell_type": "code",
      "execution_count": 8,
      "metadata": {
        "colab": {
          "base_uri": "https://localhost:8080/"
        },
        "id": "KR5sKSexcD6x",
        "outputId": "f0991560-7784-4592-f2b7-d2be889c0393"
      },
      "outputs": [
        {
          "output_type": "stream",
          "name": "stdout",
          "text": [
            "                  creation_date      status          completion_date  \\\n",
            "0       2018-12-18T00:00:00.000        Open                      NaN   \n",
            "1       2018-12-18T00:00:00.000        Open                      NaN   \n",
            "2       2018-12-18T00:00:00.000        Open                      NaN   \n",
            "3       2018-12-18T00:00:00.000  Open - Dup                      NaN   \n",
            "4       2018-12-18T00:00:00.000        Open                      NaN   \n",
            "...                         ...         ...                      ...   \n",
            "560473  2010-03-11T00:00:00.000   Completed  2011-03-28T00:00:00.000   \n",
            "560474  2010-02-26T00:00:00.000   Completed  2011-10-04T00:00:00.000   \n",
            "560475  2009-08-27T00:00:00.000   Completed  2011-01-25T00:00:00.000   \n",
            "560476  2009-06-17T00:00:00.000   Completed  2011-06-07T00:00:00.000   \n",
            "560477  2009-01-12T00:00:00.000   Completed  2011-10-06T00:00:00.000   \n",
            "\n",
            "       service_request_number type_of_service_request current_activity  \\\n",
            "0                 18-03387505       Pothole in Street              NaN   \n",
            "1                 18-03387458       Pothole in Street              NaN   \n",
            "2                 18-03387502       Pothole in Street              NaN   \n",
            "3                 18-03388379       Pothole in Street              NaN   \n",
            "4                 18-03388180       Pothole in Street              NaN   \n",
            "...                       ...                     ...              ...   \n",
            "560473            10-00317212      Pot Hole in Street    Dispatch Crew   \n",
            "560474            10-00254019      Pot Hole in Street              NaN   \n",
            "560475            09-01501980      Pot Hole in Street      Site Survey   \n",
            "560476            09-01026546      Pot Hole in Street    Dispatch Crew   \n",
            "560477            09-00061329      Pot Hole in Street    Dispatch Crew   \n",
            "\n",
            "       most_recent_action  number_of_potholes_filled_on_block  \\\n",
            "0                     NaN                                 NaN   \n",
            "1                     NaN                                 NaN   \n",
            "2                     NaN                                 NaN   \n",
            "3                     NaN                                 NaN   \n",
            "4                     NaN                                 NaN   \n",
            "...                   ...                                 ...   \n",
            "560473    Pothole Patched                                 5.0   \n",
            "560474                NaN                                 NaN   \n",
            "560475   No Problem Found                                80.0   \n",
            "560476    Pothole Patched                                 NaN   \n",
            "560477    Pothole Patched                                33.0   \n",
            "\n",
            "              street_address      zip  x_coordinate  y_coordinate  ward  \\\n",
            "0       1145 S FAIRFIELD AVE  60612.0  1.158186e+06  1.894949e+06  28.0   \n",
            "1         908 S CAMPBELL AVE  60612.0  1.159861e+06  1.895934e+06  28.0   \n",
            "2             2421 W 21ST PL  60608.0  1.160590e+06  1.889668e+06  28.0   \n",
            "3             1959 S TROY ST  60623.0  1.155670e+06  1.890142e+06  24.0   \n",
            "4        4100 S WESTERN BLVD  60609.0  1.161202e+06  1.877426e+06  12.0   \n",
            "...                      ...      ...           ...           ...   ...   \n",
            "560473    7201 W BELMONT AVE  60634.0           NaN           NaN  36.0   \n",
            "560474    1440 S ROCKWELL ST  60608.0  1.159269e+06  1.892879e+06  28.0   \n",
            "560475      5518 N WAYNE AVE  60640.0           NaN           NaN  48.0   \n",
            "560476     3845 W ADDISON ST  60618.0  1.150061e+06  1.923655e+06  30.0   \n",
            "560477     2519 S HALSTED ST  60608.0  1.171397e+06  1.887376e+06  11.0   \n",
            "\n",
            "        police_district  community_area  ssa   latitude  longitude  \\\n",
            "0                  11.0            29.0  NaN  41.866992 -87.694609   \n",
            "1                  11.0            28.0  NaN  41.869927 -87.688710   \n",
            "2                  10.0            31.0  NaN  41.852826 -87.686536   \n",
            "3                  10.0            29.0  NaN  41.853704 -87.703946   \n",
            "4                   9.0            58.0  NaN  41.819247 -87.684305   \n",
            "...                 ...             ...  ...        ...        ...   \n",
            "560473             25.0            17.0  NaN  41.937886 -87.806806   \n",
            "560474             10.0            29.0  NaN  41.861757 -87.690973   \n",
            "560475             20.0            77.0  NaN  41.982340 -87.663869   \n",
            "560476             17.0            21.0  NaN  41.946303 -87.724348   \n",
            "560477              9.0            60.0  NaN  41.846460 -87.646321   \n",
            "\n",
            "                                   location  \n",
            "0       (41.866991991336, -87.694608638672)  \n",
            "1       (41.869927464401, -87.688710188657)  \n",
            "2       (41.852826019085, -87.686535678313)  \n",
            "3       (41.853703821634, -87.703946492923)  \n",
            "4        (41.819246696086, -87.68430532228)  \n",
            "...                                     ...  \n",
            "560473    (41.937885966284, -87.8068055064)  \n",
            "560474  (41.861756644625, -87.690972506101)  \n",
            "560475   (41.98234020574, -87.663868977471)  \n",
            "560476  (41.946303283819, -87.724347984027)  \n",
            "560477  (41.846459969324, -87.646320667697)  \n",
            "\n",
            "[560478 rows x 19 columns]\n"
          ]
        }
      ],
      "source": [
        "print (pothole)"
      ]
    },
    {
      "cell_type": "code",
      "execution_count": 9,
      "metadata": {
        "id": "AskBM_X6cNyR"
      },
      "outputs": [],
      "source": [
        "# What season gets the most potholes filled?"
      ]
    },
    {
      "cell_type": "code",
      "execution_count": 10,
      "metadata": {
        "id": "gFy2O_vcceOU"
      },
      "outputs": [],
      "source": [
        "patched = pd.read_csv(\"https://data.cityofchicago.org/resource/wqdh-9gek.csv?$limit=1000000\")"
      ]
    },
    {
      "cell_type": "code",
      "execution_count": 11,
      "metadata": {
        "id": "o9oxjUG1cXHL"
      },
      "outputs": [],
      "source": [
        "patched['request_date'] = pd.to_datetime(patched['request_date'])"
      ]
    },
    {
      "cell_type": "code",
      "execution_count": 12,
      "metadata": {
        "id": "sIHx4CqacjeB"
      },
      "outputs": [],
      "source": [
        "def month_to_season(month):\n",
        "    if month in [12, 1, 2]:\n",
        "        return 'Winter'\n",
        "    elif month in [3, 4, 5]:\n",
        "        return 'Spring'\n",
        "    elif month in [6, 7, 8]:\n",
        "        return 'Summer'\n",
        "    else:\n",
        "        return 'Autumn'"
      ]
    },
    {
      "cell_type": "code",
      "execution_count": 13,
      "metadata": {
        "id": "6ZPnxBwhcpLq"
      },
      "outputs": [],
      "source": [
        "patched['season'] = patched['request_date'].dt.month.apply(month_to_season)"
      ]
    },
    {
      "cell_type": "code",
      "execution_count": 14,
      "metadata": {
        "id": "HOoQvl1Zcr7X"
      },
      "outputs": [],
      "source": [
        "season_potholes_filled = patched.groupby('season')['number_of_potholes_filled_on_block'].sum()"
      ]
    },
    {
      "cell_type": "code",
      "execution_count": 15,
      "metadata": {
        "colab": {
          "base_uri": "https://localhost:8080/"
        },
        "id": "uZqyvvtQHce2",
        "outputId": "b9128bbe-2d1d-4475-a32d-3fa58fccb9b6"
      },
      "outputs": [
        {
          "output_type": "stream",
          "name": "stdout",
          "text": [
            "               address        request_date          completion_date  \\\n",
            "0  6120 N GLENWOOD AVE 2024-04-12 06:11:56  2024-04-23T13:53:13.000   \n",
            "1  6320 N LAKEWOOD AVE 2024-04-22 18:49:35  2024-04-23T13:52:28.000   \n",
            "2  6319 N LAKEWOOD AVE 2024-04-22 18:49:16  2024-04-23T13:51:46.000   \n",
            "3  6336 N GLENWOOD AVE 2024-04-16 15:05:27  2024-04-23T13:51:04.000   \n",
            "4     6344 N WAYNE AVE 2024-04-21 08:26:11  2024-04-23T13:50:17.000   \n",
            "\n",
            "   number_of_potholes_filled_on_block   latitude  longitude  \\\n",
            "0                                   6  41.993337 -87.665306   \n",
            "1                                   1  41.997024 -87.663276   \n",
            "2                                   2  41.996934 -87.662695   \n",
            "3                                   4  41.997564 -87.665656   \n",
            "4                                   9  41.997681 -87.664464   \n",
            "\n",
            "                                   location  season  \n",
            "0  POINT (-87.665306001537 41.993336779864)  Spring  \n",
            "1  POINT (-87.663276000002 41.997024000941)  Spring  \n",
            "2  POINT (-87.662695500002 41.996934000941)  Spring  \n",
            "3  POINT (-87.665656500002 41.997564000941)  Spring  \n",
            "4  POINT (-87.664464000002 41.997681000941)  Spring  \n"
          ]
        }
      ],
      "source": [
        "print(patched.head())"
      ]
    },
    {
      "cell_type": "code",
      "execution_count": 16,
      "metadata": {
        "colab": {
          "base_uri": "https://localhost:8080/"
        },
        "id": "wugSQ3bHcu_2",
        "outputId": "23e84cc8-9088-4d32-92c4-ca6a3e4ad55c"
      },
      "outputs": [
        {
          "output_type": "stream",
          "name": "stdout",
          "text": [
            "season\n",
            "Autumn    208122\n",
            "Spring    995864\n",
            "Summer    313235\n",
            "Winter    625338\n",
            "Name: number_of_potholes_filled_on_block, dtype: int64\n"
          ]
        }
      ],
      "source": [
        "print(season_potholes_filled)"
      ]
    },
    {
      "cell_type": "code",
      "execution_count": 17,
      "metadata": {
        "colab": {
          "base_uri": "https://localhost:8080/"
        },
        "id": "BCBE8vP9dhuC",
        "outputId": "67d77d00-9a10-49bb-88f0-68569b57e96d"
      },
      "outputs": [
        {
          "output_type": "stream",
          "name": "stdout",
          "text": [
            "13.407975873118453\n"
          ]
        }
      ],
      "source": [
        "average_duration_by_season = patched.groupby('season')['number_of_potholes_filled_on_block'].mean()\n",
        "print(average_duration_by_season.max())"
      ]
    },
    {
      "cell_type": "code",
      "execution_count": 18,
      "metadata": {
        "id": "PSH-tANi7ath"
      },
      "outputs": [],
      "source": [
        "# Which wards have the most pothole requests?"
      ]
    },
    {
      "cell_type": "code",
      "execution_count": 19,
      "metadata": {
        "colab": {
          "base_uri": "https://localhost:8080/"
        },
        "id": "6lMk3tzB7aXH",
        "outputId": "2789b951-9e9a-4a9f-e618-dded12067189"
      },
      "outputs": [
        {
          "output_type": "execute_result",
          "data": {
            "text/plain": [
              "ward\n",
              "41.0    21637\n",
              "45.0    16788\n",
              "19.0    16534\n",
              "23.0    16398\n",
              "32.0    16173\n",
              "13.0    15765\n",
              "39.0    15699\n",
              "8.0     15336\n",
              "42.0    14730\n",
              "34.0    14528\n",
              "21.0    14126\n",
              "2.0     13790\n",
              "18.0    13761\n",
              "36.0    13687\n",
              "27.0    13221\n",
              "38.0    12878\n",
              "50.0    12760\n",
              "14.0    12244\n",
              "10.0    12146\n",
              "40.0    11965\n",
              "29.0    11730\n",
              "6.0     11460\n",
              "35.0    10732\n",
              "28.0    10693\n",
              "25.0    10621\n",
              "1.0     10545\n",
              "5.0     10438\n",
              "9.0     10380\n",
              "11.0     9743\n",
              "12.0     9620\n",
              "49.0     9551\n",
              "47.0     9458\n",
              "31.0     9351\n",
              "17.0     9055\n",
              "24.0     9044\n",
              "37.0     8942\n",
              "30.0     8436\n",
              "26.0     8358\n",
              "43.0     8231\n",
              "7.0      7997\n",
              "33.0     7922\n",
              "16.0     7825\n",
              "3.0      7611\n",
              "20.0     7541\n",
              "15.0     7334\n",
              "48.0     7076\n",
              "4.0      7042\n",
              "22.0     6966\n",
              "44.0     6373\n",
              "46.0     4340\n",
              "0.0      1564\n",
              "Name: type_of_service_request, dtype: int64"
            ]
          },
          "metadata": {},
          "execution_count": 19
        }
      ],
      "source": [
        "pothole.groupby('ward')['type_of_service_request'].count().sort_values(ascending = False)"
      ]
    },
    {
      "cell_type": "code",
      "execution_count": 20,
      "metadata": {
        "id": "GSSKOtLl4O65"
      },
      "outputs": [],
      "source": [
        "# How many potholes are filled by block? (with patched data)"
      ]
    },
    {
      "cell_type": "code",
      "execution_count": 21,
      "metadata": {
        "colab": {
          "base_uri": "https://localhost:8080/"
        },
        "id": "rQUFXi7j4MK8",
        "outputId": "a9ce30f8-38a3-4c65-cbea-ceb89a73d557"
      },
      "outputs": [
        {
          "output_type": "execute_result",
          "data": {
            "text/plain": [
              "number_of_potholes_filled_on_block\n",
              "1      20612\n",
              "2      18121\n",
              "3      14293\n",
              "5      12579\n",
              "4      12040\n",
              "       ...  \n",
              "212        1\n",
              "214        1\n",
              "215        1\n",
              "218        1\n",
              "467        1\n",
              "Length: 230, dtype: int64"
            ]
          },
          "metadata": {},
          "execution_count": 21
        }
      ],
      "source": [
        "patched.groupby('number_of_potholes_filled_on_block').size().sort_values(ascending = False)"
      ]
    },
    {
      "cell_type": "code",
      "execution_count": 22,
      "metadata": {
        "id": "DPZ_fiDtc9h9"
      },
      "outputs": [],
      "source": [
        "# According to the patched data, how long does it take for a pothole to get patched?"
      ]
    },
    {
      "cell_type": "code",
      "execution_count": 23,
      "metadata": {
        "id": "CxW29tjHdL5o"
      },
      "outputs": [],
      "source": [
        "patched['request_date'] = pd.to_datetime(patched['request_date'])\n",
        "patched['completion_date'] = pd.to_datetime(patched['completion_date'])"
      ]
    },
    {
      "cell_type": "code",
      "execution_count": 24,
      "metadata": {
        "id": "xUltNQcddPC0"
      },
      "outputs": [],
      "source": [
        "patched['duration'] = (patched['completion_date'] - patched['request_date']).dt.days"
      ]
    },
    {
      "cell_type": "code",
      "execution_count": 25,
      "metadata": {
        "colab": {
          "base_uri": "https://localhost:8080/"
        },
        "id": "lfFjwTqbdRlI",
        "outputId": "5520f715-6e9e-4606-a7b3-33942b2c0ca8"
      },
      "outputs": [
        {
          "output_type": "stream",
          "name": "stdout",
          "text": [
            "         request_date     completion_date  duration\n",
            "0 2024-04-12 06:11:56 2024-04-23 13:53:13        11\n",
            "1 2024-04-22 18:49:35 2024-04-23 13:52:28         0\n",
            "2 2024-04-22 18:49:16 2024-04-23 13:51:46         0\n",
            "3 2024-04-16 15:05:27 2024-04-23 13:51:04         6\n",
            "4 2024-04-21 08:26:11 2024-04-23 13:50:17         2\n"
          ]
        }
      ],
      "source": [
        "print(patched[['request_date', 'completion_date', 'duration']].head())"
      ]
    },
    {
      "cell_type": "code",
      "execution_count": 26,
      "metadata": {
        "colab": {
          "base_uri": "https://localhost:8080/"
        },
        "id": "B_efOYdUdUOU",
        "outputId": "3dbf7d53-8ecb-4484-99b8-7ebb592be0eb"
      },
      "outputs": [
        {
          "output_type": "stream",
          "name": "stdout",
          "text": [
            "The average duration it takes to patch a pothole is 20.18255375748171 days.\n"
          ]
        }
      ],
      "source": [
        "average_duration = patched['duration'].mean()\n",
        "print(f\"The average duration it takes to patch a pothole is {average_duration} days.\")"
      ]
    },
    {
      "cell_type": "code",
      "execution_count": 27,
      "metadata": {
        "colab": {
          "base_uri": "https://localhost:8080/"
        },
        "id": "NK7dYrSadXXu",
        "outputId": "e9a19a7a-9bbd-4dc6-fbfa-bdecd9e1289c"
      },
      "outputs": [
        {
          "output_type": "stream",
          "name": "stdout",
          "text": [
            "The median duration it takes to patch a pothole is 4.0 days.\n"
          ]
        }
      ],
      "source": [
        "median_duration = patched['duration'].median()\n",
        "print(f\"The median duration it takes to patch a pothole is {median_duration} days.\")"
      ]
    },
    {
      "cell_type": "code",
      "execution_count": 28,
      "metadata": {
        "colab": {
          "base_uri": "https://localhost:8080/"
        },
        "id": "Yq7C89J-daWp",
        "outputId": "1f1b8e11-bb97-4a0a-c548-8bad3c576214"
      },
      "outputs": [
        {
          "output_type": "stream",
          "name": "stdout",
          "text": [
            "count    180440.000000\n",
            "mean         20.182554\n",
            "std          40.130542\n",
            "min           0.000000\n",
            "25%           0.000000\n",
            "50%           4.000000\n",
            "75%          18.000000\n",
            "max         553.000000\n",
            "Name: duration, dtype: float64\n"
          ]
        }
      ],
      "source": [
        "print(patched['duration'].describe())"
      ]
    },
    {
      "cell_type": "code",
      "execution_count": 29,
      "metadata": {
        "id": "TahrolpSd4p1"
      },
      "outputs": [],
      "source": [
        "# Show the melted date (PATCHED)"
      ]
    },
    {
      "cell_type": "code",
      "execution_count": 30,
      "metadata": {
        "id": "CuaRtiIUeD2Q"
      },
      "outputs": [],
      "source": [
        "id_vars = ['address', 'location']\n",
        "value_vars = ['request_date', 'number_of_potholes_filled_on_block']"
      ]
    },
    {
      "cell_type": "code",
      "execution_count": 31,
      "metadata": {
        "id": "PdaMwv-TeEvH"
      },
      "outputs": [],
      "source": [
        "melted_data = patched.melt(id_vars=id_vars, value_vars=value_vars, var_name='variable', value_name='value')"
      ]
    },
    {
      "cell_type": "code",
      "execution_count": 32,
      "metadata": {
        "colab": {
          "base_uri": "https://localhost:8080/"
        },
        "id": "effbwTlpeH6R",
        "outputId": "085a912b-9096-4022-ff85-f4ba22f1c9a8"
      },
      "outputs": [
        {
          "output_type": "stream",
          "name": "stdout",
          "text": [
            "                    address                                  location  \\\n",
            "0       6120 N GLENWOOD AVE  POINT (-87.665306001537 41.993336779864)   \n",
            "1       6320 N LAKEWOOD AVE  POINT (-87.663276000002 41.997024000941)   \n",
            "2       6319 N LAKEWOOD AVE  POINT (-87.662695500002 41.996934000941)   \n",
            "3       6336 N GLENWOOD AVE  POINT (-87.665656500002 41.997564000941)   \n",
            "4          6344 N WAYNE AVE  POINT (-87.664464000002 41.997681000941)   \n",
            "...                     ...                                       ...   \n",
            "360875       3911 W 61ST ST              POINT (-87.720834 41.782065)   \n",
            "360876       3908 W 61ST ST              POINT (-87.720808 41.782588)   \n",
            "360877       3900 W 62ND PL              POINT (-87.720513 41.779863)   \n",
            "360878       3847 W 61ST PL              POINT (-87.719803 41.781169)   \n",
            "360879  6400 S MAJOR Avenue  POINT (-87.764136509305 41.776112376302)   \n",
            "\n",
            "                                  variable                value  \n",
            "0                             request_date  2024-04-12 06:11:56  \n",
            "1                             request_date  2024-04-22 18:49:35  \n",
            "2                             request_date  2024-04-22 18:49:16  \n",
            "3                             request_date  2024-04-16 15:05:27  \n",
            "4                             request_date  2024-04-21 08:26:11  \n",
            "...                                    ...                  ...  \n",
            "360875  number_of_potholes_filled_on_block                    4  \n",
            "360876  number_of_potholes_filled_on_block                    3  \n",
            "360877  number_of_potholes_filled_on_block                   10  \n",
            "360878  number_of_potholes_filled_on_block                   15  \n",
            "360879  number_of_potholes_filled_on_block                   16  \n",
            "\n",
            "[360880 rows x 4 columns]\n"
          ]
        }
      ],
      "source": [
        "print(melted_data)"
      ]
    },
    {
      "cell_type": "code",
      "execution_count": 33,
      "metadata": {
        "id": "4e_VhCbaeKw3"
      },
      "outputs": [],
      "source": [
        "# LOOP (Patched)"
      ]
    },
    {
      "cell_type": "code",
      "execution_count": 34,
      "metadata": {
        "id": "Acpg2qi4eUx3"
      },
      "outputs": [],
      "source": [
        "total_potholes_per_address = {}"
      ]
    },
    {
      "cell_type": "code",
      "execution_count": 35,
      "metadata": {
        "id": "eHt--9-DekLf"
      },
      "outputs": [],
      "source": [
        "for index, row in patched.iterrows():\n",
        "    address = row['address']\n",
        "    potholes_filled = row['number_of_potholes_filled_on_block']\n",
        "if address not in total_potholes_per_address:\n",
        "        total_potholes_per_address[address] = potholes_filled\n",
        "else:total_potholes_per_address[address] += potholes_filled"
      ]
    },
    {
      "cell_type": "code",
      "execution_count": 36,
      "metadata": {
        "colab": {
          "base_uri": "https://localhost:8080/"
        },
        "id": "EcUy69IoenoL",
        "outputId": "506b88c6-762b-446f-c1db-6045aac0a63d"
      },
      "outputs": [
        {
          "output_type": "stream",
          "name": "stdout",
          "text": [
            "Address: 6400 S MAJOR Avenue, Total Potholes Filled: 16\n"
          ]
        }
      ],
      "source": [
        "for address, total_potholes in total_potholes_per_address.items():\n",
        "    print(f\"Address: {address}, Total Potholes Filled: {total_potholes}\")"
      ]
    },
    {
      "cell_type": "code",
      "execution_count": 37,
      "metadata": {
        "id": "Y2mT9Dxrewn3"
      },
      "outputs": [],
      "source": [
        "# Demonstrate an F String (Patched)"
      ]
    },
    {
      "cell_type": "code",
      "execution_count": 38,
      "metadata": {
        "colab": {
          "base_uri": "https://localhost:8080/"
        },
        "id": "qabEIbdIezsd",
        "outputId": "6fe5beba-3f82-4280-9cf1-d9ffc0569ca3"
      },
      "outputs": [
        {
          "output_type": "stream",
          "name": "stdout",
          "text": [
            "Address: 6120 N GLENWOOD AVE, Request Date: 2024-04-12 06:11:56, Potholes Filled: 6, Location: POINT (-87.665306001537 41.993336779864)\n",
            "Address: 6320 N LAKEWOOD AVE, Request Date: 2024-04-22 18:49:35, Potholes Filled: 1, Location: POINT (-87.663276000002 41.997024000941)\n",
            "Address: 6319 N LAKEWOOD AVE, Request Date: 2024-04-22 18:49:16, Potholes Filled: 2, Location: POINT (-87.662695500002 41.996934000941)\n",
            "Address: 6336 N GLENWOOD AVE, Request Date: 2024-04-16 15:05:27, Potholes Filled: 4, Location: POINT (-87.665656500002 41.997564000941)\n",
            "Address: 6344 N WAYNE AVE, Request Date: 2024-04-21 08:26:11, Potholes Filled: 9, Location: POINT (-87.664464000002 41.997681000941)\n",
            "Address: 861 W CARMEN AVE, Request Date: 2024-04-11 17:57:58, Potholes Filled: 12, Location: POINT (-87.652476000002 41.974083000941)\n",
            "Address: 5500 N SHERIDAN RD, Request Date: 2024-04-15 15:00:30, Potholes Filled: 19, Location: POINT (-87.655401000002 41.982111000941)\n",
            "Address: 1100 W CATALPA AVE, Request Date: 2024-04-12 12:44:42, Potholes Filled: 18, Location: POINT (-87.658047576978 41.981918077917)\n",
            "Address: 1446 W CATALPA AVE, Request Date: 2024-04-16 15:44:34, Potholes Filled: 14, Location: POINT (-87.666804000002 41.981913000941)\n",
            "Address: 1453 W RASCHER AVE, Request Date: 2024-04-18 14:48:44, Potholes Filled: 26, Location: POINT (-87.666952500002 41.980527000941)\n",
            "Address: 900 E 76TH ST, Request Date: 2024-04-21 11:44:44, Potholes Filled: 27, Location: POINT (-87.602724000002 41.75701200094)\n",
            "Address: 1508 W ARDMORE AVE, Request Date: 2024-04-17 14:16:54, Potholes Filled: 6, Location: POINT (-87.668033011913 41.988149693391)\n",
            "Address: 7500 S DANTE AVE, Request Date: 2024-04-18 20:52:29, Potholes Filled: 9, Location: POINT (-87.589647881876 41.758680346729)\n",
            "Address: 1375 E 64TH ST, Request Date: 2024-04-15 08:55:14, Potholes Filled: 14, Location: POINT (-87.59169528076 41.778688168524)\n",
            "Address: 6014 S COTTAGE GROVE AVE, Request Date: 2024-04-15 21:29:04, Potholes Filled: 5, Location: POINT (-87.606346500002 41.78520900094)\n",
            "Address: 6330 S MARYLAND AVE, Request Date: 2024-04-17 09:02:44, Potholes Filled: 8, Location: POINT (-87.6046892957 41.779463705242)\n",
            "Address: 3815 W SCHUBERT AVE, Request Date: 2024-04-23 13:10:01, Potholes Filled: 1, Location: POINT (-87.722657825827 41.929986986558)\n",
            "Address: 2359 N SPRINGFIELD AVE, Request Date: 2024-04-23 13:05:26, Potholes Filled: 9, Location: POINT (-87.72427263011 41.924464821865)\n",
            "Address: 3450 N KIMBALL AVE, Request Date: 2024-04-23 13:00:30, Potholes Filled: 8, Location: POINT (-87.712701388111 41.944223061947)\n",
            "Address: 2757 W ADDISON ST, Request Date: 2024-04-23 12:58:12, Potholes Filled: 3, Location: POINT (-87.697807838869 41.946614768696)\n",
            "Address: 5126 S KILDARE AVE, Request Date: 2024-04-18 11:55:50, Potholes Filled: 18, Location: POINT (-87.730965000002 41.79969900094)\n",
            "Address: 5204 S LINDER AVE, Request Date: 2024-04-08 14:26:30, Potholes Filled: 15, Location: POINT (-87.760291500002 41.79805200094)\n",
            "Address: 3618 W WRIGHTWOOD AVE, Request Date: 2024-04-04 14:18:48, Potholes Filled: 1, Location: POINT (-87.717951000002 41.928435000941)\n",
            "Address: 5019 S LA CROSSE AVE, Request Date: 2024-04-10 10:12:23, Potholes Filled: 22, Location: POINT (-87.743988000002 41.80151700094)\n",
            "Address: 2656 N SPRINGFIELD AVE, Request Date: 2024-03-27 11:36:16, Potholes Filled: 1, Location: POINT (-87.724665000002 41.929857000941)\n",
            "Address: 2127 N TRIPP AVE, Request Date: 2024-04-02 13:18:03, Potholes Filled: 3, Location: POINT (-87.732504000002 41.919741000941)\n",
            "Address: 2838 W ADDISON ST, Request Date: 2024-04-19 08:42:29, Potholes Filled: 5, Location: POINT (-87.699672000002 41.946957000941)\n",
            "Address: 3601 N RICHMOND ST, Request Date: 2024-03-22 21:01:55, Potholes Filled: 1, Location: POINT (-87.701454000002 41.946795000941)\n",
            "Address: 2854 W ADDISON ST, Request Date: 2024-04-14 13:37:21, Potholes Filled: 4, Location: POINT (-87.700180500002 41.946885000941)\n",
            "Address: 3240 N KIMBALL AVE, Request Date: 2024-04-19 09:07:17, Potholes Filled: 3, Location: POINT (-87.712870500002 41.940648000941)\n",
            "Address: 4358 W KAMERLING AVE, Request Date: 2024-03-18 12:54:55, Potholes Filled: 3, Location: POINT (-87.736059000002 41.905503000941)\n",
            "Address: 2053 N LARAMIE AVE, Request Date: 2024-04-18 17:37:12, Potholes Filled: 2, Location: POINT (-87.755728500002 41.918445000941)\n",
            "Address: 5550 W GRAND AVE, Request Date: 2024-04-19 06:58:34, Potholes Filled: 2, Location: POINT (-87.765324838002 41.918759616655)\n",
            "Address: 5800 W DICKENS AVE, Request Date: 2024-04-20 14:25:25, Potholes Filled: 7, Location: POINT (-87.770722999807 41.918063000745)\n",
            "Address: 5520 W GRAND AVE, Request Date: 2024-04-19 15:50:38, Potholes Filled: 2, Location: POINT (-87.764288016977 41.918560436552)\n",
            "Address: 2367 N OAK PARK AVE, Request Date: 2024-04-10 18:19:11, Potholes Filled: 4, Location: POINT (-87.795243470193 41.923606825095)\n",
            "Address: 2212 N MOBILE AVE, Request Date: 2024-04-14 15:57:53, Potholes Filled: 5, Location: POINT (-87.783223500002 41.921055000941)\n",
            "Address: 2332 N RUTHERFORD AVE, Request Date: 2024-04-02 15:00:51, Potholes Filled: 6, Location: POINT (-87.794059500002 41.922171000941)\n",
            "Address: 6908 W GRAND AVE, Request Date: 2024-03-27 16:45:58, Potholes Filled: 7, Location: POINT (-87.798199500002 41.923863000941)\n",
            "Address: 2658 N NEW ENGLAND AVE, Request Date: 2024-04-10 13:04:12, Potholes Filled: 27, Location: POINT (-87.798127500002 41.928903000941)\n",
            "Address: 2208 N MCVICKER AVE, Request Date: 2024-04-12 15:44:31, Potholes Filled: 8, Location: POINT (-87.776887412653 41.920691128695)\n",
            "Address: 2715 N NEWLAND AVE, Request Date: 2024-04-19 15:51:49, Potholes Filled: 10, Location: POINT (-87.798807000002 41.929524000941)\n",
            "Address: 6459 S EBERHART AVE, Request Date: 2024-04-17 08:36:50, Potholes Filled: 38, Location: POINT (-87.613137030168 41.776655779351)\n",
            "Address: 6531 S EBERHART AVE, Request Date: 2024-04-17 17:06:48, Potholes Filled: 10, Location: POINT (-87.612867000002 41.77569600094)\n",
            "Address: 6345 S GREENWOOD AVE, Request Date: 2024-04-15 21:23:09, Potholes Filled: 6, Location: POINT (-87.598804500002 41.77920600094)\n",
            "Address: 6500 S EBERHART AVE, Request Date: 2024-04-17 13:57:21, Potholes Filled: 45, Location: POINT (-87.613425000002 41.77648800094)\n",
            "Address: 6102 S ARCHER AVE, Request Date: 2024-04-15 11:42:18, Potholes Filled: 5, Location: POINT (-87.770533500002 41.79465900094)\n",
            "Address: 6118 S ARCHER AVE, Request Date: 2024-04-22 12:49:31, Potholes Filled: 10, Location: POINT (-87.771082500002 41.79467700094)\n",
            "Address: 1341 S CALIFORNIA BLVD, Request Date: 2024-04-16 12:25:32, Potholes Filled: 8, Location: POINT (-87.695541000002 41.86352700094)\n",
            "Address: 1332 S WASHTENAW AVE, Request Date: 2024-04-11 14:30:54, Potholes Filled: 7, Location: POINT (-87.693624000002 41.86374300094)\n",
            "Address: 313 W ROOSEVELT RD, Request Date: 2024-04-09 17:25:32, Potholes Filled: 2, Location: POINT (-87.635533500002 41.86433700094)\n",
            "Address: 1010 S CLINTON ST, Request Date: 2024-04-20 11:29:16, Potholes Filled: 6, Location: POINT (-87.641091000002 41.86944900094)\n",
            "Address: 1949 W FULLERTON AVE, Request Date: 2024-04-11 13:12:45, Potholes Filled: 5, Location: POINT (-87.677545500002 41.924826000941)\n",
            "Address: 2321 W LYNDALE ST, Request Date: 2024-04-11 13:13:31, Potholes Filled: 12, Location: POINT (-87.685965000002 41.922450000941)\n",
            "Address: 2401 N WESTERN AVE, Request Date: 2024-04-13 10:18:31, Potholes Filled: 5, Location: POINT (-87.687355500002 41.925069000941)\n",
            "Address: 2037 W MCLEAN AVE, Request Date: 2024-04-17 20:48:20, Potholes Filled: 8, Location: POINT (-87.679089000002 41.918355000941)\n",
            "Address: 2121 N HOYNE AVE, Request Date: 2024-04-11 13:37:49, Potholes Filled: 10, Location: POINT (-87.679894500002 41.920659000941)\n",
            "Address: 2022 W MCLEAN AVE, Request Date: 2024-04-18 08:24:05, Potholes Filled: 7, Location: POINT (-87.678648000002 41.918697000941)\n",
            "Address: 2043 N HOYNE AVE, Request Date: 2024-04-18 08:23:15, Potholes Filled: 10, Location: POINT (-87.679746000002 41.918967000941)\n",
            "Address: 2006 N ELSTON AVE, Request Date: 2024-04-10 13:04:57, Potholes Filled: 6, Location: POINT (-87.669873000002 41.918094000941)\n",
            "Address: 2308 W PALMER ST, Request Date: 2024-04-15 22:35:36, Potholes Filled: 8, Location: POINT (-87.685524000002 41.922117000941)\n",
            "Address: 2247 W FULLERTON AVE, Request Date: 2024-04-19 17:02:19, Potholes Filled: 7, Location: POINT (-87.684619500002 41.924763000941)\n",
            "Address: 2253 W FULLERTON AVE, Request Date: 2024-04-19 16:59:52, Potholes Filled: 7, Location: POINT (-87.684862500002 41.924763000941)\n",
            "Address: 1801 W DICKENS AVE, Request Date: 2024-04-12 12:58:56, Potholes Filled: 20, Location: POINT (-87.673396500002 41.919390000941)\n",
            "Address: 2053 W FULLERTON AVE, Request Date: 2024-04-19 17:33:25, Potholes Filled: 5, Location: POINT (-87.679993500002 41.924718000941)\n",
            "Address: 2016 W WEBSTER AVE, Request Date: 2024-04-11 13:03:23, Potholes Filled: 5, Location: POINT (-87.678472500002 41.921577000941)\n",
            "Address: 2115 N ASHLAND AVE, Request Date: 2024-04-17 16:06:32, Potholes Filled: 4, Location: POINT (-87.668100000002 41.920731000941)\n",
            "Address: 2120 W FULLERTON AVE, Request Date: 2024-04-12 17:46:53, Potholes Filled: 3, Location: POINT (-87.681496500002 41.925357000941)\n",
            "Address: 4330 N LARAMIE AVE, Request Date: 2024-04-23 09:02:22, Potholes Filled: 2, Location: POINT (-87.757420717947 41.959756854596)\n",
            "Address: 2825 N SAWYER AVE, Request Date: 2024-04-23 08:59:32, Potholes Filled: 5, Location: POINT (-87.708393000002 41.932809000941)\n",
            "Address: 3212 S RIDGEWAY AVE, Request Date: 2024-04-23 08:56:49, Potholes Filled: 8, Location: POINT (-87.718414500002 41.83470900094)\n",
            "Address: 3833 W EDDY ST, Request Date: 2024-04-11 21:13:44, Potholes Filled: 18, Location: POINT (-87.723796500002 41.945319000941)\n",
            "Address: 3608 W GRACE ST, Request Date: 2024-04-16 12:23:55, Potholes Filled: 10, Location: POINT (-87.718207500002 41.950278000941)\n",
            "Address: 3900 W EDDY ST, Request Date: 2024-04-07 18:29:03, Potholes Filled: 38, Location: POINT (-87.725119500002 41.945715000941)\n",
            "Address: 4333 W ADDISON ST, Request Date: 2024-04-12 06:55:21, Potholes Filled: 3, Location: POINT (-87.736630500002 41.946066000941)\n",
            "Address: 4172 W EDDY ST, Request Date: 2024-04-08 18:07:54, Potholes Filled: 2, Location: POINT (-87.732027000002 41.945751000941)\n",
            "Address: 3317 N KILPATRICK AVE, Request Date: 2024-04-09 07:09:11, Potholes Filled: 10, Location: POINT (-87.743713500002 41.941269000941)\n",
            "Address: 4425 W SCHOOL ST, Request Date: 2024-04-13 17:15:32, Potholes Filled: 15, Location: POINT (-87.738324480091 41.940775158147)\n",
            "Address: 3466 N KEATING AVE, Request Date: 2024-04-05 13:40:01, Potholes Filled: 8, Location: POINT (-87.745639500002 41.944428000941)\n",
            "Address: 4700 W WAVELAND AVE, Request Date: 2024-04-08 15:37:04, Potholes Filled: 8, Location: POINT (-87.744771000002 41.948190000941)\n",
            "Address: 4037 W CORNELIA AVE, Request Date: 2024-04-12 13:52:21, Potholes Filled: 14, Location: POINT (-87.728917500002 41.944590000941)\n",
            "Address: 3823 N CICERO AVE, Request Date: 2024-03-23 12:18:01, Potholes Filled: 3, Location: POINT (-87.746985000002 41.950521000941)\n",
            "Address: 3940 W IRVING PARK RD, Request Date: 2024-03-24 10:27:17, Potholes Filled: 2, Location: POINT (-87.726847500002 41.953887000941)\n",
            "Address: 4027 N PULASKI RD, Request Date: 2024-04-10 07:55:49, Potholes Filled: 1, Location: POINT (-87.727302000002 41.954544000941)\n",
            "Address: 4304 W BELLE PLAINE AVE, Request Date: 2024-04-04 14:21:56, Potholes Filled: 5, Location: POINT (-87.735766500002 41.955570000941)\n",
            "Address: 4401 W BERTEAU AVE, Request Date: 2024-04-04 15:06:27, Potholes Filled: 18, Location: POINT (-87.738301572927 41.957009996395)\n",
            "Address: 337 N ORLEANS ST, Request Date: 2024-04-21 14:08:31, Potholes Filled: 5, Location: POINT (-87.636641432235 41.888398559781)\n",
            "Address: 47 W DIVISION ST, Request Date: 2024-04-22 14:18:20, Potholes Filled: 1, Location: POINT (-87.630416552636 41.903851024753)\n",
            "Address: 100 W CHESTNUT ST, Request Date: 2024-04-17 11:58:33, Potholes Filled: 1, Location: POINT (-87.631363403946 41.898055027681)\n",
            "Address: 247 E OHIO ST, Request Date: 2024-04-19 07:32:36, Potholes Filled: 2, Location: POINT (-87.620240104682 41.891810938852)\n",
            "Address: 4955 W IRVING PARK RD, Request Date: 2024-04-09 08:08:24, Potholes Filled: 2, Location: POINT (-87.752074500002 41.953086000941)\n",
            "Address: 100 S DESPLAINES ST, Request Date: 2024-04-20 20:35:20, Potholes Filled: 20, Location: POINT (-87.644398500002 41.88042000094)\n",
            "Address: 3958 N LAVERGNE AVE, Request Date: 2024-04-09 11:29:49, Potholes Filled: 4, Location: POINT (-87.752245187582 41.953367960643)\n",
            "Address: 540 S WELLS ST, Request Date: 2024-04-21 16:08:50, Potholes Filled: 2, Location: POINT (-87.634134000002 41.87504700094)\n",
            "Address: 1 S STATE ST, Request Date: 2024-04-22 18:33:11, Potholes Filled: 1, Location: POINT (-87.627303000002 41.88177000094)\n",
            "Address: 4861 W BERENICE AVE, Request Date: 2024-04-12 07:55:38, Potholes Filled: 6, Location: POINT (-87.749794690383 41.950646960571)\n",
            "Address: 550 W KINZIE ST, Request Date: 2024-04-22 10:06:09, Potholes Filled: 6, Location: POINT (-87.641769387381 41.88913696587)\n",
            "Address: 627 W RANDOLPH ST, Request Date: 2024-04-21 18:43:58, Potholes Filled: 4, Location: POINT (-87.643944000002 41.88422700094)\n",
            "Address: 4954 W BYRON ST, Request Date: 2024-04-15 10:10:13, Potholes Filled: 17, Location: POINT (-87.752029500002 41.951727000941)\n",
            "Address: 3830 N LAMON AVE, Request Date: 2024-04-16 05:52:11, Potholes Filled: 15, Location: POINT (-87.749851278766 41.950703304154)\n"
          ]
        }
      ],
      "source": [
        "for index, row in patched.iterrows():\n",
        "  if index < 100:\n",
        "    summary_string = f\"Address: {row['address']}, Request Date: {row['request_date']}, Potholes Filled: {row['number_of_potholes_filled_on_block']}, Location: {row['location']}\"\n",
        "    print(summary_string)\n",
        "  else:\n",
        "    break"
      ]
    },
    {
      "cell_type": "markdown",
      "metadata": {
        "id": "fvmHpAAdfda1"
      },
      "source": [
        "How many potholes have been patched, how many requests are still open, random sample maker of open cases, how many requests had no problem found"
      ]
    },
    {
      "cell_type": "code",
      "execution_count": 39,
      "metadata": {
        "id": "MSEoLyDIfmjK"
      },
      "outputs": [],
      "source": [
        "sample_pothole = pothole.sample(5)"
      ]
    },
    {
      "cell_type": "code",
      "execution_count": 40,
      "metadata": {
        "colab": {
          "base_uri": "https://localhost:8080/"
        },
        "id": "wqcPPRF3foMm",
        "outputId": "1df914c2-44ce-441b-873c-d9ab0a7a4c05"
      },
      "outputs": [
        {
          "output_type": "stream",
          "name": "stdout",
          "text": [
            "its completed!\n",
            "its completed!\n",
            "its completed!\n",
            "its completed!\n",
            "its completed!\n"
          ]
        }
      ],
      "source": [
        "for column in sample_pothole.iterrows():\n",
        "  if column[1]['status'] == 'Completed':\n",
        "    print('its completed!')\n",
        "  elif column[1]['status'] == 'Completed - Dup':\n",
        "    print('its completed!')\n",
        "  else:\n",
        "    print('it hasnt been completed')"
      ]
    },
    {
      "cell_type": "code",
      "execution_count": 41,
      "metadata": {
        "id": "Tsj3X5TCf6im"
      },
      "outputs": [],
      "source": [
        "open_requests = pothole['status'].isin(['Open', 'Open - Dup'])"
      ]
    },
    {
      "cell_type": "code",
      "execution_count": 42,
      "metadata": {
        "colab": {
          "base_uri": "https://localhost:8080/"
        },
        "id": "UidxYPOtf9X3",
        "outputId": "a6c7bd60-575f-47cb-da3e-199b1e463325"
      },
      "outputs": [
        {
          "output_type": "execute_result",
          "data": {
            "text/plain": [
              "status\n",
              "False    553130\n",
              "True       7348\n",
              "Name: count, dtype: int64"
            ]
          },
          "metadata": {},
          "execution_count": 42
        }
      ],
      "source": [
        "open_requests.value_counts()"
      ]
    },
    {
      "cell_type": "code",
      "execution_count": 43,
      "metadata": {
        "id": "UcfChv49gCHz"
      },
      "outputs": [],
      "source": [
        "potholes_patched = pothole['most_recent_action'] == 'Pothole Patched'"
      ]
    },
    {
      "cell_type": "code",
      "execution_count": 44,
      "metadata": {
        "colab": {
          "base_uri": "https://localhost:8080/"
        },
        "id": "YZxnEH_8gEfY",
        "outputId": "4641387e-381c-4a64-b8ae-d188d7cf8347"
      },
      "outputs": [
        {
          "output_type": "execute_result",
          "data": {
            "text/plain": [
              "most_recent_action\n",
              "True     317646\n",
              "False    242832\n",
              "Name: count, dtype: int64"
            ]
          },
          "metadata": {},
          "execution_count": 44
        }
      ],
      "source": [
        "potholes_patched.value_counts()"
      ]
    },
    {
      "cell_type": "code",
      "execution_count": 45,
      "metadata": {
        "id": "W21k8PVTgHJr"
      },
      "outputs": [],
      "source": [
        "potholes_no_problem = pothole['most_recent_action'] == 'No Problem Found'"
      ]
    },
    {
      "cell_type": "code",
      "execution_count": 46,
      "metadata": {
        "colab": {
          "base_uri": "https://localhost:8080/"
        },
        "id": "8LyOql-QgNeF",
        "outputId": "5190ac6e-d439-4cbf-8d68-9b4989e7ec7d"
      },
      "outputs": [
        {
          "output_type": "execute_result",
          "data": {
            "text/plain": [
              "most_recent_action\n",
              "False    560178\n",
              "True        300\n",
              "Name: count, dtype: int64"
            ]
          },
          "metadata": {},
          "execution_count": 46
        }
      ],
      "source": [
        "potholes_no_problem.value_counts()"
      ]
    },
    {
      "cell_type": "code",
      "execution_count": 47,
      "metadata": {
        "id": "dtpkDJOk8zNz"
      },
      "outputs": [],
      "source": [
        "# How many duplicate requests are in the pothole request data?"
      ]
    },
    {
      "cell_type": "code",
      "execution_count": 48,
      "metadata": {
        "id": "ZaFDKniC855M"
      },
      "outputs": [],
      "source": [
        "duplicates = pothole.duplicated()"
      ]
    },
    {
      "cell_type": "code",
      "execution_count": 49,
      "metadata": {
        "id": "lqgcsQIR88FF"
      },
      "outputs": [],
      "source": [
        "num_duplicates = duplicates.sum()"
      ]
    },
    {
      "cell_type": "code",
      "execution_count": 50,
      "metadata": {
        "colab": {
          "base_uri": "https://localhost:8080/"
        },
        "id": "1AfYNCiv8-A8",
        "outputId": "f3cf1f0d-61e1-4ae3-fd57-488fb6fd7ba7"
      },
      "outputs": [
        {
          "output_type": "stream",
          "name": "stdout",
          "text": [
            "there are 2 duplicate rows in the dataset.\n"
          ]
        }
      ],
      "source": [
        "if num_duplicates > 0:\n",
        "  print(f'there are {num_duplicates} duplicate rows in the dataset.')\n",
        "else:\n",
        "  print('there are no duplicate rows in the dataet.')"
      ]
    },
    {
      "cell_type": "code",
      "execution_count": 51,
      "metadata": {
        "id": "3MSWjkR4-Hrd"
      },
      "outputs": [],
      "source": [
        "# New column showing the duplicates"
      ]
    },
    {
      "cell_type": "code",
      "execution_count": 52,
      "metadata": {
        "id": "J3nYsyFM-lkL"
      },
      "outputs": [],
      "source": [
        "duplicates_col = pothole.duplicated(subset = 'service_request_number', keep=False)"
      ]
    },
    {
      "cell_type": "code",
      "execution_count": 53,
      "metadata": {
        "id": "aLothnxi-nKD"
      },
      "outputs": [],
      "source": [
        "pothole['is_duplicated'] = duplicates_col"
      ]
    },
    {
      "cell_type": "code",
      "execution_count": 54,
      "metadata": {
        "colab": {
          "base_uri": "https://localhost:8080/",
          "height": 330
        },
        "id": "fJWi1nCH-qHD",
        "outputId": "e99f13a3-1deb-4fcc-cf51-dd5d8f0a958a"
      },
      "outputs": [
        {
          "output_type": "execute_result",
          "data": {
            "text/plain": [
              "             creation_date      status completion_date service_request_number  \\\n",
              "0  2018-12-18T00:00:00.000        Open             NaN            18-03387505   \n",
              "1  2018-12-18T00:00:00.000        Open             NaN            18-03387458   \n",
              "2  2018-12-18T00:00:00.000        Open             NaN            18-03387502   \n",
              "3  2018-12-18T00:00:00.000  Open - Dup             NaN            18-03388379   \n",
              "4  2018-12-18T00:00:00.000        Open             NaN            18-03388180   \n",
              "\n",
              "  type_of_service_request current_activity most_recent_action  \\\n",
              "0       Pothole in Street              NaN                NaN   \n",
              "1       Pothole in Street              NaN                NaN   \n",
              "2       Pothole in Street              NaN                NaN   \n",
              "3       Pothole in Street              NaN                NaN   \n",
              "4       Pothole in Street              NaN                NaN   \n",
              "\n",
              "   number_of_potholes_filled_on_block        street_address      zip  \\\n",
              "0                                 NaN  1145 S FAIRFIELD AVE  60612.0   \n",
              "1                                 NaN    908 S CAMPBELL AVE  60612.0   \n",
              "2                                 NaN        2421 W 21ST PL  60608.0   \n",
              "3                                 NaN        1959 S TROY ST  60623.0   \n",
              "4                                 NaN   4100 S WESTERN BLVD  60609.0   \n",
              "\n",
              "   x_coordinate  y_coordinate  ward  police_district  community_area  ssa  \\\n",
              "0  1.158186e+06  1.894949e+06  28.0             11.0            29.0  NaN   \n",
              "1  1.159861e+06  1.895934e+06  28.0             11.0            28.0  NaN   \n",
              "2  1.160590e+06  1.889668e+06  28.0             10.0            31.0  NaN   \n",
              "3  1.155670e+06  1.890142e+06  24.0             10.0            29.0  NaN   \n",
              "4  1.161202e+06  1.877426e+06  12.0              9.0            58.0  NaN   \n",
              "\n",
              "    latitude  longitude                             location  is_duplicated  \n",
              "0  41.866992 -87.694609  (41.866991991336, -87.694608638672)          False  \n",
              "1  41.869927 -87.688710  (41.869927464401, -87.688710188657)          False  \n",
              "2  41.852826 -87.686536  (41.852826019085, -87.686535678313)          False  \n",
              "3  41.853704 -87.703946  (41.853703821634, -87.703946492923)          False  \n",
              "4  41.819247 -87.684305   (41.819246696086, -87.68430532228)          False  "
            ],
            "text/html": [
              "\n",
              "  <div id=\"df-37c0e47e-b0e3-446c-8b92-be8f48a92013\" class=\"colab-df-container\">\n",
              "    <div>\n",
              "<style scoped>\n",
              "    .dataframe tbody tr th:only-of-type {\n",
              "        vertical-align: middle;\n",
              "    }\n",
              "\n",
              "    .dataframe tbody tr th {\n",
              "        vertical-align: top;\n",
              "    }\n",
              "\n",
              "    .dataframe thead th {\n",
              "        text-align: right;\n",
              "    }\n",
              "</style>\n",
              "<table border=\"1\" class=\"dataframe\">\n",
              "  <thead>\n",
              "    <tr style=\"text-align: right;\">\n",
              "      <th></th>\n",
              "      <th>creation_date</th>\n",
              "      <th>status</th>\n",
              "      <th>completion_date</th>\n",
              "      <th>service_request_number</th>\n",
              "      <th>type_of_service_request</th>\n",
              "      <th>current_activity</th>\n",
              "      <th>most_recent_action</th>\n",
              "      <th>number_of_potholes_filled_on_block</th>\n",
              "      <th>street_address</th>\n",
              "      <th>zip</th>\n",
              "      <th>x_coordinate</th>\n",
              "      <th>y_coordinate</th>\n",
              "      <th>ward</th>\n",
              "      <th>police_district</th>\n",
              "      <th>community_area</th>\n",
              "      <th>ssa</th>\n",
              "      <th>latitude</th>\n",
              "      <th>longitude</th>\n",
              "      <th>location</th>\n",
              "      <th>is_duplicated</th>\n",
              "    </tr>\n",
              "  </thead>\n",
              "  <tbody>\n",
              "    <tr>\n",
              "      <th>0</th>\n",
              "      <td>2018-12-18T00:00:00.000</td>\n",
              "      <td>Open</td>\n",
              "      <td>NaN</td>\n",
              "      <td>18-03387505</td>\n",
              "      <td>Pothole in Street</td>\n",
              "      <td>NaN</td>\n",
              "      <td>NaN</td>\n",
              "      <td>NaN</td>\n",
              "      <td>1145 S FAIRFIELD AVE</td>\n",
              "      <td>60612.0</td>\n",
              "      <td>1.158186e+06</td>\n",
              "      <td>1.894949e+06</td>\n",
              "      <td>28.0</td>\n",
              "      <td>11.0</td>\n",
              "      <td>29.0</td>\n",
              "      <td>NaN</td>\n",
              "      <td>41.866992</td>\n",
              "      <td>-87.694609</td>\n",
              "      <td>(41.866991991336, -87.694608638672)</td>\n",
              "      <td>False</td>\n",
              "    </tr>\n",
              "    <tr>\n",
              "      <th>1</th>\n",
              "      <td>2018-12-18T00:00:00.000</td>\n",
              "      <td>Open</td>\n",
              "      <td>NaN</td>\n",
              "      <td>18-03387458</td>\n",
              "      <td>Pothole in Street</td>\n",
              "      <td>NaN</td>\n",
              "      <td>NaN</td>\n",
              "      <td>NaN</td>\n",
              "      <td>908 S CAMPBELL AVE</td>\n",
              "      <td>60612.0</td>\n",
              "      <td>1.159861e+06</td>\n",
              "      <td>1.895934e+06</td>\n",
              "      <td>28.0</td>\n",
              "      <td>11.0</td>\n",
              "      <td>28.0</td>\n",
              "      <td>NaN</td>\n",
              "      <td>41.869927</td>\n",
              "      <td>-87.688710</td>\n",
              "      <td>(41.869927464401, -87.688710188657)</td>\n",
              "      <td>False</td>\n",
              "    </tr>\n",
              "    <tr>\n",
              "      <th>2</th>\n",
              "      <td>2018-12-18T00:00:00.000</td>\n",
              "      <td>Open</td>\n",
              "      <td>NaN</td>\n",
              "      <td>18-03387502</td>\n",
              "      <td>Pothole in Street</td>\n",
              "      <td>NaN</td>\n",
              "      <td>NaN</td>\n",
              "      <td>NaN</td>\n",
              "      <td>2421 W 21ST PL</td>\n",
              "      <td>60608.0</td>\n",
              "      <td>1.160590e+06</td>\n",
              "      <td>1.889668e+06</td>\n",
              "      <td>28.0</td>\n",
              "      <td>10.0</td>\n",
              "      <td>31.0</td>\n",
              "      <td>NaN</td>\n",
              "      <td>41.852826</td>\n",
              "      <td>-87.686536</td>\n",
              "      <td>(41.852826019085, -87.686535678313)</td>\n",
              "      <td>False</td>\n",
              "    </tr>\n",
              "    <tr>\n",
              "      <th>3</th>\n",
              "      <td>2018-12-18T00:00:00.000</td>\n",
              "      <td>Open - Dup</td>\n",
              "      <td>NaN</td>\n",
              "      <td>18-03388379</td>\n",
              "      <td>Pothole in Street</td>\n",
              "      <td>NaN</td>\n",
              "      <td>NaN</td>\n",
              "      <td>NaN</td>\n",
              "      <td>1959 S TROY ST</td>\n",
              "      <td>60623.0</td>\n",
              "      <td>1.155670e+06</td>\n",
              "      <td>1.890142e+06</td>\n",
              "      <td>24.0</td>\n",
              "      <td>10.0</td>\n",
              "      <td>29.0</td>\n",
              "      <td>NaN</td>\n",
              "      <td>41.853704</td>\n",
              "      <td>-87.703946</td>\n",
              "      <td>(41.853703821634, -87.703946492923)</td>\n",
              "      <td>False</td>\n",
              "    </tr>\n",
              "    <tr>\n",
              "      <th>4</th>\n",
              "      <td>2018-12-18T00:00:00.000</td>\n",
              "      <td>Open</td>\n",
              "      <td>NaN</td>\n",
              "      <td>18-03388180</td>\n",
              "      <td>Pothole in Street</td>\n",
              "      <td>NaN</td>\n",
              "      <td>NaN</td>\n",
              "      <td>NaN</td>\n",
              "      <td>4100 S WESTERN BLVD</td>\n",
              "      <td>60609.0</td>\n",
              "      <td>1.161202e+06</td>\n",
              "      <td>1.877426e+06</td>\n",
              "      <td>12.0</td>\n",
              "      <td>9.0</td>\n",
              "      <td>58.0</td>\n",
              "      <td>NaN</td>\n",
              "      <td>41.819247</td>\n",
              "      <td>-87.684305</td>\n",
              "      <td>(41.819246696086, -87.68430532228)</td>\n",
              "      <td>False</td>\n",
              "    </tr>\n",
              "  </tbody>\n",
              "</table>\n",
              "</div>\n",
              "    <div class=\"colab-df-buttons\">\n",
              "\n",
              "  <div class=\"colab-df-container\">\n",
              "    <button class=\"colab-df-convert\" onclick=\"convertToInteractive('df-37c0e47e-b0e3-446c-8b92-be8f48a92013')\"\n",
              "            title=\"Convert this dataframe to an interactive table.\"\n",
              "            style=\"display:none;\">\n",
              "\n",
              "  <svg xmlns=\"http://www.w3.org/2000/svg\" height=\"24px\" viewBox=\"0 -960 960 960\">\n",
              "    <path d=\"M120-120v-720h720v720H120Zm60-500h600v-160H180v160Zm220 220h160v-160H400v160Zm0 220h160v-160H400v160ZM180-400h160v-160H180v160Zm440 0h160v-160H620v160ZM180-180h160v-160H180v160Zm440 0h160v-160H620v160Z\"/>\n",
              "  </svg>\n",
              "    </button>\n",
              "\n",
              "  <style>\n",
              "    .colab-df-container {\n",
              "      display:flex;\n",
              "      gap: 12px;\n",
              "    }\n",
              "\n",
              "    .colab-df-convert {\n",
              "      background-color: #E8F0FE;\n",
              "      border: none;\n",
              "      border-radius: 50%;\n",
              "      cursor: pointer;\n",
              "      display: none;\n",
              "      fill: #1967D2;\n",
              "      height: 32px;\n",
              "      padding: 0 0 0 0;\n",
              "      width: 32px;\n",
              "    }\n",
              "\n",
              "    .colab-df-convert:hover {\n",
              "      background-color: #E2EBFA;\n",
              "      box-shadow: 0px 1px 2px rgba(60, 64, 67, 0.3), 0px 1px 3px 1px rgba(60, 64, 67, 0.15);\n",
              "      fill: #174EA6;\n",
              "    }\n",
              "\n",
              "    .colab-df-buttons div {\n",
              "      margin-bottom: 4px;\n",
              "    }\n",
              "\n",
              "    [theme=dark] .colab-df-convert {\n",
              "      background-color: #3B4455;\n",
              "      fill: #D2E3FC;\n",
              "    }\n",
              "\n",
              "    [theme=dark] .colab-df-convert:hover {\n",
              "      background-color: #434B5C;\n",
              "      box-shadow: 0px 1px 3px 1px rgba(0, 0, 0, 0.15);\n",
              "      filter: drop-shadow(0px 1px 2px rgba(0, 0, 0, 0.3));\n",
              "      fill: #FFFFFF;\n",
              "    }\n",
              "  </style>\n",
              "\n",
              "    <script>\n",
              "      const buttonEl =\n",
              "        document.querySelector('#df-37c0e47e-b0e3-446c-8b92-be8f48a92013 button.colab-df-convert');\n",
              "      buttonEl.style.display =\n",
              "        google.colab.kernel.accessAllowed ? 'block' : 'none';\n",
              "\n",
              "      async function convertToInteractive(key) {\n",
              "        const element = document.querySelector('#df-37c0e47e-b0e3-446c-8b92-be8f48a92013');\n",
              "        const dataTable =\n",
              "          await google.colab.kernel.invokeFunction('convertToInteractive',\n",
              "                                                    [key], {});\n",
              "        if (!dataTable) return;\n",
              "\n",
              "        const docLinkHtml = 'Like what you see? Visit the ' +\n",
              "          '<a target=\"_blank\" href=https://colab.research.google.com/notebooks/data_table.ipynb>data table notebook</a>'\n",
              "          + ' to learn more about interactive tables.';\n",
              "        element.innerHTML = '';\n",
              "        dataTable['output_type'] = 'display_data';\n",
              "        await google.colab.output.renderOutput(dataTable, element);\n",
              "        const docLink = document.createElement('div');\n",
              "        docLink.innerHTML = docLinkHtml;\n",
              "        element.appendChild(docLink);\n",
              "      }\n",
              "    </script>\n",
              "  </div>\n",
              "\n",
              "\n",
              "<div id=\"df-b28f8649-33e9-4c40-8307-0548a1dd8c19\">\n",
              "  <button class=\"colab-df-quickchart\" onclick=\"quickchart('df-b28f8649-33e9-4c40-8307-0548a1dd8c19')\"\n",
              "            title=\"Suggest charts\"\n",
              "            style=\"display:none;\">\n",
              "\n",
              "<svg xmlns=\"http://www.w3.org/2000/svg\" height=\"24px\"viewBox=\"0 0 24 24\"\n",
              "     width=\"24px\">\n",
              "    <g>\n",
              "        <path d=\"M19 3H5c-1.1 0-2 .9-2 2v14c0 1.1.9 2 2 2h14c1.1 0 2-.9 2-2V5c0-1.1-.9-2-2-2zM9 17H7v-7h2v7zm4 0h-2V7h2v10zm4 0h-2v-4h2v4z\"/>\n",
              "    </g>\n",
              "</svg>\n",
              "  </button>\n",
              "\n",
              "<style>\n",
              "  .colab-df-quickchart {\n",
              "      --bg-color: #E8F0FE;\n",
              "      --fill-color: #1967D2;\n",
              "      --hover-bg-color: #E2EBFA;\n",
              "      --hover-fill-color: #174EA6;\n",
              "      --disabled-fill-color: #AAA;\n",
              "      --disabled-bg-color: #DDD;\n",
              "  }\n",
              "\n",
              "  [theme=dark] .colab-df-quickchart {\n",
              "      --bg-color: #3B4455;\n",
              "      --fill-color: #D2E3FC;\n",
              "      --hover-bg-color: #434B5C;\n",
              "      --hover-fill-color: #FFFFFF;\n",
              "      --disabled-bg-color: #3B4455;\n",
              "      --disabled-fill-color: #666;\n",
              "  }\n",
              "\n",
              "  .colab-df-quickchart {\n",
              "    background-color: var(--bg-color);\n",
              "    border: none;\n",
              "    border-radius: 50%;\n",
              "    cursor: pointer;\n",
              "    display: none;\n",
              "    fill: var(--fill-color);\n",
              "    height: 32px;\n",
              "    padding: 0;\n",
              "    width: 32px;\n",
              "  }\n",
              "\n",
              "  .colab-df-quickchart:hover {\n",
              "    background-color: var(--hover-bg-color);\n",
              "    box-shadow: 0 1px 2px rgba(60, 64, 67, 0.3), 0 1px 3px 1px rgba(60, 64, 67, 0.15);\n",
              "    fill: var(--button-hover-fill-color);\n",
              "  }\n",
              "\n",
              "  .colab-df-quickchart-complete:disabled,\n",
              "  .colab-df-quickchart-complete:disabled:hover {\n",
              "    background-color: var(--disabled-bg-color);\n",
              "    fill: var(--disabled-fill-color);\n",
              "    box-shadow: none;\n",
              "  }\n",
              "\n",
              "  .colab-df-spinner {\n",
              "    border: 2px solid var(--fill-color);\n",
              "    border-color: transparent;\n",
              "    border-bottom-color: var(--fill-color);\n",
              "    animation:\n",
              "      spin 1s steps(1) infinite;\n",
              "  }\n",
              "\n",
              "  @keyframes spin {\n",
              "    0% {\n",
              "      border-color: transparent;\n",
              "      border-bottom-color: var(--fill-color);\n",
              "      border-left-color: var(--fill-color);\n",
              "    }\n",
              "    20% {\n",
              "      border-color: transparent;\n",
              "      border-left-color: var(--fill-color);\n",
              "      border-top-color: var(--fill-color);\n",
              "    }\n",
              "    30% {\n",
              "      border-color: transparent;\n",
              "      border-left-color: var(--fill-color);\n",
              "      border-top-color: var(--fill-color);\n",
              "      border-right-color: var(--fill-color);\n",
              "    }\n",
              "    40% {\n",
              "      border-color: transparent;\n",
              "      border-right-color: var(--fill-color);\n",
              "      border-top-color: var(--fill-color);\n",
              "    }\n",
              "    60% {\n",
              "      border-color: transparent;\n",
              "      border-right-color: var(--fill-color);\n",
              "    }\n",
              "    80% {\n",
              "      border-color: transparent;\n",
              "      border-right-color: var(--fill-color);\n",
              "      border-bottom-color: var(--fill-color);\n",
              "    }\n",
              "    90% {\n",
              "      border-color: transparent;\n",
              "      border-bottom-color: var(--fill-color);\n",
              "    }\n",
              "  }\n",
              "</style>\n",
              "\n",
              "  <script>\n",
              "    async function quickchart(key) {\n",
              "      const quickchartButtonEl =\n",
              "        document.querySelector('#' + key + ' button');\n",
              "      quickchartButtonEl.disabled = true;  // To prevent multiple clicks.\n",
              "      quickchartButtonEl.classList.add('colab-df-spinner');\n",
              "      try {\n",
              "        const charts = await google.colab.kernel.invokeFunction(\n",
              "            'suggestCharts', [key], {});\n",
              "      } catch (error) {\n",
              "        console.error('Error during call to suggestCharts:', error);\n",
              "      }\n",
              "      quickchartButtonEl.classList.remove('colab-df-spinner');\n",
              "      quickchartButtonEl.classList.add('colab-df-quickchart-complete');\n",
              "    }\n",
              "    (() => {\n",
              "      let quickchartButtonEl =\n",
              "        document.querySelector('#df-b28f8649-33e9-4c40-8307-0548a1dd8c19 button');\n",
              "      quickchartButtonEl.style.display =\n",
              "        google.colab.kernel.accessAllowed ? 'block' : 'none';\n",
              "    })();\n",
              "  </script>\n",
              "</div>\n",
              "\n",
              "    </div>\n",
              "  </div>\n"
            ],
            "application/vnd.google.colaboratory.intrinsic+json": {
              "type": "dataframe",
              "variable_name": "pothole"
            }
          },
          "metadata": {},
          "execution_count": 54
        }
      ],
      "source": [
        "pothole.head()"
      ]
    },
    {
      "cell_type": "code",
      "execution_count": 55,
      "metadata": {
        "id": "t2g6Y7zA--ym"
      },
      "outputs": [],
      "source": [
        "# Amount of pothole requests per address?"
      ]
    },
    {
      "cell_type": "code",
      "execution_count": 56,
      "metadata": {
        "colab": {
          "base_uri": "https://localhost:8080/",
          "height": 423
        },
        "id": "drWDRUn5_Ayn",
        "outputId": "41909de2-148a-48cc-d45d-2c4961483581"
      },
      "outputs": [
        {
          "output_type": "execute_result",
          "data": {
            "text/plain": [
              "                 street_address  count\n",
              "0             55 W JACKSON BLVD    386\n",
              "1            1800 S WESTERN AVE    316\n",
              "2          8300 S VINCENNES AVE    313\n",
              "3       7500 S STONY ISLAND AVE    274\n",
              "4       9500 S STONY ISLAND AVE    268\n",
              "...                         ...    ...\n",
              "250602         3420 W NORTH AVE      1\n",
              "250603      2754 W ROOSEVELT RD      1\n",
              "250604      3932 W LAWRENCE AVE      1\n",
              "250605           138 E 123RD ST      1\n",
              "250606       1440 S ROCKWELL ST      1\n",
              "\n",
              "[250607 rows x 2 columns]"
            ],
            "text/html": [
              "\n",
              "  <div id=\"df-a65bcec1-ce76-449c-9027-5770fdb080f9\" class=\"colab-df-container\">\n",
              "    <div>\n",
              "<style scoped>\n",
              "    .dataframe tbody tr th:only-of-type {\n",
              "        vertical-align: middle;\n",
              "    }\n",
              "\n",
              "    .dataframe tbody tr th {\n",
              "        vertical-align: top;\n",
              "    }\n",
              "\n",
              "    .dataframe thead th {\n",
              "        text-align: right;\n",
              "    }\n",
              "</style>\n",
              "<table border=\"1\" class=\"dataframe\">\n",
              "  <thead>\n",
              "    <tr style=\"text-align: right;\">\n",
              "      <th></th>\n",
              "      <th>street_address</th>\n",
              "      <th>count</th>\n",
              "    </tr>\n",
              "  </thead>\n",
              "  <tbody>\n",
              "    <tr>\n",
              "      <th>0</th>\n",
              "      <td>55 W JACKSON BLVD</td>\n",
              "      <td>386</td>\n",
              "    </tr>\n",
              "    <tr>\n",
              "      <th>1</th>\n",
              "      <td>1800 S WESTERN AVE</td>\n",
              "      <td>316</td>\n",
              "    </tr>\n",
              "    <tr>\n",
              "      <th>2</th>\n",
              "      <td>8300 S VINCENNES AVE</td>\n",
              "      <td>313</td>\n",
              "    </tr>\n",
              "    <tr>\n",
              "      <th>3</th>\n",
              "      <td>7500 S STONY ISLAND AVE</td>\n",
              "      <td>274</td>\n",
              "    </tr>\n",
              "    <tr>\n",
              "      <th>4</th>\n",
              "      <td>9500 S STONY ISLAND AVE</td>\n",
              "      <td>268</td>\n",
              "    </tr>\n",
              "    <tr>\n",
              "      <th>...</th>\n",
              "      <td>...</td>\n",
              "      <td>...</td>\n",
              "    </tr>\n",
              "    <tr>\n",
              "      <th>250602</th>\n",
              "      <td>3420 W NORTH AVE</td>\n",
              "      <td>1</td>\n",
              "    </tr>\n",
              "    <tr>\n",
              "      <th>250603</th>\n",
              "      <td>2754 W ROOSEVELT RD</td>\n",
              "      <td>1</td>\n",
              "    </tr>\n",
              "    <tr>\n",
              "      <th>250604</th>\n",
              "      <td>3932 W LAWRENCE AVE</td>\n",
              "      <td>1</td>\n",
              "    </tr>\n",
              "    <tr>\n",
              "      <th>250605</th>\n",
              "      <td>138 E 123RD ST</td>\n",
              "      <td>1</td>\n",
              "    </tr>\n",
              "    <tr>\n",
              "      <th>250606</th>\n",
              "      <td>1440 S ROCKWELL ST</td>\n",
              "      <td>1</td>\n",
              "    </tr>\n",
              "  </tbody>\n",
              "</table>\n",
              "<p>250607 rows × 2 columns</p>\n",
              "</div>\n",
              "    <div class=\"colab-df-buttons\">\n",
              "\n",
              "  <div class=\"colab-df-container\">\n",
              "    <button class=\"colab-df-convert\" onclick=\"convertToInteractive('df-a65bcec1-ce76-449c-9027-5770fdb080f9')\"\n",
              "            title=\"Convert this dataframe to an interactive table.\"\n",
              "            style=\"display:none;\">\n",
              "\n",
              "  <svg xmlns=\"http://www.w3.org/2000/svg\" height=\"24px\" viewBox=\"0 -960 960 960\">\n",
              "    <path d=\"M120-120v-720h720v720H120Zm60-500h600v-160H180v160Zm220 220h160v-160H400v160Zm0 220h160v-160H400v160ZM180-400h160v-160H180v160Zm440 0h160v-160H620v160ZM180-180h160v-160H180v160Zm440 0h160v-160H620v160Z\"/>\n",
              "  </svg>\n",
              "    </button>\n",
              "\n",
              "  <style>\n",
              "    .colab-df-container {\n",
              "      display:flex;\n",
              "      gap: 12px;\n",
              "    }\n",
              "\n",
              "    .colab-df-convert {\n",
              "      background-color: #E8F0FE;\n",
              "      border: none;\n",
              "      border-radius: 50%;\n",
              "      cursor: pointer;\n",
              "      display: none;\n",
              "      fill: #1967D2;\n",
              "      height: 32px;\n",
              "      padding: 0 0 0 0;\n",
              "      width: 32px;\n",
              "    }\n",
              "\n",
              "    .colab-df-convert:hover {\n",
              "      background-color: #E2EBFA;\n",
              "      box-shadow: 0px 1px 2px rgba(60, 64, 67, 0.3), 0px 1px 3px 1px rgba(60, 64, 67, 0.15);\n",
              "      fill: #174EA6;\n",
              "    }\n",
              "\n",
              "    .colab-df-buttons div {\n",
              "      margin-bottom: 4px;\n",
              "    }\n",
              "\n",
              "    [theme=dark] .colab-df-convert {\n",
              "      background-color: #3B4455;\n",
              "      fill: #D2E3FC;\n",
              "    }\n",
              "\n",
              "    [theme=dark] .colab-df-convert:hover {\n",
              "      background-color: #434B5C;\n",
              "      box-shadow: 0px 1px 3px 1px rgba(0, 0, 0, 0.15);\n",
              "      filter: drop-shadow(0px 1px 2px rgba(0, 0, 0, 0.3));\n",
              "      fill: #FFFFFF;\n",
              "    }\n",
              "  </style>\n",
              "\n",
              "    <script>\n",
              "      const buttonEl =\n",
              "        document.querySelector('#df-a65bcec1-ce76-449c-9027-5770fdb080f9 button.colab-df-convert');\n",
              "      buttonEl.style.display =\n",
              "        google.colab.kernel.accessAllowed ? 'block' : 'none';\n",
              "\n",
              "      async function convertToInteractive(key) {\n",
              "        const element = document.querySelector('#df-a65bcec1-ce76-449c-9027-5770fdb080f9');\n",
              "        const dataTable =\n",
              "          await google.colab.kernel.invokeFunction('convertToInteractive',\n",
              "                                                    [key], {});\n",
              "        if (!dataTable) return;\n",
              "\n",
              "        const docLinkHtml = 'Like what you see? Visit the ' +\n",
              "          '<a target=\"_blank\" href=https://colab.research.google.com/notebooks/data_table.ipynb>data table notebook</a>'\n",
              "          + ' to learn more about interactive tables.';\n",
              "        element.innerHTML = '';\n",
              "        dataTable['output_type'] = 'display_data';\n",
              "        await google.colab.output.renderOutput(dataTable, element);\n",
              "        const docLink = document.createElement('div');\n",
              "        docLink.innerHTML = docLinkHtml;\n",
              "        element.appendChild(docLink);\n",
              "      }\n",
              "    </script>\n",
              "  </div>\n",
              "\n",
              "\n",
              "<div id=\"df-df5fd46a-4ae0-4d5e-a065-6e3371fb04e5\">\n",
              "  <button class=\"colab-df-quickchart\" onclick=\"quickchart('df-df5fd46a-4ae0-4d5e-a065-6e3371fb04e5')\"\n",
              "            title=\"Suggest charts\"\n",
              "            style=\"display:none;\">\n",
              "\n",
              "<svg xmlns=\"http://www.w3.org/2000/svg\" height=\"24px\"viewBox=\"0 0 24 24\"\n",
              "     width=\"24px\">\n",
              "    <g>\n",
              "        <path d=\"M19 3H5c-1.1 0-2 .9-2 2v14c0 1.1.9 2 2 2h14c1.1 0 2-.9 2-2V5c0-1.1-.9-2-2-2zM9 17H7v-7h2v7zm4 0h-2V7h2v10zm4 0h-2v-4h2v4z\"/>\n",
              "    </g>\n",
              "</svg>\n",
              "  </button>\n",
              "\n",
              "<style>\n",
              "  .colab-df-quickchart {\n",
              "      --bg-color: #E8F0FE;\n",
              "      --fill-color: #1967D2;\n",
              "      --hover-bg-color: #E2EBFA;\n",
              "      --hover-fill-color: #174EA6;\n",
              "      --disabled-fill-color: #AAA;\n",
              "      --disabled-bg-color: #DDD;\n",
              "  }\n",
              "\n",
              "  [theme=dark] .colab-df-quickchart {\n",
              "      --bg-color: #3B4455;\n",
              "      --fill-color: #D2E3FC;\n",
              "      --hover-bg-color: #434B5C;\n",
              "      --hover-fill-color: #FFFFFF;\n",
              "      --disabled-bg-color: #3B4455;\n",
              "      --disabled-fill-color: #666;\n",
              "  }\n",
              "\n",
              "  .colab-df-quickchart {\n",
              "    background-color: var(--bg-color);\n",
              "    border: none;\n",
              "    border-radius: 50%;\n",
              "    cursor: pointer;\n",
              "    display: none;\n",
              "    fill: var(--fill-color);\n",
              "    height: 32px;\n",
              "    padding: 0;\n",
              "    width: 32px;\n",
              "  }\n",
              "\n",
              "  .colab-df-quickchart:hover {\n",
              "    background-color: var(--hover-bg-color);\n",
              "    box-shadow: 0 1px 2px rgba(60, 64, 67, 0.3), 0 1px 3px 1px rgba(60, 64, 67, 0.15);\n",
              "    fill: var(--button-hover-fill-color);\n",
              "  }\n",
              "\n",
              "  .colab-df-quickchart-complete:disabled,\n",
              "  .colab-df-quickchart-complete:disabled:hover {\n",
              "    background-color: var(--disabled-bg-color);\n",
              "    fill: var(--disabled-fill-color);\n",
              "    box-shadow: none;\n",
              "  }\n",
              "\n",
              "  .colab-df-spinner {\n",
              "    border: 2px solid var(--fill-color);\n",
              "    border-color: transparent;\n",
              "    border-bottom-color: var(--fill-color);\n",
              "    animation:\n",
              "      spin 1s steps(1) infinite;\n",
              "  }\n",
              "\n",
              "  @keyframes spin {\n",
              "    0% {\n",
              "      border-color: transparent;\n",
              "      border-bottom-color: var(--fill-color);\n",
              "      border-left-color: var(--fill-color);\n",
              "    }\n",
              "    20% {\n",
              "      border-color: transparent;\n",
              "      border-left-color: var(--fill-color);\n",
              "      border-top-color: var(--fill-color);\n",
              "    }\n",
              "    30% {\n",
              "      border-color: transparent;\n",
              "      border-left-color: var(--fill-color);\n",
              "      border-top-color: var(--fill-color);\n",
              "      border-right-color: var(--fill-color);\n",
              "    }\n",
              "    40% {\n",
              "      border-color: transparent;\n",
              "      border-right-color: var(--fill-color);\n",
              "      border-top-color: var(--fill-color);\n",
              "    }\n",
              "    60% {\n",
              "      border-color: transparent;\n",
              "      border-right-color: var(--fill-color);\n",
              "    }\n",
              "    80% {\n",
              "      border-color: transparent;\n",
              "      border-right-color: var(--fill-color);\n",
              "      border-bottom-color: var(--fill-color);\n",
              "    }\n",
              "    90% {\n",
              "      border-color: transparent;\n",
              "      border-bottom-color: var(--fill-color);\n",
              "    }\n",
              "  }\n",
              "</style>\n",
              "\n",
              "  <script>\n",
              "    async function quickchart(key) {\n",
              "      const quickchartButtonEl =\n",
              "        document.querySelector('#' + key + ' button');\n",
              "      quickchartButtonEl.disabled = true;  // To prevent multiple clicks.\n",
              "      quickchartButtonEl.classList.add('colab-df-spinner');\n",
              "      try {\n",
              "        const charts = await google.colab.kernel.invokeFunction(\n",
              "            'suggestCharts', [key], {});\n",
              "      } catch (error) {\n",
              "        console.error('Error during call to suggestCharts:', error);\n",
              "      }\n",
              "      quickchartButtonEl.classList.remove('colab-df-spinner');\n",
              "      quickchartButtonEl.classList.add('colab-df-quickchart-complete');\n",
              "    }\n",
              "    (() => {\n",
              "      let quickchartButtonEl =\n",
              "        document.querySelector('#df-df5fd46a-4ae0-4d5e-a065-6e3371fb04e5 button');\n",
              "      quickchartButtonEl.style.display =\n",
              "        google.colab.kernel.accessAllowed ? 'block' : 'none';\n",
              "    })();\n",
              "  </script>\n",
              "</div>\n",
              "\n",
              "    </div>\n",
              "  </div>\n"
            ],
            "application/vnd.google.colaboratory.intrinsic+json": {
              "type": "dataframe"
            }
          },
          "metadata": {},
          "execution_count": 56
        }
      ],
      "source": [
        "pothole['street_address'].value_counts().reset_index()"
      ]
    },
    {
      "cell_type": "code",
      "execution_count": 57,
      "metadata": {
        "id": "MOQy-LHvBCNY"
      },
      "outputs": [],
      "source": [
        "#\n",
        "#Are there certain neighborhoods or points in time that occur more often?"
      ]
    },
    {
      "cell_type": "code",
      "execution_count": 58,
      "metadata": {
        "colab": {
          "base_uri": "https://localhost:8080/"
        },
        "id": "vOXM88xqBCIX",
        "outputId": "6b576418-a2a4-44f8-adeb-2159af639588"
      },
      "outputs": [
        {
          "output_type": "execute_result",
          "data": {
            "text/plain": [
              "Index(['creation_date', 'status', 'completion_date', 'service_request_number',\n",
              "       'type_of_service_request', 'current_activity', 'most_recent_action',\n",
              "       'number_of_potholes_filled_on_block', 'street_address', 'zip',\n",
              "       'x_coordinate', 'y_coordinate', 'ward', 'police_district',\n",
              "       'community_area', 'ssa', 'latitude', 'longitude', 'location',\n",
              "       'is_duplicated'],\n",
              "      dtype='object')"
            ]
          },
          "metadata": {},
          "execution_count": 58
        }
      ],
      "source": [
        "pothole.columns"
      ]
    },
    {
      "cell_type": "code",
      "execution_count": 59,
      "metadata": {
        "colab": {
          "base_uri": "https://localhost:8080/"
        },
        "id": "Csz_CL0dBCDb",
        "outputId": "075b542b-fec0-4de9-eb2c-9de3c2f3fa9d"
      },
      "outputs": [
        {
          "output_type": "execute_result",
          "data": {
            "text/plain": [
              "Index(['address', 'request_date', 'completion_date',\n",
              "       'number_of_potholes_filled_on_block', 'latitude', 'longitude',\n",
              "       'location', 'season', 'duration'],\n",
              "      dtype='object')"
            ]
          },
          "metadata": {},
          "execution_count": 59
        }
      ],
      "source": [
        "patched.columns"
      ]
    },
    {
      "cell_type": "code",
      "execution_count": 60,
      "metadata": {
        "colab": {
          "base_uri": "https://localhost:8080/"
        },
        "id": "_PH6QT9mBB86",
        "outputId": "67738c97-d6f7-4c65-b24a-f50d476e4a9f"
      },
      "outputs": [
        {
          "output_type": "stream",
          "name": "stdout",
          "text": [
            "0        2024-04-23 13:53:13\n",
            "1        2024-04-23 13:52:28\n",
            "2        2024-04-23 13:51:46\n",
            "3        2024-04-23 13:51:04\n",
            "4        2024-04-23 13:50:17\n",
            "                 ...        \n",
            "180435   2019-02-28 07:14:27\n",
            "180436   2019-02-28 07:13:30\n",
            "180437   2019-02-28 07:12:22\n",
            "180438   2019-02-28 07:11:16\n",
            "180439   2019-01-09 11:36:02\n",
            "Name: completion_date, Length: 180440, dtype: datetime64[ns]\n"
          ]
        }
      ],
      "source": [
        "print(patched.completion_date)"
      ]
    },
    {
      "cell_type": "code",
      "execution_count": 61,
      "metadata": {
        "id": "4p8bK9k-BBtI"
      },
      "outputs": [],
      "source": [
        "pothole['creation_date'] = pd.to_datetime(pothole['creation_date'])"
      ]
    },
    {
      "cell_type": "code",
      "execution_count": 62,
      "metadata": {
        "id": "E7h28a4VBlEt"
      },
      "outputs": [],
      "source": [
        "pothole['completion_date'] = pd.to_datetime(pothole['completion_date'])"
      ]
    },
    {
      "cell_type": "code",
      "execution_count": 63,
      "metadata": {
        "id": "_PJOML4IBlBV"
      },
      "outputs": [],
      "source": [
        "pothole['ph_month'] = pothole['creation_date'].dt.month\n",
        "pothole['ph_weekday'] = pothole['creation_date'].dt.weekday\n",
        "pothole['ph_day'] = pothole['creation_date'].dt.day\n",
        "pothole['ph_year'] = pothole['creation_date'].dt.year"
      ]
    },
    {
      "cell_type": "code",
      "execution_count": 64,
      "metadata": {
        "colab": {
          "base_uri": "https://localhost:8080/",
          "height": 196
        },
        "id": "LsMkfUebBk0b",
        "outputId": "d3648376-f3ce-465c-e6c4-a54664b2baa4"
      },
      "outputs": [
        {
          "output_type": "execute_result",
          "data": {
            "text/plain": [
              "   creation_date           status completion_date service_request_number  \\\n",
              "28    2018-12-17  Completed - Dup      2018-12-31            18-03378790   \n",
              "42    2018-12-17        Completed      2018-12-18            18-03378095   \n",
              "\n",
              "   type_of_service_request current_activity most_recent_action  \\\n",
              "28       Pothole in Street              NaN                NaN   \n",
              "42       Pothole in Street    Final Outcome    Pothole Patched   \n",
              "\n",
              "    number_of_potholes_filled_on_block      street_address      zip  ...  \\\n",
              "28                                 NaN  415 S FINANCIAL PL  60605.0  ...   \n",
              "42                                 7.0       600 W LAKE ST  60661.0  ...   \n",
              "\n",
              "    community_area  ssa   latitude  longitude  \\\n",
              "28            32.0  NaN  41.876480 -87.632956   \n",
              "42            28.0  NaN  41.885815 -87.642847   \n",
              "\n",
              "                              location  is_duplicated  ph_month  ph_weekday  \\\n",
              "28  (41.876479996476, -87.63295634334)          False        12           0   \n",
              "42   (41.885814724037, -87.6428471339)          False        12           0   \n",
              "\n",
              "   ph_day  ph_year  \n",
              "28     17     2018  \n",
              "42     17     2018  \n",
              "\n",
              "[2 rows x 24 columns]"
            ],
            "text/html": [
              "\n",
              "  <div id=\"df-ce339382-5e1e-437c-b6f4-928ab8b477d8\" class=\"colab-df-container\">\n",
              "    <div>\n",
              "<style scoped>\n",
              "    .dataframe tbody tr th:only-of-type {\n",
              "        vertical-align: middle;\n",
              "    }\n",
              "\n",
              "    .dataframe tbody tr th {\n",
              "        vertical-align: top;\n",
              "    }\n",
              "\n",
              "    .dataframe thead th {\n",
              "        text-align: right;\n",
              "    }\n",
              "</style>\n",
              "<table border=\"1\" class=\"dataframe\">\n",
              "  <thead>\n",
              "    <tr style=\"text-align: right;\">\n",
              "      <th></th>\n",
              "      <th>creation_date</th>\n",
              "      <th>status</th>\n",
              "      <th>completion_date</th>\n",
              "      <th>service_request_number</th>\n",
              "      <th>type_of_service_request</th>\n",
              "      <th>current_activity</th>\n",
              "      <th>most_recent_action</th>\n",
              "      <th>number_of_potholes_filled_on_block</th>\n",
              "      <th>street_address</th>\n",
              "      <th>zip</th>\n",
              "      <th>...</th>\n",
              "      <th>community_area</th>\n",
              "      <th>ssa</th>\n",
              "      <th>latitude</th>\n",
              "      <th>longitude</th>\n",
              "      <th>location</th>\n",
              "      <th>is_duplicated</th>\n",
              "      <th>ph_month</th>\n",
              "      <th>ph_weekday</th>\n",
              "      <th>ph_day</th>\n",
              "      <th>ph_year</th>\n",
              "    </tr>\n",
              "  </thead>\n",
              "  <tbody>\n",
              "    <tr>\n",
              "      <th>28</th>\n",
              "      <td>2018-12-17</td>\n",
              "      <td>Completed - Dup</td>\n",
              "      <td>2018-12-31</td>\n",
              "      <td>18-03378790</td>\n",
              "      <td>Pothole in Street</td>\n",
              "      <td>NaN</td>\n",
              "      <td>NaN</td>\n",
              "      <td>NaN</td>\n",
              "      <td>415 S FINANCIAL PL</td>\n",
              "      <td>60605.0</td>\n",
              "      <td>...</td>\n",
              "      <td>32.0</td>\n",
              "      <td>NaN</td>\n",
              "      <td>41.876480</td>\n",
              "      <td>-87.632956</td>\n",
              "      <td>(41.876479996476, -87.63295634334)</td>\n",
              "      <td>False</td>\n",
              "      <td>12</td>\n",
              "      <td>0</td>\n",
              "      <td>17</td>\n",
              "      <td>2018</td>\n",
              "    </tr>\n",
              "    <tr>\n",
              "      <th>42</th>\n",
              "      <td>2018-12-17</td>\n",
              "      <td>Completed</td>\n",
              "      <td>2018-12-18</td>\n",
              "      <td>18-03378095</td>\n",
              "      <td>Pothole in Street</td>\n",
              "      <td>Final Outcome</td>\n",
              "      <td>Pothole Patched</td>\n",
              "      <td>7.0</td>\n",
              "      <td>600 W LAKE ST</td>\n",
              "      <td>60661.0</td>\n",
              "      <td>...</td>\n",
              "      <td>28.0</td>\n",
              "      <td>NaN</td>\n",
              "      <td>41.885815</td>\n",
              "      <td>-87.642847</td>\n",
              "      <td>(41.885814724037, -87.6428471339)</td>\n",
              "      <td>False</td>\n",
              "      <td>12</td>\n",
              "      <td>0</td>\n",
              "      <td>17</td>\n",
              "      <td>2018</td>\n",
              "    </tr>\n",
              "  </tbody>\n",
              "</table>\n",
              "<p>2 rows × 24 columns</p>\n",
              "</div>\n",
              "    <div class=\"colab-df-buttons\">\n",
              "\n",
              "  <div class=\"colab-df-container\">\n",
              "    <button class=\"colab-df-convert\" onclick=\"convertToInteractive('df-ce339382-5e1e-437c-b6f4-928ab8b477d8')\"\n",
              "            title=\"Convert this dataframe to an interactive table.\"\n",
              "            style=\"display:none;\">\n",
              "\n",
              "  <svg xmlns=\"http://www.w3.org/2000/svg\" height=\"24px\" viewBox=\"0 -960 960 960\">\n",
              "    <path d=\"M120-120v-720h720v720H120Zm60-500h600v-160H180v160Zm220 220h160v-160H400v160Zm0 220h160v-160H400v160ZM180-400h160v-160H180v160Zm440 0h160v-160H620v160ZM180-180h160v-160H180v160Zm440 0h160v-160H620v160Z\"/>\n",
              "  </svg>\n",
              "    </button>\n",
              "\n",
              "  <style>\n",
              "    .colab-df-container {\n",
              "      display:flex;\n",
              "      gap: 12px;\n",
              "    }\n",
              "\n",
              "    .colab-df-convert {\n",
              "      background-color: #E8F0FE;\n",
              "      border: none;\n",
              "      border-radius: 50%;\n",
              "      cursor: pointer;\n",
              "      display: none;\n",
              "      fill: #1967D2;\n",
              "      height: 32px;\n",
              "      padding: 0 0 0 0;\n",
              "      width: 32px;\n",
              "    }\n",
              "\n",
              "    .colab-df-convert:hover {\n",
              "      background-color: #E2EBFA;\n",
              "      box-shadow: 0px 1px 2px rgba(60, 64, 67, 0.3), 0px 1px 3px 1px rgba(60, 64, 67, 0.15);\n",
              "      fill: #174EA6;\n",
              "    }\n",
              "\n",
              "    .colab-df-buttons div {\n",
              "      margin-bottom: 4px;\n",
              "    }\n",
              "\n",
              "    [theme=dark] .colab-df-convert {\n",
              "      background-color: #3B4455;\n",
              "      fill: #D2E3FC;\n",
              "    }\n",
              "\n",
              "    [theme=dark] .colab-df-convert:hover {\n",
              "      background-color: #434B5C;\n",
              "      box-shadow: 0px 1px 3px 1px rgba(0, 0, 0, 0.15);\n",
              "      filter: drop-shadow(0px 1px 2px rgba(0, 0, 0, 0.3));\n",
              "      fill: #FFFFFF;\n",
              "    }\n",
              "  </style>\n",
              "\n",
              "    <script>\n",
              "      const buttonEl =\n",
              "        document.querySelector('#df-ce339382-5e1e-437c-b6f4-928ab8b477d8 button.colab-df-convert');\n",
              "      buttonEl.style.display =\n",
              "        google.colab.kernel.accessAllowed ? 'block' : 'none';\n",
              "\n",
              "      async function convertToInteractive(key) {\n",
              "        const element = document.querySelector('#df-ce339382-5e1e-437c-b6f4-928ab8b477d8');\n",
              "        const dataTable =\n",
              "          await google.colab.kernel.invokeFunction('convertToInteractive',\n",
              "                                                    [key], {});\n",
              "        if (!dataTable) return;\n",
              "\n",
              "        const docLinkHtml = 'Like what you see? Visit the ' +\n",
              "          '<a target=\"_blank\" href=https://colab.research.google.com/notebooks/data_table.ipynb>data table notebook</a>'\n",
              "          + ' to learn more about interactive tables.';\n",
              "        element.innerHTML = '';\n",
              "        dataTable['output_type'] = 'display_data';\n",
              "        await google.colab.output.renderOutput(dataTable, element);\n",
              "        const docLink = document.createElement('div');\n",
              "        docLink.innerHTML = docLinkHtml;\n",
              "        element.appendChild(docLink);\n",
              "      }\n",
              "    </script>\n",
              "  </div>\n",
              "\n",
              "\n",
              "<div id=\"df-6c3d12be-89bb-441e-bc46-157379f3dc25\">\n",
              "  <button class=\"colab-df-quickchart\" onclick=\"quickchart('df-6c3d12be-89bb-441e-bc46-157379f3dc25')\"\n",
              "            title=\"Suggest charts\"\n",
              "            style=\"display:none;\">\n",
              "\n",
              "<svg xmlns=\"http://www.w3.org/2000/svg\" height=\"24px\"viewBox=\"0 0 24 24\"\n",
              "     width=\"24px\">\n",
              "    <g>\n",
              "        <path d=\"M19 3H5c-1.1 0-2 .9-2 2v14c0 1.1.9 2 2 2h14c1.1 0 2-.9 2-2V5c0-1.1-.9-2-2-2zM9 17H7v-7h2v7zm4 0h-2V7h2v10zm4 0h-2v-4h2v4z\"/>\n",
              "    </g>\n",
              "</svg>\n",
              "  </button>\n",
              "\n",
              "<style>\n",
              "  .colab-df-quickchart {\n",
              "      --bg-color: #E8F0FE;\n",
              "      --fill-color: #1967D2;\n",
              "      --hover-bg-color: #E2EBFA;\n",
              "      --hover-fill-color: #174EA6;\n",
              "      --disabled-fill-color: #AAA;\n",
              "      --disabled-bg-color: #DDD;\n",
              "  }\n",
              "\n",
              "  [theme=dark] .colab-df-quickchart {\n",
              "      --bg-color: #3B4455;\n",
              "      --fill-color: #D2E3FC;\n",
              "      --hover-bg-color: #434B5C;\n",
              "      --hover-fill-color: #FFFFFF;\n",
              "      --disabled-bg-color: #3B4455;\n",
              "      --disabled-fill-color: #666;\n",
              "  }\n",
              "\n",
              "  .colab-df-quickchart {\n",
              "    background-color: var(--bg-color);\n",
              "    border: none;\n",
              "    border-radius: 50%;\n",
              "    cursor: pointer;\n",
              "    display: none;\n",
              "    fill: var(--fill-color);\n",
              "    height: 32px;\n",
              "    padding: 0;\n",
              "    width: 32px;\n",
              "  }\n",
              "\n",
              "  .colab-df-quickchart:hover {\n",
              "    background-color: var(--hover-bg-color);\n",
              "    box-shadow: 0 1px 2px rgba(60, 64, 67, 0.3), 0 1px 3px 1px rgba(60, 64, 67, 0.15);\n",
              "    fill: var(--button-hover-fill-color);\n",
              "  }\n",
              "\n",
              "  .colab-df-quickchart-complete:disabled,\n",
              "  .colab-df-quickchart-complete:disabled:hover {\n",
              "    background-color: var(--disabled-bg-color);\n",
              "    fill: var(--disabled-fill-color);\n",
              "    box-shadow: none;\n",
              "  }\n",
              "\n",
              "  .colab-df-spinner {\n",
              "    border: 2px solid var(--fill-color);\n",
              "    border-color: transparent;\n",
              "    border-bottom-color: var(--fill-color);\n",
              "    animation:\n",
              "      spin 1s steps(1) infinite;\n",
              "  }\n",
              "\n",
              "  @keyframes spin {\n",
              "    0% {\n",
              "      border-color: transparent;\n",
              "      border-bottom-color: var(--fill-color);\n",
              "      border-left-color: var(--fill-color);\n",
              "    }\n",
              "    20% {\n",
              "      border-color: transparent;\n",
              "      border-left-color: var(--fill-color);\n",
              "      border-top-color: var(--fill-color);\n",
              "    }\n",
              "    30% {\n",
              "      border-color: transparent;\n",
              "      border-left-color: var(--fill-color);\n",
              "      border-top-color: var(--fill-color);\n",
              "      border-right-color: var(--fill-color);\n",
              "    }\n",
              "    40% {\n",
              "      border-color: transparent;\n",
              "      border-right-color: var(--fill-color);\n",
              "      border-top-color: var(--fill-color);\n",
              "    }\n",
              "    60% {\n",
              "      border-color: transparent;\n",
              "      border-right-color: var(--fill-color);\n",
              "    }\n",
              "    80% {\n",
              "      border-color: transparent;\n",
              "      border-right-color: var(--fill-color);\n",
              "      border-bottom-color: var(--fill-color);\n",
              "    }\n",
              "    90% {\n",
              "      border-color: transparent;\n",
              "      border-bottom-color: var(--fill-color);\n",
              "    }\n",
              "  }\n",
              "</style>\n",
              "\n",
              "  <script>\n",
              "    async function quickchart(key) {\n",
              "      const quickchartButtonEl =\n",
              "        document.querySelector('#' + key + ' button');\n",
              "      quickchartButtonEl.disabled = true;  // To prevent multiple clicks.\n",
              "      quickchartButtonEl.classList.add('colab-df-spinner');\n",
              "      try {\n",
              "        const charts = await google.colab.kernel.invokeFunction(\n",
              "            'suggestCharts', [key], {});\n",
              "      } catch (error) {\n",
              "        console.error('Error during call to suggestCharts:', error);\n",
              "      }\n",
              "      quickchartButtonEl.classList.remove('colab-df-spinner');\n",
              "      quickchartButtonEl.classList.add('colab-df-quickchart-complete');\n",
              "    }\n",
              "    (() => {\n",
              "      let quickchartButtonEl =\n",
              "        document.querySelector('#df-6c3d12be-89bb-441e-bc46-157379f3dc25 button');\n",
              "      quickchartButtonEl.style.display =\n",
              "        google.colab.kernel.accessAllowed ? 'block' : 'none';\n",
              "    })();\n",
              "  </script>\n",
              "</div>\n",
              "\n",
              "    </div>\n",
              "  </div>\n"
            ],
            "application/vnd.google.colaboratory.intrinsic+json": {
              "type": "dataframe"
            }
          },
          "metadata": {},
          "execution_count": 64
        }
      ],
      "source": [
        "pothole[pothole['completion_date'] < '2019-12-31'].head(2)"
      ]
    },
    {
      "cell_type": "code",
      "execution_count": 65,
      "metadata": {
        "id": "JUOo-HyRBkxW"
      },
      "outputs": [],
      "source": [
        "pothole['count'] = 1"
      ]
    },
    {
      "cell_type": "code",
      "execution_count": 66,
      "metadata": {
        "colab": {
          "base_uri": "https://localhost:8080/"
        },
        "id": "7UGcJtACBkuU",
        "outputId": "e8bd409f-8044-433a-f893-83ea681e8da0"
      },
      "outputs": [
        {
          "output_type": "execute_result",
          "data": {
            "text/plain": [
              "ph_year  ph_month\n",
              "2009     1              1\n",
              "         6              1\n",
              "         8              1\n",
              "2010     2              1\n",
              "         3              7\n",
              "                     ... \n",
              "2018     8           3719\n",
              "         9           3123\n",
              "         10          3156\n",
              "         11          2358\n",
              "         12          1802\n",
              "Name: count, Length: 110, dtype: int64"
            ]
          },
          "metadata": {},
          "execution_count": 66
        }
      ],
      "source": [
        "pothole.groupby(['ph_year', 'ph_month'])['count'].sum()"
      ]
    },
    {
      "cell_type": "code",
      "execution_count": 67,
      "metadata": {
        "colab": {
          "base_uri": "https://localhost:8080/",
          "height": 423
        },
        "id": "NOJt--TdBkrN",
        "outputId": "133cf45e-974c-486d-d45e-55f7bd316368"
      },
      "outputs": [
        {
          "output_type": "execute_result",
          "data": {
            "text/plain": [
              "     ph_year  ph_month  count\n",
              "0       2009         1      1\n",
              "1       2009         6      1\n",
              "2       2009         8      1\n",
              "3       2010         2      1\n",
              "4       2010         3      7\n",
              "..       ...       ...    ...\n",
              "105     2018         8   3719\n",
              "106     2018         9   3123\n",
              "107     2018        10   3156\n",
              "108     2018        11   2358\n",
              "109     2018        12   1802\n",
              "\n",
              "[110 rows x 3 columns]"
            ],
            "text/html": [
              "\n",
              "  <div id=\"df-277e2458-59a3-4c05-ad23-d69f79dbd6c3\" class=\"colab-df-container\">\n",
              "    <div>\n",
              "<style scoped>\n",
              "    .dataframe tbody tr th:only-of-type {\n",
              "        vertical-align: middle;\n",
              "    }\n",
              "\n",
              "    .dataframe tbody tr th {\n",
              "        vertical-align: top;\n",
              "    }\n",
              "\n",
              "    .dataframe thead th {\n",
              "        text-align: right;\n",
              "    }\n",
              "</style>\n",
              "<table border=\"1\" class=\"dataframe\">\n",
              "  <thead>\n",
              "    <tr style=\"text-align: right;\">\n",
              "      <th></th>\n",
              "      <th>ph_year</th>\n",
              "      <th>ph_month</th>\n",
              "      <th>count</th>\n",
              "    </tr>\n",
              "  </thead>\n",
              "  <tbody>\n",
              "    <tr>\n",
              "      <th>0</th>\n",
              "      <td>2009</td>\n",
              "      <td>1</td>\n",
              "      <td>1</td>\n",
              "    </tr>\n",
              "    <tr>\n",
              "      <th>1</th>\n",
              "      <td>2009</td>\n",
              "      <td>6</td>\n",
              "      <td>1</td>\n",
              "    </tr>\n",
              "    <tr>\n",
              "      <th>2</th>\n",
              "      <td>2009</td>\n",
              "      <td>8</td>\n",
              "      <td>1</td>\n",
              "    </tr>\n",
              "    <tr>\n",
              "      <th>3</th>\n",
              "      <td>2010</td>\n",
              "      <td>2</td>\n",
              "      <td>1</td>\n",
              "    </tr>\n",
              "    <tr>\n",
              "      <th>4</th>\n",
              "      <td>2010</td>\n",
              "      <td>3</td>\n",
              "      <td>7</td>\n",
              "    </tr>\n",
              "    <tr>\n",
              "      <th>...</th>\n",
              "      <td>...</td>\n",
              "      <td>...</td>\n",
              "      <td>...</td>\n",
              "    </tr>\n",
              "    <tr>\n",
              "      <th>105</th>\n",
              "      <td>2018</td>\n",
              "      <td>8</td>\n",
              "      <td>3719</td>\n",
              "    </tr>\n",
              "    <tr>\n",
              "      <th>106</th>\n",
              "      <td>2018</td>\n",
              "      <td>9</td>\n",
              "      <td>3123</td>\n",
              "    </tr>\n",
              "    <tr>\n",
              "      <th>107</th>\n",
              "      <td>2018</td>\n",
              "      <td>10</td>\n",
              "      <td>3156</td>\n",
              "    </tr>\n",
              "    <tr>\n",
              "      <th>108</th>\n",
              "      <td>2018</td>\n",
              "      <td>11</td>\n",
              "      <td>2358</td>\n",
              "    </tr>\n",
              "    <tr>\n",
              "      <th>109</th>\n",
              "      <td>2018</td>\n",
              "      <td>12</td>\n",
              "      <td>1802</td>\n",
              "    </tr>\n",
              "  </tbody>\n",
              "</table>\n",
              "<p>110 rows × 3 columns</p>\n",
              "</div>\n",
              "    <div class=\"colab-df-buttons\">\n",
              "\n",
              "  <div class=\"colab-df-container\">\n",
              "    <button class=\"colab-df-convert\" onclick=\"convertToInteractive('df-277e2458-59a3-4c05-ad23-d69f79dbd6c3')\"\n",
              "            title=\"Convert this dataframe to an interactive table.\"\n",
              "            style=\"display:none;\">\n",
              "\n",
              "  <svg xmlns=\"http://www.w3.org/2000/svg\" height=\"24px\" viewBox=\"0 -960 960 960\">\n",
              "    <path d=\"M120-120v-720h720v720H120Zm60-500h600v-160H180v160Zm220 220h160v-160H400v160Zm0 220h160v-160H400v160ZM180-400h160v-160H180v160Zm440 0h160v-160H620v160ZM180-180h160v-160H180v160Zm440 0h160v-160H620v160Z\"/>\n",
              "  </svg>\n",
              "    </button>\n",
              "\n",
              "  <style>\n",
              "    .colab-df-container {\n",
              "      display:flex;\n",
              "      gap: 12px;\n",
              "    }\n",
              "\n",
              "    .colab-df-convert {\n",
              "      background-color: #E8F0FE;\n",
              "      border: none;\n",
              "      border-radius: 50%;\n",
              "      cursor: pointer;\n",
              "      display: none;\n",
              "      fill: #1967D2;\n",
              "      height: 32px;\n",
              "      padding: 0 0 0 0;\n",
              "      width: 32px;\n",
              "    }\n",
              "\n",
              "    .colab-df-convert:hover {\n",
              "      background-color: #E2EBFA;\n",
              "      box-shadow: 0px 1px 2px rgba(60, 64, 67, 0.3), 0px 1px 3px 1px rgba(60, 64, 67, 0.15);\n",
              "      fill: #174EA6;\n",
              "    }\n",
              "\n",
              "    .colab-df-buttons div {\n",
              "      margin-bottom: 4px;\n",
              "    }\n",
              "\n",
              "    [theme=dark] .colab-df-convert {\n",
              "      background-color: #3B4455;\n",
              "      fill: #D2E3FC;\n",
              "    }\n",
              "\n",
              "    [theme=dark] .colab-df-convert:hover {\n",
              "      background-color: #434B5C;\n",
              "      box-shadow: 0px 1px 3px 1px rgba(0, 0, 0, 0.15);\n",
              "      filter: drop-shadow(0px 1px 2px rgba(0, 0, 0, 0.3));\n",
              "      fill: #FFFFFF;\n",
              "    }\n",
              "  </style>\n",
              "\n",
              "    <script>\n",
              "      const buttonEl =\n",
              "        document.querySelector('#df-277e2458-59a3-4c05-ad23-d69f79dbd6c3 button.colab-df-convert');\n",
              "      buttonEl.style.display =\n",
              "        google.colab.kernel.accessAllowed ? 'block' : 'none';\n",
              "\n",
              "      async function convertToInteractive(key) {\n",
              "        const element = document.querySelector('#df-277e2458-59a3-4c05-ad23-d69f79dbd6c3');\n",
              "        const dataTable =\n",
              "          await google.colab.kernel.invokeFunction('convertToInteractive',\n",
              "                                                    [key], {});\n",
              "        if (!dataTable) return;\n",
              "\n",
              "        const docLinkHtml = 'Like what you see? Visit the ' +\n",
              "          '<a target=\"_blank\" href=https://colab.research.google.com/notebooks/data_table.ipynb>data table notebook</a>'\n",
              "          + ' to learn more about interactive tables.';\n",
              "        element.innerHTML = '';\n",
              "        dataTable['output_type'] = 'display_data';\n",
              "        await google.colab.output.renderOutput(dataTable, element);\n",
              "        const docLink = document.createElement('div');\n",
              "        docLink.innerHTML = docLinkHtml;\n",
              "        element.appendChild(docLink);\n",
              "      }\n",
              "    </script>\n",
              "  </div>\n",
              "\n",
              "\n",
              "<div id=\"df-812c0958-196f-467e-ac1a-783c08cb6ddb\">\n",
              "  <button class=\"colab-df-quickchart\" onclick=\"quickchart('df-812c0958-196f-467e-ac1a-783c08cb6ddb')\"\n",
              "            title=\"Suggest charts\"\n",
              "            style=\"display:none;\">\n",
              "\n",
              "<svg xmlns=\"http://www.w3.org/2000/svg\" height=\"24px\"viewBox=\"0 0 24 24\"\n",
              "     width=\"24px\">\n",
              "    <g>\n",
              "        <path d=\"M19 3H5c-1.1 0-2 .9-2 2v14c0 1.1.9 2 2 2h14c1.1 0 2-.9 2-2V5c0-1.1-.9-2-2-2zM9 17H7v-7h2v7zm4 0h-2V7h2v10zm4 0h-2v-4h2v4z\"/>\n",
              "    </g>\n",
              "</svg>\n",
              "  </button>\n",
              "\n",
              "<style>\n",
              "  .colab-df-quickchart {\n",
              "      --bg-color: #E8F0FE;\n",
              "      --fill-color: #1967D2;\n",
              "      --hover-bg-color: #E2EBFA;\n",
              "      --hover-fill-color: #174EA6;\n",
              "      --disabled-fill-color: #AAA;\n",
              "      --disabled-bg-color: #DDD;\n",
              "  }\n",
              "\n",
              "  [theme=dark] .colab-df-quickchart {\n",
              "      --bg-color: #3B4455;\n",
              "      --fill-color: #D2E3FC;\n",
              "      --hover-bg-color: #434B5C;\n",
              "      --hover-fill-color: #FFFFFF;\n",
              "      --disabled-bg-color: #3B4455;\n",
              "      --disabled-fill-color: #666;\n",
              "  }\n",
              "\n",
              "  .colab-df-quickchart {\n",
              "    background-color: var(--bg-color);\n",
              "    border: none;\n",
              "    border-radius: 50%;\n",
              "    cursor: pointer;\n",
              "    display: none;\n",
              "    fill: var(--fill-color);\n",
              "    height: 32px;\n",
              "    padding: 0;\n",
              "    width: 32px;\n",
              "  }\n",
              "\n",
              "  .colab-df-quickchart:hover {\n",
              "    background-color: var(--hover-bg-color);\n",
              "    box-shadow: 0 1px 2px rgba(60, 64, 67, 0.3), 0 1px 3px 1px rgba(60, 64, 67, 0.15);\n",
              "    fill: var(--button-hover-fill-color);\n",
              "  }\n",
              "\n",
              "  .colab-df-quickchart-complete:disabled,\n",
              "  .colab-df-quickchart-complete:disabled:hover {\n",
              "    background-color: var(--disabled-bg-color);\n",
              "    fill: var(--disabled-fill-color);\n",
              "    box-shadow: none;\n",
              "  }\n",
              "\n",
              "  .colab-df-spinner {\n",
              "    border: 2px solid var(--fill-color);\n",
              "    border-color: transparent;\n",
              "    border-bottom-color: var(--fill-color);\n",
              "    animation:\n",
              "      spin 1s steps(1) infinite;\n",
              "  }\n",
              "\n",
              "  @keyframes spin {\n",
              "    0% {\n",
              "      border-color: transparent;\n",
              "      border-bottom-color: var(--fill-color);\n",
              "      border-left-color: var(--fill-color);\n",
              "    }\n",
              "    20% {\n",
              "      border-color: transparent;\n",
              "      border-left-color: var(--fill-color);\n",
              "      border-top-color: var(--fill-color);\n",
              "    }\n",
              "    30% {\n",
              "      border-color: transparent;\n",
              "      border-left-color: var(--fill-color);\n",
              "      border-top-color: var(--fill-color);\n",
              "      border-right-color: var(--fill-color);\n",
              "    }\n",
              "    40% {\n",
              "      border-color: transparent;\n",
              "      border-right-color: var(--fill-color);\n",
              "      border-top-color: var(--fill-color);\n",
              "    }\n",
              "    60% {\n",
              "      border-color: transparent;\n",
              "      border-right-color: var(--fill-color);\n",
              "    }\n",
              "    80% {\n",
              "      border-color: transparent;\n",
              "      border-right-color: var(--fill-color);\n",
              "      border-bottom-color: var(--fill-color);\n",
              "    }\n",
              "    90% {\n",
              "      border-color: transparent;\n",
              "      border-bottom-color: var(--fill-color);\n",
              "    }\n",
              "  }\n",
              "</style>\n",
              "\n",
              "  <script>\n",
              "    async function quickchart(key) {\n",
              "      const quickchartButtonEl =\n",
              "        document.querySelector('#' + key + ' button');\n",
              "      quickchartButtonEl.disabled = true;  // To prevent multiple clicks.\n",
              "      quickchartButtonEl.classList.add('colab-df-spinner');\n",
              "      try {\n",
              "        const charts = await google.colab.kernel.invokeFunction(\n",
              "            'suggestCharts', [key], {});\n",
              "      } catch (error) {\n",
              "        console.error('Error during call to suggestCharts:', error);\n",
              "      }\n",
              "      quickchartButtonEl.classList.remove('colab-df-spinner');\n",
              "      quickchartButtonEl.classList.add('colab-df-quickchart-complete');\n",
              "    }\n",
              "    (() => {\n",
              "      let quickchartButtonEl =\n",
              "        document.querySelector('#df-812c0958-196f-467e-ac1a-783c08cb6ddb button');\n",
              "      quickchartButtonEl.style.display =\n",
              "        google.colab.kernel.accessAllowed ? 'block' : 'none';\n",
              "    })();\n",
              "  </script>\n",
              "</div>\n",
              "\n",
              "    </div>\n",
              "  </div>\n"
            ],
            "application/vnd.google.colaboratory.intrinsic+json": {
              "type": "dataframe",
              "summary": "{\n  \"name\": \"pothole\",\n  \"rows\": 110,\n  \"fields\": [\n    {\n      \"column\": \"ph_year\",\n      \"properties\": {\n        \"dtype\": \"int32\",\n        \"num_unique_values\": 10,\n        \"samples\": [\n          2017,\n          2010,\n          2014\n        ],\n        \"semantic_type\": \"\",\n        \"description\": \"\"\n      }\n    },\n    {\n      \"column\": \"ph_month\",\n      \"properties\": {\n        \"dtype\": \"int32\",\n        \"num_unique_values\": 12,\n        \"samples\": [\n          11,\n          10,\n          1\n        ],\n        \"semantic_type\": \"\",\n        \"description\": \"\"\n      }\n    },\n    {\n      \"column\": \"count\",\n      \"properties\": {\n        \"dtype\": \"number\",\n        \"std\": 4471,\n        \"min\": 1,\n        \"max\": 25419,\n        \"num_unique_values\": 105,\n        \"samples\": [\n          2045,\n          3611,\n          5130\n        ],\n        \"semantic_type\": \"\",\n        \"description\": \"\"\n      }\n    }\n  ]\n}"
            }
          },
          "metadata": {},
          "execution_count": 67
        }
      ],
      "source": [
        "pothole.groupby(['ph_year', 'ph_month'])['count'].sum().reset_index()"
      ]
    },
    {
      "cell_type": "code",
      "execution_count": 68,
      "metadata": {
        "colab": {
          "base_uri": "https://localhost:8080/"
        },
        "id": "pUGKEhWKBkoI",
        "outputId": "a3366eb6-607b-4906-9237-582570d75853"
      },
      "outputs": [
        {
          "output_type": "execute_result",
          "data": {
            "text/plain": [
              "Index(['creation_date', 'status', 'completion_date', 'service_request_number',\n",
              "       'type_of_service_request', 'current_activity', 'most_recent_action',\n",
              "       'number_of_potholes_filled_on_block', 'street_address', 'zip',\n",
              "       'x_coordinate', 'y_coordinate', 'ward', 'police_district',\n",
              "       'community_area', 'ssa', 'latitude', 'longitude', 'location',\n",
              "       'is_duplicated', 'ph_month', 'ph_weekday', 'ph_day', 'ph_year',\n",
              "       'count'],\n",
              "      dtype='object')"
            ]
          },
          "metadata": {},
          "execution_count": 68
        }
      ],
      "source": [
        "pothole.columns"
      ]
    },
    {
      "cell_type": "code",
      "execution_count": 69,
      "metadata": {
        "id": "7GdO97HSBklE"
      },
      "outputs": [],
      "source": [
        "frequencymaybe = pothole.groupby(['ph_year', 'ph_month', 'ph_day'])['count'].sum()"
      ]
    },
    {
      "cell_type": "code",
      "execution_count": 70,
      "metadata": {
        "id": "GxMRtA1GBkhU"
      },
      "outputs": [],
      "source": [
        "freq = (frequencymaybe.sort_values(ascending=False))"
      ]
    },
    {
      "cell_type": "code",
      "execution_count": 71,
      "metadata": {
        "colab": {
          "base_uri": "https://localhost:8080/"
        },
        "id": "BpNZvH2HBkdx",
        "outputId": "2aac975d-4c4e-4078-8ecb-11687b1a8612"
      },
      "outputs": [
        {
          "output_type": "stream",
          "name": "stdout",
          "text": [
            "ph_year  ph_month  ph_day\n",
            "2014     3         10        1997\n",
            "         1         13        1873\n",
            "         2         24        1680\n",
            "                   26        1636\n",
            "         3         11        1581\n",
            "                             ... \n",
            "2010     8         18           1\n",
            "                   17           1\n",
            "                   14           1\n",
            "                   10           1\n",
            "2009     1         12           1\n",
            "Name: count, Length: 3032, dtype: int64\n"
          ]
        }
      ],
      "source": [
        "print(freq)"
      ]
    },
    {
      "cell_type": "code",
      "execution_count": 72,
      "metadata": {
        "id": "ldajKlFLBkaa"
      },
      "outputs": [],
      "source": [
        "# - above answers -\n",
        "#THE MONTH WITH THE MOST REPORTS IS MARCH - only 3 years from 2011-2018 had March not being the most reported\n",
        "  #FURTHERMORE, THE MONTHS WITH THE HIGHEST REPORTS PER DAY ARE IN THE WINTER\n",
        "  # all according to dataset POTHOLE"
      ]
    },
    {
      "cell_type": "code",
      "execution_count": 73,
      "metadata": {
        "id": "_xg3b0v2BkXF"
      },
      "outputs": [],
      "source": [
        "#\n",
        "# How long does it take for a pothole to get patched?\n",
        "  #31.4 days - According to dataset POTHOLE\n",
        "    # median number of days is 8 - according to dataset POTHOLE"
      ]
    },
    {
      "cell_type": "code",
      "execution_count": 74,
      "metadata": {
        "id": "shE1nYhJBkMe"
      },
      "outputs": [],
      "source": [
        "pothole['request_complete'] = pothole['completion_date'] - pothole['creation_date']"
      ]
    },
    {
      "cell_type": "code",
      "execution_count": 75,
      "metadata": {
        "id": "Hwv3oFNCCSAH"
      },
      "outputs": [],
      "source": [
        "pothole['request_complete'] = pothole['request_complete'].dt.days"
      ]
    },
    {
      "cell_type": "code",
      "execution_count": 76,
      "metadata": {
        "colab": {
          "base_uri": "https://localhost:8080/"
        },
        "id": "wQ2A9roeCR8U",
        "outputId": "cffd79cc-7bb5-4fed-fc87-62423a2f2ae2"
      },
      "outputs": [
        {
          "output_type": "execute_result",
          "data": {
            "text/plain": [
              "Index(['creation_date', 'status', 'completion_date', 'service_request_number',\n",
              "       'type_of_service_request', 'current_activity', 'most_recent_action',\n",
              "       'number_of_potholes_filled_on_block', 'street_address', 'zip',\n",
              "       'x_coordinate', 'y_coordinate', 'ward', 'police_district',\n",
              "       'community_area', 'ssa', 'latitude', 'longitude', 'location',\n",
              "       'is_duplicated', 'ph_month', 'ph_weekday', 'ph_day', 'ph_year', 'count',\n",
              "       'request_complete'],\n",
              "      dtype='object')"
            ]
          },
          "metadata": {},
          "execution_count": 76
        }
      ],
      "source": [
        "pothole.columns"
      ]
    },
    {
      "cell_type": "code",
      "execution_count": 77,
      "metadata": {
        "colab": {
          "base_uri": "https://localhost:8080/"
        },
        "id": "EimRT2XMCR4t",
        "outputId": "56e95a91-23ff-4cb9-d1f5-609bbceb693c"
      },
      "outputs": [
        {
          "output_type": "stream",
          "name": "stdout",
          "text": [
            "0           NaN\n",
            "1           NaN\n",
            "2           NaN\n",
            "3           NaN\n",
            "4           NaN\n",
            "          ...  \n",
            "560473    382.0\n",
            "560474    585.0\n",
            "560475    516.0\n",
            "560476    720.0\n",
            "560477    997.0\n",
            "Name: request_complete, Length: 560478, dtype: float64\n"
          ]
        }
      ],
      "source": [
        "print(pothole.request_complete)"
      ]
    },
    {
      "cell_type": "code",
      "execution_count": 78,
      "metadata": {
        "id": "cPOQB8hWCR1L"
      },
      "outputs": [],
      "source": [
        "lencompreq = pothole['request_complete'].mean()"
      ]
    },
    {
      "cell_type": "code",
      "execution_count": 79,
      "metadata": {
        "colab": {
          "base_uri": "https://localhost:8080/"
        },
        "id": "gpQgfnEaCZD0",
        "outputId": "ec5b60bd-870a-488b-d748-7f513a790475"
      },
      "outputs": [
        {
          "output_type": "stream",
          "name": "stdout",
          "text": [
            "31.39170900150055\n"
          ]
        }
      ],
      "source": [
        "print(lencompreq)"
      ]
    },
    {
      "cell_type": "code",
      "execution_count": 80,
      "metadata": {
        "id": "8JeEYC-bCY-Z"
      },
      "outputs": [],
      "source": [
        "medcomreq = pothole['request_complete'].median()"
      ]
    },
    {
      "cell_type": "code",
      "execution_count": 81,
      "metadata": {
        "colab": {
          "base_uri": "https://localhost:8080/"
        },
        "id": "Qag69p6ECY6Z",
        "outputId": "d978da48-aa1d-4775-d7f8-01bb2d211d68"
      },
      "outputs": [
        {
          "output_type": "stream",
          "name": "stdout",
          "text": [
            "8.0\n"
          ]
        }
      ],
      "source": [
        "print(medcomreq)"
      ]
    },
    {
      "cell_type": "code",
      "execution_count": 82,
      "metadata": {
        "id": "hBkQzd978F3N"
      },
      "outputs": [],
      "source": [
        "# Median number of potholes filled on each block"
      ]
    },
    {
      "cell_type": "code",
      "execution_count": 83,
      "metadata": {
        "id": "Sg8qy6hXC9hT"
      },
      "outputs": [],
      "source": [
        "pothole_data = pd.read_csv('https://data.cityofchicago.org/resource/7as2-ds3y.csv?$limit=1000000')"
      ]
    },
    {
      "cell_type": "code",
      "execution_count": 84,
      "metadata": {
        "id": "qpAuIwgO8eFX"
      },
      "outputs": [],
      "source": [
        "pothole_data['creation_date'] = pd.to_datetime(pothole_data['creation_date'])"
      ]
    },
    {
      "cell_type": "code",
      "execution_count": 85,
      "metadata": {
        "id": "nKUNbeGC81oE"
      },
      "outputs": [],
      "source": [
        "median_requests = pothole_data['creation_date'].median()"
      ]
    },
    {
      "cell_type": "code",
      "execution_count": 86,
      "metadata": {
        "id": "m4kI7i7184KA",
        "colab": {
          "base_uri": "https://localhost:8080/"
        },
        "outputId": "04c3ebc0-5873-44fe-a7c5-6d3b49f37e54"
      },
      "outputs": [
        {
          "output_type": "stream",
          "name": "stdout",
          "text": [
            "2014-05-13 00:00:00\n"
          ]
        }
      ],
      "source": [
        "print(median_requests)"
      ]
    },
    {
      "cell_type": "code",
      "execution_count": 87,
      "metadata": {
        "id": "wwfXrIHN85Iq"
      },
      "outputs": [],
      "source": [
        "grouped_data = pothole_data.groupby('location')['number_of_potholes_filled_on_block'].mean()"
      ]
    },
    {
      "cell_type": "code",
      "execution_count": 88,
      "metadata": {
        "id": "9gzIg2Bc88O1"
      },
      "outputs": [],
      "source": [
        "requests_per_location = pothole_data['location'].value_counts()"
      ]
    },
    {
      "cell_type": "code",
      "execution_count": 89,
      "metadata": {
        "id": "XZv31Qja8-ya"
      },
      "outputs": [],
      "source": [
        "requests_per_location = pothole_data.groupby('location').size()"
      ]
    },
    {
      "cell_type": "code",
      "execution_count": 90,
      "metadata": {
        "id": "FVtVLdSt9AyE"
      },
      "outputs": [],
      "source": [
        "avg_potholes_per_request = pothole_data.groupby('location')['number_of_potholes_filled_on_block'].mean()"
      ]
    },
    {
      "cell_type": "code",
      "execution_count": 91,
      "metadata": {
        "id": "ay9jEe8a9Cyk",
        "colab": {
          "base_uri": "https://localhost:8080/"
        },
        "outputId": "98739cfb-bfa7-4b35-c435-8be36134d613"
      },
      "outputs": [
        {
          "output_type": "stream",
          "name": "stdout",
          "text": [
            "2014-05-13 00:00:00\n"
          ]
        }
      ],
      "source": [
        "print(median_requests)"
      ]
    },
    {
      "cell_type": "code",
      "execution_count": 92,
      "metadata": {
        "id": "qiNYfHe99GI5"
      },
      "outputs": [],
      "source": [
        "med_potholes_patched = pothole_data['number_of_potholes_filled_on_block'].median()"
      ]
    },
    {
      "cell_type": "code",
      "execution_count": 93,
      "metadata": {
        "id": "s8Vi96bd9IaL",
        "colab": {
          "base_uri": "https://localhost:8080/"
        },
        "outputId": "a383c56b-6505-4895-afaa-919d7f30e7ab"
      },
      "outputs": [
        {
          "output_type": "stream",
          "name": "stdout",
          "text": [
            "Median number of potholes patched: 5.0\n"
          ]
        }
      ],
      "source": [
        "print(\"Median number of potholes patched:\", med_potholes_patched)"
      ]
    },
    {
      "cell_type": "code",
      "execution_count": 94,
      "metadata": {
        "id": "fZeeCmMnOllX"
      },
      "outputs": [],
      "source": [
        "#.csv creation"
      ]
    },
    {
      "cell_type": "code",
      "execution_count": 95,
      "metadata": {
        "id": "hgcrCAyUQq-g"
      },
      "outputs": [],
      "source": [
        "ward_patched = pothole.groupby('ward')['type_of_service_request'].count().sort_values(ascending = False)"
      ]
    },
    {
      "cell_type": "code",
      "execution_count": 96,
      "metadata": {
        "id": "uPk7T0cZRAij"
      },
      "outputs": [],
      "source": [
        "ward_patched.to_csv ('requests_by_ward.csv')"
      ]
    },
    {
      "cell_type": "code",
      "execution_count": 97,
      "metadata": {
        "id": "b_wClBNvPIbQ"
      },
      "outputs": [],
      "source": [
        "season_potholes_filled = patched.groupby('season')['number_of_potholes_filled_on_block'].sum()"
      ]
    },
    {
      "cell_type": "code",
      "execution_count": 98,
      "metadata": {
        "id": "6LHoOyt9RWCO"
      },
      "outputs": [],
      "source": [
        "season_potholes_filled.to_csv('patched_by_season.csv')"
      ]
    }
  ],
  "metadata": {
    "colab": {
      "provenance": []
    },
    "kernelspec": {
      "display_name": "Python 3",
      "name": "python3"
    },
    "language_info": {
      "name": "python"
    }
  },
  "nbformat": 4,
  "nbformat_minor": 0
}