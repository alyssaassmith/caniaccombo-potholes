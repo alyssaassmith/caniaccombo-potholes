{
  "cells": [
    {
      "cell_type": "code",
      "execution_count": null,
      "metadata": {
        "id": "BqPcKV-ibL2f"
      },
      "outputs": [],
      "source": [
        "import pandas as pd\n",
        "import numpy as np\n",
        "import requests\n",
        "import geopandas as gpd"
      ]
    },
    {
      "cell_type": "code",
      "execution_count": null,
      "metadata": {
        "id": "OgnLgmT6b1N_"
      },
      "outputs": [],
      "source": [
        "pothole = pd.read_csv(\"https://data.cityofchicago.org/resource/7as2-ds3y.csv?$limit=1000000\")"
      ]
    },
    {
      "cell_type": "code",
      "execution_count": null,
      "metadata": {
        "colab": {
          "base_uri": "https://localhost:8080/",
          "height": 330
        },
        "id": "Hp2o9q6UF9fj",
        "outputId": "bcb31f93-e603-4994-f6d3-3691351c1ad3"
      },
      "outputs": [
        {
          "output_type": "execute_result",
          "data": {
            "text/plain": [
              "             creation_date      status completion_date service_request_number  \\\n",
              "0  2018-12-18T00:00:00.000        Open             NaN            18-03387505   \n",
              "1  2018-12-18T00:00:00.000        Open             NaN            18-03387458   \n",
              "2  2018-12-18T00:00:00.000        Open             NaN            18-03387502   \n",
              "3  2018-12-18T00:00:00.000  Open - Dup             NaN            18-03388379   \n",
              "4  2018-12-18T00:00:00.000        Open             NaN            18-03388180   \n",
              "\n",
              "  type_of_service_request current_activity most_recent_action  \\\n",
              "0       Pothole in Street              NaN                NaN   \n",
              "1       Pothole in Street              NaN                NaN   \n",
              "2       Pothole in Street              NaN                NaN   \n",
              "3       Pothole in Street              NaN                NaN   \n",
              "4       Pothole in Street              NaN                NaN   \n",
              "\n",
              "   number_of_potholes_filled_on_block        street_address      zip  \\\n",
              "0                                 NaN  1145 S FAIRFIELD AVE  60612.0   \n",
              "1                                 NaN    908 S CAMPBELL AVE  60612.0   \n",
              "2                                 NaN        2421 W 21ST PL  60608.0   \n",
              "3                                 NaN        1959 S TROY ST  60623.0   \n",
              "4                                 NaN   4100 S WESTERN BLVD  60609.0   \n",
              "\n",
              "   x_coordinate  y_coordinate  ward  police_district  community_area  ssa  \\\n",
              "0  1.158186e+06  1.894949e+06  28.0             11.0            29.0  NaN   \n",
              "1  1.159861e+06  1.895934e+06  28.0             11.0            28.0  NaN   \n",
              "2  1.160590e+06  1.889668e+06  28.0             10.0            31.0  NaN   \n",
              "3  1.155670e+06  1.890142e+06  24.0             10.0            29.0  NaN   \n",
              "4  1.161202e+06  1.877426e+06  12.0              9.0            58.0  NaN   \n",
              "\n",
              "    latitude  longitude                             location  \n",
              "0  41.866992 -87.694609  (41.866991991336, -87.694608638672)  \n",
              "1  41.869927 -87.688710  (41.869927464401, -87.688710188657)  \n",
              "2  41.852826 -87.686536  (41.852826019085, -87.686535678313)  \n",
              "3  41.853704 -87.703946  (41.853703821634, -87.703946492923)  \n",
              "4  41.819247 -87.684305   (41.819246696086, -87.68430532228)  "
            ],
            "text/html": [
              "\n",
              "  <div id=\"df-d7723232-d5ff-405a-b609-b9dc59e257d4\" class=\"colab-df-container\">\n",
              "    <div>\n",
              "<style scoped>\n",
              "    .dataframe tbody tr th:only-of-type {\n",
              "        vertical-align: middle;\n",
              "    }\n",
              "\n",
              "    .dataframe tbody tr th {\n",
              "        vertical-align: top;\n",
              "    }\n",
              "\n",
              "    .dataframe thead th {\n",
              "        text-align: right;\n",
              "    }\n",
              "</style>\n",
              "<table border=\"1\" class=\"dataframe\">\n",
              "  <thead>\n",
              "    <tr style=\"text-align: right;\">\n",
              "      <th></th>\n",
              "      <th>creation_date</th>\n",
              "      <th>status</th>\n",
              "      <th>completion_date</th>\n",
              "      <th>service_request_number</th>\n",
              "      <th>type_of_service_request</th>\n",
              "      <th>current_activity</th>\n",
              "      <th>most_recent_action</th>\n",
              "      <th>number_of_potholes_filled_on_block</th>\n",
              "      <th>street_address</th>\n",
              "      <th>zip</th>\n",
              "      <th>x_coordinate</th>\n",
              "      <th>y_coordinate</th>\n",
              "      <th>ward</th>\n",
              "      <th>police_district</th>\n",
              "      <th>community_area</th>\n",
              "      <th>ssa</th>\n",
              "      <th>latitude</th>\n",
              "      <th>longitude</th>\n",
              "      <th>location</th>\n",
              "    </tr>\n",
              "  </thead>\n",
              "  <tbody>\n",
              "    <tr>\n",
              "      <th>0</th>\n",
              "      <td>2018-12-18T00:00:00.000</td>\n",
              "      <td>Open</td>\n",
              "      <td>NaN</td>\n",
              "      <td>18-03387505</td>\n",
              "      <td>Pothole in Street</td>\n",
              "      <td>NaN</td>\n",
              "      <td>NaN</td>\n",
              "      <td>NaN</td>\n",
              "      <td>1145 S FAIRFIELD AVE</td>\n",
              "      <td>60612.0</td>\n",
              "      <td>1.158186e+06</td>\n",
              "      <td>1.894949e+06</td>\n",
              "      <td>28.0</td>\n",
              "      <td>11.0</td>\n",
              "      <td>29.0</td>\n",
              "      <td>NaN</td>\n",
              "      <td>41.866992</td>\n",
              "      <td>-87.694609</td>\n",
              "      <td>(41.866991991336, -87.694608638672)</td>\n",
              "    </tr>\n",
              "    <tr>\n",
              "      <th>1</th>\n",
              "      <td>2018-12-18T00:00:00.000</td>\n",
              "      <td>Open</td>\n",
              "      <td>NaN</td>\n",
              "      <td>18-03387458</td>\n",
              "      <td>Pothole in Street</td>\n",
              "      <td>NaN</td>\n",
              "      <td>NaN</td>\n",
              "      <td>NaN</td>\n",
              "      <td>908 S CAMPBELL AVE</td>\n",
              "      <td>60612.0</td>\n",
              "      <td>1.159861e+06</td>\n",
              "      <td>1.895934e+06</td>\n",
              "      <td>28.0</td>\n",
              "      <td>11.0</td>\n",
              "      <td>28.0</td>\n",
              "      <td>NaN</td>\n",
              "      <td>41.869927</td>\n",
              "      <td>-87.688710</td>\n",
              "      <td>(41.869927464401, -87.688710188657)</td>\n",
              "    </tr>\n",
              "    <tr>\n",
              "      <th>2</th>\n",
              "      <td>2018-12-18T00:00:00.000</td>\n",
              "      <td>Open</td>\n",
              "      <td>NaN</td>\n",
              "      <td>18-03387502</td>\n",
              "      <td>Pothole in Street</td>\n",
              "      <td>NaN</td>\n",
              "      <td>NaN</td>\n",
              "      <td>NaN</td>\n",
              "      <td>2421 W 21ST PL</td>\n",
              "      <td>60608.0</td>\n",
              "      <td>1.160590e+06</td>\n",
              "      <td>1.889668e+06</td>\n",
              "      <td>28.0</td>\n",
              "      <td>10.0</td>\n",
              "      <td>31.0</td>\n",
              "      <td>NaN</td>\n",
              "      <td>41.852826</td>\n",
              "      <td>-87.686536</td>\n",
              "      <td>(41.852826019085, -87.686535678313)</td>\n",
              "    </tr>\n",
              "    <tr>\n",
              "      <th>3</th>\n",
              "      <td>2018-12-18T00:00:00.000</td>\n",
              "      <td>Open - Dup</td>\n",
              "      <td>NaN</td>\n",
              "      <td>18-03388379</td>\n",
              "      <td>Pothole in Street</td>\n",
              "      <td>NaN</td>\n",
              "      <td>NaN</td>\n",
              "      <td>NaN</td>\n",
              "      <td>1959 S TROY ST</td>\n",
              "      <td>60623.0</td>\n",
              "      <td>1.155670e+06</td>\n",
              "      <td>1.890142e+06</td>\n",
              "      <td>24.0</td>\n",
              "      <td>10.0</td>\n",
              "      <td>29.0</td>\n",
              "      <td>NaN</td>\n",
              "      <td>41.853704</td>\n",
              "      <td>-87.703946</td>\n",
              "      <td>(41.853703821634, -87.703946492923)</td>\n",
              "    </tr>\n",
              "    <tr>\n",
              "      <th>4</th>\n",
              "      <td>2018-12-18T00:00:00.000</td>\n",
              "      <td>Open</td>\n",
              "      <td>NaN</td>\n",
              "      <td>18-03388180</td>\n",
              "      <td>Pothole in Street</td>\n",
              "      <td>NaN</td>\n",
              "      <td>NaN</td>\n",
              "      <td>NaN</td>\n",
              "      <td>4100 S WESTERN BLVD</td>\n",
              "      <td>60609.0</td>\n",
              "      <td>1.161202e+06</td>\n",
              "      <td>1.877426e+06</td>\n",
              "      <td>12.0</td>\n",
              "      <td>9.0</td>\n",
              "      <td>58.0</td>\n",
              "      <td>NaN</td>\n",
              "      <td>41.819247</td>\n",
              "      <td>-87.684305</td>\n",
              "      <td>(41.819246696086, -87.68430532228)</td>\n",
              "    </tr>\n",
              "  </tbody>\n",
              "</table>\n",
              "</div>\n",
              "    <div class=\"colab-df-buttons\">\n",
              "\n",
              "  <div class=\"colab-df-container\">\n",
              "    <button class=\"colab-df-convert\" onclick=\"convertToInteractive('df-d7723232-d5ff-405a-b609-b9dc59e257d4')\"\n",
              "            title=\"Convert this dataframe to an interactive table.\"\n",
              "            style=\"display:none;\">\n",
              "\n",
              "  <svg xmlns=\"http://www.w3.org/2000/svg\" height=\"24px\" viewBox=\"0 -960 960 960\">\n",
              "    <path d=\"M120-120v-720h720v720H120Zm60-500h600v-160H180v160Zm220 220h160v-160H400v160Zm0 220h160v-160H400v160ZM180-400h160v-160H180v160Zm440 0h160v-160H620v160ZM180-180h160v-160H180v160Zm440 0h160v-160H620v160Z\"/>\n",
              "  </svg>\n",
              "    </button>\n",
              "\n",
              "  <style>\n",
              "    .colab-df-container {\n",
              "      display:flex;\n",
              "      gap: 12px;\n",
              "    }\n",
              "\n",
              "    .colab-df-convert {\n",
              "      background-color: #E8F0FE;\n",
              "      border: none;\n",
              "      border-radius: 50%;\n",
              "      cursor: pointer;\n",
              "      display: none;\n",
              "      fill: #1967D2;\n",
              "      height: 32px;\n",
              "      padding: 0 0 0 0;\n",
              "      width: 32px;\n",
              "    }\n",
              "\n",
              "    .colab-df-convert:hover {\n",
              "      background-color: #E2EBFA;\n",
              "      box-shadow: 0px 1px 2px rgba(60, 64, 67, 0.3), 0px 1px 3px 1px rgba(60, 64, 67, 0.15);\n",
              "      fill: #174EA6;\n",
              "    }\n",
              "\n",
              "    .colab-df-buttons div {\n",
              "      margin-bottom: 4px;\n",
              "    }\n",
              "\n",
              "    [theme=dark] .colab-df-convert {\n",
              "      background-color: #3B4455;\n",
              "      fill: #D2E3FC;\n",
              "    }\n",
              "\n",
              "    [theme=dark] .colab-df-convert:hover {\n",
              "      background-color: #434B5C;\n",
              "      box-shadow: 0px 1px 3px 1px rgba(0, 0, 0, 0.15);\n",
              "      filter: drop-shadow(0px 1px 2px rgba(0, 0, 0, 0.3));\n",
              "      fill: #FFFFFF;\n",
              "    }\n",
              "  </style>\n",
              "\n",
              "    <script>\n",
              "      const buttonEl =\n",
              "        document.querySelector('#df-d7723232-d5ff-405a-b609-b9dc59e257d4 button.colab-df-convert');\n",
              "      buttonEl.style.display =\n",
              "        google.colab.kernel.accessAllowed ? 'block' : 'none';\n",
              "\n",
              "      async function convertToInteractive(key) {\n",
              "        const element = document.querySelector('#df-d7723232-d5ff-405a-b609-b9dc59e257d4');\n",
              "        const dataTable =\n",
              "          await google.colab.kernel.invokeFunction('convertToInteractive',\n",
              "                                                    [key], {});\n",
              "        if (!dataTable) return;\n",
              "\n",
              "        const docLinkHtml = 'Like what you see? Visit the ' +\n",
              "          '<a target=\"_blank\" href=https://colab.research.google.com/notebooks/data_table.ipynb>data table notebook</a>'\n",
              "          + ' to learn more about interactive tables.';\n",
              "        element.innerHTML = '';\n",
              "        dataTable['output_type'] = 'display_data';\n",
              "        await google.colab.output.renderOutput(dataTable, element);\n",
              "        const docLink = document.createElement('div');\n",
              "        docLink.innerHTML = docLinkHtml;\n",
              "        element.appendChild(docLink);\n",
              "      }\n",
              "    </script>\n",
              "  </div>\n",
              "\n",
              "\n",
              "<div id=\"df-3e8d172a-43f2-4796-aca3-1767f9db6ff9\">\n",
              "  <button class=\"colab-df-quickchart\" onclick=\"quickchart('df-3e8d172a-43f2-4796-aca3-1767f9db6ff9')\"\n",
              "            title=\"Suggest charts\"\n",
              "            style=\"display:none;\">\n",
              "\n",
              "<svg xmlns=\"http://www.w3.org/2000/svg\" height=\"24px\"viewBox=\"0 0 24 24\"\n",
              "     width=\"24px\">\n",
              "    <g>\n",
              "        <path d=\"M19 3H5c-1.1 0-2 .9-2 2v14c0 1.1.9 2 2 2h14c1.1 0 2-.9 2-2V5c0-1.1-.9-2-2-2zM9 17H7v-7h2v7zm4 0h-2V7h2v10zm4 0h-2v-4h2v4z\"/>\n",
              "    </g>\n",
              "</svg>\n",
              "  </button>\n",
              "\n",
              "<style>\n",
              "  .colab-df-quickchart {\n",
              "      --bg-color: #E8F0FE;\n",
              "      --fill-color: #1967D2;\n",
              "      --hover-bg-color: #E2EBFA;\n",
              "      --hover-fill-color: #174EA6;\n",
              "      --disabled-fill-color: #AAA;\n",
              "      --disabled-bg-color: #DDD;\n",
              "  }\n",
              "\n",
              "  [theme=dark] .colab-df-quickchart {\n",
              "      --bg-color: #3B4455;\n",
              "      --fill-color: #D2E3FC;\n",
              "      --hover-bg-color: #434B5C;\n",
              "      --hover-fill-color: #FFFFFF;\n",
              "      --disabled-bg-color: #3B4455;\n",
              "      --disabled-fill-color: #666;\n",
              "  }\n",
              "\n",
              "  .colab-df-quickchart {\n",
              "    background-color: var(--bg-color);\n",
              "    border: none;\n",
              "    border-radius: 50%;\n",
              "    cursor: pointer;\n",
              "    display: none;\n",
              "    fill: var(--fill-color);\n",
              "    height: 32px;\n",
              "    padding: 0;\n",
              "    width: 32px;\n",
              "  }\n",
              "\n",
              "  .colab-df-quickchart:hover {\n",
              "    background-color: var(--hover-bg-color);\n",
              "    box-shadow: 0 1px 2px rgba(60, 64, 67, 0.3), 0 1px 3px 1px rgba(60, 64, 67, 0.15);\n",
              "    fill: var(--button-hover-fill-color);\n",
              "  }\n",
              "\n",
              "  .colab-df-quickchart-complete:disabled,\n",
              "  .colab-df-quickchart-complete:disabled:hover {\n",
              "    background-color: var(--disabled-bg-color);\n",
              "    fill: var(--disabled-fill-color);\n",
              "    box-shadow: none;\n",
              "  }\n",
              "\n",
              "  .colab-df-spinner {\n",
              "    border: 2px solid var(--fill-color);\n",
              "    border-color: transparent;\n",
              "    border-bottom-color: var(--fill-color);\n",
              "    animation:\n",
              "      spin 1s steps(1) infinite;\n",
              "  }\n",
              "\n",
              "  @keyframes spin {\n",
              "    0% {\n",
              "      border-color: transparent;\n",
              "      border-bottom-color: var(--fill-color);\n",
              "      border-left-color: var(--fill-color);\n",
              "    }\n",
              "    20% {\n",
              "      border-color: transparent;\n",
              "      border-left-color: var(--fill-color);\n",
              "      border-top-color: var(--fill-color);\n",
              "    }\n",
              "    30% {\n",
              "      border-color: transparent;\n",
              "      border-left-color: var(--fill-color);\n",
              "      border-top-color: var(--fill-color);\n",
              "      border-right-color: var(--fill-color);\n",
              "    }\n",
              "    40% {\n",
              "      border-color: transparent;\n",
              "      border-right-color: var(--fill-color);\n",
              "      border-top-color: var(--fill-color);\n",
              "    }\n",
              "    60% {\n",
              "      border-color: transparent;\n",
              "      border-right-color: var(--fill-color);\n",
              "    }\n",
              "    80% {\n",
              "      border-color: transparent;\n",
              "      border-right-color: var(--fill-color);\n",
              "      border-bottom-color: var(--fill-color);\n",
              "    }\n",
              "    90% {\n",
              "      border-color: transparent;\n",
              "      border-bottom-color: var(--fill-color);\n",
              "    }\n",
              "  }\n",
              "</style>\n",
              "\n",
              "  <script>\n",
              "    async function quickchart(key) {\n",
              "      const quickchartButtonEl =\n",
              "        document.querySelector('#' + key + ' button');\n",
              "      quickchartButtonEl.disabled = true;  // To prevent multiple clicks.\n",
              "      quickchartButtonEl.classList.add('colab-df-spinner');\n",
              "      try {\n",
              "        const charts = await google.colab.kernel.invokeFunction(\n",
              "            'suggestCharts', [key], {});\n",
              "      } catch (error) {\n",
              "        console.error('Error during call to suggestCharts:', error);\n",
              "      }\n",
              "      quickchartButtonEl.classList.remove('colab-df-spinner');\n",
              "      quickchartButtonEl.classList.add('colab-df-quickchart-complete');\n",
              "    }\n",
              "    (() => {\n",
              "      let quickchartButtonEl =\n",
              "        document.querySelector('#df-3e8d172a-43f2-4796-aca3-1767f9db6ff9 button');\n",
              "      quickchartButtonEl.style.display =\n",
              "        google.colab.kernel.accessAllowed ? 'block' : 'none';\n",
              "    })();\n",
              "  </script>\n",
              "</div>\n",
              "\n",
              "    </div>\n",
              "  </div>\n"
            ],
            "application/vnd.google.colaboratory.intrinsic+json": {
              "type": "dataframe",
              "variable_name": "pothole"
            }
          },
          "metadata": {},
          "execution_count": 3
        }
      ],
      "source": [
        "pothole.head()"
      ]
    },
    {
      "cell_type": "code",
      "execution_count": null,
      "metadata": {
        "colab": {
          "base_uri": "https://localhost:8080/",
          "height": 313
        },
        "id": "7Hzs8l81F_jf",
        "outputId": "6843086c-2d7f-41c8-b21e-8a0fd405f99c"
      },
      "outputs": [
        {
          "output_type": "execute_result",
          "data": {
            "text/plain": [
              "                  creation_date     status          completion_date  \\\n",
              "560473  2010-03-11T00:00:00.000  Completed  2011-03-28T00:00:00.000   \n",
              "560474  2010-02-26T00:00:00.000  Completed  2011-10-04T00:00:00.000   \n",
              "560475  2009-08-27T00:00:00.000  Completed  2011-01-25T00:00:00.000   \n",
              "560476  2009-06-17T00:00:00.000  Completed  2011-06-07T00:00:00.000   \n",
              "560477  2009-01-12T00:00:00.000  Completed  2011-10-06T00:00:00.000   \n",
              "\n",
              "       service_request_number type_of_service_request current_activity  \\\n",
              "560473            10-00317212      Pot Hole in Street    Dispatch Crew   \n",
              "560474            10-00254019      Pot Hole in Street              NaN   \n",
              "560475            09-01501980      Pot Hole in Street      Site Survey   \n",
              "560476            09-01026546      Pot Hole in Street    Dispatch Crew   \n",
              "560477            09-00061329      Pot Hole in Street    Dispatch Crew   \n",
              "\n",
              "       most_recent_action  number_of_potholes_filled_on_block  \\\n",
              "560473    Pothole Patched                                 5.0   \n",
              "560474                NaN                                 NaN   \n",
              "560475   No Problem Found                                80.0   \n",
              "560476    Pothole Patched                                 NaN   \n",
              "560477    Pothole Patched                                33.0   \n",
              "\n",
              "            street_address      zip  x_coordinate  y_coordinate  ward  \\\n",
              "560473  7201 W BELMONT AVE  60634.0           NaN           NaN  36.0   \n",
              "560474  1440 S ROCKWELL ST  60608.0  1.159269e+06  1.892879e+06  28.0   \n",
              "560475    5518 N WAYNE AVE  60640.0           NaN           NaN  48.0   \n",
              "560476   3845 W ADDISON ST  60618.0  1.150061e+06  1.923655e+06  30.0   \n",
              "560477   2519 S HALSTED ST  60608.0  1.171397e+06  1.887376e+06  11.0   \n",
              "\n",
              "        police_district  community_area  ssa   latitude  longitude  \\\n",
              "560473             25.0            17.0  NaN  41.937886 -87.806806   \n",
              "560474             10.0            29.0  NaN  41.861757 -87.690973   \n",
              "560475             20.0            77.0  NaN  41.982340 -87.663869   \n",
              "560476             17.0            21.0  NaN  41.946303 -87.724348   \n",
              "560477              9.0            60.0  NaN  41.846460 -87.646321   \n",
              "\n",
              "                                   location  \n",
              "560473    (41.937885966284, -87.8068055064)  \n",
              "560474  (41.861756644625, -87.690972506101)  \n",
              "560475   (41.98234020574, -87.663868977471)  \n",
              "560476  (41.946303283819, -87.724347984027)  \n",
              "560477  (41.846459969324, -87.646320667697)  "
            ],
            "text/html": [
              "\n",
              "  <div id=\"df-b135841d-9e70-4472-8c97-bfc30069c3ac\" class=\"colab-df-container\">\n",
              "    <div>\n",
              "<style scoped>\n",
              "    .dataframe tbody tr th:only-of-type {\n",
              "        vertical-align: middle;\n",
              "    }\n",
              "\n",
              "    .dataframe tbody tr th {\n",
              "        vertical-align: top;\n",
              "    }\n",
              "\n",
              "    .dataframe thead th {\n",
              "        text-align: right;\n",
              "    }\n",
              "</style>\n",
              "<table border=\"1\" class=\"dataframe\">\n",
              "  <thead>\n",
              "    <tr style=\"text-align: right;\">\n",
              "      <th></th>\n",
              "      <th>creation_date</th>\n",
              "      <th>status</th>\n",
              "      <th>completion_date</th>\n",
              "      <th>service_request_number</th>\n",
              "      <th>type_of_service_request</th>\n",
              "      <th>current_activity</th>\n",
              "      <th>most_recent_action</th>\n",
              "      <th>number_of_potholes_filled_on_block</th>\n",
              "      <th>street_address</th>\n",
              "      <th>zip</th>\n",
              "      <th>x_coordinate</th>\n",
              "      <th>y_coordinate</th>\n",
              "      <th>ward</th>\n",
              "      <th>police_district</th>\n",
              "      <th>community_area</th>\n",
              "      <th>ssa</th>\n",
              "      <th>latitude</th>\n",
              "      <th>longitude</th>\n",
              "      <th>location</th>\n",
              "    </tr>\n",
              "  </thead>\n",
              "  <tbody>\n",
              "    <tr>\n",
              "      <th>560473</th>\n",
              "      <td>2010-03-11T00:00:00.000</td>\n",
              "      <td>Completed</td>\n",
              "      <td>2011-03-28T00:00:00.000</td>\n",
              "      <td>10-00317212</td>\n",
              "      <td>Pot Hole in Street</td>\n",
              "      <td>Dispatch Crew</td>\n",
              "      <td>Pothole Patched</td>\n",
              "      <td>5.0</td>\n",
              "      <td>7201 W BELMONT AVE</td>\n",
              "      <td>60634.0</td>\n",
              "      <td>NaN</td>\n",
              "      <td>NaN</td>\n",
              "      <td>36.0</td>\n",
              "      <td>25.0</td>\n",
              "      <td>17.0</td>\n",
              "      <td>NaN</td>\n",
              "      <td>41.937886</td>\n",
              "      <td>-87.806806</td>\n",
              "      <td>(41.937885966284, -87.8068055064)</td>\n",
              "    </tr>\n",
              "    <tr>\n",
              "      <th>560474</th>\n",
              "      <td>2010-02-26T00:00:00.000</td>\n",
              "      <td>Completed</td>\n",
              "      <td>2011-10-04T00:00:00.000</td>\n",
              "      <td>10-00254019</td>\n",
              "      <td>Pot Hole in Street</td>\n",
              "      <td>NaN</td>\n",
              "      <td>NaN</td>\n",
              "      <td>NaN</td>\n",
              "      <td>1440 S ROCKWELL ST</td>\n",
              "      <td>60608.0</td>\n",
              "      <td>1.159269e+06</td>\n",
              "      <td>1.892879e+06</td>\n",
              "      <td>28.0</td>\n",
              "      <td>10.0</td>\n",
              "      <td>29.0</td>\n",
              "      <td>NaN</td>\n",
              "      <td>41.861757</td>\n",
              "      <td>-87.690973</td>\n",
              "      <td>(41.861756644625, -87.690972506101)</td>\n",
              "    </tr>\n",
              "    <tr>\n",
              "      <th>560475</th>\n",
              "      <td>2009-08-27T00:00:00.000</td>\n",
              "      <td>Completed</td>\n",
              "      <td>2011-01-25T00:00:00.000</td>\n",
              "      <td>09-01501980</td>\n",
              "      <td>Pot Hole in Street</td>\n",
              "      <td>Site Survey</td>\n",
              "      <td>No Problem Found</td>\n",
              "      <td>80.0</td>\n",
              "      <td>5518 N WAYNE AVE</td>\n",
              "      <td>60640.0</td>\n",
              "      <td>NaN</td>\n",
              "      <td>NaN</td>\n",
              "      <td>48.0</td>\n",
              "      <td>20.0</td>\n",
              "      <td>77.0</td>\n",
              "      <td>NaN</td>\n",
              "      <td>41.982340</td>\n",
              "      <td>-87.663869</td>\n",
              "      <td>(41.98234020574, -87.663868977471)</td>\n",
              "    </tr>\n",
              "    <tr>\n",
              "      <th>560476</th>\n",
              "      <td>2009-06-17T00:00:00.000</td>\n",
              "      <td>Completed</td>\n",
              "      <td>2011-06-07T00:00:00.000</td>\n",
              "      <td>09-01026546</td>\n",
              "      <td>Pot Hole in Street</td>\n",
              "      <td>Dispatch Crew</td>\n",
              "      <td>Pothole Patched</td>\n",
              "      <td>NaN</td>\n",
              "      <td>3845 W ADDISON ST</td>\n",
              "      <td>60618.0</td>\n",
              "      <td>1.150061e+06</td>\n",
              "      <td>1.923655e+06</td>\n",
              "      <td>30.0</td>\n",
              "      <td>17.0</td>\n",
              "      <td>21.0</td>\n",
              "      <td>NaN</td>\n",
              "      <td>41.946303</td>\n",
              "      <td>-87.724348</td>\n",
              "      <td>(41.946303283819, -87.724347984027)</td>\n",
              "    </tr>\n",
              "    <tr>\n",
              "      <th>560477</th>\n",
              "      <td>2009-01-12T00:00:00.000</td>\n",
              "      <td>Completed</td>\n",
              "      <td>2011-10-06T00:00:00.000</td>\n",
              "      <td>09-00061329</td>\n",
              "      <td>Pot Hole in Street</td>\n",
              "      <td>Dispatch Crew</td>\n",
              "      <td>Pothole Patched</td>\n",
              "      <td>33.0</td>\n",
              "      <td>2519 S HALSTED ST</td>\n",
              "      <td>60608.0</td>\n",
              "      <td>1.171397e+06</td>\n",
              "      <td>1.887376e+06</td>\n",
              "      <td>11.0</td>\n",
              "      <td>9.0</td>\n",
              "      <td>60.0</td>\n",
              "      <td>NaN</td>\n",
              "      <td>41.846460</td>\n",
              "      <td>-87.646321</td>\n",
              "      <td>(41.846459969324, -87.646320667697)</td>\n",
              "    </tr>\n",
              "  </tbody>\n",
              "</table>\n",
              "</div>\n",
              "    <div class=\"colab-df-buttons\">\n",
              "\n",
              "  <div class=\"colab-df-container\">\n",
              "    <button class=\"colab-df-convert\" onclick=\"convertToInteractive('df-b135841d-9e70-4472-8c97-bfc30069c3ac')\"\n",
              "            title=\"Convert this dataframe to an interactive table.\"\n",
              "            style=\"display:none;\">\n",
              "\n",
              "  <svg xmlns=\"http://www.w3.org/2000/svg\" height=\"24px\" viewBox=\"0 -960 960 960\">\n",
              "    <path d=\"M120-120v-720h720v720H120Zm60-500h600v-160H180v160Zm220 220h160v-160H400v160Zm0 220h160v-160H400v160ZM180-400h160v-160H180v160Zm440 0h160v-160H620v160ZM180-180h160v-160H180v160Zm440 0h160v-160H620v160Z\"/>\n",
              "  </svg>\n",
              "    </button>\n",
              "\n",
              "  <style>\n",
              "    .colab-df-container {\n",
              "      display:flex;\n",
              "      gap: 12px;\n",
              "    }\n",
              "\n",
              "    .colab-df-convert {\n",
              "      background-color: #E8F0FE;\n",
              "      border: none;\n",
              "      border-radius: 50%;\n",
              "      cursor: pointer;\n",
              "      display: none;\n",
              "      fill: #1967D2;\n",
              "      height: 32px;\n",
              "      padding: 0 0 0 0;\n",
              "      width: 32px;\n",
              "    }\n",
              "\n",
              "    .colab-df-convert:hover {\n",
              "      background-color: #E2EBFA;\n",
              "      box-shadow: 0px 1px 2px rgba(60, 64, 67, 0.3), 0px 1px 3px 1px rgba(60, 64, 67, 0.15);\n",
              "      fill: #174EA6;\n",
              "    }\n",
              "\n",
              "    .colab-df-buttons div {\n",
              "      margin-bottom: 4px;\n",
              "    }\n",
              "\n",
              "    [theme=dark] .colab-df-convert {\n",
              "      background-color: #3B4455;\n",
              "      fill: #D2E3FC;\n",
              "    }\n",
              "\n",
              "    [theme=dark] .colab-df-convert:hover {\n",
              "      background-color: #434B5C;\n",
              "      box-shadow: 0px 1px 3px 1px rgba(0, 0, 0, 0.15);\n",
              "      filter: drop-shadow(0px 1px 2px rgba(0, 0, 0, 0.3));\n",
              "      fill: #FFFFFF;\n",
              "    }\n",
              "  </style>\n",
              "\n",
              "    <script>\n",
              "      const buttonEl =\n",
              "        document.querySelector('#df-b135841d-9e70-4472-8c97-bfc30069c3ac button.colab-df-convert');\n",
              "      buttonEl.style.display =\n",
              "        google.colab.kernel.accessAllowed ? 'block' : 'none';\n",
              "\n",
              "      async function convertToInteractive(key) {\n",
              "        const element = document.querySelector('#df-b135841d-9e70-4472-8c97-bfc30069c3ac');\n",
              "        const dataTable =\n",
              "          await google.colab.kernel.invokeFunction('convertToInteractive',\n",
              "                                                    [key], {});\n",
              "        if (!dataTable) return;\n",
              "\n",
              "        const docLinkHtml = 'Like what you see? Visit the ' +\n",
              "          '<a target=\"_blank\" href=https://colab.research.google.com/notebooks/data_table.ipynb>data table notebook</a>'\n",
              "          + ' to learn more about interactive tables.';\n",
              "        element.innerHTML = '';\n",
              "        dataTable['output_type'] = 'display_data';\n",
              "        await google.colab.output.renderOutput(dataTable, element);\n",
              "        const docLink = document.createElement('div');\n",
              "        docLink.innerHTML = docLinkHtml;\n",
              "        element.appendChild(docLink);\n",
              "      }\n",
              "    </script>\n",
              "  </div>\n",
              "\n",
              "\n",
              "<div id=\"df-7c70b589-4097-4681-805e-d1833977fb7d\">\n",
              "  <button class=\"colab-df-quickchart\" onclick=\"quickchart('df-7c70b589-4097-4681-805e-d1833977fb7d')\"\n",
              "            title=\"Suggest charts\"\n",
              "            style=\"display:none;\">\n",
              "\n",
              "<svg xmlns=\"http://www.w3.org/2000/svg\" height=\"24px\"viewBox=\"0 0 24 24\"\n",
              "     width=\"24px\">\n",
              "    <g>\n",
              "        <path d=\"M19 3H5c-1.1 0-2 .9-2 2v14c0 1.1.9 2 2 2h14c1.1 0 2-.9 2-2V5c0-1.1-.9-2-2-2zM9 17H7v-7h2v7zm4 0h-2V7h2v10zm4 0h-2v-4h2v4z\"/>\n",
              "    </g>\n",
              "</svg>\n",
              "  </button>\n",
              "\n",
              "<style>\n",
              "  .colab-df-quickchart {\n",
              "      --bg-color: #E8F0FE;\n",
              "      --fill-color: #1967D2;\n",
              "      --hover-bg-color: #E2EBFA;\n",
              "      --hover-fill-color: #174EA6;\n",
              "      --disabled-fill-color: #AAA;\n",
              "      --disabled-bg-color: #DDD;\n",
              "  }\n",
              "\n",
              "  [theme=dark] .colab-df-quickchart {\n",
              "      --bg-color: #3B4455;\n",
              "      --fill-color: #D2E3FC;\n",
              "      --hover-bg-color: #434B5C;\n",
              "      --hover-fill-color: #FFFFFF;\n",
              "      --disabled-bg-color: #3B4455;\n",
              "      --disabled-fill-color: #666;\n",
              "  }\n",
              "\n",
              "  .colab-df-quickchart {\n",
              "    background-color: var(--bg-color);\n",
              "    border: none;\n",
              "    border-radius: 50%;\n",
              "    cursor: pointer;\n",
              "    display: none;\n",
              "    fill: var(--fill-color);\n",
              "    height: 32px;\n",
              "    padding: 0;\n",
              "    width: 32px;\n",
              "  }\n",
              "\n",
              "  .colab-df-quickchart:hover {\n",
              "    background-color: var(--hover-bg-color);\n",
              "    box-shadow: 0 1px 2px rgba(60, 64, 67, 0.3), 0 1px 3px 1px rgba(60, 64, 67, 0.15);\n",
              "    fill: var(--button-hover-fill-color);\n",
              "  }\n",
              "\n",
              "  .colab-df-quickchart-complete:disabled,\n",
              "  .colab-df-quickchart-complete:disabled:hover {\n",
              "    background-color: var(--disabled-bg-color);\n",
              "    fill: var(--disabled-fill-color);\n",
              "    box-shadow: none;\n",
              "  }\n",
              "\n",
              "  .colab-df-spinner {\n",
              "    border: 2px solid var(--fill-color);\n",
              "    border-color: transparent;\n",
              "    border-bottom-color: var(--fill-color);\n",
              "    animation:\n",
              "      spin 1s steps(1) infinite;\n",
              "  }\n",
              "\n",
              "  @keyframes spin {\n",
              "    0% {\n",
              "      border-color: transparent;\n",
              "      border-bottom-color: var(--fill-color);\n",
              "      border-left-color: var(--fill-color);\n",
              "    }\n",
              "    20% {\n",
              "      border-color: transparent;\n",
              "      border-left-color: var(--fill-color);\n",
              "      border-top-color: var(--fill-color);\n",
              "    }\n",
              "    30% {\n",
              "      border-color: transparent;\n",
              "      border-left-color: var(--fill-color);\n",
              "      border-top-color: var(--fill-color);\n",
              "      border-right-color: var(--fill-color);\n",
              "    }\n",
              "    40% {\n",
              "      border-color: transparent;\n",
              "      border-right-color: var(--fill-color);\n",
              "      border-top-color: var(--fill-color);\n",
              "    }\n",
              "    60% {\n",
              "      border-color: transparent;\n",
              "      border-right-color: var(--fill-color);\n",
              "    }\n",
              "    80% {\n",
              "      border-color: transparent;\n",
              "      border-right-color: var(--fill-color);\n",
              "      border-bottom-color: var(--fill-color);\n",
              "    }\n",
              "    90% {\n",
              "      border-color: transparent;\n",
              "      border-bottom-color: var(--fill-color);\n",
              "    }\n",
              "  }\n",
              "</style>\n",
              "\n",
              "  <script>\n",
              "    async function quickchart(key) {\n",
              "      const quickchartButtonEl =\n",
              "        document.querySelector('#' + key + ' button');\n",
              "      quickchartButtonEl.disabled = true;  // To prevent multiple clicks.\n",
              "      quickchartButtonEl.classList.add('colab-df-spinner');\n",
              "      try {\n",
              "        const charts = await google.colab.kernel.invokeFunction(\n",
              "            'suggestCharts', [key], {});\n",
              "      } catch (error) {\n",
              "        console.error('Error during call to suggestCharts:', error);\n",
              "      }\n",
              "      quickchartButtonEl.classList.remove('colab-df-spinner');\n",
              "      quickchartButtonEl.classList.add('colab-df-quickchart-complete');\n",
              "    }\n",
              "    (() => {\n",
              "      let quickchartButtonEl =\n",
              "        document.querySelector('#df-7c70b589-4097-4681-805e-d1833977fb7d button');\n",
              "      quickchartButtonEl.style.display =\n",
              "        google.colab.kernel.accessAllowed ? 'block' : 'none';\n",
              "    })();\n",
              "  </script>\n",
              "</div>\n",
              "\n",
              "    </div>\n",
              "  </div>\n"
            ],
            "application/vnd.google.colaboratory.intrinsic+json": {
              "type": "dataframe",
              "repr_error": "0"
            }
          },
          "metadata": {},
          "execution_count": 4
        }
      ],
      "source": [
        "pothole.tail()"
      ]
    },
    {
      "cell_type": "code",
      "execution_count": null,
      "metadata": {
        "colab": {
          "base_uri": "https://localhost:8080/"
        },
        "id": "DMKARO63GBmC",
        "outputId": "99263e86-11e1-4b39-f862-e50b3894b59a"
      },
      "outputs": [
        {
          "output_type": "execute_result",
          "data": {
            "text/plain": [
              "(560478, 19)"
            ]
          },
          "metadata": {},
          "execution_count": 5
        }
      ],
      "source": [
        "pothole.shape"
      ]
    },
    {
      "cell_type": "code",
      "execution_count": null,
      "metadata": {
        "colab": {
          "base_uri": "https://localhost:8080/"
        },
        "id": "FWKF32WbGED0",
        "outputId": "30167cf1-239f-4a08-d08e-c62b7a6ab264"
      },
      "outputs": [
        {
          "output_type": "execute_result",
          "data": {
            "text/plain": [
              "Index(['creation_date', 'status', 'completion_date', 'service_request_number',\n",
              "       'type_of_service_request', 'current_activity', 'most_recent_action',\n",
              "       'number_of_potholes_filled_on_block', 'street_address', 'zip',\n",
              "       'x_coordinate', 'y_coordinate', 'ward', 'police_district',\n",
              "       'community_area', 'ssa', 'latitude', 'longitude', 'location'],\n",
              "      dtype='object')"
            ]
          },
          "metadata": {},
          "execution_count": 6
        }
      ],
      "source": [
        "pothole.columns"
      ]
    },
    {
      "cell_type": "code",
      "execution_count": null,
      "metadata": {
        "colab": {
          "base_uri": "https://localhost:8080/"
        },
        "id": "mmJcWbeRGFcL",
        "outputId": "67fa4291-c04d-4cb9-b602-1aa9ba03d30d"
      },
      "outputs": [
        {
          "output_type": "stream",
          "name": "stdout",
          "text": [
            "<class 'pandas.core.frame.DataFrame'>\n",
            "RangeIndex: 560478 entries, 0 to 560477\n",
            "Data columns (total 19 columns):\n",
            " #   Column                              Non-Null Count   Dtype  \n",
            "---  ------                              --------------   -----  \n",
            " 0   creation_date                       560478 non-null  object \n",
            " 1   status                              560478 non-null  object \n",
            " 2   completion_date                     553130 non-null  object \n",
            " 3   service_request_number              560478 non-null  object \n",
            " 4   type_of_service_request             560478 non-null  object \n",
            " 5   current_activity                    393609 non-null  object \n",
            " 6   most_recent_action                  391992 non-null  object \n",
            " 7   number_of_potholes_filled_on_block  399143 non-null  float64\n",
            " 8   street_address                      560476 non-null  object \n",
            " 9   zip                                 558160 non-null  float64\n",
            " 10  x_coordinate                        560004 non-null  float64\n",
            " 11  y_coordinate                        560004 non-null  float64\n",
            " 12  ward                                560145 non-null  float64\n",
            " 13  police_district                     560144 non-null  float64\n",
            " 14  community_area                      560145 non-null  float64\n",
            " 15  ssa                                 87611 non-null   float64\n",
            " 16  latitude                            559602 non-null  float64\n",
            " 17  longitude                           559602 non-null  float64\n",
            " 18  location                            559602 non-null  object \n",
            "dtypes: float64(10), object(9)\n",
            "memory usage: 81.2+ MB\n"
          ]
        }
      ],
      "source": [
        "pothole.info()"
      ]
    },
    {
      "cell_type": "code",
      "execution_count": null,
      "metadata": {
        "colab": {
          "base_uri": "https://localhost:8080/"
        },
        "id": "KR5sKSexcD6x",
        "outputId": "b91f4164-4323-4d12-bafd-3ece58653a9a"
      },
      "outputs": [
        {
          "output_type": "stream",
          "name": "stdout",
          "text": [
            "                  creation_date      status          completion_date  \\\n",
            "0       2018-12-18T00:00:00.000        Open                      NaN   \n",
            "1       2018-12-18T00:00:00.000        Open                      NaN   \n",
            "2       2018-12-18T00:00:00.000        Open                      NaN   \n",
            "3       2018-12-18T00:00:00.000  Open - Dup                      NaN   \n",
            "4       2018-12-18T00:00:00.000        Open                      NaN   \n",
            "...                         ...         ...                      ...   \n",
            "560473  2010-03-11T00:00:00.000   Completed  2011-03-28T00:00:00.000   \n",
            "560474  2010-02-26T00:00:00.000   Completed  2011-10-04T00:00:00.000   \n",
            "560475  2009-08-27T00:00:00.000   Completed  2011-01-25T00:00:00.000   \n",
            "560476  2009-06-17T00:00:00.000   Completed  2011-06-07T00:00:00.000   \n",
            "560477  2009-01-12T00:00:00.000   Completed  2011-10-06T00:00:00.000   \n",
            "\n",
            "       service_request_number type_of_service_request current_activity  \\\n",
            "0                 18-03387505       Pothole in Street              NaN   \n",
            "1                 18-03387458       Pothole in Street              NaN   \n",
            "2                 18-03387502       Pothole in Street              NaN   \n",
            "3                 18-03388379       Pothole in Street              NaN   \n",
            "4                 18-03388180       Pothole in Street              NaN   \n",
            "...                       ...                     ...              ...   \n",
            "560473            10-00317212      Pot Hole in Street    Dispatch Crew   \n",
            "560474            10-00254019      Pot Hole in Street              NaN   \n",
            "560475            09-01501980      Pot Hole in Street      Site Survey   \n",
            "560476            09-01026546      Pot Hole in Street    Dispatch Crew   \n",
            "560477            09-00061329      Pot Hole in Street    Dispatch Crew   \n",
            "\n",
            "       most_recent_action  number_of_potholes_filled_on_block  \\\n",
            "0                     NaN                                 NaN   \n",
            "1                     NaN                                 NaN   \n",
            "2                     NaN                                 NaN   \n",
            "3                     NaN                                 NaN   \n",
            "4                     NaN                                 NaN   \n",
            "...                   ...                                 ...   \n",
            "560473    Pothole Patched                                 5.0   \n",
            "560474                NaN                                 NaN   \n",
            "560475   No Problem Found                                80.0   \n",
            "560476    Pothole Patched                                 NaN   \n",
            "560477    Pothole Patched                                33.0   \n",
            "\n",
            "              street_address      zip  x_coordinate  y_coordinate  ward  \\\n",
            "0       1145 S FAIRFIELD AVE  60612.0  1.158186e+06  1.894949e+06  28.0   \n",
            "1         908 S CAMPBELL AVE  60612.0  1.159861e+06  1.895934e+06  28.0   \n",
            "2             2421 W 21ST PL  60608.0  1.160590e+06  1.889668e+06  28.0   \n",
            "3             1959 S TROY ST  60623.0  1.155670e+06  1.890142e+06  24.0   \n",
            "4        4100 S WESTERN BLVD  60609.0  1.161202e+06  1.877426e+06  12.0   \n",
            "...                      ...      ...           ...           ...   ...   \n",
            "560473    7201 W BELMONT AVE  60634.0           NaN           NaN  36.0   \n",
            "560474    1440 S ROCKWELL ST  60608.0  1.159269e+06  1.892879e+06  28.0   \n",
            "560475      5518 N WAYNE AVE  60640.0           NaN           NaN  48.0   \n",
            "560476     3845 W ADDISON ST  60618.0  1.150061e+06  1.923655e+06  30.0   \n",
            "560477     2519 S HALSTED ST  60608.0  1.171397e+06  1.887376e+06  11.0   \n",
            "\n",
            "        police_district  community_area  ssa   latitude  longitude  \\\n",
            "0                  11.0            29.0  NaN  41.866992 -87.694609   \n",
            "1                  11.0            28.0  NaN  41.869927 -87.688710   \n",
            "2                  10.0            31.0  NaN  41.852826 -87.686536   \n",
            "3                  10.0            29.0  NaN  41.853704 -87.703946   \n",
            "4                   9.0            58.0  NaN  41.819247 -87.684305   \n",
            "...                 ...             ...  ...        ...        ...   \n",
            "560473             25.0            17.0  NaN  41.937886 -87.806806   \n",
            "560474             10.0            29.0  NaN  41.861757 -87.690973   \n",
            "560475             20.0            77.0  NaN  41.982340 -87.663869   \n",
            "560476             17.0            21.0  NaN  41.946303 -87.724348   \n",
            "560477              9.0            60.0  NaN  41.846460 -87.646321   \n",
            "\n",
            "                                   location  \n",
            "0       (41.866991991336, -87.694608638672)  \n",
            "1       (41.869927464401, -87.688710188657)  \n",
            "2       (41.852826019085, -87.686535678313)  \n",
            "3       (41.853703821634, -87.703946492923)  \n",
            "4        (41.819246696086, -87.68430532228)  \n",
            "...                                     ...  \n",
            "560473    (41.937885966284, -87.8068055064)  \n",
            "560474  (41.861756644625, -87.690972506101)  \n",
            "560475   (41.98234020574, -87.663868977471)  \n",
            "560476  (41.946303283819, -87.724347984027)  \n",
            "560477  (41.846459969324, -87.646320667697)  \n",
            "\n",
            "[560478 rows x 19 columns]\n"
          ]
        }
      ],
      "source": [
        "print (pothole)"
      ]
    },
    {
      "cell_type": "code",
      "execution_count": null,
      "metadata": {
        "id": "AskBM_X6cNyR"
      },
      "outputs": [],
      "source": [
        "# What season gets the most potholes filled?"
      ]
    },
    {
      "cell_type": "code",
      "execution_count": null,
      "metadata": {
        "id": "gFy2O_vcceOU"
      },
      "outputs": [],
      "source": [
        "patched = pd.read_csv(\"https://data.cityofchicago.org/resource/wqdh-9gek.csv?$limit=1000000\")"
      ]
    },
    {
      "cell_type": "code",
      "execution_count": null,
      "metadata": {
        "id": "o9oxjUG1cXHL"
      },
      "outputs": [],
      "source": [
        "patched['request_date'] = pd.to_datetime(patched['request_date'])"
      ]
    },
    {
      "cell_type": "code",
      "execution_count": null,
      "metadata": {
        "id": "sIHx4CqacjeB"
      },
      "outputs": [],
      "source": [
        "def month_to_season(month):\n",
        "    if month in [12, 1, 2]:\n",
        "        return 'Winter'\n",
        "    elif month in [3, 4, 5]:\n",
        "        return 'Spring'\n",
        "    elif month in [6, 7, 8]:\n",
        "        return 'Summer'\n",
        "    else:\n",
        "        return 'Autumn'"
      ]
    },
    {
      "cell_type": "code",
      "execution_count": null,
      "metadata": {
        "id": "6ZPnxBwhcpLq"
      },
      "outputs": [],
      "source": [
        "patched['season'] = patched['request_date'].dt.month.apply(month_to_season)"
      ]
    },
    {
      "cell_type": "code",
      "execution_count": null,
      "metadata": {
        "id": "HOoQvl1Zcr7X"
      },
      "outputs": [],
      "source": [
        "season_potholes_filled = patched.groupby('season')['number_of_potholes_filled_on_block'].sum()"
      ]
    },
    {
      "cell_type": "code",
      "execution_count": null,
      "metadata": {
        "colab": {
          "base_uri": "https://localhost:8080/"
        },
        "id": "uZqyvvtQHce2",
        "outputId": "ec4d78b4-d65c-4b95-f9d0-bdd8f21ed17a"
      },
      "outputs": [
        {
          "output_type": "stream",
          "name": "stdout",
          "text": [
            "              address        request_date          completion_date  \\\n",
            "0      4400 W 87TH ST 2024-04-11 06:39:27  2024-04-22T14:16:21.000   \n",
            "1  8500 S KOSTNER AVE 2024-04-12 12:50:57  2024-04-22T14:15:48.000   \n",
            "2      4532 W 85TH ST 2024-04-12 12:52:00  2024-04-22T14:15:16.000   \n",
            "3      4000 W 81ST ST 2024-04-18 08:15:51  2024-04-22T14:14:43.000   \n",
            "4   8533 S KOLMAR AVE 2024-04-17 23:52:12  2024-04-22T14:14:09.000   \n",
            "\n",
            "   number_of_potholes_filled_on_block   latitude  longitude  \\\n",
            "0                                   4  41.734962 -87.731334   \n",
            "1                                  12  41.738220 -87.731563   \n",
            "2                                   8  41.738378 -87.734984   \n",
            "3                                   6  41.745978 -87.722114   \n",
            "4                                  18  41.737284 -87.734578   \n",
            "\n",
            "                                   location  season  \n",
            "0   POINT (-87.731334000002 41.73496200094)  Spring  \n",
            "1   POINT (-87.731563500002 41.73822000094)  Spring  \n",
            "2  POINT (-87.734983783989 41.738377784927)  Spring  \n",
            "3   POINT (-87.722113500002 41.74597800094)  Spring  \n",
            "4   POINT (-87.734578500002 41.73728400094)  Spring  \n"
          ]
        }
      ],
      "source": [
        "print(patched.head())"
      ]
    },
    {
      "cell_type": "code",
      "execution_count": null,
      "metadata": {
        "colab": {
          "base_uri": "https://localhost:8080/"
        },
        "id": "wugSQ3bHcu_2",
        "outputId": "cd994fa4-03fb-4bd6-e9eb-001fc4333c09"
      },
      "outputs": [
        {
          "output_type": "stream",
          "name": "stdout",
          "text": [
            "season\n",
            "Autumn    208122\n",
            "Spring    994891\n",
            "Summer    313235\n",
            "Winter    625338\n",
            "Name: number_of_potholes_filled_on_block, dtype: int64\n"
          ]
        }
      ],
      "source": [
        "print(season_potholes_filled)"
      ]
    },
    {
      "cell_type": "code",
      "execution_count": null,
      "metadata": {
        "colab": {
          "base_uri": "https://localhost:8080/"
        },
        "id": "BCBE8vP9dhuC",
        "outputId": "f193d03d-1ba3-4425-ee2d-d5dbcb35658c"
      },
      "outputs": [
        {
          "output_type": "stream",
          "name": "stdout",
          "text": [
            "13.415104770637253\n"
          ]
        }
      ],
      "source": [
        "average_duration_by_season = patched.groupby('season')['number_of_potholes_filled_on_block'].mean()\n",
        "print(average_duration_by_season.max())"
      ]
    },
    {
      "cell_type": "code",
      "execution_count": null,
      "metadata": {
        "id": "PSH-tANi7ath"
      },
      "outputs": [],
      "source": [
        "# Which wards have the most pothole requests?"
      ]
    },
    {
      "cell_type": "code",
      "execution_count": null,
      "metadata": {
        "colab": {
          "base_uri": "https://localhost:8080/"
        },
        "id": "6lMk3tzB7aXH",
        "outputId": "f5fdad27-2dae-4190-a2fa-899294370d76"
      },
      "outputs": [
        {
          "output_type": "execute_result",
          "data": {
            "text/plain": [
              "ward\n",
              "41.0    21637\n",
              "45.0    16788\n",
              "19.0    16534\n",
              "23.0    16398\n",
              "32.0    16173\n",
              "13.0    15765\n",
              "39.0    15699\n",
              "8.0     15336\n",
              "42.0    14730\n",
              "34.0    14528\n",
              "21.0    14126\n",
              "2.0     13790\n",
              "18.0    13761\n",
              "36.0    13687\n",
              "27.0    13221\n",
              "38.0    12878\n",
              "50.0    12760\n",
              "14.0    12244\n",
              "10.0    12146\n",
              "40.0    11965\n",
              "29.0    11730\n",
              "6.0     11460\n",
              "35.0    10732\n",
              "28.0    10693\n",
              "25.0    10621\n",
              "1.0     10545\n",
              "5.0     10438\n",
              "9.0     10380\n",
              "11.0     9743\n",
              "12.0     9620\n",
              "49.0     9551\n",
              "47.0     9458\n",
              "31.0     9351\n",
              "17.0     9055\n",
              "24.0     9044\n",
              "37.0     8942\n",
              "30.0     8436\n",
              "26.0     8358\n",
              "43.0     8231\n",
              "7.0      7997\n",
              "33.0     7922\n",
              "16.0     7825\n",
              "3.0      7611\n",
              "20.0     7541\n",
              "15.0     7334\n",
              "48.0     7076\n",
              "4.0      7042\n",
              "22.0     6966\n",
              "44.0     6373\n",
              "46.0     4340\n",
              "0.0      1564\n",
              "Name: type_of_service_request, dtype: int64"
            ]
          },
          "metadata": {},
          "execution_count": 19
        }
      ],
      "source": [
        "pothole.groupby('ward')['type_of_service_request'].count().sort_values(ascending = False)"
      ]
    },
    {
      "cell_type": "code",
      "source": [
        "pothole.groupby('ward')['type_of_service_request'].count().sort_values(ascending = False).head(8)"
      ],
      "metadata": {
        "colab": {
          "base_uri": "https://localhost:8080/"
        },
        "id": "Dey70XuSyc3z",
        "outputId": "11bd8264-b372-4c71-d852-955f0b586e81"
      },
      "execution_count": null,
      "outputs": [
        {
          "output_type": "execute_result",
          "data": {
            "text/plain": [
              "ward\n",
              "41.0    21637\n",
              "45.0    16788\n",
              "19.0    16534\n",
              "23.0    16398\n",
              "32.0    16173\n",
              "13.0    15765\n",
              "39.0    15699\n",
              "8.0     15336\n",
              "Name: type_of_service_request, dtype: int64"
            ]
          },
          "metadata": {},
          "execution_count": 104
        }
      ]
    },
    {
      "cell_type": "code",
      "execution_count": null,
      "metadata": {
        "id": "GSSKOtLl4O65"
      },
      "outputs": [],
      "source": [
        "# How many potholes are filled in each ward? (with patched data)"
      ]
    },
    {
      "cell_type": "code",
      "execution_count": null,
      "metadata": {
        "colab": {
          "base_uri": "https://localhost:8080/"
        },
        "id": "rQUFXi7j4MK8",
        "outputId": "9da040ab-696a-42fb-a6d4-8f7338501e41"
      },
      "outputs": [
        {
          "output_type": "execute_result",
          "data": {
            "text/plain": [
              "number_of_potholes_filled_on_block\n",
              "1      20601\n",
              "2      18110\n",
              "3      14284\n",
              "5      12567\n",
              "4      12032\n",
              "       ...  \n",
              "212        1\n",
              "214        1\n",
              "215        1\n",
              "218        1\n",
              "467        1\n",
              "Length: 230, dtype: int64"
            ]
          },
          "metadata": {},
          "execution_count": 21
        }
      ],
      "source": [
        "patched.groupby('number_of_potholes_filled_on_block').size().sort_values(ascending = False)"
      ]
    },
    {
      "cell_type": "code",
      "execution_count": null,
      "metadata": {
        "id": "DPZ_fiDtc9h9"
      },
      "outputs": [],
      "source": [
        "# According to the patched data, how long does it take for a pothole to get patched?"
      ]
    },
    {
      "cell_type": "code",
      "execution_count": null,
      "metadata": {
        "id": "CxW29tjHdL5o"
      },
      "outputs": [],
      "source": [
        "patched['request_date'] = pd.to_datetime(patched['request_date'])\n",
        "patched['completion_date'] = pd.to_datetime(patched['completion_date'])"
      ]
    },
    {
      "cell_type": "code",
      "execution_count": null,
      "metadata": {
        "id": "xUltNQcddPC0"
      },
      "outputs": [],
      "source": [
        "patched['duration'] = (patched['completion_date'] - patched['request_date']).dt.days"
      ]
    },
    {
      "cell_type": "code",
      "execution_count": null,
      "metadata": {
        "colab": {
          "base_uri": "https://localhost:8080/"
        },
        "id": "lfFjwTqbdRlI",
        "outputId": "1875218e-0925-4bdc-a566-c20a7545b305"
      },
      "outputs": [
        {
          "output_type": "stream",
          "name": "stdout",
          "text": [
            "         request_date     completion_date  duration\n",
            "0 2024-04-11 06:39:27 2024-04-22 14:16:21        11\n",
            "1 2024-04-12 12:50:57 2024-04-22 14:15:48        10\n",
            "2 2024-04-12 12:52:00 2024-04-22 14:15:16        10\n",
            "3 2024-04-18 08:15:51 2024-04-22 14:14:43         4\n",
            "4 2024-04-17 23:52:12 2024-04-22 14:14:09         4\n"
          ]
        }
      ],
      "source": [
        "print(patched[['request_date', 'completion_date', 'duration']].head())"
      ]
    },
    {
      "cell_type": "code",
      "execution_count": null,
      "metadata": {
        "colab": {
          "base_uri": "https://localhost:8080/"
        },
        "id": "B_efOYdUdUOU",
        "outputId": "d010513f-08bf-4093-d931-c8bfb3d5a377"
      },
      "outputs": [
        {
          "output_type": "stream",
          "name": "stdout",
          "text": [
            "The average duration it takes to patch a pothole is 20.189787498336365 days.\n"
          ]
        }
      ],
      "source": [
        "average_duration = patched['duration'].mean()\n",
        "print(f\"The average duration it takes to patch a pothole is {average_duration} days.\")"
      ]
    },
    {
      "cell_type": "code",
      "execution_count": null,
      "metadata": {
        "colab": {
          "base_uri": "https://localhost:8080/"
        },
        "id": "NK7dYrSadXXu",
        "outputId": "168fc10b-8188-4f3e-83ce-8a518f2878e0"
      },
      "outputs": [
        {
          "output_type": "stream",
          "name": "stdout",
          "text": [
            "The median duration it takes to patch a pothole is 4.0 days.\n"
          ]
        }
      ],
      "source": [
        "median_duration = patched['duration'].median()\n",
        "print(f\"The median duration it takes to patch a pothole is {median_duration} days.\")"
      ]
    },
    {
      "cell_type": "code",
      "execution_count": null,
      "metadata": {
        "colab": {
          "base_uri": "https://localhost:8080/"
        },
        "id": "Yq7C89J-daWp",
        "outputId": "02401250-d5eb-4cb2-c69b-401e223da4cb"
      },
      "outputs": [
        {
          "output_type": "stream",
          "name": "stdout",
          "text": [
            "count    180328.000000\n",
            "mean         20.189787\n",
            "std          40.141559\n",
            "min           0.000000\n",
            "25%           0.000000\n",
            "50%           4.000000\n",
            "75%          18.000000\n",
            "max         553.000000\n",
            "Name: duration, dtype: float64\n"
          ]
        }
      ],
      "source": [
        "print(patched['duration'].describe())"
      ]
    },
    {
      "cell_type": "code",
      "execution_count": null,
      "metadata": {
        "id": "TahrolpSd4p1"
      },
      "outputs": [],
      "source": [
        "# Show the melted date (PATCHED)"
      ]
    },
    {
      "cell_type": "code",
      "execution_count": null,
      "metadata": {
        "id": "CuaRtiIUeD2Q"
      },
      "outputs": [],
      "source": [
        "id_vars = ['address', 'location']\n",
        "value_vars = ['request_date', 'number_of_potholes_filled_on_block']"
      ]
    },
    {
      "cell_type": "code",
      "execution_count": null,
      "metadata": {
        "id": "PdaMwv-TeEvH"
      },
      "outputs": [],
      "source": [
        "melted_data = patched.melt(id_vars=id_vars, value_vars=value_vars, var_name='variable', value_name='value')"
      ]
    },
    {
      "cell_type": "code",
      "execution_count": null,
      "metadata": {
        "colab": {
          "base_uri": "https://localhost:8080/"
        },
        "id": "effbwTlpeH6R",
        "outputId": "1b32eb07-d883-468a-ed07-753d1e5718b2"
      },
      "outputs": [
        {
          "output_type": "stream",
          "name": "stdout",
          "text": [
            "                    address                                  location  \\\n",
            "0            4400 W 87TH ST   POINT (-87.731334000002 41.73496200094)   \n",
            "1        8500 S KOSTNER AVE   POINT (-87.731563500002 41.73822000094)   \n",
            "2            4532 W 85TH ST  POINT (-87.734983783989 41.738377784927)   \n",
            "3            4000 W 81ST ST   POINT (-87.722113500002 41.74597800094)   \n",
            "4         8533 S KOLMAR AVE   POINT (-87.734578500002 41.73728400094)   \n",
            "...                     ...                                       ...   \n",
            "360651       3911 W 61ST ST              POINT (-87.720834 41.782065)   \n",
            "360652       3908 W 61ST ST              POINT (-87.720808 41.782588)   \n",
            "360653       3900 W 62ND PL              POINT (-87.720513 41.779863)   \n",
            "360654       3847 W 61ST PL              POINT (-87.719803 41.781169)   \n",
            "360655  6400 S MAJOR Avenue  POINT (-87.764136509305 41.776112376302)   \n",
            "\n",
            "                                  variable                value  \n",
            "0                             request_date  2024-04-11 06:39:27  \n",
            "1                             request_date  2024-04-12 12:50:57  \n",
            "2                             request_date  2024-04-12 12:52:00  \n",
            "3                             request_date  2024-04-18 08:15:51  \n",
            "4                             request_date  2024-04-17 23:52:12  \n",
            "...                                    ...                  ...  \n",
            "360651  number_of_potholes_filled_on_block                    4  \n",
            "360652  number_of_potholes_filled_on_block                    3  \n",
            "360653  number_of_potholes_filled_on_block                   10  \n",
            "360654  number_of_potholes_filled_on_block                   15  \n",
            "360655  number_of_potholes_filled_on_block                   16  \n",
            "\n",
            "[360656 rows x 4 columns]\n"
          ]
        }
      ],
      "source": [
        "print(melted_data)"
      ]
    },
    {
      "cell_type": "code",
      "execution_count": null,
      "metadata": {
        "id": "4e_VhCbaeKw3"
      },
      "outputs": [],
      "source": [
        "# LOOP (Patched)"
      ]
    },
    {
      "cell_type": "code",
      "execution_count": null,
      "metadata": {
        "id": "Acpg2qi4eUx3"
      },
      "outputs": [],
      "source": [
        "total_potholes_per_address = {}"
      ]
    },
    {
      "cell_type": "code",
      "execution_count": null,
      "metadata": {
        "id": "eHt--9-DekLf"
      },
      "outputs": [],
      "source": [
        "for index, row in patched.iterrows():\n",
        "    address = row['address']\n",
        "    potholes_filled = row['number_of_potholes_filled_on_block']\n",
        "if address not in total_potholes_per_address:\n",
        "        total_potholes_per_address[address] = potholes_filled\n",
        "else:total_potholes_per_address[address] += potholes_filled"
      ]
    },
    {
      "cell_type": "code",
      "execution_count": null,
      "metadata": {
        "colab": {
          "base_uri": "https://localhost:8080/"
        },
        "id": "EcUy69IoenoL",
        "outputId": "97dde334-e131-48ad-a5ee-88ef14a7c993"
      },
      "outputs": [
        {
          "output_type": "stream",
          "name": "stdout",
          "text": [
            "Address: 6400 S MAJOR Avenue, Total Potholes Filled: 16\n"
          ]
        }
      ],
      "source": [
        "for address, total_potholes in total_potholes_per_address.items():\n",
        "    print(f\"Address: {address}, Total Potholes Filled: {total_potholes}\")"
      ]
    },
    {
      "cell_type": "code",
      "execution_count": null,
      "metadata": {
        "id": "Y2mT9Dxrewn3"
      },
      "outputs": [],
      "source": [
        "# Demonstrate an F String (Patched)"
      ]
    },
    {
      "cell_type": "code",
      "execution_count": null,
      "metadata": {
        "colab": {
          "base_uri": "https://localhost:8080/"
        },
        "id": "qabEIbdIezsd",
        "outputId": "07acb020-54c2-4c61-993f-6f363cda4267"
      },
      "outputs": [
        {
          "output_type": "stream",
          "name": "stdout",
          "text": [
            "Address: 4400 W 87TH ST, Request Date: 2024-04-11 06:39:27, Potholes Filled: 4, Location: POINT (-87.731334000002 41.73496200094)\n",
            "Address: 8500 S KOSTNER AVE, Request Date: 2024-04-12 12:50:57, Potholes Filled: 12, Location: POINT (-87.731563500002 41.73822000094)\n",
            "Address: 4532 W 85TH ST, Request Date: 2024-04-12 12:52:00, Potholes Filled: 8, Location: POINT (-87.734983783989 41.738377784927)\n",
            "Address: 4000 W 81ST ST, Request Date: 2024-04-18 08:15:51, Potholes Filled: 6, Location: POINT (-87.722113500002 41.74597800094)\n",
            "Address: 8533 S KOLMAR AVE, Request Date: 2024-04-17 23:52:12, Potholes Filled: 18, Location: POINT (-87.734578500002 41.73728400094)\n",
            "Address: 5256 W 64TH PL, Request Date: 2024-04-10 10:14:19, Potholes Filled: 10, Location: POINT (-87.753915000002 41.77544400094)\n",
            "Address: 6129 S MASON AVE, Request Date: 2024-04-15 10:42:21, Potholes Filled: 12, Location: POINT (-87.770124000002 41.78069100094)\n",
            "Address: 5954 S MASON AVE, Request Date: 2024-04-15 10:35:38, Potholes Filled: 10, Location: POINT (-87.770555579617 41.783611139888)\n",
            "Address: 6328 W 64TH PL, Request Date: 2024-04-10 15:11:05, Potholes Filled: 15, Location: POINT (-87.779898000002 41.77518300094)\n",
            "Address: 6341 N WASHTENAW AVE, Request Date: 2024-04-22 06:54:03, Potholes Filled: 11, Location: POINT (-87.696648000002 41.997006000941)\n",
            "Address: 7041 N WASHTENAW AVE, Request Date: 2024-04-21 11:28:11, Potholes Filled: 15, Location: POINT (-87.697161000002 42.009831000941)\n",
            "Address: 7642 S GREENWOOD AVE, Request Date: 2024-04-08 13:12:35, Potholes Filled: 6, Location: POINT (-87.598273500002 41.75558100094)\n",
            "Address: 1099 E 77TH ST, Request Date: 2024-04-09 19:41:19, Potholes Filled: 32, Location: POINT (-87.59808930398 41.754937196962)\n",
            "Address: 2121 W 95TH ST, Request Date: 2024-04-22 13:37:33, Potholes Filled: 1, Location: POINT (-87.675775993982 41.720962237583)\n",
            "Address: 2100 W 95TH ST, Request Date: 2024-04-22 13:36:12, Potholes Filled: 10, Location: POINT (-87.674602500002 41.72132700094)\n",
            "Address: 2100 W 92ND ST, Request Date: 2024-04-22 13:34:46, Potholes Filled: 2, Location: POINT (-87.674638769918 41.726605770856)\n",
            "Address: 2132 W 93RD ST, Request Date: 2024-04-22 13:33:35, Potholes Filled: 19, Location: POINT (-87.675884255039 41.724769768663)\n",
            "Address: 2940 W LUNT AVE, Request Date: 2024-04-21 16:06:20, Potholes Filled: 6, Location: POINT (-87.703803000002 42.008598000941)\n",
            "Address: 10300 S WOOD ST, Request Date: 2024-04-09 10:58:21, Potholes Filled: 9, Location: POINT (-87.667165229797 41.706561680049)\n",
            "Address: 2941 W LUNT AVE, Request Date: 2024-04-21 16:08:21, Potholes Filled: 10, Location: POINT (-87.703762500002 42.008175000941)\n",
            "Address: 2937 W LUNT AVE, Request Date: 2024-04-21 16:07:19, Potholes Filled: 7, Location: POINT (-87.703650000002 42.008157000941)\n",
            "Address: 2949 W LUNT AVE, Request Date: 2024-04-21 16:09:24, Potholes Filled: 5, Location: POINT (-87.704028000002 42.008175000941)\n",
            "Address: 11354 S CHURCH ST, Request Date: 2024-04-17 14:14:47, Potholes Filled: 20, Location: POINT (-87.668055000002 41.68737900094)\n",
            "Address: 10817 S WOOD ST, Request Date: 2024-04-18 12:27:41, Potholes Filled: 21, Location: POINT (-87.666372000002 41.69694600094)\n",
            "Address: 7429 N CLAREMONT AVE, Request Date: 2024-04-18 01:04:25, Potholes Filled: 1, Location: POINT (-87.688570500002 42.016545000941)\n",
            "Address: 10400 S WOOD ST, Request Date: 2024-04-09 10:59:33, Potholes Filled: 20, Location: POINT (-87.666169500002 41.70481200094)\n",
            "Address: 7200 N WASHTENAW AVE, Request Date: 2024-04-17 20:19:54, Potholes Filled: 5, Location: POINT (-87.697705500002 42.012387000941)\n",
            "Address: 5701 N MOZART ST, Request Date: 2024-04-19 15:20:13, Potholes Filled: 8, Location: POINT (-87.700140000002 41.985099000941)\n",
            "Address: 6320 N LINCOLN AVE, Request Date: 2024-04-17 16:31:18, Potholes Filled: 10, Location: POINT (-87.717123000002 41.996079000941)\n",
            "Address: 2150 W 97TH ST, Request Date: 2024-04-19 07:36:19, Potholes Filled: 2, Location: POINT (-87.676714721732 41.717461759933)\n",
            "Address: 9600 S LEAVITT ST, Request Date: 2024-04-19 07:32:24, Potholes Filled: 11, Location: POINT (-87.677541000002 41.71901400094)\n",
            "Address: 7259 W PETERSON AVE, Request Date: 2024-04-22 13:07:56, Potholes Filled: 1, Location: POINT (-87.809179500002 41.989725000941)\n",
            "Address: 6849 N OTTAWA AVE, Request Date: 2024-04-22 13:05:09, Potholes Filled: 1, Location: POINT (-87.817365000002 42.005295000941)\n",
            "Address: 9054 S JEFFERY BLVD, Request Date: 2024-04-13 16:08:56, Potholes Filled: 1, Location: POINT (-87.575604073889 41.729941955626)\n",
            "Address: 9000 S JEFFERY BLVD, Request Date: 2024-04-17 07:51:45, Potholes Filled: 1, Location: POINT (-87.575591502282 41.731592005731)\n",
            "Address: 1500 E 92ND ST, Request Date: 2024-04-11 18:29:13, Potholes Filled: 33, Location: POINT (-87.587863941081 41.72786918756)\n",
            "Address: 9355 S EAST END AVE, Request Date: 2024-04-16 15:56:25, Potholes Filled: 3, Location: POINT (-87.582339000002 41.72436000094)\n",
            "Address: 9347 S EAST END AVE, Request Date: 2024-04-16 15:49:22, Potholes Filled: 8, Location: POINT (-87.582321000002 41.72458500094)\n",
            "Address: 7300 W CHASE AVE, Request Date: 2024-04-22 12:57:45, Potholes Filled: 1, Location: POINT (-87.809144918948 42.013547051756)\n",
            "Address: 1700 E 92ND ST, Request Date: 2024-04-11 17:00:44, Potholes Filled: 15, Location: POINT (-87.582465000002 41.72808600094)\n",
            "Address: 1700 E 92ND ST, Request Date: 2024-04-11 18:28:37, Potholes Filled: 15, Location: POINT (-87.582465000002 41.72808600094)\n",
            "Address: 9001 S EUCLID AVE, Request Date: 2024-04-02 14:24:12, Potholes Filled: 19, Location: POINT (-87.576498000002 41.73143400094)\n",
            "Address: 7000 N OCTAVIA AVE, Request Date: 2024-04-22 12:53:00, Potholes Filled: 6, Location: POINT (-87.8091782957 42.008088296639)\n",
            "Address: 1905 E 90TH ST, Request Date: 2024-04-02 21:26:39, Potholes Filled: 17, Location: POINT (-87.577713000002 41.73135300094)\n",
            "Address: 7700 S CORNELL AVE, Request Date: 2024-04-11 16:58:21, Potholes Filled: 12, Location: POINT (-87.584559146042 41.755090081604)\n",
            "Address: 1600 E 77TH ST, Request Date: 2024-04-11 16:57:48, Potholes Filled: 37, Location: POINT (-87.585463633274 41.755209658389)\n",
            "Address: 7100 S STONY ISLAND AVE, Request Date: 2024-04-09 12:19:38, Potholes Filled: 4, Location: POINT (-87.586386192201 41.765917126329)\n",
            "Address: 5822 N ORIOLE AVE, Request Date: 2024-04-12 14:30:56, Potholes Filled: 16, Location: POINT (-87.8168777957 41.985903656047)\n",
            "Address: 1300 E 73RD ST, Request Date: 2024-04-04 15:34:44, Potholes Filled: 5, Location: POINT (-87.593157000002 41.76257400094)\n",
            "Address: 1633 E 74TH ST, Request Date: 2024-04-05 13:44:20, Potholes Filled: 14, Location: POINT (-87.584400000002 41.76038700094)\n",
            "Address: 7429 W ESTES AVE, Request Date: 2024-04-18 12:26:09, Potholes Filled: 5, Location: POINT (-87.812568000002 42.009570000941)\n",
            "Address: 7241 N OVERHILL AVE, Request Date: 2024-04-18 15:19:21, Potholes Filled: 22, Location: POINT (-87.818521500002 42.012639000941)\n",
            "Address: 8238 S LAWNDALE AVE, Request Date: 2024-04-15 10:00:57, Potholes Filled: 4, Location: POINT (-87.714621000002 41.74297200094)\n",
            "Address: 8161 S KOMENSKY AVE, Request Date: 2024-04-18 18:43:31, Potholes Filled: 8, Location: POINT (-87.721742515049 41.744021968394)\n",
            "Address: 8256 S PULASKI RD, Request Date: 2024-04-18 18:41:20, Potholes Filled: 5, Location: POINT (-87.722244000002 41.74245000094)\n",
            "Address: 8607 S KILDARE AVE, Request Date: 2024-04-16 12:55:50, Potholes Filled: 27, Location: POINT (-87.728458500002 41.73632100094)\n",
            "Address: 8000 S KEDZIE AVE, Request Date: 2024-04-16 12:39:06, Potholes Filled: 3, Location: POINT (-87.702727500002 41.74782300094)\n",
            "Address: 4130 W 82ND PL, Request Date: 2024-04-11 14:39:30, Potholes Filled: 5, Location: POINT (-87.725343239129 41.742857896474)\n",
            "Address: 3353 W COLUMBUS AVE, Request Date: 2024-04-11 16:47:00, Potholes Filled: 2, Location: POINT (-87.706090418825 41.747695987483)\n",
            "Address: 6406 S OAK PARK AVE, Request Date: 2024-04-11 13:48:25, Potholes Filled: 15, Location: POINT (-87.791233500002 41.77540800094)\n",
            "Address: 6849 W 64TH ST, Request Date: 2024-04-11 13:43:00, Potholes Filled: 10, Location: POINT (-87.792921000002 41.77548000094)\n",
            "Address: 6958 W 64TH PL, Request Date: 2024-04-11 13:43:33, Potholes Filled: 5, Location: POINT (-87.795684000002 41.77493100094)\n",
            "Address: 6451 S NATCHEZ AVE, Request Date: 2024-04-11 13:56:28, Potholes Filled: 10, Location: POINT (-87.783322500002 41.77427400094)\n",
            "Address: 6447 W 63RD ST, Request Date: 2024-04-11 10:26:45, Potholes Filled: 20, Location: POINT (-87.783084000002 41.77744200094)\n",
            "Address: 6442 S NASHVILLE AVE, Request Date: 2024-04-11 13:49:57, Potholes Filled: 25, Location: POINT (-87.786087807224 41.774502077413)\n",
            "Address: 6559 W 63RD PL, Request Date: 2024-04-12 21:30:29, Potholes Filled: 35, Location: POINT (-87.785941500002 41.77646100094)\n",
            "Address: 526 S WELLS ST, Request Date: 2024-04-18 11:36:12, Potholes Filled: 2, Location: POINT (-87.633711036391 41.875092720535)\n",
            "Address: 362 N HALSTED ST, Request Date: 2024-04-18 06:53:28, Potholes Filled: 1, Location: POINT (-87.647630395191 41.888629153616)\n",
            "Address: 190 W WASHINGTON ST, Request Date: 2024-04-16 10:41:14, Potholes Filled: 1, Location: POINT (-87.63357119474 41.883295958833)\n",
            "Address: 17 N DEARBORN ST, Request Date: 2024-04-17 16:06:03, Potholes Filled: 2, Location: POINT (-87.628662000002 41.88247200094)\n",
            "Address: 708 W ROOSEVELT RD, Request Date: 2024-04-18 07:18:39, Potholes Filled: 2, Location: POINT (-87.645469500002 41.86789200094)\n",
            "Address: 1404 W FULTON ST, Request Date: 2024-04-10 12:43:24, Potholes Filled: 7, Location: POINT (-87.662727839709 41.886663930023)\n",
            "Address: 1150 W HUBBARD ST, Request Date: 2024-04-13 12:46:10, Potholes Filled: 5, Location: POINT (-87.656661000002 41.890320000941)\n",
            "Address: 500 S CALIFORNIA AVE, Request Date: 2024-04-17 08:00:49, Potholes Filled: 5, Location: POINT (-87.696490500002 41.87469600094)\n",
            "Address: 16 S WESTERN AVE, Request Date: 2024-04-10 11:11:25, Potholes Filled: 10, Location: POINT (-87.686770500002 41.88065400094)\n",
            "Address: 20 S WESTERN AVE, Request Date: 2024-04-11 07:47:40, Potholes Filled: 10, Location: POINT (-87.686716500002 41.88049200094)\n",
            "Address: 121 S SACRAMENTO BLVD, Request Date: 2024-04-17 10:33:12, Potholes Filled: 12, Location: POINT (-87.701102782082 41.879158147309)\n",
            "Address: 137 S SACRAMENTO BLVD, Request Date: 2024-04-18 13:30:08, Potholes Filled: 10, Location: POINT (-87.701090704303 41.878621037049)\n",
            "Address: 2933 W MADISON ST, Request Date: 2024-04-09 20:02:26, Potholes Filled: 5, Location: POINT (-87.700941000002 41.87993400094)\n",
            "Address: 459 N ST LOUIS AVE, Request Date: 2024-04-18 09:19:18, Potholes Filled: 7, Location: POINT (-87.713657312666 41.889940632143)\n",
            "Address: 856 N TRUMBULL AVE, Request Date: 2024-04-16 00:40:42, Potholes Filled: 5, Location: POINT (-87.712992000002 41.897205000941)\n",
            "Address: 23 N GREEN ST, Request Date: 2024-04-22 08:41:32, Potholes Filled: 12, Location: POINT (-87.648223500002 41.88254400094)\n",
            "Address: 542 W GRAND AVE, Request Date: 2024-04-22 08:37:11, Potholes Filled: 2, Location: POINT (-87.64218605752 41.891404392051)\n",
            "Address: 1552 W 119TH ST, Request Date: 2024-04-22 08:39:53, Potholes Filled: 3, Location: POINT (-87.661057500002 41.67782100094)\n",
            "Address: 100 N GREEN ST, Request Date: 2024-04-22 08:39:22, Potholes Filled: 4, Location: POINT (-87.648633217923 41.883184854573)\n",
            "Address: 642 W GRAND AVE, Request Date: 2024-04-22 08:38:10, Potholes Filled: 2, Location: POINT (-87.644537787953 41.891307948535)\n",
            "Address: 2420 W 100TH ST, Request Date: 2024-04-22 08:36:40, Potholes Filled: 63, Location: POINT (-87.682801500002 41.71204800094)\n",
            "Address: 497 W GRAND AVE, Request Date: 2024-04-22 08:35:55, Potholes Filled: 1, Location: POINT (-87.641103057811 41.891350866101)\n",
            "Address: 11207 S ARTESIAN AVE, Request Date: 2024-04-22 08:35:22, Potholes Filled: 1, Location: POINT (-87.682014000002 41.68946700094)\n",
            "Address: 99 W WASHINGTON ST, Request Date: 2024-04-22 08:34:30, Potholes Filled: 1, Location: POINT (-87.630835042109 41.883142043048)\n",
            "Address: 2400 W 119TH ST, Request Date: 2024-04-22 08:33:11, Potholes Filled: 3, Location: POINT (-87.680771666212 41.677344222644)\n",
            "Address: 44 E IDA B. WELLS DR, Request Date: 2024-04-22 08:33:12, Potholes Filled: 2, Location: POINT (-87.625958811968 41.875772537505)\n",
            "Address: 2332 W 105TH ST, Request Date: 2024-04-22 08:31:47, Potholes Filled: 6, Location: POINT (-87.680362741512 41.70281874245)\n",
            "Address: 718 W JAMES M ROCHFORD ST, Request Date: 2024-04-22 08:31:12, Potholes Filled: 2, Location: POINT (-87.645866892726 41.866096938127)\n",
            "Address: 1200 S UNION AVE, Request Date: 2024-04-21 10:23:46, Potholes Filled: 2, Location: POINT (-87.645190072649 41.867120410469)\n",
            "Address: 7023 S WABASH AVE, Request Date: 2024-04-22 08:23:38, Potholes Filled: 27, Location: POINT (-87.622960500002 41.76663300094)\n",
            "Address: 6300 W ESTES AVE, Request Date: 2024-04-19 10:47:31, Potholes Filled: 21, Location: POINT (-87.784582500002 42.010407000941)\n",
            "Address: 6567 S HARVARD AVE, Request Date: 2024-04-17 11:33:58, Potholes Filled: 11, Location: POINT (-87.633013500002 41.77461600094)\n",
            "Address: 3948 N WOLCOTT AVE, Request Date: 2024-04-19 09:09:58, Potholes Filled: 20, Location: POINT (-87.676383878216 41.953822261036)\n",
            "Address: 4107 N ASHLAND AVE, Request Date: 2024-04-19 09:29:50, Potholes Filled: 3, Location: POINT (-87.668590500002 41.956398000941)\n"
          ]
        }
      ],
      "source": [
        "for index, row in patched.iterrows():\n",
        "  if index < 100:\n",
        "    summary_string = f\"Address: {row['address']}, Request Date: {row['request_date']}, Potholes Filled: {row['number_of_potholes_filled_on_block']}, Location: {row['location']}\"\n",
        "    print(summary_string)\n",
        "  else:\n",
        "    break"
      ]
    },
    {
      "cell_type": "markdown",
      "metadata": {
        "id": "fvmHpAAdfda1"
      },
      "source": [
        "How many potholes have been patched, how many requests are still open, random sample maker of open cases, how many requests had no problem found"
      ]
    },
    {
      "cell_type": "code",
      "execution_count": null,
      "metadata": {
        "id": "MSEoLyDIfmjK"
      },
      "outputs": [],
      "source": [
        "sample_pothole = pothole.sample(5)"
      ]
    },
    {
      "cell_type": "code",
      "execution_count": null,
      "metadata": {
        "colab": {
          "base_uri": "https://localhost:8080/"
        },
        "id": "wqcPPRF3foMm",
        "outputId": "e4c7dc55-3d58-4001-8274-f08fe885ca84"
      },
      "outputs": [
        {
          "output_type": "stream",
          "name": "stdout",
          "text": [
            "its completed!\n",
            "its completed!\n",
            "its completed!\n",
            "its completed!\n",
            "its completed!\n"
          ]
        }
      ],
      "source": [
        "for column in sample_pothole.iterrows():\n",
        "  if column[1]['status'] == 'Completed':\n",
        "    print('its completed!')\n",
        "  elif column[1]['status'] == 'Completed - Dup':\n",
        "    print('its completed!')\n",
        "  else:\n",
        "    print('it hasnt been completed')"
      ]
    },
    {
      "cell_type": "code",
      "execution_count": null,
      "metadata": {
        "id": "Tsj3X5TCf6im"
      },
      "outputs": [],
      "source": [
        "open_requests = pothole['status'].isin(['Open', 'Open - Dup'])"
      ]
    },
    {
      "cell_type": "code",
      "execution_count": null,
      "metadata": {
        "colab": {
          "base_uri": "https://localhost:8080/"
        },
        "id": "UidxYPOtf9X3",
        "outputId": "0f520ef4-b712-414f-9d23-be6800ddea36"
      },
      "outputs": [
        {
          "output_type": "execute_result",
          "data": {
            "text/plain": [
              "status\n",
              "False    553130\n",
              "True       7348\n",
              "Name: count, dtype: int64"
            ]
          },
          "metadata": {},
          "execution_count": 42
        }
      ],
      "source": [
        "open_requests.value_counts()"
      ]
    },
    {
      "cell_type": "code",
      "execution_count": null,
      "metadata": {
        "id": "UcfChv49gCHz"
      },
      "outputs": [],
      "source": [
        "potholes_patched = pothole['most_recent_action'] == 'Pothole Patched'"
      ]
    },
    {
      "cell_type": "code",
      "execution_count": null,
      "metadata": {
        "colab": {
          "base_uri": "https://localhost:8080/"
        },
        "id": "YZxnEH_8gEfY",
        "outputId": "a73cefc9-9587-4995-8a81-f9d4dbbc8da7"
      },
      "outputs": [
        {
          "output_type": "execute_result",
          "data": {
            "text/plain": [
              "most_recent_action\n",
              "True     317646\n",
              "False    242832\n",
              "Name: count, dtype: int64"
            ]
          },
          "metadata": {},
          "execution_count": 44
        }
      ],
      "source": [
        "potholes_patched.value_counts()"
      ]
    },
    {
      "cell_type": "code",
      "execution_count": null,
      "metadata": {
        "id": "W21k8PVTgHJr"
      },
      "outputs": [],
      "source": [
        "potholes_no_problem = pothole['most_recent_action'] == 'No Problem Found'"
      ]
    },
    {
      "cell_type": "code",
      "execution_count": null,
      "metadata": {
        "colab": {
          "base_uri": "https://localhost:8080/"
        },
        "id": "8LyOql-QgNeF",
        "outputId": "b478e401-5721-4eec-b2d3-08a7a2cbcb20"
      },
      "outputs": [
        {
          "output_type": "execute_result",
          "data": {
            "text/plain": [
              "most_recent_action\n",
              "False    560178\n",
              "True        300\n",
              "Name: count, dtype: int64"
            ]
          },
          "metadata": {},
          "execution_count": 46
        }
      ],
      "source": [
        "potholes_no_problem.value_counts()"
      ]
    },
    {
      "cell_type": "code",
      "execution_count": null,
      "metadata": {
        "id": "dtpkDJOk8zNz"
      },
      "outputs": [],
      "source": [
        "# How many duplicate requests are in the pothole request data?"
      ]
    },
    {
      "cell_type": "code",
      "execution_count": null,
      "metadata": {
        "id": "ZaFDKniC855M"
      },
      "outputs": [],
      "source": [
        "duplicates = pothole.duplicated()"
      ]
    },
    {
      "cell_type": "code",
      "execution_count": null,
      "metadata": {
        "id": "lqgcsQIR88FF"
      },
      "outputs": [],
      "source": [
        "num_duplicates = duplicates.sum()"
      ]
    },
    {
      "cell_type": "code",
      "execution_count": null,
      "metadata": {
        "colab": {
          "base_uri": "https://localhost:8080/"
        },
        "id": "1AfYNCiv8-A8",
        "outputId": "a5fa7f67-2a24-4c71-b630-d767112624ad"
      },
      "outputs": [
        {
          "output_type": "stream",
          "name": "stdout",
          "text": [
            "there are 2 duplicate rows in the dataset.\n"
          ]
        }
      ],
      "source": [
        "if num_duplicates > 0:\n",
        "  print(f'there are {num_duplicates} duplicate rows in the dataset.')\n",
        "else:\n",
        "  print('there are no duplicate rows in the dataet.')"
      ]
    },
    {
      "cell_type": "code",
      "execution_count": null,
      "metadata": {
        "id": "3MSWjkR4-Hrd"
      },
      "outputs": [],
      "source": [
        "# New column showing the duplicates"
      ]
    },
    {
      "cell_type": "code",
      "execution_count": null,
      "metadata": {
        "id": "J3nYsyFM-lkL"
      },
      "outputs": [],
      "source": [
        "duplicates_col = pothole.duplicated(subset = 'service_request_number', keep=False)"
      ]
    },
    {
      "cell_type": "code",
      "execution_count": null,
      "metadata": {
        "id": "aLothnxi-nKD"
      },
      "outputs": [],
      "source": [
        "pothole['is_duplicated'] = duplicates_col"
      ]
    },
    {
      "cell_type": "code",
      "execution_count": null,
      "metadata": {
        "colab": {
          "base_uri": "https://localhost:8080/",
          "height": 330
        },
        "id": "fJWi1nCH-qHD",
        "outputId": "83bc43e2-ca0d-4bc8-be5a-2e005adefb05"
      },
      "outputs": [
        {
          "output_type": "execute_result",
          "data": {
            "text/plain": [
              "             creation_date      status completion_date service_request_number  \\\n",
              "0  2018-12-18T00:00:00.000        Open             NaN            18-03387505   \n",
              "1  2018-12-18T00:00:00.000        Open             NaN            18-03387458   \n",
              "2  2018-12-18T00:00:00.000        Open             NaN            18-03387502   \n",
              "3  2018-12-18T00:00:00.000  Open - Dup             NaN            18-03388379   \n",
              "4  2018-12-18T00:00:00.000        Open             NaN            18-03388180   \n",
              "\n",
              "  type_of_service_request current_activity most_recent_action  \\\n",
              "0       Pothole in Street              NaN                NaN   \n",
              "1       Pothole in Street              NaN                NaN   \n",
              "2       Pothole in Street              NaN                NaN   \n",
              "3       Pothole in Street              NaN                NaN   \n",
              "4       Pothole in Street              NaN                NaN   \n",
              "\n",
              "   number_of_potholes_filled_on_block        street_address      zip  \\\n",
              "0                                 NaN  1145 S FAIRFIELD AVE  60612.0   \n",
              "1                                 NaN    908 S CAMPBELL AVE  60612.0   \n",
              "2                                 NaN        2421 W 21ST PL  60608.0   \n",
              "3                                 NaN        1959 S TROY ST  60623.0   \n",
              "4                                 NaN   4100 S WESTERN BLVD  60609.0   \n",
              "\n",
              "   x_coordinate  y_coordinate  ward  police_district  community_area  ssa  \\\n",
              "0  1.158186e+06  1.894949e+06  28.0             11.0            29.0  NaN   \n",
              "1  1.159861e+06  1.895934e+06  28.0             11.0            28.0  NaN   \n",
              "2  1.160590e+06  1.889668e+06  28.0             10.0            31.0  NaN   \n",
              "3  1.155670e+06  1.890142e+06  24.0             10.0            29.0  NaN   \n",
              "4  1.161202e+06  1.877426e+06  12.0              9.0            58.0  NaN   \n",
              "\n",
              "    latitude  longitude                             location  is_duplicated  \n",
              "0  41.866992 -87.694609  (41.866991991336, -87.694608638672)          False  \n",
              "1  41.869927 -87.688710  (41.869927464401, -87.688710188657)          False  \n",
              "2  41.852826 -87.686536  (41.852826019085, -87.686535678313)          False  \n",
              "3  41.853704 -87.703946  (41.853703821634, -87.703946492923)          False  \n",
              "4  41.819247 -87.684305   (41.819246696086, -87.68430532228)          False  "
            ],
            "text/html": [
              "\n",
              "  <div id=\"df-5a2f790b-d256-4ad6-9dfc-cd35738eeaa0\" class=\"colab-df-container\">\n",
              "    <div>\n",
              "<style scoped>\n",
              "    .dataframe tbody tr th:only-of-type {\n",
              "        vertical-align: middle;\n",
              "    }\n",
              "\n",
              "    .dataframe tbody tr th {\n",
              "        vertical-align: top;\n",
              "    }\n",
              "\n",
              "    .dataframe thead th {\n",
              "        text-align: right;\n",
              "    }\n",
              "</style>\n",
              "<table border=\"1\" class=\"dataframe\">\n",
              "  <thead>\n",
              "    <tr style=\"text-align: right;\">\n",
              "      <th></th>\n",
              "      <th>creation_date</th>\n",
              "      <th>status</th>\n",
              "      <th>completion_date</th>\n",
              "      <th>service_request_number</th>\n",
              "      <th>type_of_service_request</th>\n",
              "      <th>current_activity</th>\n",
              "      <th>most_recent_action</th>\n",
              "      <th>number_of_potholes_filled_on_block</th>\n",
              "      <th>street_address</th>\n",
              "      <th>zip</th>\n",
              "      <th>x_coordinate</th>\n",
              "      <th>y_coordinate</th>\n",
              "      <th>ward</th>\n",
              "      <th>police_district</th>\n",
              "      <th>community_area</th>\n",
              "      <th>ssa</th>\n",
              "      <th>latitude</th>\n",
              "      <th>longitude</th>\n",
              "      <th>location</th>\n",
              "      <th>is_duplicated</th>\n",
              "    </tr>\n",
              "  </thead>\n",
              "  <tbody>\n",
              "    <tr>\n",
              "      <th>0</th>\n",
              "      <td>2018-12-18T00:00:00.000</td>\n",
              "      <td>Open</td>\n",
              "      <td>NaN</td>\n",
              "      <td>18-03387505</td>\n",
              "      <td>Pothole in Street</td>\n",
              "      <td>NaN</td>\n",
              "      <td>NaN</td>\n",
              "      <td>NaN</td>\n",
              "      <td>1145 S FAIRFIELD AVE</td>\n",
              "      <td>60612.0</td>\n",
              "      <td>1.158186e+06</td>\n",
              "      <td>1.894949e+06</td>\n",
              "      <td>28.0</td>\n",
              "      <td>11.0</td>\n",
              "      <td>29.0</td>\n",
              "      <td>NaN</td>\n",
              "      <td>41.866992</td>\n",
              "      <td>-87.694609</td>\n",
              "      <td>(41.866991991336, -87.694608638672)</td>\n",
              "      <td>False</td>\n",
              "    </tr>\n",
              "    <tr>\n",
              "      <th>1</th>\n",
              "      <td>2018-12-18T00:00:00.000</td>\n",
              "      <td>Open</td>\n",
              "      <td>NaN</td>\n",
              "      <td>18-03387458</td>\n",
              "      <td>Pothole in Street</td>\n",
              "      <td>NaN</td>\n",
              "      <td>NaN</td>\n",
              "      <td>NaN</td>\n",
              "      <td>908 S CAMPBELL AVE</td>\n",
              "      <td>60612.0</td>\n",
              "      <td>1.159861e+06</td>\n",
              "      <td>1.895934e+06</td>\n",
              "      <td>28.0</td>\n",
              "      <td>11.0</td>\n",
              "      <td>28.0</td>\n",
              "      <td>NaN</td>\n",
              "      <td>41.869927</td>\n",
              "      <td>-87.688710</td>\n",
              "      <td>(41.869927464401, -87.688710188657)</td>\n",
              "      <td>False</td>\n",
              "    </tr>\n",
              "    <tr>\n",
              "      <th>2</th>\n",
              "      <td>2018-12-18T00:00:00.000</td>\n",
              "      <td>Open</td>\n",
              "      <td>NaN</td>\n",
              "      <td>18-03387502</td>\n",
              "      <td>Pothole in Street</td>\n",
              "      <td>NaN</td>\n",
              "      <td>NaN</td>\n",
              "      <td>NaN</td>\n",
              "      <td>2421 W 21ST PL</td>\n",
              "      <td>60608.0</td>\n",
              "      <td>1.160590e+06</td>\n",
              "      <td>1.889668e+06</td>\n",
              "      <td>28.0</td>\n",
              "      <td>10.0</td>\n",
              "      <td>31.0</td>\n",
              "      <td>NaN</td>\n",
              "      <td>41.852826</td>\n",
              "      <td>-87.686536</td>\n",
              "      <td>(41.852826019085, -87.686535678313)</td>\n",
              "      <td>False</td>\n",
              "    </tr>\n",
              "    <tr>\n",
              "      <th>3</th>\n",
              "      <td>2018-12-18T00:00:00.000</td>\n",
              "      <td>Open - Dup</td>\n",
              "      <td>NaN</td>\n",
              "      <td>18-03388379</td>\n",
              "      <td>Pothole in Street</td>\n",
              "      <td>NaN</td>\n",
              "      <td>NaN</td>\n",
              "      <td>NaN</td>\n",
              "      <td>1959 S TROY ST</td>\n",
              "      <td>60623.0</td>\n",
              "      <td>1.155670e+06</td>\n",
              "      <td>1.890142e+06</td>\n",
              "      <td>24.0</td>\n",
              "      <td>10.0</td>\n",
              "      <td>29.0</td>\n",
              "      <td>NaN</td>\n",
              "      <td>41.853704</td>\n",
              "      <td>-87.703946</td>\n",
              "      <td>(41.853703821634, -87.703946492923)</td>\n",
              "      <td>False</td>\n",
              "    </tr>\n",
              "    <tr>\n",
              "      <th>4</th>\n",
              "      <td>2018-12-18T00:00:00.000</td>\n",
              "      <td>Open</td>\n",
              "      <td>NaN</td>\n",
              "      <td>18-03388180</td>\n",
              "      <td>Pothole in Street</td>\n",
              "      <td>NaN</td>\n",
              "      <td>NaN</td>\n",
              "      <td>NaN</td>\n",
              "      <td>4100 S WESTERN BLVD</td>\n",
              "      <td>60609.0</td>\n",
              "      <td>1.161202e+06</td>\n",
              "      <td>1.877426e+06</td>\n",
              "      <td>12.0</td>\n",
              "      <td>9.0</td>\n",
              "      <td>58.0</td>\n",
              "      <td>NaN</td>\n",
              "      <td>41.819247</td>\n",
              "      <td>-87.684305</td>\n",
              "      <td>(41.819246696086, -87.68430532228)</td>\n",
              "      <td>False</td>\n",
              "    </tr>\n",
              "  </tbody>\n",
              "</table>\n",
              "</div>\n",
              "    <div class=\"colab-df-buttons\">\n",
              "\n",
              "  <div class=\"colab-df-container\">\n",
              "    <button class=\"colab-df-convert\" onclick=\"convertToInteractive('df-5a2f790b-d256-4ad6-9dfc-cd35738eeaa0')\"\n",
              "            title=\"Convert this dataframe to an interactive table.\"\n",
              "            style=\"display:none;\">\n",
              "\n",
              "  <svg xmlns=\"http://www.w3.org/2000/svg\" height=\"24px\" viewBox=\"0 -960 960 960\">\n",
              "    <path d=\"M120-120v-720h720v720H120Zm60-500h600v-160H180v160Zm220 220h160v-160H400v160Zm0 220h160v-160H400v160ZM180-400h160v-160H180v160Zm440 0h160v-160H620v160ZM180-180h160v-160H180v160Zm440 0h160v-160H620v160Z\"/>\n",
              "  </svg>\n",
              "    </button>\n",
              "\n",
              "  <style>\n",
              "    .colab-df-container {\n",
              "      display:flex;\n",
              "      gap: 12px;\n",
              "    }\n",
              "\n",
              "    .colab-df-convert {\n",
              "      background-color: #E8F0FE;\n",
              "      border: none;\n",
              "      border-radius: 50%;\n",
              "      cursor: pointer;\n",
              "      display: none;\n",
              "      fill: #1967D2;\n",
              "      height: 32px;\n",
              "      padding: 0 0 0 0;\n",
              "      width: 32px;\n",
              "    }\n",
              "\n",
              "    .colab-df-convert:hover {\n",
              "      background-color: #E2EBFA;\n",
              "      box-shadow: 0px 1px 2px rgba(60, 64, 67, 0.3), 0px 1px 3px 1px rgba(60, 64, 67, 0.15);\n",
              "      fill: #174EA6;\n",
              "    }\n",
              "\n",
              "    .colab-df-buttons div {\n",
              "      margin-bottom: 4px;\n",
              "    }\n",
              "\n",
              "    [theme=dark] .colab-df-convert {\n",
              "      background-color: #3B4455;\n",
              "      fill: #D2E3FC;\n",
              "    }\n",
              "\n",
              "    [theme=dark] .colab-df-convert:hover {\n",
              "      background-color: #434B5C;\n",
              "      box-shadow: 0px 1px 3px 1px rgba(0, 0, 0, 0.15);\n",
              "      filter: drop-shadow(0px 1px 2px rgba(0, 0, 0, 0.3));\n",
              "      fill: #FFFFFF;\n",
              "    }\n",
              "  </style>\n",
              "\n",
              "    <script>\n",
              "      const buttonEl =\n",
              "        document.querySelector('#df-5a2f790b-d256-4ad6-9dfc-cd35738eeaa0 button.colab-df-convert');\n",
              "      buttonEl.style.display =\n",
              "        google.colab.kernel.accessAllowed ? 'block' : 'none';\n",
              "\n",
              "      async function convertToInteractive(key) {\n",
              "        const element = document.querySelector('#df-5a2f790b-d256-4ad6-9dfc-cd35738eeaa0');\n",
              "        const dataTable =\n",
              "          await google.colab.kernel.invokeFunction('convertToInteractive',\n",
              "                                                    [key], {});\n",
              "        if (!dataTable) return;\n",
              "\n",
              "        const docLinkHtml = 'Like what you see? Visit the ' +\n",
              "          '<a target=\"_blank\" href=https://colab.research.google.com/notebooks/data_table.ipynb>data table notebook</a>'\n",
              "          + ' to learn more about interactive tables.';\n",
              "        element.innerHTML = '';\n",
              "        dataTable['output_type'] = 'display_data';\n",
              "        await google.colab.output.renderOutput(dataTable, element);\n",
              "        const docLink = document.createElement('div');\n",
              "        docLink.innerHTML = docLinkHtml;\n",
              "        element.appendChild(docLink);\n",
              "      }\n",
              "    </script>\n",
              "  </div>\n",
              "\n",
              "\n",
              "<div id=\"df-b4d1900f-8505-4b3e-8ea8-ddf6aa741469\">\n",
              "  <button class=\"colab-df-quickchart\" onclick=\"quickchart('df-b4d1900f-8505-4b3e-8ea8-ddf6aa741469')\"\n",
              "            title=\"Suggest charts\"\n",
              "            style=\"display:none;\">\n",
              "\n",
              "<svg xmlns=\"http://www.w3.org/2000/svg\" height=\"24px\"viewBox=\"0 0 24 24\"\n",
              "     width=\"24px\">\n",
              "    <g>\n",
              "        <path d=\"M19 3H5c-1.1 0-2 .9-2 2v14c0 1.1.9 2 2 2h14c1.1 0 2-.9 2-2V5c0-1.1-.9-2-2-2zM9 17H7v-7h2v7zm4 0h-2V7h2v10zm4 0h-2v-4h2v4z\"/>\n",
              "    </g>\n",
              "</svg>\n",
              "  </button>\n",
              "\n",
              "<style>\n",
              "  .colab-df-quickchart {\n",
              "      --bg-color: #E8F0FE;\n",
              "      --fill-color: #1967D2;\n",
              "      --hover-bg-color: #E2EBFA;\n",
              "      --hover-fill-color: #174EA6;\n",
              "      --disabled-fill-color: #AAA;\n",
              "      --disabled-bg-color: #DDD;\n",
              "  }\n",
              "\n",
              "  [theme=dark] .colab-df-quickchart {\n",
              "      --bg-color: #3B4455;\n",
              "      --fill-color: #D2E3FC;\n",
              "      --hover-bg-color: #434B5C;\n",
              "      --hover-fill-color: #FFFFFF;\n",
              "      --disabled-bg-color: #3B4455;\n",
              "      --disabled-fill-color: #666;\n",
              "  }\n",
              "\n",
              "  .colab-df-quickchart {\n",
              "    background-color: var(--bg-color);\n",
              "    border: none;\n",
              "    border-radius: 50%;\n",
              "    cursor: pointer;\n",
              "    display: none;\n",
              "    fill: var(--fill-color);\n",
              "    height: 32px;\n",
              "    padding: 0;\n",
              "    width: 32px;\n",
              "  }\n",
              "\n",
              "  .colab-df-quickchart:hover {\n",
              "    background-color: var(--hover-bg-color);\n",
              "    box-shadow: 0 1px 2px rgba(60, 64, 67, 0.3), 0 1px 3px 1px rgba(60, 64, 67, 0.15);\n",
              "    fill: var(--button-hover-fill-color);\n",
              "  }\n",
              "\n",
              "  .colab-df-quickchart-complete:disabled,\n",
              "  .colab-df-quickchart-complete:disabled:hover {\n",
              "    background-color: var(--disabled-bg-color);\n",
              "    fill: var(--disabled-fill-color);\n",
              "    box-shadow: none;\n",
              "  }\n",
              "\n",
              "  .colab-df-spinner {\n",
              "    border: 2px solid var(--fill-color);\n",
              "    border-color: transparent;\n",
              "    border-bottom-color: var(--fill-color);\n",
              "    animation:\n",
              "      spin 1s steps(1) infinite;\n",
              "  }\n",
              "\n",
              "  @keyframes spin {\n",
              "    0% {\n",
              "      border-color: transparent;\n",
              "      border-bottom-color: var(--fill-color);\n",
              "      border-left-color: var(--fill-color);\n",
              "    }\n",
              "    20% {\n",
              "      border-color: transparent;\n",
              "      border-left-color: var(--fill-color);\n",
              "      border-top-color: var(--fill-color);\n",
              "    }\n",
              "    30% {\n",
              "      border-color: transparent;\n",
              "      border-left-color: var(--fill-color);\n",
              "      border-top-color: var(--fill-color);\n",
              "      border-right-color: var(--fill-color);\n",
              "    }\n",
              "    40% {\n",
              "      border-color: transparent;\n",
              "      border-right-color: var(--fill-color);\n",
              "      border-top-color: var(--fill-color);\n",
              "    }\n",
              "    60% {\n",
              "      border-color: transparent;\n",
              "      border-right-color: var(--fill-color);\n",
              "    }\n",
              "    80% {\n",
              "      border-color: transparent;\n",
              "      border-right-color: var(--fill-color);\n",
              "      border-bottom-color: var(--fill-color);\n",
              "    }\n",
              "    90% {\n",
              "      border-color: transparent;\n",
              "      border-bottom-color: var(--fill-color);\n",
              "    }\n",
              "  }\n",
              "</style>\n",
              "\n",
              "  <script>\n",
              "    async function quickchart(key) {\n",
              "      const quickchartButtonEl =\n",
              "        document.querySelector('#' + key + ' button');\n",
              "      quickchartButtonEl.disabled = true;  // To prevent multiple clicks.\n",
              "      quickchartButtonEl.classList.add('colab-df-spinner');\n",
              "      try {\n",
              "        const charts = await google.colab.kernel.invokeFunction(\n",
              "            'suggestCharts', [key], {});\n",
              "      } catch (error) {\n",
              "        console.error('Error during call to suggestCharts:', error);\n",
              "      }\n",
              "      quickchartButtonEl.classList.remove('colab-df-spinner');\n",
              "      quickchartButtonEl.classList.add('colab-df-quickchart-complete');\n",
              "    }\n",
              "    (() => {\n",
              "      let quickchartButtonEl =\n",
              "        document.querySelector('#df-b4d1900f-8505-4b3e-8ea8-ddf6aa741469 button');\n",
              "      quickchartButtonEl.style.display =\n",
              "        google.colab.kernel.accessAllowed ? 'block' : 'none';\n",
              "    })();\n",
              "  </script>\n",
              "</div>\n",
              "\n",
              "    </div>\n",
              "  </div>\n"
            ],
            "application/vnd.google.colaboratory.intrinsic+json": {
              "type": "dataframe",
              "variable_name": "pothole"
            }
          },
          "metadata": {},
          "execution_count": 54
        }
      ],
      "source": [
        "pothole.head()"
      ]
    },
    {
      "cell_type": "code",
      "execution_count": null,
      "metadata": {
        "id": "t2g6Y7zA--ym"
      },
      "outputs": [],
      "source": [
        "# Amount of pothole requests per address?"
      ]
    },
    {
      "cell_type": "code",
      "execution_count": null,
      "metadata": {
        "colab": {
          "base_uri": "https://localhost:8080/",
          "height": 423
        },
        "id": "drWDRUn5_Ayn",
        "outputId": "0cba61a6-5504-441c-ca6b-93ad6ce3c05b"
      },
      "outputs": [
        {
          "output_type": "execute_result",
          "data": {
            "text/plain": [
              "                 street_address  count\n",
              "0             55 W JACKSON BLVD    386\n",
              "1            1800 S WESTERN AVE    316\n",
              "2          8300 S VINCENNES AVE    313\n",
              "3       7500 S STONY ISLAND AVE    274\n",
              "4       9500 S STONY ISLAND AVE    268\n",
              "...                         ...    ...\n",
              "250602         3420 W NORTH AVE      1\n",
              "250603      2754 W ROOSEVELT RD      1\n",
              "250604      3932 W LAWRENCE AVE      1\n",
              "250605           138 E 123RD ST      1\n",
              "250606       1440 S ROCKWELL ST      1\n",
              "\n",
              "[250607 rows x 2 columns]"
            ],
            "text/html": [
              "\n",
              "  <div id=\"df-4c52af2c-bb68-41bd-b966-6fb96ab937f1\" class=\"colab-df-container\">\n",
              "    <div>\n",
              "<style scoped>\n",
              "    .dataframe tbody tr th:only-of-type {\n",
              "        vertical-align: middle;\n",
              "    }\n",
              "\n",
              "    .dataframe tbody tr th {\n",
              "        vertical-align: top;\n",
              "    }\n",
              "\n",
              "    .dataframe thead th {\n",
              "        text-align: right;\n",
              "    }\n",
              "</style>\n",
              "<table border=\"1\" class=\"dataframe\">\n",
              "  <thead>\n",
              "    <tr style=\"text-align: right;\">\n",
              "      <th></th>\n",
              "      <th>street_address</th>\n",
              "      <th>count</th>\n",
              "    </tr>\n",
              "  </thead>\n",
              "  <tbody>\n",
              "    <tr>\n",
              "      <th>0</th>\n",
              "      <td>55 W JACKSON BLVD</td>\n",
              "      <td>386</td>\n",
              "    </tr>\n",
              "    <tr>\n",
              "      <th>1</th>\n",
              "      <td>1800 S WESTERN AVE</td>\n",
              "      <td>316</td>\n",
              "    </tr>\n",
              "    <tr>\n",
              "      <th>2</th>\n",
              "      <td>8300 S VINCENNES AVE</td>\n",
              "      <td>313</td>\n",
              "    </tr>\n",
              "    <tr>\n",
              "      <th>3</th>\n",
              "      <td>7500 S STONY ISLAND AVE</td>\n",
              "      <td>274</td>\n",
              "    </tr>\n",
              "    <tr>\n",
              "      <th>4</th>\n",
              "      <td>9500 S STONY ISLAND AVE</td>\n",
              "      <td>268</td>\n",
              "    </tr>\n",
              "    <tr>\n",
              "      <th>...</th>\n",
              "      <td>...</td>\n",
              "      <td>...</td>\n",
              "    </tr>\n",
              "    <tr>\n",
              "      <th>250602</th>\n",
              "      <td>3420 W NORTH AVE</td>\n",
              "      <td>1</td>\n",
              "    </tr>\n",
              "    <tr>\n",
              "      <th>250603</th>\n",
              "      <td>2754 W ROOSEVELT RD</td>\n",
              "      <td>1</td>\n",
              "    </tr>\n",
              "    <tr>\n",
              "      <th>250604</th>\n",
              "      <td>3932 W LAWRENCE AVE</td>\n",
              "      <td>1</td>\n",
              "    </tr>\n",
              "    <tr>\n",
              "      <th>250605</th>\n",
              "      <td>138 E 123RD ST</td>\n",
              "      <td>1</td>\n",
              "    </tr>\n",
              "    <tr>\n",
              "      <th>250606</th>\n",
              "      <td>1440 S ROCKWELL ST</td>\n",
              "      <td>1</td>\n",
              "    </tr>\n",
              "  </tbody>\n",
              "</table>\n",
              "<p>250607 rows × 2 columns</p>\n",
              "</div>\n",
              "    <div class=\"colab-df-buttons\">\n",
              "\n",
              "  <div class=\"colab-df-container\">\n",
              "    <button class=\"colab-df-convert\" onclick=\"convertToInteractive('df-4c52af2c-bb68-41bd-b966-6fb96ab937f1')\"\n",
              "            title=\"Convert this dataframe to an interactive table.\"\n",
              "            style=\"display:none;\">\n",
              "\n",
              "  <svg xmlns=\"http://www.w3.org/2000/svg\" height=\"24px\" viewBox=\"0 -960 960 960\">\n",
              "    <path d=\"M120-120v-720h720v720H120Zm60-500h600v-160H180v160Zm220 220h160v-160H400v160Zm0 220h160v-160H400v160ZM180-400h160v-160H180v160Zm440 0h160v-160H620v160ZM180-180h160v-160H180v160Zm440 0h160v-160H620v160Z\"/>\n",
              "  </svg>\n",
              "    </button>\n",
              "\n",
              "  <style>\n",
              "    .colab-df-container {\n",
              "      display:flex;\n",
              "      gap: 12px;\n",
              "    }\n",
              "\n",
              "    .colab-df-convert {\n",
              "      background-color: #E8F0FE;\n",
              "      border: none;\n",
              "      border-radius: 50%;\n",
              "      cursor: pointer;\n",
              "      display: none;\n",
              "      fill: #1967D2;\n",
              "      height: 32px;\n",
              "      padding: 0 0 0 0;\n",
              "      width: 32px;\n",
              "    }\n",
              "\n",
              "    .colab-df-convert:hover {\n",
              "      background-color: #E2EBFA;\n",
              "      box-shadow: 0px 1px 2px rgba(60, 64, 67, 0.3), 0px 1px 3px 1px rgba(60, 64, 67, 0.15);\n",
              "      fill: #174EA6;\n",
              "    }\n",
              "\n",
              "    .colab-df-buttons div {\n",
              "      margin-bottom: 4px;\n",
              "    }\n",
              "\n",
              "    [theme=dark] .colab-df-convert {\n",
              "      background-color: #3B4455;\n",
              "      fill: #D2E3FC;\n",
              "    }\n",
              "\n",
              "    [theme=dark] .colab-df-convert:hover {\n",
              "      background-color: #434B5C;\n",
              "      box-shadow: 0px 1px 3px 1px rgba(0, 0, 0, 0.15);\n",
              "      filter: drop-shadow(0px 1px 2px rgba(0, 0, 0, 0.3));\n",
              "      fill: #FFFFFF;\n",
              "    }\n",
              "  </style>\n",
              "\n",
              "    <script>\n",
              "      const buttonEl =\n",
              "        document.querySelector('#df-4c52af2c-bb68-41bd-b966-6fb96ab937f1 button.colab-df-convert');\n",
              "      buttonEl.style.display =\n",
              "        google.colab.kernel.accessAllowed ? 'block' : 'none';\n",
              "\n",
              "      async function convertToInteractive(key) {\n",
              "        const element = document.querySelector('#df-4c52af2c-bb68-41bd-b966-6fb96ab937f1');\n",
              "        const dataTable =\n",
              "          await google.colab.kernel.invokeFunction('convertToInteractive',\n",
              "                                                    [key], {});\n",
              "        if (!dataTable) return;\n",
              "\n",
              "        const docLinkHtml = 'Like what you see? Visit the ' +\n",
              "          '<a target=\"_blank\" href=https://colab.research.google.com/notebooks/data_table.ipynb>data table notebook</a>'\n",
              "          + ' to learn more about interactive tables.';\n",
              "        element.innerHTML = '';\n",
              "        dataTable['output_type'] = 'display_data';\n",
              "        await google.colab.output.renderOutput(dataTable, element);\n",
              "        const docLink = document.createElement('div');\n",
              "        docLink.innerHTML = docLinkHtml;\n",
              "        element.appendChild(docLink);\n",
              "      }\n",
              "    </script>\n",
              "  </div>\n",
              "\n",
              "\n",
              "<div id=\"df-a76f98e4-50de-4582-a338-a58ad6caba2b\">\n",
              "  <button class=\"colab-df-quickchart\" onclick=\"quickchart('df-a76f98e4-50de-4582-a338-a58ad6caba2b')\"\n",
              "            title=\"Suggest charts\"\n",
              "            style=\"display:none;\">\n",
              "\n",
              "<svg xmlns=\"http://www.w3.org/2000/svg\" height=\"24px\"viewBox=\"0 0 24 24\"\n",
              "     width=\"24px\">\n",
              "    <g>\n",
              "        <path d=\"M19 3H5c-1.1 0-2 .9-2 2v14c0 1.1.9 2 2 2h14c1.1 0 2-.9 2-2V5c0-1.1-.9-2-2-2zM9 17H7v-7h2v7zm4 0h-2V7h2v10zm4 0h-2v-4h2v4z\"/>\n",
              "    </g>\n",
              "</svg>\n",
              "  </button>\n",
              "\n",
              "<style>\n",
              "  .colab-df-quickchart {\n",
              "      --bg-color: #E8F0FE;\n",
              "      --fill-color: #1967D2;\n",
              "      --hover-bg-color: #E2EBFA;\n",
              "      --hover-fill-color: #174EA6;\n",
              "      --disabled-fill-color: #AAA;\n",
              "      --disabled-bg-color: #DDD;\n",
              "  }\n",
              "\n",
              "  [theme=dark] .colab-df-quickchart {\n",
              "      --bg-color: #3B4455;\n",
              "      --fill-color: #D2E3FC;\n",
              "      --hover-bg-color: #434B5C;\n",
              "      --hover-fill-color: #FFFFFF;\n",
              "      --disabled-bg-color: #3B4455;\n",
              "      --disabled-fill-color: #666;\n",
              "  }\n",
              "\n",
              "  .colab-df-quickchart {\n",
              "    background-color: var(--bg-color);\n",
              "    border: none;\n",
              "    border-radius: 50%;\n",
              "    cursor: pointer;\n",
              "    display: none;\n",
              "    fill: var(--fill-color);\n",
              "    height: 32px;\n",
              "    padding: 0;\n",
              "    width: 32px;\n",
              "  }\n",
              "\n",
              "  .colab-df-quickchart:hover {\n",
              "    background-color: var(--hover-bg-color);\n",
              "    box-shadow: 0 1px 2px rgba(60, 64, 67, 0.3), 0 1px 3px 1px rgba(60, 64, 67, 0.15);\n",
              "    fill: var(--button-hover-fill-color);\n",
              "  }\n",
              "\n",
              "  .colab-df-quickchart-complete:disabled,\n",
              "  .colab-df-quickchart-complete:disabled:hover {\n",
              "    background-color: var(--disabled-bg-color);\n",
              "    fill: var(--disabled-fill-color);\n",
              "    box-shadow: none;\n",
              "  }\n",
              "\n",
              "  .colab-df-spinner {\n",
              "    border: 2px solid var(--fill-color);\n",
              "    border-color: transparent;\n",
              "    border-bottom-color: var(--fill-color);\n",
              "    animation:\n",
              "      spin 1s steps(1) infinite;\n",
              "  }\n",
              "\n",
              "  @keyframes spin {\n",
              "    0% {\n",
              "      border-color: transparent;\n",
              "      border-bottom-color: var(--fill-color);\n",
              "      border-left-color: var(--fill-color);\n",
              "    }\n",
              "    20% {\n",
              "      border-color: transparent;\n",
              "      border-left-color: var(--fill-color);\n",
              "      border-top-color: var(--fill-color);\n",
              "    }\n",
              "    30% {\n",
              "      border-color: transparent;\n",
              "      border-left-color: var(--fill-color);\n",
              "      border-top-color: var(--fill-color);\n",
              "      border-right-color: var(--fill-color);\n",
              "    }\n",
              "    40% {\n",
              "      border-color: transparent;\n",
              "      border-right-color: var(--fill-color);\n",
              "      border-top-color: var(--fill-color);\n",
              "    }\n",
              "    60% {\n",
              "      border-color: transparent;\n",
              "      border-right-color: var(--fill-color);\n",
              "    }\n",
              "    80% {\n",
              "      border-color: transparent;\n",
              "      border-right-color: var(--fill-color);\n",
              "      border-bottom-color: var(--fill-color);\n",
              "    }\n",
              "    90% {\n",
              "      border-color: transparent;\n",
              "      border-bottom-color: var(--fill-color);\n",
              "    }\n",
              "  }\n",
              "</style>\n",
              "\n",
              "  <script>\n",
              "    async function quickchart(key) {\n",
              "      const quickchartButtonEl =\n",
              "        document.querySelector('#' + key + ' button');\n",
              "      quickchartButtonEl.disabled = true;  // To prevent multiple clicks.\n",
              "      quickchartButtonEl.classList.add('colab-df-spinner');\n",
              "      try {\n",
              "        const charts = await google.colab.kernel.invokeFunction(\n",
              "            'suggestCharts', [key], {});\n",
              "      } catch (error) {\n",
              "        console.error('Error during call to suggestCharts:', error);\n",
              "      }\n",
              "      quickchartButtonEl.classList.remove('colab-df-spinner');\n",
              "      quickchartButtonEl.classList.add('colab-df-quickchart-complete');\n",
              "    }\n",
              "    (() => {\n",
              "      let quickchartButtonEl =\n",
              "        document.querySelector('#df-a76f98e4-50de-4582-a338-a58ad6caba2b button');\n",
              "      quickchartButtonEl.style.display =\n",
              "        google.colab.kernel.accessAllowed ? 'block' : 'none';\n",
              "    })();\n",
              "  </script>\n",
              "</div>\n",
              "\n",
              "    </div>\n",
              "  </div>\n"
            ],
            "application/vnd.google.colaboratory.intrinsic+json": {
              "type": "dataframe"
            }
          },
          "metadata": {},
          "execution_count": 56
        }
      ],
      "source": [
        "pothole['street_address'].value_counts().reset_index()"
      ]
    },
    {
      "cell_type": "code",
      "execution_count": null,
      "metadata": {
        "id": "MOQy-LHvBCNY"
      },
      "outputs": [],
      "source": [
        "#\n",
        "#Are there certain neighborhoods or points in time that occur more often?"
      ]
    },
    {
      "cell_type": "code",
      "execution_count": null,
      "metadata": {
        "colab": {
          "base_uri": "https://localhost:8080/"
        },
        "id": "vOXM88xqBCIX",
        "outputId": "45886483-e9b8-42a1-a12b-ad9799379bcd"
      },
      "outputs": [
        {
          "output_type": "execute_result",
          "data": {
            "text/plain": [
              "Index(['creation_date', 'status', 'completion_date', 'service_request_number',\n",
              "       'type_of_service_request', 'current_activity', 'most_recent_action',\n",
              "       'number_of_potholes_filled_on_block', 'street_address', 'zip',\n",
              "       'x_coordinate', 'y_coordinate', 'ward', 'police_district',\n",
              "       'community_area', 'ssa', 'latitude', 'longitude', 'location',\n",
              "       'is_duplicated'],\n",
              "      dtype='object')"
            ]
          },
          "metadata": {},
          "execution_count": 58
        }
      ],
      "source": [
        "pothole.columns"
      ]
    },
    {
      "cell_type": "code",
      "execution_count": null,
      "metadata": {
        "colab": {
          "base_uri": "https://localhost:8080/"
        },
        "id": "Csz_CL0dBCDb",
        "outputId": "205f058b-b9e8-4bf6-e893-a7cea90e926f"
      },
      "outputs": [
        {
          "output_type": "execute_result",
          "data": {
            "text/plain": [
              "Index(['address', 'request_date', 'completion_date',\n",
              "       'number_of_potholes_filled_on_block', 'latitude', 'longitude',\n",
              "       'location', 'season', 'duration'],\n",
              "      dtype='object')"
            ]
          },
          "metadata": {},
          "execution_count": 59
        }
      ],
      "source": [
        "patched.columns"
      ]
    },
    {
      "cell_type": "code",
      "execution_count": null,
      "metadata": {
        "colab": {
          "base_uri": "https://localhost:8080/"
        },
        "id": "_PH6QT9mBB86",
        "outputId": "956df3e6-bae7-40f5-ce18-363a0a479995"
      },
      "outputs": [
        {
          "output_type": "stream",
          "name": "stdout",
          "text": [
            "0        2024-04-22 14:16:21\n",
            "1        2024-04-22 14:15:48\n",
            "2        2024-04-22 14:15:16\n",
            "3        2024-04-22 14:14:43\n",
            "4        2024-04-22 14:14:09\n",
            "                 ...        \n",
            "180323   2019-02-28 07:14:27\n",
            "180324   2019-02-28 07:13:30\n",
            "180325   2019-02-28 07:12:22\n",
            "180326   2019-02-28 07:11:16\n",
            "180327   2019-01-09 11:36:02\n",
            "Name: completion_date, Length: 180328, dtype: datetime64[ns]\n"
          ]
        }
      ],
      "source": [
        "print(patched.completion_date)"
      ]
    },
    {
      "cell_type": "code",
      "execution_count": null,
      "metadata": {
        "id": "4p8bK9k-BBtI"
      },
      "outputs": [],
      "source": [
        "pothole['creation_date'] = pd.to_datetime(pothole['creation_date'])"
      ]
    },
    {
      "cell_type": "code",
      "execution_count": null,
      "metadata": {
        "id": "E7h28a4VBlEt"
      },
      "outputs": [],
      "source": [
        "pothole['completion_date'] = pd.to_datetime(pothole['completion_date'])"
      ]
    },
    {
      "cell_type": "code",
      "execution_count": null,
      "metadata": {
        "id": "_PJOML4IBlBV"
      },
      "outputs": [],
      "source": [
        "pothole['ph_month'] = pothole['creation_date'].dt.month\n",
        "pothole['ph_weekday'] = pothole['creation_date'].dt.weekday\n",
        "pothole['ph_day'] = pothole['creation_date'].dt.day\n",
        "pothole['ph_year'] = pothole['creation_date'].dt.year"
      ]
    },
    {
      "cell_type": "code",
      "execution_count": null,
      "metadata": {
        "colab": {
          "base_uri": "https://localhost:8080/",
          "height": 196
        },
        "id": "LsMkfUebBk0b",
        "outputId": "8db10322-6915-4a09-bc9e-45c4c323488c"
      },
      "outputs": [
        {
          "output_type": "execute_result",
          "data": {
            "text/plain": [
              "   creation_date           status completion_date service_request_number  \\\n",
              "28    2018-12-17  Completed - Dup      2018-12-31            18-03378790   \n",
              "42    2018-12-17        Completed      2018-12-18            18-03378095   \n",
              "\n",
              "   type_of_service_request current_activity most_recent_action  \\\n",
              "28       Pothole in Street              NaN                NaN   \n",
              "42       Pothole in Street    Final Outcome    Pothole Patched   \n",
              "\n",
              "    number_of_potholes_filled_on_block      street_address      zip  ...  \\\n",
              "28                                 NaN  415 S FINANCIAL PL  60605.0  ...   \n",
              "42                                 7.0       600 W LAKE ST  60661.0  ...   \n",
              "\n",
              "    community_area  ssa   latitude  longitude  \\\n",
              "28            32.0  NaN  41.876480 -87.632956   \n",
              "42            28.0  NaN  41.885815 -87.642847   \n",
              "\n",
              "                              location  is_duplicated  ph_month  ph_weekday  \\\n",
              "28  (41.876479996476, -87.63295634334)          False        12           0   \n",
              "42   (41.885814724037, -87.6428471339)          False        12           0   \n",
              "\n",
              "   ph_day  ph_year  \n",
              "28     17     2018  \n",
              "42     17     2018  \n",
              "\n",
              "[2 rows x 24 columns]"
            ],
            "text/html": [
              "\n",
              "  <div id=\"df-9b67e713-0917-4968-b1e5-0f15c4c05db4\" class=\"colab-df-container\">\n",
              "    <div>\n",
              "<style scoped>\n",
              "    .dataframe tbody tr th:only-of-type {\n",
              "        vertical-align: middle;\n",
              "    }\n",
              "\n",
              "    .dataframe tbody tr th {\n",
              "        vertical-align: top;\n",
              "    }\n",
              "\n",
              "    .dataframe thead th {\n",
              "        text-align: right;\n",
              "    }\n",
              "</style>\n",
              "<table border=\"1\" class=\"dataframe\">\n",
              "  <thead>\n",
              "    <tr style=\"text-align: right;\">\n",
              "      <th></th>\n",
              "      <th>creation_date</th>\n",
              "      <th>status</th>\n",
              "      <th>completion_date</th>\n",
              "      <th>service_request_number</th>\n",
              "      <th>type_of_service_request</th>\n",
              "      <th>current_activity</th>\n",
              "      <th>most_recent_action</th>\n",
              "      <th>number_of_potholes_filled_on_block</th>\n",
              "      <th>street_address</th>\n",
              "      <th>zip</th>\n",
              "      <th>...</th>\n",
              "      <th>community_area</th>\n",
              "      <th>ssa</th>\n",
              "      <th>latitude</th>\n",
              "      <th>longitude</th>\n",
              "      <th>location</th>\n",
              "      <th>is_duplicated</th>\n",
              "      <th>ph_month</th>\n",
              "      <th>ph_weekday</th>\n",
              "      <th>ph_day</th>\n",
              "      <th>ph_year</th>\n",
              "    </tr>\n",
              "  </thead>\n",
              "  <tbody>\n",
              "    <tr>\n",
              "      <th>28</th>\n",
              "      <td>2018-12-17</td>\n",
              "      <td>Completed - Dup</td>\n",
              "      <td>2018-12-31</td>\n",
              "      <td>18-03378790</td>\n",
              "      <td>Pothole in Street</td>\n",
              "      <td>NaN</td>\n",
              "      <td>NaN</td>\n",
              "      <td>NaN</td>\n",
              "      <td>415 S FINANCIAL PL</td>\n",
              "      <td>60605.0</td>\n",
              "      <td>...</td>\n",
              "      <td>32.0</td>\n",
              "      <td>NaN</td>\n",
              "      <td>41.876480</td>\n",
              "      <td>-87.632956</td>\n",
              "      <td>(41.876479996476, -87.63295634334)</td>\n",
              "      <td>False</td>\n",
              "      <td>12</td>\n",
              "      <td>0</td>\n",
              "      <td>17</td>\n",
              "      <td>2018</td>\n",
              "    </tr>\n",
              "    <tr>\n",
              "      <th>42</th>\n",
              "      <td>2018-12-17</td>\n",
              "      <td>Completed</td>\n",
              "      <td>2018-12-18</td>\n",
              "      <td>18-03378095</td>\n",
              "      <td>Pothole in Street</td>\n",
              "      <td>Final Outcome</td>\n",
              "      <td>Pothole Patched</td>\n",
              "      <td>7.0</td>\n",
              "      <td>600 W LAKE ST</td>\n",
              "      <td>60661.0</td>\n",
              "      <td>...</td>\n",
              "      <td>28.0</td>\n",
              "      <td>NaN</td>\n",
              "      <td>41.885815</td>\n",
              "      <td>-87.642847</td>\n",
              "      <td>(41.885814724037, -87.6428471339)</td>\n",
              "      <td>False</td>\n",
              "      <td>12</td>\n",
              "      <td>0</td>\n",
              "      <td>17</td>\n",
              "      <td>2018</td>\n",
              "    </tr>\n",
              "  </tbody>\n",
              "</table>\n",
              "<p>2 rows × 24 columns</p>\n",
              "</div>\n",
              "    <div class=\"colab-df-buttons\">\n",
              "\n",
              "  <div class=\"colab-df-container\">\n",
              "    <button class=\"colab-df-convert\" onclick=\"convertToInteractive('df-9b67e713-0917-4968-b1e5-0f15c4c05db4')\"\n",
              "            title=\"Convert this dataframe to an interactive table.\"\n",
              "            style=\"display:none;\">\n",
              "\n",
              "  <svg xmlns=\"http://www.w3.org/2000/svg\" height=\"24px\" viewBox=\"0 -960 960 960\">\n",
              "    <path d=\"M120-120v-720h720v720H120Zm60-500h600v-160H180v160Zm220 220h160v-160H400v160Zm0 220h160v-160H400v160ZM180-400h160v-160H180v160Zm440 0h160v-160H620v160ZM180-180h160v-160H180v160Zm440 0h160v-160H620v160Z\"/>\n",
              "  </svg>\n",
              "    </button>\n",
              "\n",
              "  <style>\n",
              "    .colab-df-container {\n",
              "      display:flex;\n",
              "      gap: 12px;\n",
              "    }\n",
              "\n",
              "    .colab-df-convert {\n",
              "      background-color: #E8F0FE;\n",
              "      border: none;\n",
              "      border-radius: 50%;\n",
              "      cursor: pointer;\n",
              "      display: none;\n",
              "      fill: #1967D2;\n",
              "      height: 32px;\n",
              "      padding: 0 0 0 0;\n",
              "      width: 32px;\n",
              "    }\n",
              "\n",
              "    .colab-df-convert:hover {\n",
              "      background-color: #E2EBFA;\n",
              "      box-shadow: 0px 1px 2px rgba(60, 64, 67, 0.3), 0px 1px 3px 1px rgba(60, 64, 67, 0.15);\n",
              "      fill: #174EA6;\n",
              "    }\n",
              "\n",
              "    .colab-df-buttons div {\n",
              "      margin-bottom: 4px;\n",
              "    }\n",
              "\n",
              "    [theme=dark] .colab-df-convert {\n",
              "      background-color: #3B4455;\n",
              "      fill: #D2E3FC;\n",
              "    }\n",
              "\n",
              "    [theme=dark] .colab-df-convert:hover {\n",
              "      background-color: #434B5C;\n",
              "      box-shadow: 0px 1px 3px 1px rgba(0, 0, 0, 0.15);\n",
              "      filter: drop-shadow(0px 1px 2px rgba(0, 0, 0, 0.3));\n",
              "      fill: #FFFFFF;\n",
              "    }\n",
              "  </style>\n",
              "\n",
              "    <script>\n",
              "      const buttonEl =\n",
              "        document.querySelector('#df-9b67e713-0917-4968-b1e5-0f15c4c05db4 button.colab-df-convert');\n",
              "      buttonEl.style.display =\n",
              "        google.colab.kernel.accessAllowed ? 'block' : 'none';\n",
              "\n",
              "      async function convertToInteractive(key) {\n",
              "        const element = document.querySelector('#df-9b67e713-0917-4968-b1e5-0f15c4c05db4');\n",
              "        const dataTable =\n",
              "          await google.colab.kernel.invokeFunction('convertToInteractive',\n",
              "                                                    [key], {});\n",
              "        if (!dataTable) return;\n",
              "\n",
              "        const docLinkHtml = 'Like what you see? Visit the ' +\n",
              "          '<a target=\"_blank\" href=https://colab.research.google.com/notebooks/data_table.ipynb>data table notebook</a>'\n",
              "          + ' to learn more about interactive tables.';\n",
              "        element.innerHTML = '';\n",
              "        dataTable['output_type'] = 'display_data';\n",
              "        await google.colab.output.renderOutput(dataTable, element);\n",
              "        const docLink = document.createElement('div');\n",
              "        docLink.innerHTML = docLinkHtml;\n",
              "        element.appendChild(docLink);\n",
              "      }\n",
              "    </script>\n",
              "  </div>\n",
              "\n",
              "\n",
              "<div id=\"df-51378157-9c01-4f7b-bf01-76ad356f3613\">\n",
              "  <button class=\"colab-df-quickchart\" onclick=\"quickchart('df-51378157-9c01-4f7b-bf01-76ad356f3613')\"\n",
              "            title=\"Suggest charts\"\n",
              "            style=\"display:none;\">\n",
              "\n",
              "<svg xmlns=\"http://www.w3.org/2000/svg\" height=\"24px\"viewBox=\"0 0 24 24\"\n",
              "     width=\"24px\">\n",
              "    <g>\n",
              "        <path d=\"M19 3H5c-1.1 0-2 .9-2 2v14c0 1.1.9 2 2 2h14c1.1 0 2-.9 2-2V5c0-1.1-.9-2-2-2zM9 17H7v-7h2v7zm4 0h-2V7h2v10zm4 0h-2v-4h2v4z\"/>\n",
              "    </g>\n",
              "</svg>\n",
              "  </button>\n",
              "\n",
              "<style>\n",
              "  .colab-df-quickchart {\n",
              "      --bg-color: #E8F0FE;\n",
              "      --fill-color: #1967D2;\n",
              "      --hover-bg-color: #E2EBFA;\n",
              "      --hover-fill-color: #174EA6;\n",
              "      --disabled-fill-color: #AAA;\n",
              "      --disabled-bg-color: #DDD;\n",
              "  }\n",
              "\n",
              "  [theme=dark] .colab-df-quickchart {\n",
              "      --bg-color: #3B4455;\n",
              "      --fill-color: #D2E3FC;\n",
              "      --hover-bg-color: #434B5C;\n",
              "      --hover-fill-color: #FFFFFF;\n",
              "      --disabled-bg-color: #3B4455;\n",
              "      --disabled-fill-color: #666;\n",
              "  }\n",
              "\n",
              "  .colab-df-quickchart {\n",
              "    background-color: var(--bg-color);\n",
              "    border: none;\n",
              "    border-radius: 50%;\n",
              "    cursor: pointer;\n",
              "    display: none;\n",
              "    fill: var(--fill-color);\n",
              "    height: 32px;\n",
              "    padding: 0;\n",
              "    width: 32px;\n",
              "  }\n",
              "\n",
              "  .colab-df-quickchart:hover {\n",
              "    background-color: var(--hover-bg-color);\n",
              "    box-shadow: 0 1px 2px rgba(60, 64, 67, 0.3), 0 1px 3px 1px rgba(60, 64, 67, 0.15);\n",
              "    fill: var(--button-hover-fill-color);\n",
              "  }\n",
              "\n",
              "  .colab-df-quickchart-complete:disabled,\n",
              "  .colab-df-quickchart-complete:disabled:hover {\n",
              "    background-color: var(--disabled-bg-color);\n",
              "    fill: var(--disabled-fill-color);\n",
              "    box-shadow: none;\n",
              "  }\n",
              "\n",
              "  .colab-df-spinner {\n",
              "    border: 2px solid var(--fill-color);\n",
              "    border-color: transparent;\n",
              "    border-bottom-color: var(--fill-color);\n",
              "    animation:\n",
              "      spin 1s steps(1) infinite;\n",
              "  }\n",
              "\n",
              "  @keyframes spin {\n",
              "    0% {\n",
              "      border-color: transparent;\n",
              "      border-bottom-color: var(--fill-color);\n",
              "      border-left-color: var(--fill-color);\n",
              "    }\n",
              "    20% {\n",
              "      border-color: transparent;\n",
              "      border-left-color: var(--fill-color);\n",
              "      border-top-color: var(--fill-color);\n",
              "    }\n",
              "    30% {\n",
              "      border-color: transparent;\n",
              "      border-left-color: var(--fill-color);\n",
              "      border-top-color: var(--fill-color);\n",
              "      border-right-color: var(--fill-color);\n",
              "    }\n",
              "    40% {\n",
              "      border-color: transparent;\n",
              "      border-right-color: var(--fill-color);\n",
              "      border-top-color: var(--fill-color);\n",
              "    }\n",
              "    60% {\n",
              "      border-color: transparent;\n",
              "      border-right-color: var(--fill-color);\n",
              "    }\n",
              "    80% {\n",
              "      border-color: transparent;\n",
              "      border-right-color: var(--fill-color);\n",
              "      border-bottom-color: var(--fill-color);\n",
              "    }\n",
              "    90% {\n",
              "      border-color: transparent;\n",
              "      border-bottom-color: var(--fill-color);\n",
              "    }\n",
              "  }\n",
              "</style>\n",
              "\n",
              "  <script>\n",
              "    async function quickchart(key) {\n",
              "      const quickchartButtonEl =\n",
              "        document.querySelector('#' + key + ' button');\n",
              "      quickchartButtonEl.disabled = true;  // To prevent multiple clicks.\n",
              "      quickchartButtonEl.classList.add('colab-df-spinner');\n",
              "      try {\n",
              "        const charts = await google.colab.kernel.invokeFunction(\n",
              "            'suggestCharts', [key], {});\n",
              "      } catch (error) {\n",
              "        console.error('Error during call to suggestCharts:', error);\n",
              "      }\n",
              "      quickchartButtonEl.classList.remove('colab-df-spinner');\n",
              "      quickchartButtonEl.classList.add('colab-df-quickchart-complete');\n",
              "    }\n",
              "    (() => {\n",
              "      let quickchartButtonEl =\n",
              "        document.querySelector('#df-51378157-9c01-4f7b-bf01-76ad356f3613 button');\n",
              "      quickchartButtonEl.style.display =\n",
              "        google.colab.kernel.accessAllowed ? 'block' : 'none';\n",
              "    })();\n",
              "  </script>\n",
              "</div>\n",
              "\n",
              "    </div>\n",
              "  </div>\n"
            ],
            "application/vnd.google.colaboratory.intrinsic+json": {
              "type": "dataframe"
            }
          },
          "metadata": {},
          "execution_count": 64
        }
      ],
      "source": [
        "pothole[pothole['completion_date'] < '2019-12-31'].head(2)"
      ]
    },
    {
      "cell_type": "code",
      "execution_count": null,
      "metadata": {
        "id": "JUOo-HyRBkxW"
      },
      "outputs": [],
      "source": [
        "pothole['count'] = 1"
      ]
    },
    {
      "cell_type": "code",
      "execution_count": null,
      "metadata": {
        "colab": {
          "base_uri": "https://localhost:8080/"
        },
        "id": "7UGcJtACBkuU",
        "outputId": "d46903a2-cd50-4dc0-d83c-41e355ffa0f0"
      },
      "outputs": [
        {
          "output_type": "execute_result",
          "data": {
            "text/plain": [
              "ph_year  ph_month\n",
              "2009     1              1\n",
              "         6              1\n",
              "         8              1\n",
              "2010     2              1\n",
              "         3              7\n",
              "                     ... \n",
              "2018     8           3719\n",
              "         9           3123\n",
              "         10          3156\n",
              "         11          2358\n",
              "         12          1802\n",
              "Name: count, Length: 110, dtype: int64"
            ]
          },
          "metadata": {},
          "execution_count": 66
        }
      ],
      "source": [
        "pothole.groupby(['ph_year', 'ph_month'])['count'].sum()"
      ]
    },
    {
      "cell_type": "code",
      "execution_count": null,
      "metadata": {
        "colab": {
          "base_uri": "https://localhost:8080/",
          "height": 423
        },
        "id": "NOJt--TdBkrN",
        "outputId": "3358c2da-4912-4e57-cb93-a8254991dae9"
      },
      "outputs": [
        {
          "output_type": "execute_result",
          "data": {
            "text/plain": [
              "     ph_year  ph_month  count\n",
              "0       2009         1      1\n",
              "1       2009         6      1\n",
              "2       2009         8      1\n",
              "3       2010         2      1\n",
              "4       2010         3      7\n",
              "..       ...       ...    ...\n",
              "105     2018         8   3719\n",
              "106     2018         9   3123\n",
              "107     2018        10   3156\n",
              "108     2018        11   2358\n",
              "109     2018        12   1802\n",
              "\n",
              "[110 rows x 3 columns]"
            ],
            "text/html": [
              "\n",
              "  <div id=\"df-4f669d84-a7cb-4bee-81a4-3bfdd291b082\" class=\"colab-df-container\">\n",
              "    <div>\n",
              "<style scoped>\n",
              "    .dataframe tbody tr th:only-of-type {\n",
              "        vertical-align: middle;\n",
              "    }\n",
              "\n",
              "    .dataframe tbody tr th {\n",
              "        vertical-align: top;\n",
              "    }\n",
              "\n",
              "    .dataframe thead th {\n",
              "        text-align: right;\n",
              "    }\n",
              "</style>\n",
              "<table border=\"1\" class=\"dataframe\">\n",
              "  <thead>\n",
              "    <tr style=\"text-align: right;\">\n",
              "      <th></th>\n",
              "      <th>ph_year</th>\n",
              "      <th>ph_month</th>\n",
              "      <th>count</th>\n",
              "    </tr>\n",
              "  </thead>\n",
              "  <tbody>\n",
              "    <tr>\n",
              "      <th>0</th>\n",
              "      <td>2009</td>\n",
              "      <td>1</td>\n",
              "      <td>1</td>\n",
              "    </tr>\n",
              "    <tr>\n",
              "      <th>1</th>\n",
              "      <td>2009</td>\n",
              "      <td>6</td>\n",
              "      <td>1</td>\n",
              "    </tr>\n",
              "    <tr>\n",
              "      <th>2</th>\n",
              "      <td>2009</td>\n",
              "      <td>8</td>\n",
              "      <td>1</td>\n",
              "    </tr>\n",
              "    <tr>\n",
              "      <th>3</th>\n",
              "      <td>2010</td>\n",
              "      <td>2</td>\n",
              "      <td>1</td>\n",
              "    </tr>\n",
              "    <tr>\n",
              "      <th>4</th>\n",
              "      <td>2010</td>\n",
              "      <td>3</td>\n",
              "      <td>7</td>\n",
              "    </tr>\n",
              "    <tr>\n",
              "      <th>...</th>\n",
              "      <td>...</td>\n",
              "      <td>...</td>\n",
              "      <td>...</td>\n",
              "    </tr>\n",
              "    <tr>\n",
              "      <th>105</th>\n",
              "      <td>2018</td>\n",
              "      <td>8</td>\n",
              "      <td>3719</td>\n",
              "    </tr>\n",
              "    <tr>\n",
              "      <th>106</th>\n",
              "      <td>2018</td>\n",
              "      <td>9</td>\n",
              "      <td>3123</td>\n",
              "    </tr>\n",
              "    <tr>\n",
              "      <th>107</th>\n",
              "      <td>2018</td>\n",
              "      <td>10</td>\n",
              "      <td>3156</td>\n",
              "    </tr>\n",
              "    <tr>\n",
              "      <th>108</th>\n",
              "      <td>2018</td>\n",
              "      <td>11</td>\n",
              "      <td>2358</td>\n",
              "    </tr>\n",
              "    <tr>\n",
              "      <th>109</th>\n",
              "      <td>2018</td>\n",
              "      <td>12</td>\n",
              "      <td>1802</td>\n",
              "    </tr>\n",
              "  </tbody>\n",
              "</table>\n",
              "<p>110 rows × 3 columns</p>\n",
              "</div>\n",
              "    <div class=\"colab-df-buttons\">\n",
              "\n",
              "  <div class=\"colab-df-container\">\n",
              "    <button class=\"colab-df-convert\" onclick=\"convertToInteractive('df-4f669d84-a7cb-4bee-81a4-3bfdd291b082')\"\n",
              "            title=\"Convert this dataframe to an interactive table.\"\n",
              "            style=\"display:none;\">\n",
              "\n",
              "  <svg xmlns=\"http://www.w3.org/2000/svg\" height=\"24px\" viewBox=\"0 -960 960 960\">\n",
              "    <path d=\"M120-120v-720h720v720H120Zm60-500h600v-160H180v160Zm220 220h160v-160H400v160Zm0 220h160v-160H400v160ZM180-400h160v-160H180v160Zm440 0h160v-160H620v160ZM180-180h160v-160H180v160Zm440 0h160v-160H620v160Z\"/>\n",
              "  </svg>\n",
              "    </button>\n",
              "\n",
              "  <style>\n",
              "    .colab-df-container {\n",
              "      display:flex;\n",
              "      gap: 12px;\n",
              "    }\n",
              "\n",
              "    .colab-df-convert {\n",
              "      background-color: #E8F0FE;\n",
              "      border: none;\n",
              "      border-radius: 50%;\n",
              "      cursor: pointer;\n",
              "      display: none;\n",
              "      fill: #1967D2;\n",
              "      height: 32px;\n",
              "      padding: 0 0 0 0;\n",
              "      width: 32px;\n",
              "    }\n",
              "\n",
              "    .colab-df-convert:hover {\n",
              "      background-color: #E2EBFA;\n",
              "      box-shadow: 0px 1px 2px rgba(60, 64, 67, 0.3), 0px 1px 3px 1px rgba(60, 64, 67, 0.15);\n",
              "      fill: #174EA6;\n",
              "    }\n",
              "\n",
              "    .colab-df-buttons div {\n",
              "      margin-bottom: 4px;\n",
              "    }\n",
              "\n",
              "    [theme=dark] .colab-df-convert {\n",
              "      background-color: #3B4455;\n",
              "      fill: #D2E3FC;\n",
              "    }\n",
              "\n",
              "    [theme=dark] .colab-df-convert:hover {\n",
              "      background-color: #434B5C;\n",
              "      box-shadow: 0px 1px 3px 1px rgba(0, 0, 0, 0.15);\n",
              "      filter: drop-shadow(0px 1px 2px rgba(0, 0, 0, 0.3));\n",
              "      fill: #FFFFFF;\n",
              "    }\n",
              "  </style>\n",
              "\n",
              "    <script>\n",
              "      const buttonEl =\n",
              "        document.querySelector('#df-4f669d84-a7cb-4bee-81a4-3bfdd291b082 button.colab-df-convert');\n",
              "      buttonEl.style.display =\n",
              "        google.colab.kernel.accessAllowed ? 'block' : 'none';\n",
              "\n",
              "      async function convertToInteractive(key) {\n",
              "        const element = document.querySelector('#df-4f669d84-a7cb-4bee-81a4-3bfdd291b082');\n",
              "        const dataTable =\n",
              "          await google.colab.kernel.invokeFunction('convertToInteractive',\n",
              "                                                    [key], {});\n",
              "        if (!dataTable) return;\n",
              "\n",
              "        const docLinkHtml = 'Like what you see? Visit the ' +\n",
              "          '<a target=\"_blank\" href=https://colab.research.google.com/notebooks/data_table.ipynb>data table notebook</a>'\n",
              "          + ' to learn more about interactive tables.';\n",
              "        element.innerHTML = '';\n",
              "        dataTable['output_type'] = 'display_data';\n",
              "        await google.colab.output.renderOutput(dataTable, element);\n",
              "        const docLink = document.createElement('div');\n",
              "        docLink.innerHTML = docLinkHtml;\n",
              "        element.appendChild(docLink);\n",
              "      }\n",
              "    </script>\n",
              "  </div>\n",
              "\n",
              "\n",
              "<div id=\"df-e964ba7a-19de-4bcf-9dda-25481698e7d5\">\n",
              "  <button class=\"colab-df-quickchart\" onclick=\"quickchart('df-e964ba7a-19de-4bcf-9dda-25481698e7d5')\"\n",
              "            title=\"Suggest charts\"\n",
              "            style=\"display:none;\">\n",
              "\n",
              "<svg xmlns=\"http://www.w3.org/2000/svg\" height=\"24px\"viewBox=\"0 0 24 24\"\n",
              "     width=\"24px\">\n",
              "    <g>\n",
              "        <path d=\"M19 3H5c-1.1 0-2 .9-2 2v14c0 1.1.9 2 2 2h14c1.1 0 2-.9 2-2V5c0-1.1-.9-2-2-2zM9 17H7v-7h2v7zm4 0h-2V7h2v10zm4 0h-2v-4h2v4z\"/>\n",
              "    </g>\n",
              "</svg>\n",
              "  </button>\n",
              "\n",
              "<style>\n",
              "  .colab-df-quickchart {\n",
              "      --bg-color: #E8F0FE;\n",
              "      --fill-color: #1967D2;\n",
              "      --hover-bg-color: #E2EBFA;\n",
              "      --hover-fill-color: #174EA6;\n",
              "      --disabled-fill-color: #AAA;\n",
              "      --disabled-bg-color: #DDD;\n",
              "  }\n",
              "\n",
              "  [theme=dark] .colab-df-quickchart {\n",
              "      --bg-color: #3B4455;\n",
              "      --fill-color: #D2E3FC;\n",
              "      --hover-bg-color: #434B5C;\n",
              "      --hover-fill-color: #FFFFFF;\n",
              "      --disabled-bg-color: #3B4455;\n",
              "      --disabled-fill-color: #666;\n",
              "  }\n",
              "\n",
              "  .colab-df-quickchart {\n",
              "    background-color: var(--bg-color);\n",
              "    border: none;\n",
              "    border-radius: 50%;\n",
              "    cursor: pointer;\n",
              "    display: none;\n",
              "    fill: var(--fill-color);\n",
              "    height: 32px;\n",
              "    padding: 0;\n",
              "    width: 32px;\n",
              "  }\n",
              "\n",
              "  .colab-df-quickchart:hover {\n",
              "    background-color: var(--hover-bg-color);\n",
              "    box-shadow: 0 1px 2px rgba(60, 64, 67, 0.3), 0 1px 3px 1px rgba(60, 64, 67, 0.15);\n",
              "    fill: var(--button-hover-fill-color);\n",
              "  }\n",
              "\n",
              "  .colab-df-quickchart-complete:disabled,\n",
              "  .colab-df-quickchart-complete:disabled:hover {\n",
              "    background-color: var(--disabled-bg-color);\n",
              "    fill: var(--disabled-fill-color);\n",
              "    box-shadow: none;\n",
              "  }\n",
              "\n",
              "  .colab-df-spinner {\n",
              "    border: 2px solid var(--fill-color);\n",
              "    border-color: transparent;\n",
              "    border-bottom-color: var(--fill-color);\n",
              "    animation:\n",
              "      spin 1s steps(1) infinite;\n",
              "  }\n",
              "\n",
              "  @keyframes spin {\n",
              "    0% {\n",
              "      border-color: transparent;\n",
              "      border-bottom-color: var(--fill-color);\n",
              "      border-left-color: var(--fill-color);\n",
              "    }\n",
              "    20% {\n",
              "      border-color: transparent;\n",
              "      border-left-color: var(--fill-color);\n",
              "      border-top-color: var(--fill-color);\n",
              "    }\n",
              "    30% {\n",
              "      border-color: transparent;\n",
              "      border-left-color: var(--fill-color);\n",
              "      border-top-color: var(--fill-color);\n",
              "      border-right-color: var(--fill-color);\n",
              "    }\n",
              "    40% {\n",
              "      border-color: transparent;\n",
              "      border-right-color: var(--fill-color);\n",
              "      border-top-color: var(--fill-color);\n",
              "    }\n",
              "    60% {\n",
              "      border-color: transparent;\n",
              "      border-right-color: var(--fill-color);\n",
              "    }\n",
              "    80% {\n",
              "      border-color: transparent;\n",
              "      border-right-color: var(--fill-color);\n",
              "      border-bottom-color: var(--fill-color);\n",
              "    }\n",
              "    90% {\n",
              "      border-color: transparent;\n",
              "      border-bottom-color: var(--fill-color);\n",
              "    }\n",
              "  }\n",
              "</style>\n",
              "\n",
              "  <script>\n",
              "    async function quickchart(key) {\n",
              "      const quickchartButtonEl =\n",
              "        document.querySelector('#' + key + ' button');\n",
              "      quickchartButtonEl.disabled = true;  // To prevent multiple clicks.\n",
              "      quickchartButtonEl.classList.add('colab-df-spinner');\n",
              "      try {\n",
              "        const charts = await google.colab.kernel.invokeFunction(\n",
              "            'suggestCharts', [key], {});\n",
              "      } catch (error) {\n",
              "        console.error('Error during call to suggestCharts:', error);\n",
              "      }\n",
              "      quickchartButtonEl.classList.remove('colab-df-spinner');\n",
              "      quickchartButtonEl.classList.add('colab-df-quickchart-complete');\n",
              "    }\n",
              "    (() => {\n",
              "      let quickchartButtonEl =\n",
              "        document.querySelector('#df-e964ba7a-19de-4bcf-9dda-25481698e7d5 button');\n",
              "      quickchartButtonEl.style.display =\n",
              "        google.colab.kernel.accessAllowed ? 'block' : 'none';\n",
              "    })();\n",
              "  </script>\n",
              "</div>\n",
              "\n",
              "    </div>\n",
              "  </div>\n"
            ],
            "application/vnd.google.colaboratory.intrinsic+json": {
              "type": "dataframe",
              "summary": "{\n  \"name\": \"pothole\",\n  \"rows\": 110,\n  \"fields\": [\n    {\n      \"column\": \"ph_year\",\n      \"properties\": {\n        \"dtype\": \"int32\",\n        \"num_unique_values\": 10,\n        \"samples\": [\n          2017,\n          2010,\n          2014\n        ],\n        \"semantic_type\": \"\",\n        \"description\": \"\"\n      }\n    },\n    {\n      \"column\": \"ph_month\",\n      \"properties\": {\n        \"dtype\": \"int32\",\n        \"num_unique_values\": 12,\n        \"samples\": [\n          11,\n          10,\n          1\n        ],\n        \"semantic_type\": \"\",\n        \"description\": \"\"\n      }\n    },\n    {\n      \"column\": \"count\",\n      \"properties\": {\n        \"dtype\": \"number\",\n        \"std\": 4471,\n        \"min\": 1,\n        \"max\": 25419,\n        \"num_unique_values\": 105,\n        \"samples\": [\n          2045,\n          3611,\n          5130\n        ],\n        \"semantic_type\": \"\",\n        \"description\": \"\"\n      }\n    }\n  ]\n}"
            }
          },
          "metadata": {},
          "execution_count": 67
        }
      ],
      "source": [
        "pothole.groupby(['ph_year', 'ph_month'])['count'].sum().reset_index()"
      ]
    },
    {
      "cell_type": "code",
      "execution_count": null,
      "metadata": {
        "colab": {
          "base_uri": "https://localhost:8080/"
        },
        "id": "pUGKEhWKBkoI",
        "outputId": "abf68c6c-3c0c-45e5-e8fd-8ac69d1653b6"
      },
      "outputs": [
        {
          "output_type": "execute_result",
          "data": {
            "text/plain": [
              "Index(['creation_date', 'status', 'completion_date', 'service_request_number',\n",
              "       'type_of_service_request', 'current_activity', 'most_recent_action',\n",
              "       'number_of_potholes_filled_on_block', 'street_address', 'zip',\n",
              "       'x_coordinate', 'y_coordinate', 'ward', 'police_district',\n",
              "       'community_area', 'ssa', 'latitude', 'longitude', 'location',\n",
              "       'is_duplicated', 'ph_month', 'ph_weekday', 'ph_day', 'ph_year',\n",
              "       'count'],\n",
              "      dtype='object')"
            ]
          },
          "metadata": {},
          "execution_count": 68
        }
      ],
      "source": [
        "pothole.columns"
      ]
    },
    {
      "cell_type": "code",
      "execution_count": null,
      "metadata": {
        "id": "7GdO97HSBklE"
      },
      "outputs": [],
      "source": [
        "frequencymaybe = pothole.groupby(['ph_year', 'ph_month', 'ph_day'])['count'].sum()"
      ]
    },
    {
      "cell_type": "code",
      "execution_count": null,
      "metadata": {
        "id": "GxMRtA1GBkhU"
      },
      "outputs": [],
      "source": [
        "freq = (frequencymaybe.sort_values(ascending=False))"
      ]
    },
    {
      "cell_type": "code",
      "execution_count": null,
      "metadata": {
        "colab": {
          "base_uri": "https://localhost:8080/"
        },
        "id": "BpNZvH2HBkdx",
        "outputId": "ad0ecead-1643-4ce9-d761-f786a9d16ac8"
      },
      "outputs": [
        {
          "output_type": "stream",
          "name": "stdout",
          "text": [
            "ph_year  ph_month  ph_day\n",
            "2014     3         10        1997\n",
            "         1         13        1873\n",
            "         2         24        1680\n",
            "                   26        1636\n",
            "         3         11        1581\n",
            "                             ... \n",
            "2010     8         18           1\n",
            "                   17           1\n",
            "                   14           1\n",
            "                   10           1\n",
            "2009     1         12           1\n",
            "Name: count, Length: 3032, dtype: int64\n"
          ]
        }
      ],
      "source": [
        "print(freq)"
      ]
    },
    {
      "cell_type": "code",
      "execution_count": null,
      "metadata": {
        "id": "ldajKlFLBkaa"
      },
      "outputs": [],
      "source": [
        "# - above answers -\n",
        "#THE MONTH WITH THE MOST REPORTS IS MARCH - only 3 years from 2011-2018 had March not being the most reported\n",
        "  #FURTHERMORE, THE MONTHS WITH THE HIGHEST REPORTS PER DAY ARE IN THE WINTER\n",
        "  # all according to dataset POTHOLE"
      ]
    },
    {
      "cell_type": "code",
      "execution_count": null,
      "metadata": {
        "id": "_xg3b0v2BkXF"
      },
      "outputs": [],
      "source": [
        "#\n",
        "# How long does it take for a pothole to get patched?\n",
        "  #31.4 days - According to dataset POTHOLE\n",
        "    # median number of days is 8 - according to dataset POTHOLE"
      ]
    },
    {
      "cell_type": "code",
      "execution_count": null,
      "metadata": {
        "id": "shE1nYhJBkMe"
      },
      "outputs": [],
      "source": [
        "pothole['request_complete'] = pothole['completion_date'] - pothole['creation_date']"
      ]
    },
    {
      "cell_type": "code",
      "execution_count": null,
      "metadata": {
        "id": "Hwv3oFNCCSAH"
      },
      "outputs": [],
      "source": [
        "pothole['request_complete'] = pothole['request_complete'].dt.days"
      ]
    },
    {
      "cell_type": "code",
      "execution_count": null,
      "metadata": {
        "colab": {
          "base_uri": "https://localhost:8080/"
        },
        "id": "wQ2A9roeCR8U",
        "outputId": "17d4b0ef-33f8-4ca3-baaf-1735f8631bd1"
      },
      "outputs": [
        {
          "output_type": "execute_result",
          "data": {
            "text/plain": [
              "Index(['creation_date', 'status', 'completion_date', 'service_request_number',\n",
              "       'type_of_service_request', 'current_activity', 'most_recent_action',\n",
              "       'number_of_potholes_filled_on_block', 'street_address', 'zip',\n",
              "       'x_coordinate', 'y_coordinate', 'ward', 'police_district',\n",
              "       'community_area', 'ssa', 'latitude', 'longitude', 'location',\n",
              "       'is_duplicated', 'ph_month', 'ph_weekday', 'ph_day', 'ph_year', 'count',\n",
              "       'request_complete'],\n",
              "      dtype='object')"
            ]
          },
          "metadata": {},
          "execution_count": 76
        }
      ],
      "source": [
        "pothole.columns"
      ]
    },
    {
      "cell_type": "code",
      "execution_count": null,
      "metadata": {
        "colab": {
          "base_uri": "https://localhost:8080/"
        },
        "id": "EimRT2XMCR4t",
        "outputId": "88b7f176-99d0-406a-9b4f-67b6dc7d7a80"
      },
      "outputs": [
        {
          "output_type": "stream",
          "name": "stdout",
          "text": [
            "0           NaN\n",
            "1           NaN\n",
            "2           NaN\n",
            "3           NaN\n",
            "4           NaN\n",
            "          ...  \n",
            "560473    382.0\n",
            "560474    585.0\n",
            "560475    516.0\n",
            "560476    720.0\n",
            "560477    997.0\n",
            "Name: request_complete, Length: 560478, dtype: float64\n"
          ]
        }
      ],
      "source": [
        "print(pothole.request_complete)"
      ]
    },
    {
      "cell_type": "code",
      "execution_count": null,
      "metadata": {
        "id": "cPOQB8hWCR1L"
      },
      "outputs": [],
      "source": [
        "lencompreq = pothole['request_complete'].mean()"
      ]
    },
    {
      "cell_type": "code",
      "execution_count": null,
      "metadata": {
        "colab": {
          "base_uri": "https://localhost:8080/"
        },
        "id": "gpQgfnEaCZD0",
        "outputId": "377af236-9e31-4d86-8ab8-2e55e144aa46"
      },
      "outputs": [
        {
          "output_type": "stream",
          "name": "stdout",
          "text": [
            "31.39170900150055\n"
          ]
        }
      ],
      "source": [
        "print(lencompreq)"
      ]
    },
    {
      "cell_type": "code",
      "execution_count": null,
      "metadata": {
        "id": "8JeEYC-bCY-Z"
      },
      "outputs": [],
      "source": [
        "medcomreq = pothole['request_complete'].median()"
      ]
    },
    {
      "cell_type": "code",
      "execution_count": null,
      "metadata": {
        "colab": {
          "base_uri": "https://localhost:8080/"
        },
        "id": "Qag69p6ECY6Z",
        "outputId": "802da4d4-aa24-4911-d0ff-d64955d93f60"
      },
      "outputs": [
        {
          "output_type": "stream",
          "name": "stdout",
          "text": [
            "8.0\n"
          ]
        }
      ],
      "source": [
        "print(medcomreq)"
      ]
    },
    {
      "cell_type": "code",
      "execution_count": null,
      "metadata": {
        "id": "hBkQzd978F3N"
      },
      "outputs": [],
      "source": [
        "#how frequently pothole requests are made, median and groupbys"
      ]
    },
    {
      "cell_type": "code",
      "execution_count": null,
      "metadata": {
        "id": "Sg8qy6hXC9hT"
      },
      "outputs": [],
      "source": [
        "pothole_data = pd.read_csv('https://data.cityofchicago.org/resource/7as2-ds3y.csv?$limit=1000000')"
      ]
    },
    {
      "cell_type": "code",
      "execution_count": null,
      "metadata": {
        "id": "qpAuIwgO8eFX"
      },
      "outputs": [],
      "source": [
        "pothole_data['creation_date'] = pd.to_datetime(pothole_data['creation_date'])"
      ]
    },
    {
      "cell_type": "code",
      "execution_count": null,
      "metadata": {
        "id": "nKUNbeGC81oE"
      },
      "outputs": [],
      "source": [
        "median_requests = pothole_data['creation_date'].median()"
      ]
    },
    {
      "cell_type": "code",
      "execution_count": null,
      "metadata": {
        "colab": {
          "base_uri": "https://localhost:8080/"
        },
        "id": "m4kI7i7184KA",
        "outputId": "af9b4fe2-d7ec-4140-9217-db090a7a1217"
      },
      "outputs": [
        {
          "output_type": "stream",
          "name": "stdout",
          "text": [
            "2014-05-13 00:00:00\n"
          ]
        }
      ],
      "source": [
        "print(median_requests)"
      ]
    },
    {
      "cell_type": "code",
      "execution_count": null,
      "metadata": {
        "id": "wwfXrIHN85Iq"
      },
      "outputs": [],
      "source": [
        "grouped_data = pothole_data.groupby('location')['number_of_potholes_filled_on_block'].mean()"
      ]
    },
    {
      "cell_type": "code",
      "execution_count": null,
      "metadata": {
        "id": "9gzIg2Bc88O1"
      },
      "outputs": [],
      "source": [
        "requests_per_location = pothole_data['location'].value_counts()"
      ]
    },
    {
      "cell_type": "code",
      "execution_count": null,
      "metadata": {
        "id": "XZv31Qja8-ya"
      },
      "outputs": [],
      "source": [
        "requests_per_location = pothole_data.groupby('location').size()"
      ]
    },
    {
      "cell_type": "code",
      "execution_count": null,
      "metadata": {
        "id": "FVtVLdSt9AyE"
      },
      "outputs": [],
      "source": [
        "avg_potholes_per_request = pothole_data.groupby('location')['number_of_potholes_filled_on_block'].mean()"
      ]
    },
    {
      "cell_type": "code",
      "execution_count": null,
      "metadata": {
        "colab": {
          "base_uri": "https://localhost:8080/"
        },
        "id": "ay9jEe8a9Cyk",
        "outputId": "50716077-95d9-466b-aa7c-43182fc97ad7"
      },
      "outputs": [
        {
          "output_type": "stream",
          "name": "stdout",
          "text": [
            "2014-05-13 00:00:00\n"
          ]
        }
      ],
      "source": [
        "print(median_requests)"
      ]
    },
    {
      "cell_type": "code",
      "execution_count": null,
      "metadata": {
        "id": "qiNYfHe99GI5"
      },
      "outputs": [],
      "source": [
        "med_potholes_patched = pothole_data['number_of_potholes_filled_on_block'].median()"
      ]
    },
    {
      "cell_type": "code",
      "execution_count": null,
      "metadata": {
        "colab": {
          "base_uri": "https://localhost:8080/"
        },
        "id": "s8Vi96bd9IaL",
        "outputId": "9e8b49a9-b476-4445-f980-56db8e91faf5"
      },
      "outputs": [
        {
          "output_type": "stream",
          "name": "stdout",
          "text": [
            "Median number of potholes patched: 5.0\n"
          ]
        }
      ],
      "source": [
        "print(\"Median number of potholes patched:\", med_potholes_patched)"
      ]
    },
    {
      "cell_type": "code",
      "execution_count": null,
      "metadata": {
        "id": "fZeeCmMnOllX"
      },
      "outputs": [],
      "source": [
        "#.csv creation"
      ]
    },
    {
      "cell_type": "code",
      "execution_count": null,
      "metadata": {
        "id": "hgcrCAyUQq-g",
        "colab": {
          "base_uri": "https://localhost:8080/"
        },
        "outputId": "451e2ebb-62d1-41e3-bafa-d518e02441e8"
      },
      "outputs": [
        {
          "output_type": "execute_result",
          "data": {
            "text/plain": [
              "ward\n",
              "41.0    21637\n",
              "45.0    16788\n",
              "19.0    16534\n",
              "23.0    16398\n",
              "32.0    16173\n",
              "13.0    15765\n",
              "39.0    15699\n",
              "8.0     15336\n",
              "Name: type_of_service_request, dtype: int64"
            ]
          },
          "metadata": {},
          "execution_count": 109
        }
      ],
      "source": [
        "pothole.groupby('ward')['type_of_service_request'].count().sort_values(ascending = False).head(8)"
      ]
    },
    {
      "cell_type": "code",
      "execution_count": null,
      "metadata": {
        "id": "uPk7T0cZRAij"
      },
      "outputs": [],
      "source": [
        "ward_patched.to_csv('data/requests_by_ward.csv')"
      ]
    },
    {
      "cell_type": "code",
      "execution_count": null,
      "metadata": {
        "id": "b_wClBNvPIbQ"
      },
      "outputs": [],
      "source": [
        "season_potholes_filled = patched.groupby('season')['number_of_potholes_filled_on_block'].sum()"
      ]
    },
    {
      "cell_type": "code",
      "execution_count": null,
      "metadata": {
        "id": "6LHoOyt9RWCO"
      },
      "outputs": [],
      "source": [
        "season_potholes_filled.to_csv('data/patched_by_season.csv')"
      ]
    }
  ],
  "metadata": {
    "colab": {
      "provenance": []
    },
    "kernelspec": {
      "display_name": "Python 3",
      "name": "python3"
    },
    "language_info": {
      "name": "python"
    }
  },
  "nbformat": 4,
  "nbformat_minor": 0
}